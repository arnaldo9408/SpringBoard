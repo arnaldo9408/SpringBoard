{
 "cells": [
  {
   "cell_type": "markdown",
   "metadata": {},
   "source": [
    "# Relax Inc. Take-Home Challenge"
   ]
  },
  {
   "cell_type": "markdown",
   "metadata": {},
   "source": [
    "Defining an \"adopted user\" as a user who has logged into the product on three separate days in at least one seven­day period, identify which factors predict future user adoption."
   ]
  },
  {
   "cell_type": "code",
   "execution_count": 1,
   "metadata": {},
   "outputs": [],
   "source": [
    "# Import libraries\n",
    "import pandas as pd\n",
    "import numpy as np\n",
    "from pandasql import sqldf\n",
    "from sqlalchemy import create_engine \n",
    "from sqlalchemy import MetaData, Table\n",
    "import sqlite3\n",
    "import time\n",
    "from sklearn.model_selection import train_test_split\n",
    "from sklearn.model_selection import GridSearchCV\n",
    "from sklearn import tree\n",
    "import warnings\n",
    "from sklearn.metrics import confusion_matrix\n",
    "from sklearn.metrics import classification_report\n",
    "from sklearn.linear_model import LogisticRegression"
   ]
  },
  {
   "cell_type": "code",
   "execution_count": 2,
   "metadata": {},
   "outputs": [],
   "source": [
    "# Read the csv file\n",
    "df1 = pd.read_csv('takehome_user_engagement.csv', encoding='latin-1')\n",
    "df2 = pd.read_csv('takehome_users.csv', encoding = 'latin-1')"
   ]
  },
  {
   "cell_type": "code",
   "execution_count": 3,
   "metadata": {},
   "outputs": [
    {
     "data": {
      "text/plain": [
       "Index(['time_stamp', 'user_id', 'visited'], dtype='object')"
      ]
     },
     "execution_count": 3,
     "metadata": {},
     "output_type": "execute_result"
    }
   ],
   "source": [
    "# See the columns of the fisrt data frame\n",
    "df1.columns"
   ]
  },
  {
   "cell_type": "code",
   "execution_count": 4,
   "metadata": {},
   "outputs": [
    {
     "data": {
      "text/plain": [
       "Index(['object_id', 'creation_time', 'name', 'email', 'creation_source',\n",
       "       'last_session_creation_time', 'opted_in_to_mailing_list',\n",
       "       'enabled_for_marketing_drip', 'org_id', 'invited_by_user_id'],\n",
       "      dtype='object')"
      ]
     },
     "execution_count": 4,
     "metadata": {},
     "output_type": "execute_result"
    }
   ],
   "source": [
    "# See the columns of the second data frame\n",
    "df2.columns"
   ]
  },
  {
   "cell_type": "code",
   "execution_count": 5,
   "metadata": {},
   "outputs": [
    {
     "name": "stdout",
     "output_type": "stream",
     "text": [
      "First data frame Rows, columns (207917, 3)\n",
      "Second data frame Rows, columns (12000, 10)\n"
     ]
    }
   ],
   "source": [
    "#Shape of data frames\n",
    "print('First data frame Rows, columns {}'.format(df1.shape))\n",
    "print('Second data frame Rows, columns {}'.format(df2.shape))"
   ]
  },
  {
   "cell_type": "code",
   "execution_count": 6,
   "metadata": {},
   "outputs": [
    {
     "name": "stdout",
     "output_type": "stream",
     "text": [
      "<class 'pandas.core.frame.DataFrame'>\n",
      "RangeIndex: 207917 entries, 0 to 207916\n",
      "Data columns (total 3 columns):\n",
      "time_stamp    207917 non-null object\n",
      "user_id       207917 non-null int64\n",
      "visited       207917 non-null int64\n",
      "dtypes: int64(2), object(1)\n",
      "memory usage: 4.8+ MB\n"
     ]
    }
   ],
   "source": [
    "# See the information of the data frame\n",
    "df1.info()"
   ]
  },
  {
   "cell_type": "code",
   "execution_count": 7,
   "metadata": {},
   "outputs": [
    {
     "name": "stdout",
     "output_type": "stream",
     "text": [
      "<class 'pandas.core.frame.DataFrame'>\n",
      "RangeIndex: 12000 entries, 0 to 11999\n",
      "Data columns (total 10 columns):\n",
      "object_id                     12000 non-null int64\n",
      "creation_time                 12000 non-null object\n",
      "name                          12000 non-null object\n",
      "email                         12000 non-null object\n",
      "creation_source               12000 non-null object\n",
      "last_session_creation_time    8823 non-null float64\n",
      "opted_in_to_mailing_list      12000 non-null int64\n",
      "enabled_for_marketing_drip    12000 non-null int64\n",
      "org_id                        12000 non-null int64\n",
      "invited_by_user_id            6417 non-null float64\n",
      "dtypes: float64(2), int64(4), object(4)\n",
      "memory usage: 937.6+ KB\n"
     ]
    }
   ],
   "source": [
    "# See the information of the data frame\n",
    "df2.info()"
   ]
  },
  {
   "cell_type": "code",
   "execution_count": 8,
   "metadata": {},
   "outputs": [],
   "source": [
    "# To datetime \n",
    "df1['time_stamp'] = pd.to_datetime(df1['time_stamp'], format = '%Y-%m-%d')\n",
    "df2['creation_time'] = pd.to_datetime(df2['creation_time'], format = '%Y-%m-%d')\n",
    "# Convert last_session_creation_time to float\n",
    "df2['last_session_creation_time'] = df2['last_session_creation_time'].astype(float)"
   ]
  },
  {
   "cell_type": "code",
   "execution_count": 9,
   "metadata": {},
   "outputs": [
    {
     "name": "stdout",
     "output_type": "stream",
     "text": [
      "object_id\n",
      "0\n",
      "creation_time\n",
      "0\n",
      "name\n",
      "0\n",
      "email\n",
      "0\n",
      "creation_source\n",
      "0\n",
      "last_session_creation_time\n",
      "3177\n",
      "opted_in_to_mailing_list\n",
      "0\n",
      "enabled_for_marketing_drip\n",
      "0\n",
      "org_id\n",
      "0\n",
      "invited_by_user_id\n",
      "5583\n"
     ]
    }
   ],
   "source": [
    "# See the null values\n",
    "for col in df2.columns:\n",
    "    print(col)\n",
    "    print(df2[col].isna().sum())"
   ]
  },
  {
   "cell_type": "code",
   "execution_count": 10,
   "metadata": {},
   "outputs": [],
   "source": [
    "#Fill null values\n",
    "df2['last_session_creation_time'] = df2['last_session_creation_time'].replace(np.nan, 'Not Registered')"
   ]
  },
  {
   "cell_type": "code",
   "execution_count": 11,
   "metadata": {},
   "outputs": [],
   "source": [
    "# Rename the columns to future merge\n",
    "df2.rename(columns = {'object_id':'user_id'}, inplace = True)"
   ]
  },
  {
   "cell_type": "code",
   "execution_count": 12,
   "metadata": {},
   "outputs": [],
   "source": [
    "# Merge both columns\n",
    "df = pd.merge(df1, df2, how = 'inner', on = 'user_id')"
   ]
  },
  {
   "cell_type": "code",
   "execution_count": 13,
   "metadata": {},
   "outputs": [],
   "source": [
    "# Set the time_stamp index to rsample\n",
    "df.set_index('time_stamp', inplace = True)"
   ]
  },
  {
   "cell_type": "code",
   "execution_count": 14,
   "metadata": {},
   "outputs": [
    {
     "data": {
      "text/html": [
       "<div>\n",
       "<style scoped>\n",
       "    .dataframe tbody tr th:only-of-type {\n",
       "        vertical-align: middle;\n",
       "    }\n",
       "\n",
       "    .dataframe tbody tr th {\n",
       "        vertical-align: top;\n",
       "    }\n",
       "\n",
       "    .dataframe thead th {\n",
       "        text-align: right;\n",
       "    }\n",
       "</style>\n",
       "<table border=\"1\" class=\"dataframe\">\n",
       "  <thead>\n",
       "    <tr style=\"text-align: right;\">\n",
       "      <th></th>\n",
       "      <th>user_id</th>\n",
       "      <th>visited</th>\n",
       "      <th>creation_time</th>\n",
       "      <th>name</th>\n",
       "      <th>email</th>\n",
       "      <th>creation_source</th>\n",
       "      <th>last_session_creation_time</th>\n",
       "      <th>opted_in_to_mailing_list</th>\n",
       "      <th>enabled_for_marketing_drip</th>\n",
       "      <th>org_id</th>\n",
       "      <th>invited_by_user_id</th>\n",
       "    </tr>\n",
       "    <tr>\n",
       "      <th>time_stamp</th>\n",
       "      <th></th>\n",
       "      <th></th>\n",
       "      <th></th>\n",
       "      <th></th>\n",
       "      <th></th>\n",
       "      <th></th>\n",
       "      <th></th>\n",
       "      <th></th>\n",
       "      <th></th>\n",
       "      <th></th>\n",
       "      <th></th>\n",
       "    </tr>\n",
       "  </thead>\n",
       "  <tbody>\n",
       "    <tr>\n",
       "      <th>2014-04-22 03:53:30</th>\n",
       "      <td>1</td>\n",
       "      <td>1</td>\n",
       "      <td>2014-04-22 03:53:30</td>\n",
       "      <td>Clausen August</td>\n",
       "      <td>AugustCClausen@yahoo.com</td>\n",
       "      <td>GUEST_INVITE</td>\n",
       "      <td>1.39814e+09</td>\n",
       "      <td>1</td>\n",
       "      <td>0</td>\n",
       "      <td>11</td>\n",
       "      <td>10803.0</td>\n",
       "    </tr>\n",
       "    <tr>\n",
       "      <th>2013-11-15 03:45:04</th>\n",
       "      <td>2</td>\n",
       "      <td>1</td>\n",
       "      <td>2013-11-15 03:45:04</td>\n",
       "      <td>Poole Matthew</td>\n",
       "      <td>MatthewPoole@gustr.com</td>\n",
       "      <td>ORG_INVITE</td>\n",
       "      <td>1.39624e+09</td>\n",
       "      <td>0</td>\n",
       "      <td>0</td>\n",
       "      <td>1</td>\n",
       "      <td>316.0</td>\n",
       "    </tr>\n",
       "    <tr>\n",
       "      <th>2013-11-29 03:45:04</th>\n",
       "      <td>2</td>\n",
       "      <td>1</td>\n",
       "      <td>2013-11-15 03:45:04</td>\n",
       "      <td>Poole Matthew</td>\n",
       "      <td>MatthewPoole@gustr.com</td>\n",
       "      <td>ORG_INVITE</td>\n",
       "      <td>1.39624e+09</td>\n",
       "      <td>0</td>\n",
       "      <td>0</td>\n",
       "      <td>1</td>\n",
       "      <td>316.0</td>\n",
       "    </tr>\n",
       "    <tr>\n",
       "      <th>2013-12-09 03:45:04</th>\n",
       "      <td>2</td>\n",
       "      <td>1</td>\n",
       "      <td>2013-11-15 03:45:04</td>\n",
       "      <td>Poole Matthew</td>\n",
       "      <td>MatthewPoole@gustr.com</td>\n",
       "      <td>ORG_INVITE</td>\n",
       "      <td>1.39624e+09</td>\n",
       "      <td>0</td>\n",
       "      <td>0</td>\n",
       "      <td>1</td>\n",
       "      <td>316.0</td>\n",
       "    </tr>\n",
       "    <tr>\n",
       "      <th>2013-12-25 03:45:04</th>\n",
       "      <td>2</td>\n",
       "      <td>1</td>\n",
       "      <td>2013-11-15 03:45:04</td>\n",
       "      <td>Poole Matthew</td>\n",
       "      <td>MatthewPoole@gustr.com</td>\n",
       "      <td>ORG_INVITE</td>\n",
       "      <td>1.39624e+09</td>\n",
       "      <td>0</td>\n",
       "      <td>0</td>\n",
       "      <td>1</td>\n",
       "      <td>316.0</td>\n",
       "    </tr>\n",
       "  </tbody>\n",
       "</table>\n",
       "</div>"
      ],
      "text/plain": [
       "                     user_id  visited       creation_time            name  \\\n",
       "time_stamp                                                                  \n",
       "2014-04-22 03:53:30        1        1 2014-04-22 03:53:30  Clausen August   \n",
       "2013-11-15 03:45:04        2        1 2013-11-15 03:45:04   Poole Matthew   \n",
       "2013-11-29 03:45:04        2        1 2013-11-15 03:45:04   Poole Matthew   \n",
       "2013-12-09 03:45:04        2        1 2013-11-15 03:45:04   Poole Matthew   \n",
       "2013-12-25 03:45:04        2        1 2013-11-15 03:45:04   Poole Matthew   \n",
       "\n",
       "                                        email creation_source  \\\n",
       "time_stamp                                                      \n",
       "2014-04-22 03:53:30  AugustCClausen@yahoo.com    GUEST_INVITE   \n",
       "2013-11-15 03:45:04    MatthewPoole@gustr.com      ORG_INVITE   \n",
       "2013-11-29 03:45:04    MatthewPoole@gustr.com      ORG_INVITE   \n",
       "2013-12-09 03:45:04    MatthewPoole@gustr.com      ORG_INVITE   \n",
       "2013-12-25 03:45:04    MatthewPoole@gustr.com      ORG_INVITE   \n",
       "\n",
       "                    last_session_creation_time  opted_in_to_mailing_list  \\\n",
       "time_stamp                                                                 \n",
       "2014-04-22 03:53:30                1.39814e+09                         1   \n",
       "2013-11-15 03:45:04                1.39624e+09                         0   \n",
       "2013-11-29 03:45:04                1.39624e+09                         0   \n",
       "2013-12-09 03:45:04                1.39624e+09                         0   \n",
       "2013-12-25 03:45:04                1.39624e+09                         0   \n",
       "\n",
       "                     enabled_for_marketing_drip  org_id  invited_by_user_id  \n",
       "time_stamp                                                                   \n",
       "2014-04-22 03:53:30                           0      11             10803.0  \n",
       "2013-11-15 03:45:04                           0       1               316.0  \n",
       "2013-11-29 03:45:04                           0       1               316.0  \n",
       "2013-12-09 03:45:04                           0       1               316.0  \n",
       "2013-12-25 03:45:04                           0       1               316.0  "
      ]
     },
     "execution_count": 14,
     "metadata": {},
     "output_type": "execute_result"
    }
   ],
   "source": [
    "df.head()"
   ]
  },
  {
   "cell_type": "markdown",
   "metadata": {},
   "source": [
    "### General Insights"
   ]
  },
  {
   "cell_type": "markdown",
   "metadata": {},
   "source": [
    "##### We can get some general insights by doing some querying"
   ]
  },
  {
   "cell_type": "code",
   "execution_count": 15,
   "metadata": {},
   "outputs": [],
   "source": [
    "# Define a function to query\n",
    "def pysqldf(q):\n",
    "    return sqldf(q, globals())"
   ]
  },
  {
   "cell_type": "code",
   "execution_count": 16,
   "metadata": {},
   "outputs": [
    {
     "name": "stdout",
     "output_type": "stream",
     "text": [
      "    invited_by_user_id  count              name\n",
      "0               4019.0    918   Bergmann Sabine\n",
      "1               7816.0    903         Field Eve\n",
      "2               3623.0    744        Lack Tyson\n",
      "3               7358.0    712     Terrell Jesus\n",
      "4               6312.0    705       Stone Elise\n",
      "5               4276.0    644      Adler Marcel\n",
      "6                879.0    630    Jones Margaret\n",
      "7               2175.0    621      Santos Bruna\n",
      "8               3269.0    605     Outtrim Gemma\n",
      "9               8068.0    598  Schuster Dominik\n",
      "10              1266.0    566       Watts Ellis\n",
      "11             11960.0    559        Bak Kasper\n",
      "12              6560.0    550      Sawyer Lucas\n",
      "13              7210.0    549       Barbosa Kai\n",
      "14               454.0    548      Egger Daniel\n",
      "15              7529.0    545   Andrade Katrina\n",
      "16              7792.0    538     Grunewald Tom\n",
      "17              3023.0    538     Castro Rebeca\n",
      "18               510.0    538        Pugh Naomi\n",
      "19              5910.0    531       Coveny Lola\n"
     ]
    }
   ],
   "source": [
    "# Get the Users that invited more users\n",
    "print(pysqldf('''SELECT invited_by_user_id, COUNT(invited_by_user_id) AS count, name FROM df \n",
    "                GROUP BY invited_by_user_id \n",
    "                ORDER BY count DESC\n",
    "                LIMIT 20\n",
    "            '''))"
   ]
  },
  {
   "cell_type": "markdown",
   "metadata": {},
   "source": [
    "It is very predominant to have no users_id invited by another user. Maybe there should be ways to work and have benefits to make people invite users."
   ]
  },
  {
   "cell_type": "code",
   "execution_count": 17,
   "metadata": {},
   "outputs": [
    {
     "name": "stdout",
     "output_type": "stream",
     "text": [
      "    visitings  user_id                name\n",
      "0         606     3623        Melo Vitória\n",
      "1         600      906      Becker Jessika\n",
      "2         593     1811    Carvalho Eduardo\n",
      "3         590     7590     Ferreira Rebeca\n",
      "4         585     8068         McCoy Donna\n",
      "5         581     9402         Molloy Alex\n",
      "6         580     4022       Schmidt Johan\n",
      "7         566     3269       Outtrim Gemma\n",
      "8         547     9312  Kranewitter Elijah\n",
      "9         545     7210     Herzog Benjamin\n",
      "10        541     8029    Oliveira Isabela\n",
      "11        538     2474       Grunewald Tom\n",
      "12        526     2658   Fernandes Lavinia\n",
      "13        521     8280     Hanson Mohammed\n",
      "14        521       69        Bowen Alisha\n",
      "15        520     5297      Follett Joseph\n",
      "16        519     4019          Kjær Elias\n",
      "17        517     9083         Licon Karen\n",
      "18        511     2519        Howitt Aidan\n",
      "19        509     4263      Schultz Mikkel\n",
      "20        502     3226        Schou Laerke\n",
      "21        501    10599       Azevedo Tiago\n"
     ]
    }
   ],
   "source": [
    "# Get the Users with more visitings\n",
    "print(pysqldf('''SELECT COUNT(visited) as visitings, user_id, name\n",
    "                FROM df\n",
    "                GROUP BY user_id               \n",
    "                HAVING visitings > 500              \n",
    "                ORDER BY visitings DESC\n",
    "'''))"
   ]
  },
  {
   "cell_type": "code",
   "execution_count": 18,
   "metadata": {},
   "outputs": [
    {
     "name": "stdout",
     "output_type": "stream",
     "text": [
      "    org_id  visitings\n",
      "0        1       2298\n",
      "1       13       2098\n",
      "2       62       2072\n",
      "3        4       2064\n",
      "4        2       1967\n",
      "5        7       1922\n",
      "6        3       1868\n",
      "7      225       1579\n",
      "8       16       1524\n",
      "9      161       1491\n",
      "10       8       1461\n",
      "11      31       1457\n",
      "12     218       1447\n",
      "13     235       1445\n",
      "14     117       1441\n",
      "15      78       1397\n",
      "16       0       1390\n",
      "17     108       1369\n",
      "18      44       1361\n",
      "19     160       1327\n"
     ]
    }
   ],
   "source": [
    "# Get the organizations with more visitings\n",
    "print(pysqldf('''SELECT org_id, COUNT(visited) AS visitings\n",
    "                FROM df\n",
    "                GROUP BY org_id\n",
    "                ORDER BY visitings DESC\n",
    "                LIMIT 20\n",
    "'''))"
   ]
  },
  {
   "cell_type": "code",
   "execution_count": 19,
   "metadata": {},
   "outputs": [
    {
     "name": "stdout",
     "output_type": "stream",
     "text": [
      "    org_id  number_invited\n",
      "0       13            1533\n",
      "1       62            1383\n",
      "2      106            1301\n",
      "3        4            1293\n",
      "4      117            1259\n",
      "5        3            1215\n",
      "6      317            1157\n",
      "7        8            1125\n",
      "8      185            1031\n",
      "9       69             998\n",
      "10     218             994\n",
      "11      70             994\n",
      "12     320             993\n",
      "13     305             969\n",
      "14      85             953\n",
      "15      64             944\n",
      "16     224             929\n",
      "17      61             912\n",
      "18     368             910\n",
      "19      42             866\n"
     ]
    }
   ],
   "source": [
    "# Get the organizations with more invited numbers\n",
    "print(pysqldf('''SELECT org_id, COUNT(invited_by_user_id) AS number_invited\n",
    "                FROM df\n",
    "                GROUP BY org_id\n",
    "                ORDER BY number_invited DESC\n",
    "                LIMIT 20\n",
    "'''))"
   ]
  },
  {
   "cell_type": "code",
   "execution_count": 20,
   "metadata": {},
   "outputs": [
    {
     "name": "stdout",
     "output_type": "stream",
     "text": [
      "    org_id  number_users\n",
      "0        1          2298\n",
      "1       13          2098\n",
      "2       62          2072\n",
      "3        4          2064\n",
      "4        2          1967\n",
      "5        7          1922\n",
      "6        3          1868\n",
      "7      225          1579\n",
      "8       16          1524\n",
      "9      161          1491\n",
      "10       8          1461\n",
      "11      31          1457\n",
      "12     218          1447\n",
      "13     235          1445\n",
      "14     117          1441\n",
      "15      78          1397\n",
      "16       0          1390\n",
      "17     108          1369\n",
      "18      44          1361\n",
      "19     160          1327\n"
     ]
    }
   ],
   "source": [
    "# Get organizations with more number of users\n",
    "print(pysqldf('''SELECT org_id, COUNT(user_id) AS number_users\n",
    "                FROM df\n",
    "                GROUP BY org_id\n",
    "                ORDER BY number_users DESC\n",
    "                LIMIT 20\n",
    "'''))"
   ]
  },
  {
   "cell_type": "code",
   "execution_count": 21,
   "metadata": {},
   "outputs": [
    {
     "name": "stdout",
     "output_type": "stream",
     "text": [
      "      creation_source  number_creations\n",
      "0          ORG_INVITE             70091\n",
      "1        GUEST_INVITE             46796\n",
      "2              SIGNUP             37545\n",
      "3  SIGNUP_GOOGLE_AUTH             34263\n",
      "4   PERSONAL_PROJECTS             19222\n"
     ]
    }
   ],
   "source": [
    "# Get what is the higher creation source\n",
    "print(pysqldf('''SELECT creation_source, COUNT(creation_source) AS number_creations\n",
    "                FROM df\n",
    "                GROUP BY creation_source\n",
    "                ORDER BY number_creations DESC\n",
    "\n",
    "'''))"
   ]
  },
  {
   "cell_type": "code",
   "execution_count": 22,
   "metadata": {},
   "outputs": [
    {
     "name": "stdout",
     "output_type": "stream",
     "text": [
      "   opted_in_to_mailing_list  number_visitings\n",
      "0                         0            154246\n",
      "1                         1             53671\n"
     ]
    }
   ],
   "source": [
    "# See if the opted in to mailing list has any influence on the number of visitings\n",
    "print(pysqldf('''SELECT opted_in_to_mailing_list, SUM(visited) AS number_visitings\n",
    "                FROM df\n",
    "                GROUP BY opted_in_to_mailing_list\n",
    "'''))"
   ]
  },
  {
   "cell_type": "code",
   "execution_count": 23,
   "metadata": {},
   "outputs": [
    {
     "name": "stdout",
     "output_type": "stream",
     "text": [
      "   enabled_for_marketing_drip  number_visitings\n",
      "0                           0            175787\n",
      "1                           1             32130\n"
     ]
    }
   ],
   "source": [
    "# Get if the enabled for marketing drip has infuence on the number of visitings\n",
    "print(pysqldf('''SELECT enabled_for_marketing_drip, SUM(visited) AS number_visitings\n",
    "                FROM df\n",
    "                GROUP BY enabled_for_marketing_drip\n",
    "'''))"
   ]
  },
  {
   "cell_type": "markdown",
   "metadata": {},
   "source": [
    "#### As general insights, we can see that maybe the org_invite source is the source with the highest number of creations and looks to be the most important one. Looks like depending on the source, they could have higher number of creations and there is still a way to improve signups by more marketing. \n",
    "\n",
    "\n",
    "#### It is interesting that organization 1 has the most number of users, but they are not in the top 20 of number of visitings"
   ]
  },
  {
   "cell_type": "markdown",
   "metadata": {},
   "source": [
    "## Modeling"
   ]
  },
  {
   "cell_type": "code",
   "execution_count": 24,
   "metadata": {},
   "outputs": [],
   "source": [
    "# Create a data frame with the active users\n",
    "df1_resampled = pd.DataFrame(df1.set_index('time_stamp').groupby('user_id')['visited'].resample('D').count())"
   ]
  },
  {
   "cell_type": "code",
   "execution_count": 25,
   "metadata": {},
   "outputs": [
    {
     "data": {
      "text/html": [
       "<div>\n",
       "<style scoped>\n",
       "    .dataframe tbody tr th:only-of-type {\n",
       "        vertical-align: middle;\n",
       "    }\n",
       "\n",
       "    .dataframe tbody tr th {\n",
       "        vertical-align: top;\n",
       "    }\n",
       "\n",
       "    .dataframe thead th {\n",
       "        text-align: right;\n",
       "    }\n",
       "</style>\n",
       "<table border=\"1\" class=\"dataframe\">\n",
       "  <thead>\n",
       "    <tr style=\"text-align: right;\">\n",
       "      <th></th>\n",
       "      <th></th>\n",
       "      <th>visited</th>\n",
       "    </tr>\n",
       "    <tr>\n",
       "      <th>user_id</th>\n",
       "      <th>time_stamp</th>\n",
       "      <th></th>\n",
       "    </tr>\n",
       "  </thead>\n",
       "  <tbody>\n",
       "    <tr>\n",
       "      <th>1</th>\n",
       "      <th>2014-04-22</th>\n",
       "      <td>1</td>\n",
       "    </tr>\n",
       "    <tr>\n",
       "      <th rowspan=\"4\" valign=\"top\">2</th>\n",
       "      <th>2013-11-15</th>\n",
       "      <td>1</td>\n",
       "    </tr>\n",
       "    <tr>\n",
       "      <th>2013-11-16</th>\n",
       "      <td>0</td>\n",
       "    </tr>\n",
       "    <tr>\n",
       "      <th>2013-11-17</th>\n",
       "      <td>0</td>\n",
       "    </tr>\n",
       "    <tr>\n",
       "      <th>2013-11-18</th>\n",
       "      <td>0</td>\n",
       "    </tr>\n",
       "  </tbody>\n",
       "</table>\n",
       "</div>"
      ],
      "text/plain": [
       "                    visited\n",
       "user_id time_stamp         \n",
       "1       2014-04-22        1\n",
       "2       2013-11-15        1\n",
       "        2013-11-16        0\n",
       "        2013-11-17        0\n",
       "        2013-11-18        0"
      ]
     },
     "execution_count": 25,
     "metadata": {},
     "output_type": "execute_result"
    }
   ],
   "source": [
    "df1_resampled.head()"
   ]
  },
  {
   "cell_type": "code",
   "execution_count": 26,
   "metadata": {},
   "outputs": [
    {
     "data": {
      "text/html": [
       "<div>\n",
       "<style scoped>\n",
       "    .dataframe tbody tr th:only-of-type {\n",
       "        vertical-align: middle;\n",
       "    }\n",
       "\n",
       "    .dataframe tbody tr th {\n",
       "        vertical-align: top;\n",
       "    }\n",
       "\n",
       "    .dataframe thead th {\n",
       "        text-align: right;\n",
       "    }\n",
       "</style>\n",
       "<table border=\"1\" class=\"dataframe\">\n",
       "  <thead>\n",
       "    <tr style=\"text-align: right;\">\n",
       "      <th></th>\n",
       "      <th>visited</th>\n",
       "    </tr>\n",
       "    <tr>\n",
       "      <th>user_id</th>\n",
       "      <th></th>\n",
       "    </tr>\n",
       "  </thead>\n",
       "  <tbody>\n",
       "    <tr>\n",
       "      <th>1</th>\n",
       "      <td>1.0</td>\n",
       "    </tr>\n",
       "    <tr>\n",
       "      <th>2</th>\n",
       "      <td>3.0</td>\n",
       "    </tr>\n",
       "    <tr>\n",
       "      <th>3</th>\n",
       "      <td>2.0</td>\n",
       "    </tr>\n",
       "    <tr>\n",
       "      <th>4</th>\n",
       "      <td>3.0</td>\n",
       "    </tr>\n",
       "    <tr>\n",
       "      <th>5</th>\n",
       "      <td>4.0</td>\n",
       "    </tr>\n",
       "  </tbody>\n",
       "</table>\n",
       "</div>"
      ],
      "text/plain": [
       "         visited\n",
       "user_id         \n",
       "1            1.0\n",
       "2            3.0\n",
       "3            2.0\n",
       "4            3.0\n",
       "5            4.0"
      ]
     },
     "execution_count": 26,
     "metadata": {},
     "output_type": "execute_result"
    }
   ],
   "source": [
    "# Sum number of visits for seven-rolling-day periods.\n",
    "df1_resampled = df1_resampled.rolling(window=7, min_periods=1).sum()\n",
    "# Compute max number of visits for each user for seven-rolling-day periods.\n",
    "df1_resampled2 = df1_resampled.groupby('user_id')[['visited']].max()\n",
    "df1_resampled2.head()"
   ]
  },
  {
   "cell_type": "code",
   "execution_count": 27,
   "metadata": {},
   "outputs": [],
   "source": [
    "# Add a column 'adopted'\n",
    "df1_resampled2['adopted_user'] = [1 if x >= 3.0 else 0 for x in df1_resampled2['visited']] "
   ]
  },
  {
   "cell_type": "code",
   "execution_count": 28,
   "metadata": {},
   "outputs": [],
   "source": [
    "# Merge the data frames\n",
    "df = pd.merge(df1_resampled2, df2, how = 'inner', on = 'user_id')"
   ]
  },
  {
   "cell_type": "code",
   "execution_count": 29,
   "metadata": {},
   "outputs": [
    {
     "data": {
      "text/html": [
       "<div>\n",
       "<style scoped>\n",
       "    .dataframe tbody tr th:only-of-type {\n",
       "        vertical-align: middle;\n",
       "    }\n",
       "\n",
       "    .dataframe tbody tr th {\n",
       "        vertical-align: top;\n",
       "    }\n",
       "\n",
       "    .dataframe thead th {\n",
       "        text-align: right;\n",
       "    }\n",
       "</style>\n",
       "<table border=\"1\" class=\"dataframe\">\n",
       "  <thead>\n",
       "    <tr style=\"text-align: right;\">\n",
       "      <th></th>\n",
       "      <th>user_id</th>\n",
       "      <th>visited</th>\n",
       "      <th>adopted_user</th>\n",
       "      <th>creation_time</th>\n",
       "      <th>name</th>\n",
       "      <th>email</th>\n",
       "      <th>creation_source</th>\n",
       "      <th>last_session_creation_time</th>\n",
       "      <th>opted_in_to_mailing_list</th>\n",
       "      <th>enabled_for_marketing_drip</th>\n",
       "      <th>org_id</th>\n",
       "      <th>invited_by_user_id</th>\n",
       "    </tr>\n",
       "  </thead>\n",
       "  <tbody>\n",
       "    <tr>\n",
       "      <th>0</th>\n",
       "      <td>1</td>\n",
       "      <td>1.0</td>\n",
       "      <td>0</td>\n",
       "      <td>2014-04-22 03:53:30</td>\n",
       "      <td>Clausen August</td>\n",
       "      <td>AugustCClausen@yahoo.com</td>\n",
       "      <td>GUEST_INVITE</td>\n",
       "      <td>1.39814e+09</td>\n",
       "      <td>1</td>\n",
       "      <td>0</td>\n",
       "      <td>11</td>\n",
       "      <td>10803.0</td>\n",
       "    </tr>\n",
       "    <tr>\n",
       "      <th>1</th>\n",
       "      <td>2</td>\n",
       "      <td>3.0</td>\n",
       "      <td>1</td>\n",
       "      <td>2013-11-15 03:45:04</td>\n",
       "      <td>Poole Matthew</td>\n",
       "      <td>MatthewPoole@gustr.com</td>\n",
       "      <td>ORG_INVITE</td>\n",
       "      <td>1.39624e+09</td>\n",
       "      <td>0</td>\n",
       "      <td>0</td>\n",
       "      <td>1</td>\n",
       "      <td>316.0</td>\n",
       "    </tr>\n",
       "    <tr>\n",
       "      <th>2</th>\n",
       "      <td>3</td>\n",
       "      <td>2.0</td>\n",
       "      <td>0</td>\n",
       "      <td>2013-03-19 23:14:52</td>\n",
       "      <td>Bottrill Mitchell</td>\n",
       "      <td>MitchellBottrill@gustr.com</td>\n",
       "      <td>ORG_INVITE</td>\n",
       "      <td>1.36373e+09</td>\n",
       "      <td>0</td>\n",
       "      <td>0</td>\n",
       "      <td>94</td>\n",
       "      <td>1525.0</td>\n",
       "    </tr>\n",
       "    <tr>\n",
       "      <th>3</th>\n",
       "      <td>4</td>\n",
       "      <td>3.0</td>\n",
       "      <td>1</td>\n",
       "      <td>2013-05-21 08:09:28</td>\n",
       "      <td>Clausen Nicklas</td>\n",
       "      <td>NicklasSClausen@yahoo.com</td>\n",
       "      <td>GUEST_INVITE</td>\n",
       "      <td>1.36921e+09</td>\n",
       "      <td>0</td>\n",
       "      <td>0</td>\n",
       "      <td>1</td>\n",
       "      <td>5151.0</td>\n",
       "    </tr>\n",
       "    <tr>\n",
       "      <th>4</th>\n",
       "      <td>5</td>\n",
       "      <td>4.0</td>\n",
       "      <td>1</td>\n",
       "      <td>2013-01-17 10:14:20</td>\n",
       "      <td>Raw Grace</td>\n",
       "      <td>GraceRaw@yahoo.com</td>\n",
       "      <td>GUEST_INVITE</td>\n",
       "      <td>1.35885e+09</td>\n",
       "      <td>0</td>\n",
       "      <td>0</td>\n",
       "      <td>193</td>\n",
       "      <td>5240.0</td>\n",
       "    </tr>\n",
       "  </tbody>\n",
       "</table>\n",
       "</div>"
      ],
      "text/plain": [
       "   user_id  visited  adopted_user       creation_time               name  \\\n",
       "0        1      1.0             0 2014-04-22 03:53:30     Clausen August   \n",
       "1        2      3.0             1 2013-11-15 03:45:04      Poole Matthew   \n",
       "2        3      2.0             0 2013-03-19 23:14:52  Bottrill Mitchell   \n",
       "3        4      3.0             1 2013-05-21 08:09:28    Clausen Nicklas   \n",
       "4        5      4.0             1 2013-01-17 10:14:20          Raw Grace   \n",
       "\n",
       "                        email creation_source last_session_creation_time  \\\n",
       "0    AugustCClausen@yahoo.com    GUEST_INVITE                1.39814e+09   \n",
       "1      MatthewPoole@gustr.com      ORG_INVITE                1.39624e+09   \n",
       "2  MitchellBottrill@gustr.com      ORG_INVITE                1.36373e+09   \n",
       "3   NicklasSClausen@yahoo.com    GUEST_INVITE                1.36921e+09   \n",
       "4          GraceRaw@yahoo.com    GUEST_INVITE                1.35885e+09   \n",
       "\n",
       "   opted_in_to_mailing_list  enabled_for_marketing_drip  org_id  \\\n",
       "0                         1                           0      11   \n",
       "1                         0                           0       1   \n",
       "2                         0                           0      94   \n",
       "3                         0                           0       1   \n",
       "4                         0                           0     193   \n",
       "\n",
       "   invited_by_user_id  \n",
       "0             10803.0  \n",
       "1               316.0  \n",
       "2              1525.0  \n",
       "3              5151.0  \n",
       "4              5240.0  "
      ]
     },
     "execution_count": 29,
     "metadata": {},
     "output_type": "execute_result"
    }
   ],
   "source": [
    "# See how the new data frame looks like\n",
    "df.head()"
   ]
  },
  {
   "cell_type": "code",
   "execution_count": 30,
   "metadata": {},
   "outputs": [],
   "source": [
    "# Get the columns I need to make the modeling part\n",
    "df = df.drop(columns = ['visited', 'name', 'email', 'creation_time', 'invited_by_user_id'], axis = 0)"
   ]
  },
  {
   "cell_type": "code",
   "execution_count": 31,
   "metadata": {},
   "outputs": [],
   "source": [
    "# Change last_session_creation_type to float\n",
    "df['last_session_creation_time'] = df['last_session_creation_time'].astype(float)"
   ]
  },
  {
   "cell_type": "code",
   "execution_count": 32,
   "metadata": {},
   "outputs": [],
   "source": [
    "#Establish categorical features\n",
    "org_dummies = pd.get_dummies(df['org_id'], prefix = 'org')\n",
    "creation_source_dummies = pd.get_dummies(df['creation_source'], prefix = 'org')"
   ]
  },
  {
   "cell_type": "code",
   "execution_count": 33,
   "metadata": {},
   "outputs": [],
   "source": [
    "# Create the data frame of categorical features\n",
    "df_dummies = df.drop(columns = ['org_id','creation_source', 'user_id', 'last_session_creation_time'], axis = 1)\n",
    "df_dummies = pd.concat([df_dummies, org_dummies,creation_source_dummies], axis = 1)"
   ]
  },
  {
   "cell_type": "markdown",
   "metadata": {},
   "source": [
    "## Modeling"
   ]
  },
  {
   "cell_type": "markdown",
   "metadata": {},
   "source": [
    "#### Classification Problem. We are going to make a logistic regression to see the importance of each feature"
   ]
  },
  {
   "cell_type": "markdown",
   "metadata": {},
   "source": [
    "#### Create the arrays"
   ]
  },
  {
   "cell_type": "code",
   "execution_count": 34,
   "metadata": {},
   "outputs": [],
   "source": [
    "# Create the arrays\n",
    "X = df_dummies.drop(columns = 'adopted_user', axis = 1).values\n",
    "y = df_dummies['adopted_user'].values"
   ]
  },
  {
   "cell_type": "code",
   "execution_count": 35,
   "metadata": {},
   "outputs": [],
   "source": [
    "# Divide into train and test\n",
    "X_train, X_test, y_train, y_test = train_test_split(X, y, test_size = 0.3)"
   ]
  },
  {
   "cell_type": "markdown",
   "metadata": {},
   "source": [
    "### Logistic Regression"
   ]
  },
  {
   "cell_type": "code",
   "execution_count": 36,
   "metadata": {},
   "outputs": [],
   "source": [
    "# Run the model\n",
    "warnings.filterwarnings('ignore')\n",
    "model = LogisticRegression()\n",
    "model_fit = model.fit(X_train, y_train)\n",
    "y_pred = model_fit.predict(X_test)"
   ]
  },
  {
   "cell_type": "code",
   "execution_count": 37,
   "metadata": {},
   "outputs": [
    {
     "name": "stdout",
     "output_type": "stream",
     "text": [
      "[[   0  244]\n",
      " [   0 2403]]\n"
     ]
    }
   ],
   "source": [
    "# Confusion Matrix\n",
    "print(confusion_matrix(y_test, y_pred))"
   ]
  },
  {
   "cell_type": "code",
   "execution_count": 38,
   "metadata": {},
   "outputs": [
    {
     "name": "stdout",
     "output_type": "stream",
     "text": [
      "              precision    recall  f1-score   support\n",
      "\n",
      "           0       0.00      0.00      0.00       244\n",
      "           1       0.91      1.00      0.95      2403\n",
      "\n",
      "    accuracy                           0.91      2647\n",
      "   macro avg       0.45      0.50      0.48      2647\n",
      "weighted avg       0.82      0.91      0.86      2647\n",
      "\n"
     ]
    }
   ],
   "source": [
    "# Classification Matrix\n",
    "print(classification_report(y_test, y_pred))"
   ]
  },
  {
   "cell_type": "markdown",
   "metadata": {},
   "source": [
    "From the data we can imply that there are very low 0, so the model is not really able to predict this outcome very well, so it basically predicts all of the outcomes 0 which gives you very bad score. To increase this, we are going to resample and increase the 0 number to see if we can get better outcomes. We are trying to improve outcomes by incrasing the 0 percentage from 10% to 25% and see how it goes."
   ]
  },
  {
   "cell_type": "markdown",
   "metadata": {},
   "source": [
    "## Second Model"
   ]
  },
  {
   "cell_type": "code",
   "execution_count": 39,
   "metadata": {},
   "outputs": [],
   "source": [
    "#Rearrange the adopted user, so we will have more zero and see if we can create a more reliable model\n",
    "df_user = df.loc[df['adopted_user'] == 1].reset_index(drop = True)\n",
    "df_user = df_user.drop(columns = 'adopted_user')\n",
    "df_no_user = df.loc[df['adopted_user'] == 0].reset_index(drop = True)"
   ]
  },
  {
   "cell_type": "code",
   "execution_count": 40,
   "metadata": {},
   "outputs": [],
   "source": [
    "#Establish the new outcomes from just the adopted user data frame\n",
    "change_outcome = pd.DataFrame({'adopted_user':[0 for x in range(0,4000)]})\n",
    "no_change_outcome = pd.DataFrame({'adopted_user':[1 for x in range(0,8015-4000)]})"
   ]
  },
  {
   "cell_type": "code",
   "execution_count": 41,
   "metadata": {},
   "outputs": [],
   "source": [
    "# Rearrange data frame\n",
    "df_user_rearranged = change_outcome.append(no_change_outcome).reset_index(drop = True)\n",
    "df_user = pd.concat([df_user, df_user_rearranged], axis = 1)"
   ]
  },
  {
   "cell_type": "code",
   "execution_count": 42,
   "metadata": {},
   "outputs": [],
   "source": [
    "# New data frame\n",
    "df = pd.concat([df_user, df_no_user], axis = 0)"
   ]
  },
  {
   "cell_type": "code",
   "execution_count": 43,
   "metadata": {},
   "outputs": [],
   "source": [
    "# Repeat the process of categorical features\n",
    "org_dummies = pd.get_dummies(df['org_id'], prefix = 'org')\n",
    "creation_source_dummies = pd.get_dummies(df['creation_source'], prefix = 'creation')"
   ]
  },
  {
   "cell_type": "code",
   "execution_count": 44,
   "metadata": {},
   "outputs": [],
   "source": [
    "# New data frame\n",
    "df_dummies = df.drop(columns = ['org_id','creation_source', 'user_id', 'last_session_creation_time'], axis = 1)\n",
    "df_dummies = pd.concat([df_dummies, org_dummies, creation_source_dummies], axis = 1)"
   ]
  },
  {
   "cell_type": "code",
   "execution_count": 45,
   "metadata": {},
   "outputs": [],
   "source": [
    "# Create the arrays\n",
    "X = df_dummies.drop(columns = 'adopted_user', axis = 1).values\n",
    "y = df_dummies['adopted_user'].values"
   ]
  },
  {
   "cell_type": "code",
   "execution_count": 46,
   "metadata": {},
   "outputs": [],
   "source": [
    "# Divide into train and test\n",
    "X_train, X_test, y_train, y_test = train_test_split(X, y, test_size = 0.3)"
   ]
  },
  {
   "cell_type": "code",
   "execution_count": 47,
   "metadata": {},
   "outputs": [],
   "source": [
    "# Create the model\n",
    "model = LogisticRegression()\n",
    "model_fit = model.fit(X_train, y_train)\n",
    "y_pred = model_fit.predict(X_test)"
   ]
  },
  {
   "cell_type": "code",
   "execution_count": 48,
   "metadata": {},
   "outputs": [
    {
     "name": "stdout",
     "output_type": "stream",
     "text": [
      "[[960 493]\n",
      " [813 381]]\n"
     ]
    }
   ],
   "source": [
    "# Confussion Matrix\n",
    "print(confusion_matrix(y_test, y_pred))"
   ]
  },
  {
   "cell_type": "code",
   "execution_count": 49,
   "metadata": {},
   "outputs": [
    {
     "name": "stdout",
     "output_type": "stream",
     "text": [
      "              precision    recall  f1-score   support\n",
      "\n",
      "           0       0.54      0.66      0.60      1453\n",
      "           1       0.44      0.32      0.37      1194\n",
      "\n",
      "    accuracy                           0.51      2647\n",
      "   macro avg       0.49      0.49      0.48      2647\n",
      "weighted avg       0.49      0.51      0.49      2647\n",
      "\n"
     ]
    }
   ],
   "source": [
    "# Classification Report\n",
    "print(classification_report(y_test, y_pred))"
   ]
  },
  {
   "cell_type": "code",
   "execution_count": 50,
   "metadata": {},
   "outputs": [],
   "source": [
    "# Create values with the columns\n",
    "columns = list(df_dummies.columns)[1:]"
   ]
  },
  {
   "cell_type": "code",
   "execution_count": 51,
   "metadata": {},
   "outputs": [],
   "source": [
    "df_coef = pd.DataFrame()\n",
    "df_coef['Variable'] = columns\n",
    "df_coef['Coefficient'] = model_fit.coef_.T"
   ]
  },
  {
   "cell_type": "code",
   "execution_count": 52,
   "metadata": {},
   "outputs": [
    {
     "data": {
      "text/html": [
       "<div>\n",
       "<style scoped>\n",
       "    .dataframe tbody tr th:only-of-type {\n",
       "        vertical-align: middle;\n",
       "    }\n",
       "\n",
       "    .dataframe tbody tr th {\n",
       "        vertical-align: top;\n",
       "    }\n",
       "\n",
       "    .dataframe thead th {\n",
       "        text-align: right;\n",
       "    }\n",
       "</style>\n",
       "<table border=\"1\" class=\"dataframe\">\n",
       "  <thead>\n",
       "    <tr style=\"text-align: right;\">\n",
       "      <th></th>\n",
       "      <th>Variable</th>\n",
       "      <th>Coefficient</th>\n",
       "    </tr>\n",
       "  </thead>\n",
       "  <tbody>\n",
       "    <tr>\n",
       "      <th>335</th>\n",
       "      <td>org_333</td>\n",
       "      <td>1.220585</td>\n",
       "    </tr>\n",
       "    <tr>\n",
       "      <th>189</th>\n",
       "      <td>org_187</td>\n",
       "      <td>1.212508</td>\n",
       "    </tr>\n",
       "    <tr>\n",
       "      <th>204</th>\n",
       "      <td>org_202</td>\n",
       "      <td>1.069758</td>\n",
       "    </tr>\n",
       "    <tr>\n",
       "      <th>172</th>\n",
       "      <td>org_170</td>\n",
       "      <td>0.988544</td>\n",
       "    </tr>\n",
       "    <tr>\n",
       "      <th>395</th>\n",
       "      <td>org_393</td>\n",
       "      <td>0.931008</td>\n",
       "    </tr>\n",
       "    <tr>\n",
       "      <th>184</th>\n",
       "      <td>org_182</td>\n",
       "      <td>0.913662</td>\n",
       "    </tr>\n",
       "    <tr>\n",
       "      <th>321</th>\n",
       "      <td>org_319</td>\n",
       "      <td>0.904509</td>\n",
       "    </tr>\n",
       "    <tr>\n",
       "      <th>197</th>\n",
       "      <td>org_195</td>\n",
       "      <td>0.901315</td>\n",
       "    </tr>\n",
       "    <tr>\n",
       "      <th>236</th>\n",
       "      <td>org_234</td>\n",
       "      <td>0.865921</td>\n",
       "    </tr>\n",
       "    <tr>\n",
       "      <th>74</th>\n",
       "      <td>org_72</td>\n",
       "      <td>0.859385</td>\n",
       "    </tr>\n",
       "    <tr>\n",
       "      <th>170</th>\n",
       "      <td>org_168</td>\n",
       "      <td>0.837939</td>\n",
       "    </tr>\n",
       "    <tr>\n",
       "      <th>178</th>\n",
       "      <td>org_176</td>\n",
       "      <td>0.833268</td>\n",
       "    </tr>\n",
       "    <tr>\n",
       "      <th>158</th>\n",
       "      <td>org_156</td>\n",
       "      <td>0.810692</td>\n",
       "    </tr>\n",
       "    <tr>\n",
       "      <th>358</th>\n",
       "      <td>org_356</td>\n",
       "      <td>0.787621</td>\n",
       "    </tr>\n",
       "    <tr>\n",
       "      <th>284</th>\n",
       "      <td>org_282</td>\n",
       "      <td>0.783856</td>\n",
       "    </tr>\n",
       "  </tbody>\n",
       "</table>\n",
       "</div>"
      ],
      "text/plain": [
       "    Variable  Coefficient\n",
       "335  org_333     1.220585\n",
       "189  org_187     1.212508\n",
       "204  org_202     1.069758\n",
       "172  org_170     0.988544\n",
       "395  org_393     0.931008\n",
       "184  org_182     0.913662\n",
       "321  org_319     0.904509\n",
       "197  org_195     0.901315\n",
       "236  org_234     0.865921\n",
       "74    org_72     0.859385\n",
       "170  org_168     0.837939\n",
       "178  org_176     0.833268\n",
       "158  org_156     0.810692\n",
       "358  org_356     0.787621\n",
       "284  org_282     0.783856"
      ]
     },
     "execution_count": 52,
     "metadata": {},
     "output_type": "execute_result"
    }
   ],
   "source": [
    "# See sorted values\n",
    "df_coef.sort_values(by = 'Coefficient', ascending = False).head(n = 15)"
   ]
  },
  {
   "cell_type": "markdown",
   "metadata": {},
   "source": [
    "## Final Conclusion"
   ]
  },
  {
   "cell_type": "markdown",
   "metadata": {},
   "source": [
    "##### Based on the results, we can conclude organization is the most important variable that defines if an user is adopted or not.\n",
    "##### The last model would be the best one to predict if an user would be adapted or not based on the organization id.\n",
    "##### Besides, if they can increase the feature importance of the organizations with more vistings, and acquisitions, this will also help the adopted user rate"
   ]
  }
 ],
 "metadata": {
  "kernelspec": {
   "display_name": "Python 3",
   "language": "python",
   "name": "python3"
  },
  "language_info": {
   "codemirror_mode": {
    "name": "ipython",
    "version": 3
   },
   "file_extension": ".py",
   "mimetype": "text/x-python",
   "name": "python",
   "nbconvert_exporter": "python",
   "pygments_lexer": "ipython3",
   "version": "3.7.4"
  }
 },
 "nbformat": 4,
 "nbformat_minor": 2
}

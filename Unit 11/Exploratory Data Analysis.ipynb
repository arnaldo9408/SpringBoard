{
 "cells": [
  {
   "cell_type": "code",
   "execution_count": 78,
   "metadata": {},
   "outputs": [],
   "source": [
    "import pandas as pd\n",
    "import numpy as np\n",
    "import matplotlib.pyplot as plt\n",
    "import seaborn as sns\n",
    "import warnings"
   ]
  },
  {
   "cell_type": "markdown",
   "metadata": {},
   "source": [
    "# Load the data we are going to work"
   ]
  },
  {
   "cell_type": "code",
   "execution_count": 2,
   "metadata": {},
   "outputs": [],
   "source": [
    "#Use pd.read_csv to read the csv file\n",
    "df = pd.read_csv('walmart_sales.csv')"
   ]
  },
  {
   "cell_type": "code",
   "execution_count": 3,
   "metadata": {},
   "outputs": [],
   "source": [
    "#Drop the first column since it is not necessary in our analysis\n",
    "df.drop(columns = df.columns[0], inplace = True)"
   ]
  },
  {
   "cell_type": "code",
   "execution_count": 4,
   "metadata": {},
   "outputs": [
    {
     "data": {
      "text/html": [
       "<div>\n",
       "<style scoped>\n",
       "    .dataframe tbody tr th:only-of-type {\n",
       "        vertical-align: middle;\n",
       "    }\n",
       "\n",
       "    .dataframe tbody tr th {\n",
       "        vertical-align: top;\n",
       "    }\n",
       "\n",
       "    .dataframe thead th {\n",
       "        text-align: right;\n",
       "    }\n",
       "</style>\n",
       "<table border=\"1\" class=\"dataframe\">\n",
       "  <thead>\n",
       "    <tr style=\"text-align: right;\">\n",
       "      <th></th>\n",
       "      <th>Store</th>\n",
       "      <th>Dept</th>\n",
       "      <th>Date</th>\n",
       "      <th>Weekly_Sales</th>\n",
       "      <th>IsHoliday</th>\n",
       "      <th>Temperature</th>\n",
       "      <th>Fuel_Price</th>\n",
       "      <th>CPI</th>\n",
       "      <th>Unemployment</th>\n",
       "      <th>Close</th>\n",
       "      <th>Type</th>\n",
       "      <th>Size</th>\n",
       "    </tr>\n",
       "  </thead>\n",
       "  <tbody>\n",
       "    <tr>\n",
       "      <th>0</th>\n",
       "      <td>1</td>\n",
       "      <td>1</td>\n",
       "      <td>2010-02-05</td>\n",
       "      <td>24924.50</td>\n",
       "      <td>False</td>\n",
       "      <td>42.31</td>\n",
       "      <td>2.572</td>\n",
       "      <td>211.096358</td>\n",
       "      <td>8.106</td>\n",
       "      <td>53.450001</td>\n",
       "      <td>A</td>\n",
       "      <td>151315</td>\n",
       "    </tr>\n",
       "    <tr>\n",
       "      <th>1</th>\n",
       "      <td>1</td>\n",
       "      <td>2</td>\n",
       "      <td>2010-02-05</td>\n",
       "      <td>50605.27</td>\n",
       "      <td>False</td>\n",
       "      <td>42.31</td>\n",
       "      <td>2.572</td>\n",
       "      <td>211.096358</td>\n",
       "      <td>8.106</td>\n",
       "      <td>53.450001</td>\n",
       "      <td>A</td>\n",
       "      <td>151315</td>\n",
       "    </tr>\n",
       "    <tr>\n",
       "      <th>2</th>\n",
       "      <td>1</td>\n",
       "      <td>3</td>\n",
       "      <td>2010-02-05</td>\n",
       "      <td>13740.12</td>\n",
       "      <td>False</td>\n",
       "      <td>42.31</td>\n",
       "      <td>2.572</td>\n",
       "      <td>211.096358</td>\n",
       "      <td>8.106</td>\n",
       "      <td>53.450001</td>\n",
       "      <td>A</td>\n",
       "      <td>151315</td>\n",
       "    </tr>\n",
       "    <tr>\n",
       "      <th>3</th>\n",
       "      <td>1</td>\n",
       "      <td>4</td>\n",
       "      <td>2010-02-05</td>\n",
       "      <td>39954.04</td>\n",
       "      <td>False</td>\n",
       "      <td>42.31</td>\n",
       "      <td>2.572</td>\n",
       "      <td>211.096358</td>\n",
       "      <td>8.106</td>\n",
       "      <td>53.450001</td>\n",
       "      <td>A</td>\n",
       "      <td>151315</td>\n",
       "    </tr>\n",
       "    <tr>\n",
       "      <th>4</th>\n",
       "      <td>1</td>\n",
       "      <td>5</td>\n",
       "      <td>2010-02-05</td>\n",
       "      <td>32229.38</td>\n",
       "      <td>False</td>\n",
       "      <td>42.31</td>\n",
       "      <td>2.572</td>\n",
       "      <td>211.096358</td>\n",
       "      <td>8.106</td>\n",
       "      <td>53.450001</td>\n",
       "      <td>A</td>\n",
       "      <td>151315</td>\n",
       "    </tr>\n",
       "  </tbody>\n",
       "</table>\n",
       "</div>"
      ],
      "text/plain": [
       "   Store  Dept        Date  Weekly_Sales  IsHoliday  Temperature  Fuel_Price  \\\n",
       "0      1     1  2010-02-05      24924.50      False        42.31       2.572   \n",
       "1      1     2  2010-02-05      50605.27      False        42.31       2.572   \n",
       "2      1     3  2010-02-05      13740.12      False        42.31       2.572   \n",
       "3      1     4  2010-02-05      39954.04      False        42.31       2.572   \n",
       "4      1     5  2010-02-05      32229.38      False        42.31       2.572   \n",
       "\n",
       "          CPI  Unemployment      Close Type    Size  \n",
       "0  211.096358         8.106  53.450001    A  151315  \n",
       "1  211.096358         8.106  53.450001    A  151315  \n",
       "2  211.096358         8.106  53.450001    A  151315  \n",
       "3  211.096358         8.106  53.450001    A  151315  \n",
       "4  211.096358         8.106  53.450001    A  151315  "
      ]
     },
     "execution_count": 4,
     "metadata": {},
     "output_type": "execute_result"
    }
   ],
   "source": [
    "#See the first 5 rows to see if the dataset looks like what we expected\n",
    "df.head()"
   ]
  },
  {
   "cell_type": "code",
   "execution_count": 5,
   "metadata": {},
   "outputs": [
    {
     "data": {
      "text/plain": [
       "(409727, 12)"
      ]
     },
     "execution_count": 5,
     "metadata": {},
     "output_type": "execute_result"
    }
   ],
   "source": [
    "df.shape"
   ]
  },
  {
   "cell_type": "markdown",
   "metadata": {},
   "source": [
    "# Data Visualization"
   ]
  },
  {
   "cell_type": "code",
   "execution_count": 6,
   "metadata": {},
   "outputs": [],
   "source": [
    "#Plot an histogram of the variables we are interested on"
   ]
  },
  {
   "cell_type": "code",
   "execution_count": 7,
   "metadata": {},
   "outputs": [
    {
     "data": {
      "text/plain": [
       "'I am interested on the weekly sales as my dependant variable since it is what we are trying to predict'"
      ]
     },
     "execution_count": 7,
     "metadata": {},
     "output_type": "execute_result"
    }
   ],
   "source": [
    "'''I am interested on the weekly sales as my dependant variable since it is what we are trying to predict'''"
   ]
  },
  {
   "cell_type": "code",
   "execution_count": 8,
   "metadata": {},
   "outputs": [
    {
     "data": {
      "image/png": "[encoded data removed]",
      "text/plain": [
       "<Figure size 432x288 with 1 Axes>"
      ]
     },
     "metadata": {
      "needs_background": "light"
     },
     "output_type": "display_data"
    }
   ],
   "source": [
    "#Plot a histogram of the weekly_sales variables\n",
    "n_bins = np.sqrt(len(df['Weekly_Sales']))\n",
    "n_bins = int(n_bins)\n",
    "plt.hist(df['Weekly_Sales'], bins = n_bins)\n",
    "plt.xlabel('Weekly_Sales')\n",
    "plt.ylabel('Frequency')\n",
    "plt.show()"
   ]
  },
  {
   "cell_type": "code",
   "execution_count": 9,
   "metadata": {},
   "outputs": [
    {
     "data": {
      "text/plain": [
       "<matplotlib.axes._subplots.AxesSubplot at 0x12156fa90>"
      ]
     },
     "execution_count": 9,
     "metadata": {},
     "output_type": "execute_result"
    },
    {
     "data": {
      "image/png": "[encoded data removed]",
      "text/plain": [
       "<Figure size 432x288 with 1 Axes>"
      ]
     },
     "metadata": {
      "needs_background": "light"
     },
     "output_type": "display_data"
    }
   ],
   "source": [
    "#Plot a boxplot\n",
    "sns.boxplot(x = 'Weekly_Sales', data = df)"
   ]
  },
  {
   "cell_type": "code",
   "execution_count": 10,
   "metadata": {},
   "outputs": [
    {
     "data": {
      "text/plain": [
       "'From the box plot, we are able to see that there may be some outliers'"
      ]
     },
     "execution_count": 10,
     "metadata": {},
     "output_type": "execute_result"
    }
   ],
   "source": [
    "'''From the box plot, we are able to see that there may be some outliers'''"
   ]
  },
  {
   "cell_type": "markdown",
   "metadata": {},
   "source": [
    "### Removing outliers "
   ]
  },
  {
   "cell_type": "code",
   "execution_count": 11,
   "metadata": {},
   "outputs": [],
   "source": [
    "#Process to remove outliers\n",
    "mean = df['Weekly_Sales'].mean()\n",
    "Q1 = df['Weekly_Sales'].quantile(0.25)\n",
    "Q3 = df['Weekly_Sales'].quantile(0.75)"
   ]
  },
  {
   "cell_type": "code",
   "execution_count": 12,
   "metadata": {},
   "outputs": [],
   "source": [
    "IQR = Q3 - Q1"
   ]
  },
  {
   "cell_type": "code",
   "execution_count": 13,
   "metadata": {},
   "outputs": [],
   "source": [
    "df = df.loc[df['Weekly_Sales'] >= Q1 - 1.5*IQR]\n",
    "df = df.loc[df['Weekly_Sales'] <= Q3 + 1.5*IQR]"
   ]
  },
  {
   "cell_type": "code",
   "execution_count": 14,
   "metadata": {},
   "outputs": [
    {
     "data": {
      "text/plain": [
       "(375188, 12)"
      ]
     },
     "execution_count": 14,
     "metadata": {},
     "output_type": "execute_result"
    }
   ],
   "source": [
    "df.shape"
   ]
  },
  {
   "cell_type": "code",
   "execution_count": 15,
   "metadata": {},
   "outputs": [
    {
     "data": {
      "text/plain": [
       "<matplotlib.axes._subplots.AxesSubplot at 0x121ed3050>"
      ]
     },
     "execution_count": 15,
     "metadata": {},
     "output_type": "execute_result"
    },
    {
     "data": {
      "image/png": "[encoded data removed]",
      "text/plain": [
       "<Figure size 432x288 with 1 Axes>"
      ]
     },
     "metadata": {
      "needs_background": "light"
     },
     "output_type": "display_data"
    }
   ],
   "source": [
    "sns.boxplot(x = 'Weekly_Sales', data = df)"
   ]
  },
  {
   "cell_type": "code",
   "execution_count": 16,
   "metadata": {},
   "outputs": [
    {
     "data": {
      "image/png": "[encoded data removed]",
      "text/plain": [
       "<Figure size 432x288 with 1 Axes>"
      ]
     },
     "metadata": {
      "needs_background": "light"
     },
     "output_type": "display_data"
    }
   ],
   "source": [
    "#Plot a histogram of the weekly_sales variables\n",
    "n_bins = np.sqrt(len(df['Weekly_Sales']))\n",
    "n_bins = int(n_bins)\n",
    "plt.hist(df['Weekly_Sales'], bins = n_bins)\n",
    "plt.xlabel('Weekly_Sales')\n",
    "plt.ylabel('Frequency')\n",
    "plt.show()"
   ]
  },
  {
   "cell_type": "code",
   "execution_count": 17,
   "metadata": {},
   "outputs": [
    {
     "data": {
      "text/plain": [
       "'It does not look like the weekly sales follow a normal distribution based on the histogram'"
      ]
     },
     "execution_count": 17,
     "metadata": {},
     "output_type": "execute_result"
    }
   ],
   "source": [
    "'''It does not look like the weekly sales follow a normal distribution based on the histogram'''"
   ]
  },
  {
   "cell_type": "code",
   "execution_count": 18,
   "metadata": {},
   "outputs": [],
   "source": [
    "df_2 = df.drop(columns = {'Date','Store', 'Dept', 'IsHoliday', 'Type', 'Size'})"
   ]
  },
  {
   "cell_type": "code",
   "execution_count": 19,
   "metadata": {},
   "outputs": [],
   "source": [
    "#Plot a correlation heat map to see the correlation among all the variables\n",
    "df_corr = df_2.corr()"
   ]
  },
  {
   "cell_type": "code",
   "execution_count": 20,
   "metadata": {},
   "outputs": [
    {
     "data": {
      "text/html": [
       "<div>\n",
       "<style scoped>\n",
       "    .dataframe tbody tr th:only-of-type {\n",
       "        vertical-align: middle;\n",
       "    }\n",
       "\n",
       "    .dataframe tbody tr th {\n",
       "        vertical-align: top;\n",
       "    }\n",
       "\n",
       "    .dataframe thead th {\n",
       "        text-align: right;\n",
       "    }\n",
       "</style>\n",
       "<table border=\"1\" class=\"dataframe\">\n",
       "  <thead>\n",
       "    <tr style=\"text-align: right;\">\n",
       "      <th></th>\n",
       "      <th>Weekly_Sales</th>\n",
       "      <th>Temperature</th>\n",
       "      <th>Fuel_Price</th>\n",
       "      <th>CPI</th>\n",
       "      <th>Unemployment</th>\n",
       "      <th>Close</th>\n",
       "    </tr>\n",
       "  </thead>\n",
       "  <tbody>\n",
       "    <tr>\n",
       "      <th>Weekly_Sales</th>\n",
       "      <td>1.000000</td>\n",
       "      <td>0.001416</td>\n",
       "      <td>0.007062</td>\n",
       "      <td>-0.037607</td>\n",
       "      <td>-0.009346</td>\n",
       "      <td>-0.003274</td>\n",
       "    </tr>\n",
       "    <tr>\n",
       "      <th>Temperature</th>\n",
       "      <td>0.001416</td>\n",
       "      <td>1.000000</td>\n",
       "      <td>0.143087</td>\n",
       "      <td>0.177008</td>\n",
       "      <td>0.101062</td>\n",
       "      <td>0.098519</td>\n",
       "    </tr>\n",
       "    <tr>\n",
       "      <th>Fuel_Price</th>\n",
       "      <td>0.007062</td>\n",
       "      <td>0.143087</td>\n",
       "      <td>1.000000</td>\n",
       "      <td>-0.168826</td>\n",
       "      <td>-0.029669</td>\n",
       "      <td>0.469201</td>\n",
       "    </tr>\n",
       "    <tr>\n",
       "      <th>CPI</th>\n",
       "      <td>-0.037607</td>\n",
       "      <td>0.177008</td>\n",
       "      <td>-0.168826</td>\n",
       "      <td>1.000000</td>\n",
       "      <td>-0.312462</td>\n",
       "      <td>0.063113</td>\n",
       "    </tr>\n",
       "    <tr>\n",
       "      <th>Unemployment</th>\n",
       "      <td>-0.009346</td>\n",
       "      <td>0.101062</td>\n",
       "      <td>-0.029669</td>\n",
       "      <td>-0.312462</td>\n",
       "      <td>1.000000</td>\n",
       "      <td>-0.216900</td>\n",
       "    </tr>\n",
       "    <tr>\n",
       "      <th>Close</th>\n",
       "      <td>-0.003274</td>\n",
       "      <td>0.098519</td>\n",
       "      <td>0.469201</td>\n",
       "      <td>0.063113</td>\n",
       "      <td>-0.216900</td>\n",
       "      <td>1.000000</td>\n",
       "    </tr>\n",
       "  </tbody>\n",
       "</table>\n",
       "</div>"
      ],
      "text/plain": [
       "              Weekly_Sales  Temperature  Fuel_Price       CPI  Unemployment  \\\n",
       "Weekly_Sales      1.000000     0.001416    0.007062 -0.037607     -0.009346   \n",
       "Temperature       0.001416     1.000000    0.143087  0.177008      0.101062   \n",
       "Fuel_Price        0.007062     0.143087    1.000000 -0.168826     -0.029669   \n",
       "CPI              -0.037607     0.177008   -0.168826  1.000000     -0.312462   \n",
       "Unemployment     -0.009346     0.101062   -0.029669 -0.312462      1.000000   \n",
       "Close            -0.003274     0.098519    0.469201  0.063113     -0.216900   \n",
       "\n",
       "                 Close  \n",
       "Weekly_Sales -0.003274  \n",
       "Temperature   0.098519  \n",
       "Fuel_Price    0.469201  \n",
       "CPI           0.063113  \n",
       "Unemployment -0.216900  \n",
       "Close         1.000000  "
      ]
     },
     "execution_count": 20,
     "metadata": {},
     "output_type": "execute_result"
    }
   ],
   "source": [
    "df_corr"
   ]
  },
  {
   "cell_type": "code",
   "execution_count": 21,
   "metadata": {},
   "outputs": [
    {
     "data": {
      "text/plain": [
       "<matplotlib.axes._subplots.AxesSubplot at 0x1219cbf10>"
      ]
     },
     "execution_count": 21,
     "metadata": {},
     "output_type": "execute_result"
    },
    {
     "data": {
      "image/png": "[encoded data removed]",
      "text/plain": [
       "<Figure size 432x288 with 2 Axes>"
      ]
     },
     "metadata": {
      "needs_background": "light"
     },
     "output_type": "display_data"
    }
   ],
   "source": [
    "sns.heatmap(df_corr)"
   ]
  },
  {
   "cell_type": "markdown",
   "metadata": {},
   "source": [
    "'''Looks like the variables that are more correlated are the Fuel_Price and the Close price of the stock. On the other hand, there is no a clear correlation between the sales and any of the variables'''\n"
   ]
  },
  {
   "cell_type": "markdown",
   "metadata": {},
   "source": [
    "### Relation among the departments and the weekly sales"
   ]
  },
  {
   "cell_type": "code",
   "execution_count": 22,
   "metadata": {},
   "outputs": [],
   "source": [
    "#We are going to group by department and take the sum of all the weekly sales\n",
    "df_dept_group = df.groupby('Dept').agg({'Weekly_Sales':'sum'})"
   ]
  },
  {
   "cell_type": "code",
   "execution_count": 23,
   "metadata": {},
   "outputs": [],
   "source": [
    "#Ascending themm from the highest to the lowest and save as a data frame\n",
    "df_dept_sorted = pd.DataFrame(df_dept_group['Weekly_Sales'].sort_values(ascending = False))"
   ]
  },
  {
   "cell_type": "code",
   "execution_count": 24,
   "metadata": {},
   "outputs": [
    {
     "data": {
      "text/html": [
       "<div>\n",
       "<style scoped>\n",
       "    .dataframe tbody tr th:only-of-type {\n",
       "        vertical-align: middle;\n",
       "    }\n",
       "\n",
       "    .dataframe tbody tr th {\n",
       "        vertical-align: top;\n",
       "    }\n",
       "\n",
       "    .dataframe thead th {\n",
       "        text-align: right;\n",
       "    }\n",
       "</style>\n",
       "<table border=\"1\" class=\"dataframe\">\n",
       "  <thead>\n",
       "    <tr style=\"text-align: right;\">\n",
       "      <th></th>\n",
       "      <th>Weekly_Sales</th>\n",
       "    </tr>\n",
       "    <tr>\n",
       "      <th>Dept</th>\n",
       "      <th></th>\n",
       "    </tr>\n",
       "  </thead>\n",
       "  <tbody>\n",
       "    <tr>\n",
       "      <th>8</th>\n",
       "      <td>1.326477e+08</td>\n",
       "    </tr>\n",
       "    <tr>\n",
       "      <th>13</th>\n",
       "      <td>1.316892e+08</td>\n",
       "    </tr>\n",
       "    <tr>\n",
       "      <th>4</th>\n",
       "      <td>1.314791e+08</td>\n",
       "    </tr>\n",
       "    <tr>\n",
       "      <th>79</th>\n",
       "      <td>1.193931e+08</td>\n",
       "    </tr>\n",
       "    <tr>\n",
       "      <th>46</th>\n",
       "      <td>1.140393e+08</td>\n",
       "    </tr>\n",
       "    <tr>\n",
       "      <th>23</th>\n",
       "      <td>1.106379e+08</td>\n",
       "    </tr>\n",
       "    <tr>\n",
       "      <th>10</th>\n",
       "      <td>1.047456e+08</td>\n",
       "    </tr>\n",
       "    <tr>\n",
       "      <th>40</th>\n",
       "      <td>1.014016e+08</td>\n",
       "    </tr>\n",
       "    <tr>\n",
       "      <th>7</th>\n",
       "      <td>1.008975e+08</td>\n",
       "    </tr>\n",
       "    <tr>\n",
       "      <th>1</th>\n",
       "      <td>1.003674e+08</td>\n",
       "    </tr>\n",
       "  </tbody>\n",
       "</table>\n",
       "</div>"
      ],
      "text/plain": [
       "      Weekly_Sales\n",
       "Dept              \n",
       "8     1.326477e+08\n",
       "13    1.316892e+08\n",
       "4     1.314791e+08\n",
       "79    1.193931e+08\n",
       "46    1.140393e+08\n",
       "23    1.106379e+08\n",
       "10    1.047456e+08\n",
       "40    1.014016e+08\n",
       "7     1.008975e+08\n",
       "1     1.003674e+08"
      ]
     },
     "execution_count": 24,
     "metadata": {},
     "output_type": "execute_result"
    }
   ],
   "source": [
    "#See the 10 most important departments in terms of sales\n",
    "df_dept_sorted.head(10)"
   ]
  },
  {
   "cell_type": "markdown",
   "metadata": {},
   "source": [
    "By taking into consideration the sales, the departments that look more important are the following: Departments 8, 13, 4, 79, 46, 23, 10, 40, 7, and 1."
   ]
  },
  {
   "cell_type": "markdown",
   "metadata": {},
   "source": [
    "#### Plot visualizations between the department and the weekly sales"
   ]
  },
  {
   "cell_type": "code",
   "execution_count": 25,
   "metadata": {},
   "outputs": [],
   "source": [
    "#Each loc has the department we are interested to know how they are distributed\n",
    "df_dept8 = df.loc[df['Dept'] == 8]\n",
    "df_dept13 = df.loc[df['Dept'] == 13]\n",
    "df_dept4 = df.loc[df['Dept'] == 4]\n",
    "df_dept79 = df.loc[df['Dept'] == 79]\n",
    "df_dept46 = df.loc[df['Dept'] == 46]\n",
    "df_dept23 = df.loc[df['Dept'] == 23]\n",
    "df_dept10 = df.loc[df['Dept'] == 10]\n",
    "df_dept40 = df.loc[df['Dept'] == 40]\n",
    "df_dept7 = df.loc[df['Dept'] == 7]\n",
    "df_dept1 = df.loc[df['Dept'] == 1]"
   ]
  },
  {
   "cell_type": "code",
   "execution_count": 26,
   "metadata": {},
   "outputs": [],
   "source": [
    "#Have a complete data frame to see possible correlations\n",
    "df_dept = pd.concat([df_dept8, df_dept13, df_dept4, df_dept79, df_dept46, df_dept23, df_dept10, df_dept40, df_dept7,\n",
    "                    df_dept1], axis = 0)"
   ]
  },
  {
   "cell_type": "code",
   "execution_count": 27,
   "metadata": {
    "scrolled": true
   },
   "outputs": [
    {
     "data": {
      "image/png": "[encoded data removed]",
      "text/plain": [
       "<Figure size 432x288 with 4 Axes>"
      ]
     },
     "metadata": {
      "needs_background": "light"
     },
     "output_type": "display_data"
    }
   ],
   "source": [
    "#Plot each department weekly sales' distribution \n",
    "plt.subplot(2,2,1)\n",
    "sns.boxplot(df_dept8['Weekly_Sales'], data = df_dept8)\n",
    "plt.xlabel('Weekly Sales')\n",
    "plt.ylabel('Frequency')\n",
    "plt.title('Weekly Sales of Department 8')\n",
    "plt.subplot(2,2,2)\n",
    "sns.boxplot(df_dept13['Weekly_Sales'], data = df_dept13)\n",
    "plt.xlabel('Weekly Sales')\n",
    "plt.ylabel('Frequency')\n",
    "plt.title('Weekly Sales of Department 13')\n",
    "plt.subplot(2,2,3)\n",
    "sns.boxplot(df_dept4['Weekly_Sales'], data = df_dept4)\n",
    "plt.xlabel('Weekly Sales')\n",
    "plt.ylabel('Frequency')\n",
    "plt.title('Weekly Sales of Department 4')\n",
    "plt.subplot(2,2,4)\n",
    "sns.boxplot(df_dept79['Weekly_Sales'], data = df_dept79)\n",
    "plt.xlabel('Weekly Sales')\n",
    "plt.ylabel('Frequency')\n",
    "plt.title('Weekly Sales of Department 79')\n",
    "plt.tight_layout()\n",
    "plt.show()"
   ]
  },
  {
   "cell_type": "code",
   "execution_count": 28,
   "metadata": {},
   "outputs": [
    {
     "data": {
      "image/png": "[encoded data removed]",
      "text/plain": [
       "<Figure size 432x288 with 4 Axes>"
      ]
     },
     "metadata": {
      "needs_background": "light"
     },
     "output_type": "display_data"
    }
   ],
   "source": [
    "plt.subplot(2,2,1)\n",
    "sns.boxplot(df_dept46['Weekly_Sales'], data = df_dept46)\n",
    "plt.xlabel('Weekly Sales')\n",
    "plt.ylabel('Frequency')\n",
    "plt.title('Weekly Sales of Department 46')\n",
    "plt.subplot(2,2,2)\n",
    "sns.boxplot(df_dept23['Weekly_Sales'], data = df_dept23)\n",
    "plt.xlabel('Weekly Sales')\n",
    "plt.ylabel('Frequency')\n",
    "plt.title('Weekly Sales of Department 23')\n",
    "plt.subplot(2,2,3)\n",
    "sns.boxplot(df_dept10['Weekly_Sales'], data = df_dept10)\n",
    "plt.xlabel('Weekly Sales')\n",
    "plt.ylabel('Frequency')\n",
    "plt.title('Weekly Sales of Department 10')\n",
    "plt.subplot(2,2,4)\n",
    "sns.boxplot(df_dept40['Weekly_Sales'], data = df_dept40)\n",
    "plt.xlabel('Weekly Sales')\n",
    "plt.ylabel('Frequency')\n",
    "plt.title('Weekly Sales of Department 40')\n",
    "plt.tight_layout()\n",
    "plt.show()"
   ]
  },
  {
   "cell_type": "code",
   "execution_count": 29,
   "metadata": {},
   "outputs": [
    {
     "data": {
      "image/png": "[encoded data removed]",
      "text/plain": [
       "<Figure size 432x288 with 2 Axes>"
      ]
     },
     "metadata": {
      "needs_background": "light"
     },
     "output_type": "display_data"
    }
   ],
   "source": [
    "plt.subplot(2,1,1)\n",
    "sns.boxplot(df_dept7['Weekly_Sales'], data = df_dept7)\n",
    "plt.xlabel('Weekly Sales')\n",
    "plt.ylabel('Frequency')\n",
    "plt.title('Weekly Sales of Department 7')\n",
    "plt.subplot(2,1,2)\n",
    "sns.boxplot(df_dept1['Weekly_Sales'], data = df_dept1)\n",
    "plt.xlabel('Weekly Sales')\n",
    "plt.ylabel('Frequency')\n",
    "plt.title('Weekly Sales of Department 1')\n",
    "plt.tight_layout()\n",
    "plt.show()"
   ]
  },
  {
   "cell_type": "markdown",
   "metadata": {},
   "source": [
    "Based on the boxplots we just made for the 10 most important departments regarding weekly sales, we can see they do not follow a normal distribution just like in overall the boxplot's graphic of the weekly sales with all de department included. This is an important thing to take into consideration."
   ]
  },
  {
   "cell_type": "markdown",
   "metadata": {},
   "source": [
    "#### Correlation among the most important departments and weekly sales"
   ]
  },
  {
   "cell_type": "code",
   "execution_count": 31,
   "metadata": {},
   "outputs": [],
   "source": [
    "#Extract the columns I am intereted. In this case, department and weekly sales\n",
    "df_dept2 = df_dept[['Dept', 'Weekly_Sales']]"
   ]
  },
  {
   "cell_type": "code",
   "execution_count": 33,
   "metadata": {},
   "outputs": [],
   "source": [
    "#Convert the department into dummies variables, and concat it to the department data frame to see correlations\n",
    "df_dept_dummies = pd.get_dummies(df_dept2['Dept'])\n",
    "df_dept2 = df_dept2.drop(columns = 'Dept')\n",
    "df_dept2 = pd.concat([df_dept2, df_dept_dummies], axis = 1)"
   ]
  },
  {
   "cell_type": "code",
   "execution_count": 34,
   "metadata": {},
   "outputs": [
    {
     "data": {
      "text/html": [
       "<div>\n",
       "<style scoped>\n",
       "    .dataframe tbody tr th:only-of-type {\n",
       "        vertical-align: middle;\n",
       "    }\n",
       "\n",
       "    .dataframe tbody tr th {\n",
       "        vertical-align: top;\n",
       "    }\n",
       "\n",
       "    .dataframe thead th {\n",
       "        text-align: right;\n",
       "    }\n",
       "</style>\n",
       "<table border=\"1\" class=\"dataframe\">\n",
       "  <thead>\n",
       "    <tr style=\"text-align: right;\">\n",
       "      <th></th>\n",
       "      <th>Weekly_Sales</th>\n",
       "      <th>1</th>\n",
       "      <th>4</th>\n",
       "      <th>7</th>\n",
       "      <th>8</th>\n",
       "      <th>10</th>\n",
       "      <th>13</th>\n",
       "      <th>23</th>\n",
       "      <th>40</th>\n",
       "      <th>46</th>\n",
       "      <th>79</th>\n",
       "    </tr>\n",
       "  </thead>\n",
       "  <tbody>\n",
       "    <tr>\n",
       "      <th>Weekly_Sales</th>\n",
       "      <td>1.000000</td>\n",
       "      <td>-0.127341</td>\n",
       "      <td>0.064364</td>\n",
       "      <td>-0.092551</td>\n",
       "      <td>0.102847</td>\n",
       "      <td>-0.108940</td>\n",
       "      <td>0.119040</td>\n",
       "      <td>0.004780</td>\n",
       "      <td>0.175213</td>\n",
       "      <td>-0.064804</td>\n",
       "      <td>-0.022000</td>\n",
       "    </tr>\n",
       "    <tr>\n",
       "      <th>1</th>\n",
       "      <td>-0.127341</td>\n",
       "      <td>1.000000</td>\n",
       "      <td>-0.119479</td>\n",
       "      <td>-0.119761</td>\n",
       "      <td>-0.116092</td>\n",
       "      <td>-0.124032</td>\n",
       "      <td>-0.113942</td>\n",
       "      <td>-0.114352</td>\n",
       "      <td>-0.092017</td>\n",
       "      <td>-0.124205</td>\n",
       "      <td>-0.122313</td>\n",
       "    </tr>\n",
       "    <tr>\n",
       "      <th>4</th>\n",
       "      <td>0.064364</td>\n",
       "      <td>-0.119479</td>\n",
       "      <td>1.000000</td>\n",
       "      <td>-0.115719</td>\n",
       "      <td>-0.112174</td>\n",
       "      <td>-0.119846</td>\n",
       "      <td>-0.110096</td>\n",
       "      <td>-0.110493</td>\n",
       "      <td>-0.088911</td>\n",
       "      <td>-0.120012</td>\n",
       "      <td>-0.118185</td>\n",
       "    </tr>\n",
       "    <tr>\n",
       "      <th>7</th>\n",
       "      <td>-0.092551</td>\n",
       "      <td>-0.119761</td>\n",
       "      <td>-0.115719</td>\n",
       "      <td>1.000000</td>\n",
       "      <td>-0.112438</td>\n",
       "      <td>-0.120128</td>\n",
       "      <td>-0.110356</td>\n",
       "      <td>-0.110753</td>\n",
       "      <td>-0.089121</td>\n",
       "      <td>-0.120295</td>\n",
       "      <td>-0.118463</td>\n",
       "    </tr>\n",
       "    <tr>\n",
       "      <th>8</th>\n",
       "      <td>0.102847</td>\n",
       "      <td>-0.116092</td>\n",
       "      <td>-0.112174</td>\n",
       "      <td>-0.112438</td>\n",
       "      <td>1.000000</td>\n",
       "      <td>-0.116449</td>\n",
       "      <td>-0.106975</td>\n",
       "      <td>-0.107361</td>\n",
       "      <td>-0.086391</td>\n",
       "      <td>-0.116610</td>\n",
       "      <td>-0.114835</td>\n",
       "    </tr>\n",
       "    <tr>\n",
       "      <th>10</th>\n",
       "      <td>-0.108940</td>\n",
       "      <td>-0.124032</td>\n",
       "      <td>-0.119846</td>\n",
       "      <td>-0.120128</td>\n",
       "      <td>-0.116449</td>\n",
       "      <td>1.000000</td>\n",
       "      <td>-0.114292</td>\n",
       "      <td>-0.114703</td>\n",
       "      <td>-0.092299</td>\n",
       "      <td>-0.124586</td>\n",
       "      <td>-0.122688</td>\n",
       "    </tr>\n",
       "    <tr>\n",
       "      <th>13</th>\n",
       "      <td>0.119040</td>\n",
       "      <td>-0.113942</td>\n",
       "      <td>-0.110096</td>\n",
       "      <td>-0.110356</td>\n",
       "      <td>-0.106975</td>\n",
       "      <td>-0.114292</td>\n",
       "      <td>1.000000</td>\n",
       "      <td>-0.105372</td>\n",
       "      <td>-0.084791</td>\n",
       "      <td>-0.114450</td>\n",
       "      <td>-0.112707</td>\n",
       "    </tr>\n",
       "    <tr>\n",
       "      <th>23</th>\n",
       "      <td>0.004780</td>\n",
       "      <td>-0.114352</td>\n",
       "      <td>-0.110493</td>\n",
       "      <td>-0.110753</td>\n",
       "      <td>-0.107361</td>\n",
       "      <td>-0.114703</td>\n",
       "      <td>-0.105372</td>\n",
       "      <td>1.000000</td>\n",
       "      <td>-0.085096</td>\n",
       "      <td>-0.114863</td>\n",
       "      <td>-0.113113</td>\n",
       "    </tr>\n",
       "    <tr>\n",
       "      <th>40</th>\n",
       "      <td>0.175213</td>\n",
       "      <td>-0.092017</td>\n",
       "      <td>-0.088911</td>\n",
       "      <td>-0.089121</td>\n",
       "      <td>-0.086391</td>\n",
       "      <td>-0.092299</td>\n",
       "      <td>-0.084791</td>\n",
       "      <td>-0.085096</td>\n",
       "      <td>1.000000</td>\n",
       "      <td>-0.092428</td>\n",
       "      <td>-0.091020</td>\n",
       "    </tr>\n",
       "    <tr>\n",
       "      <th>46</th>\n",
       "      <td>-0.064804</td>\n",
       "      <td>-0.124205</td>\n",
       "      <td>-0.120012</td>\n",
       "      <td>-0.120295</td>\n",
       "      <td>-0.116610</td>\n",
       "      <td>-0.124586</td>\n",
       "      <td>-0.114450</td>\n",
       "      <td>-0.114863</td>\n",
       "      <td>-0.092428</td>\n",
       "      <td>1.000000</td>\n",
       "      <td>-0.122859</td>\n",
       "    </tr>\n",
       "    <tr>\n",
       "      <th>79</th>\n",
       "      <td>-0.022000</td>\n",
       "      <td>-0.122313</td>\n",
       "      <td>-0.118185</td>\n",
       "      <td>-0.118463</td>\n",
       "      <td>-0.114835</td>\n",
       "      <td>-0.122688</td>\n",
       "      <td>-0.112707</td>\n",
       "      <td>-0.113113</td>\n",
       "      <td>-0.091020</td>\n",
       "      <td>-0.122859</td>\n",
       "      <td>1.000000</td>\n",
       "    </tr>\n",
       "  </tbody>\n",
       "</table>\n",
       "</div>"
      ],
      "text/plain": [
       "              Weekly_Sales         1         4         7         8        10  \\\n",
       "Weekly_Sales      1.000000 -0.127341  0.064364 -0.092551  0.102847 -0.108940   \n",
       "1                -0.127341  1.000000 -0.119479 -0.119761 -0.116092 -0.124032   \n",
       "4                 0.064364 -0.119479  1.000000 -0.115719 -0.112174 -0.119846   \n",
       "7                -0.092551 -0.119761 -0.115719  1.000000 -0.112438 -0.120128   \n",
       "8                 0.102847 -0.116092 -0.112174 -0.112438  1.000000 -0.116449   \n",
       "10               -0.108940 -0.124032 -0.119846 -0.120128 -0.116449  1.000000   \n",
       "13                0.119040 -0.113942 -0.110096 -0.110356 -0.106975 -0.114292   \n",
       "23                0.004780 -0.114352 -0.110493 -0.110753 -0.107361 -0.114703   \n",
       "40                0.175213 -0.092017 -0.088911 -0.089121 -0.086391 -0.092299   \n",
       "46               -0.064804 -0.124205 -0.120012 -0.120295 -0.116610 -0.124586   \n",
       "79               -0.022000 -0.122313 -0.118185 -0.118463 -0.114835 -0.122688   \n",
       "\n",
       "                    13        23        40        46        79  \n",
       "Weekly_Sales  0.119040  0.004780  0.175213 -0.064804 -0.022000  \n",
       "1            -0.113942 -0.114352 -0.092017 -0.124205 -0.122313  \n",
       "4            -0.110096 -0.110493 -0.088911 -0.120012 -0.118185  \n",
       "7            -0.110356 -0.110753 -0.089121 -0.120295 -0.118463  \n",
       "8            -0.106975 -0.107361 -0.086391 -0.116610 -0.114835  \n",
       "10           -0.114292 -0.114703 -0.092299 -0.124586 -0.122688  \n",
       "13            1.000000 -0.105372 -0.084791 -0.114450 -0.112707  \n",
       "23           -0.105372  1.000000 -0.085096 -0.114863 -0.113113  \n",
       "40           -0.084791 -0.085096  1.000000 -0.092428 -0.091020  \n",
       "46           -0.114450 -0.114863 -0.092428  1.000000 -0.122859  \n",
       "79           -0.112707 -0.113113 -0.091020 -0.122859  1.000000  "
      ]
     },
     "execution_count": 34,
     "metadata": {},
     "output_type": "execute_result"
    }
   ],
   "source": [
    "#Create a correlation matrix\n",
    "corr_matrix = df_dept2.corr()\n",
    "corr_matrix"
   ]
  },
  {
   "cell_type": "code",
   "execution_count": 35,
   "metadata": {},
   "outputs": [
    {
     "data": {
      "text/plain": [
       "<matplotlib.axes._subplots.AxesSubplot at 0x122698e10>"
      ]
     },
     "execution_count": 35,
     "metadata": {},
     "output_type": "execute_result"
    },
    {
     "data": {
      "image/png": "[encoded data removed]",
      "text/plain": [
       "<Figure size 432x288 with 2 Axes>"
      ]
     },
     "metadata": {
      "needs_background": "light"
     },
     "output_type": "display_data"
    }
   ],
   "source": [
    "#Plot a heatmap\n",
    "sns.heatmap(corr_matrix)"
   ]
  },
  {
   "cell_type": "markdown",
   "metadata": {},
   "source": [
    "By loooking the heatmap and the correlation matrix, we can conclude there is not a significance correlation between weekly sales and the 10 departments with highest weekly sales.The department that looks to have more correlation is the department 13, but is not significant."
   ]
  },
  {
   "cell_type": "markdown",
   "metadata": {},
   "source": [
    "## Relation among the stores and the weekly sales"
   ]
  },
  {
   "cell_type": "code",
   "execution_count": 36,
   "metadata": {},
   "outputs": [],
   "source": [
    "#Group by store and sum the weekly sales per each store\n",
    "df_store_group = df.groupby('Store').agg({'Weekly_Sales':'sum'})"
   ]
  },
  {
   "cell_type": "code",
   "execution_count": 37,
   "metadata": {},
   "outputs": [],
   "source": [
    "#Sort them from the highest to the lowest and see the 10 most important stores \n",
    "df_store_sorted = pd.DataFrame(df_store_group['Weekly_Sales'].sort_values(ascending = False))"
   ]
  },
  {
   "cell_type": "code",
   "execution_count": 38,
   "metadata": {},
   "outputs": [
    {
     "data": {
      "text/html": [
       "<div>\n",
       "<style scoped>\n",
       "    .dataframe tbody tr th:only-of-type {\n",
       "        vertical-align: middle;\n",
       "    }\n",
       "\n",
       "    .dataframe tbody tr th {\n",
       "        vertical-align: top;\n",
       "    }\n",
       "\n",
       "    .dataframe thead th {\n",
       "        text-align: right;\n",
       "    }\n",
       "</style>\n",
       "<table border=\"1\" class=\"dataframe\">\n",
       "  <thead>\n",
       "    <tr style=\"text-align: right;\">\n",
       "      <th></th>\n",
       "      <th>Weekly_Sales</th>\n",
       "    </tr>\n",
       "    <tr>\n",
       "      <th>Store</th>\n",
       "      <th></th>\n",
       "    </tr>\n",
       "  </thead>\n",
       "  <tbody>\n",
       "    <tr>\n",
       "      <th>23</th>\n",
       "      <td>1.288370e+08</td>\n",
       "    </tr>\n",
       "    <tr>\n",
       "      <th>6</th>\n",
       "      <td>1.260801e+08</td>\n",
       "    </tr>\n",
       "    <tr>\n",
       "      <th>11</th>\n",
       "      <td>1.212156e+08</td>\n",
       "    </tr>\n",
       "    <tr>\n",
       "      <th>27</th>\n",
       "      <td>1.204617e+08</td>\n",
       "    </tr>\n",
       "    <tr>\n",
       "      <th>2</th>\n",
       "      <td>1.178480e+08</td>\n",
       "    </tr>\n",
       "    <tr>\n",
       "      <th>13</th>\n",
       "      <td>1.155599e+08</td>\n",
       "    </tr>\n",
       "    <tr>\n",
       "      <th>20</th>\n",
       "      <td>1.150738e+08</td>\n",
       "    </tr>\n",
       "    <tr>\n",
       "      <th>28</th>\n",
       "      <td>1.145824e+08</td>\n",
       "    </tr>\n",
       "    <tr>\n",
       "      <th>19</th>\n",
       "      <td>1.125306e+08</td>\n",
       "    </tr>\n",
       "    <tr>\n",
       "      <th>1</th>\n",
       "      <td>1.108417e+08</td>\n",
       "    </tr>\n",
       "  </tbody>\n",
       "</table>\n",
       "</div>"
      ],
      "text/plain": [
       "       Weekly_Sales\n",
       "Store              \n",
       "23     1.288370e+08\n",
       "6      1.260801e+08\n",
       "11     1.212156e+08\n",
       "27     1.204617e+08\n",
       "2      1.178480e+08\n",
       "13     1.155599e+08\n",
       "20     1.150738e+08\n",
       "28     1.145824e+08\n",
       "19     1.125306e+08\n",
       "1      1.108417e+08"
      ]
     },
     "execution_count": 38,
     "metadata": {},
     "output_type": "execute_result"
    }
   ],
   "source": [
    "#See the results\n",
    "df_store_sorted.head(10)"
   ]
  },
  {
   "cell_type": "markdown",
   "metadata": {},
   "source": [
    "#### Plot of the visualizations of the stores and the weekly sales"
   ]
  },
  {
   "cell_type": "code",
   "execution_count": 39,
   "metadata": {},
   "outputs": [],
   "source": [
    "#Each loc has the information of each of the most important stores to plot\n",
    "df_store23 = df.loc[df['Store'] == 23]\n",
    "df_store6 = df.loc[df['Store'] == 6]\n",
    "df_store11 = df.loc[df['Store'] == 11]\n",
    "df_store27 = df.loc[df['Store'] == 27]\n",
    "df_store2 = df.loc[df['Store'] == 2]\n",
    "df_store13 = df.loc[df['Store'] == 13]\n",
    "df_store20 = df.loc[df['Store'] == 20]\n",
    "df_store28 = df.loc[df['Store'] == 28]\n",
    "df_store19 = df.loc[df['Store'] == 19]\n",
    "df_store1 = df.loc[df['Store'] == 1]"
   ]
  },
  {
   "cell_type": "code",
   "execution_count": 40,
   "metadata": {},
   "outputs": [],
   "source": [
    "#Have a complete data frame to see possible correlations\n",
    "df_store = pd.concat([df_store23, df_store6, df_store11, df_store27, df_store2, df_store13, df_store20, df_store28, \n",
    "                     df_store19, df_store1], axis = 0)"
   ]
  },
  {
   "cell_type": "code",
   "execution_count": 41,
   "metadata": {},
   "outputs": [
    {
     "data": {
      "image/png": "[encoded data removed]",
      "text/plain": [
       "<Figure size 432x288 with 4 Axes>"
      ]
     },
     "metadata": {
      "needs_background": "light"
     },
     "output_type": "display_data"
    }
   ],
   "source": [
    "#Plot each distribution\n",
    "plt.subplot(2,2,1)\n",
    "sns.boxplot(df_store23['Weekly_Sales'], data = df_store23)\n",
    "plt.xlabel('Weekly Sales')\n",
    "plt.ylabel('Frequency')\n",
    "plt.title('Weekly Sales of Store 23')\n",
    "plt.subplot(2,2,2)\n",
    "sns.boxplot(df_store6['Weekly_Sales'], data = df_store6)\n",
    "plt.xlabel('Weekly Sales')\n",
    "plt.ylabel('Frequency')\n",
    "plt.title('Weekly Sales of Store 6')\n",
    "plt.subplot(2,2,3)\n",
    "sns.boxplot(df_store11['Weekly_Sales'], data = df_store11)\n",
    "plt.xlabel('Weekly Sales')\n",
    "plt.ylabel('Frequency')\n",
    "plt.title('Weekly Sales of Store 11')\n",
    "plt.subplot(2,2,4)\n",
    "sns.boxplot(df_store27['Weekly_Sales'], data = df_store27)\n",
    "plt.xlabel('Weekly Sales')\n",
    "plt.ylabel('Frequency')\n",
    "plt.title('Weekly Sales of Store 27')\n",
    "plt.tight_layout()\n",
    "plt.show()"
   ]
  },
  {
   "cell_type": "code",
   "execution_count": 42,
   "metadata": {},
   "outputs": [
    {
     "data": {
      "image/png": "[encoded data removed]",
      "text/plain": [
       "<Figure size 432x288 with 4 Axes>"
      ]
     },
     "metadata": {
      "needs_background": "light"
     },
     "output_type": "display_data"
    }
   ],
   "source": [
    "plt.subplot(2,2,1)\n",
    "sns.boxplot(df_store2['Weekly_Sales'], data = df_store2)\n",
    "plt.xlabel('Weekly Sales')\n",
    "plt.ylabel('Frequency')\n",
    "plt.title('Weekly Sales of Store 2')\n",
    "plt.subplot(2,2,2)\n",
    "sns.boxplot(df_store13['Weekly_Sales'], data = df_store13)\n",
    "plt.xlabel('Weekly Sales')\n",
    "plt.ylabel('Frequency')\n",
    "plt.title('Weekly Sales of Store 6=13')\n",
    "plt.subplot(2,2,3)\n",
    "sns.boxplot(df_store20['Weekly_Sales'], data = df_store20)\n",
    "plt.xlabel('Weekly Sales')\n",
    "plt.ylabel('Frequency')\n",
    "plt.title('Weekly Sales of Store 20')\n",
    "plt.subplot(2,2,4)\n",
    "sns.boxplot(df_store28['Weekly_Sales'], data = df_store28)\n",
    "plt.xlabel('Weekly Sales')\n",
    "plt.ylabel('Frequency')\n",
    "plt.title('Weekly Sales of Store 28')\n",
    "plt.tight_layout()\n",
    "plt.show()"
   ]
  },
  {
   "cell_type": "code",
   "execution_count": 43,
   "metadata": {},
   "outputs": [
    {
     "data": {
      "image/png": "[encoded data removed]",
      "text/plain": [
       "<Figure size 432x288 with 2 Axes>"
      ]
     },
     "metadata": {
      "needs_background": "light"
     },
     "output_type": "display_data"
    }
   ],
   "source": [
    "plt.subplot(2,1,1)\n",
    "sns.boxplot(df_store19['Weekly_Sales'], data = df_store19)\n",
    "plt.xlabel('Weekly Sales')\n",
    "plt.ylabel('Frequency')\n",
    "plt.title('Weekly Sales of Store 19')\n",
    "plt.subplot(2,1,2)\n",
    "sns.boxplot(df_store1['Weekly_Sales'], data = df_store1)\n",
    "plt.xlabel('Weekly Sales')\n",
    "plt.ylabel('Frequency')\n",
    "plt.title('Weekly Sales of Store 1')\n",
    "plt.tight_layout()\n",
    "plt.show()"
   ]
  },
  {
   "cell_type": "markdown",
   "metadata": {},
   "source": [
    "As we can see on the store distribution sales, all of them follows the same distribution than the weekly sales distribution. "
   ]
  },
  {
   "cell_type": "markdown",
   "metadata": {},
   "source": [
    "#### Correlation among the store and the weekly sales"
   ]
  },
  {
   "cell_type": "code",
   "execution_count": 69,
   "metadata": {},
   "outputs": [],
   "source": [
    "#Extract the columns I am intereted. In this case, department and weekly sales\n",
    "df_store2 = df_store[['Store', 'Weekly_Sales']]"
   ]
  },
  {
   "cell_type": "code",
   "execution_count": 72,
   "metadata": {},
   "outputs": [],
   "source": [
    "#Convert the department into dummies variables, and concat it to the department data frame to see correlations\n",
    "df_store_dummies = pd.get_dummies(df_store2['Store'])\n",
    "df_store2 = df_store2.drop(columns = 'Store')\n",
    "df_store2 = pd.concat([df_store2, df_store_dummies], axis = 1)"
   ]
  },
  {
   "cell_type": "code",
   "execution_count": 74,
   "metadata": {},
   "outputs": [],
   "source": [
    "#Calculate the correlation matrix\n",
    "corr_matrix = df_store2.corr()"
   ]
  },
  {
   "cell_type": "code",
   "execution_count": 75,
   "metadata": {},
   "outputs": [
    {
     "data": {
      "text/html": [
       "<div>\n",
       "<style scoped>\n",
       "    .dataframe tbody tr th:only-of-type {\n",
       "        vertical-align: middle;\n",
       "    }\n",
       "\n",
       "    .dataframe tbody tr th {\n",
       "        vertical-align: top;\n",
       "    }\n",
       "\n",
       "    .dataframe thead th {\n",
       "        text-align: right;\n",
       "    }\n",
       "</style>\n",
       "<table border=\"1\" class=\"dataframe\">\n",
       "  <thead>\n",
       "    <tr style=\"text-align: right;\">\n",
       "      <th></th>\n",
       "      <th>Weekly_Sales</th>\n",
       "      <th>1</th>\n",
       "      <th>2</th>\n",
       "      <th>6</th>\n",
       "      <th>11</th>\n",
       "      <th>13</th>\n",
       "      <th>19</th>\n",
       "      <th>20</th>\n",
       "      <th>23</th>\n",
       "      <th>27</th>\n",
       "      <th>28</th>\n",
       "    </tr>\n",
       "  </thead>\n",
       "  <tbody>\n",
       "    <tr>\n",
       "      <th>Weekly_Sales</th>\n",
       "      <td>1.000000</td>\n",
       "      <td>-0.029251</td>\n",
       "      <td>0.011596</td>\n",
       "      <td>0.019971</td>\n",
       "      <td>-0.002279</td>\n",
       "      <td>0.001570</td>\n",
       "      <td>-0.024941</td>\n",
       "      <td>0.017594</td>\n",
       "      <td>0.020461</td>\n",
       "      <td>0.012834</td>\n",
       "      <td>-0.026177</td>\n",
       "    </tr>\n",
       "    <tr>\n",
       "      <th>1</th>\n",
       "      <td>-0.029251</td>\n",
       "      <td>1.000000</td>\n",
       "      <td>-0.109937</td>\n",
       "      <td>-0.112834</td>\n",
       "      <td>-0.114009</td>\n",
       "      <td>-0.110388</td>\n",
       "      <td>-0.113263</td>\n",
       "      <td>-0.107496</td>\n",
       "      <td>-0.114161</td>\n",
       "      <td>-0.111101</td>\n",
       "      <td>-0.114579</td>\n",
       "    </tr>\n",
       "    <tr>\n",
       "      <th>2</th>\n",
       "      <td>0.011596</td>\n",
       "      <td>-0.109937</td>\n",
       "      <td>1.000000</td>\n",
       "      <td>-0.109683</td>\n",
       "      <td>-0.110825</td>\n",
       "      <td>-0.107305</td>\n",
       "      <td>-0.110100</td>\n",
       "      <td>-0.104495</td>\n",
       "      <td>-0.110973</td>\n",
       "      <td>-0.107999</td>\n",
       "      <td>-0.111380</td>\n",
       "    </tr>\n",
       "    <tr>\n",
       "      <th>6</th>\n",
       "      <td>0.019971</td>\n",
       "      <td>-0.112834</td>\n",
       "      <td>-0.109683</td>\n",
       "      <td>1.000000</td>\n",
       "      <td>-0.113745</td>\n",
       "      <td>-0.110132</td>\n",
       "      <td>-0.113000</td>\n",
       "      <td>-0.107247</td>\n",
       "      <td>-0.113896</td>\n",
       "      <td>-0.110844</td>\n",
       "      <td>-0.114314</td>\n",
       "    </tr>\n",
       "    <tr>\n",
       "      <th>11</th>\n",
       "      <td>-0.002279</td>\n",
       "      <td>-0.114009</td>\n",
       "      <td>-0.110825</td>\n",
       "      <td>-0.113745</td>\n",
       "      <td>1.000000</td>\n",
       "      <td>-0.111279</td>\n",
       "      <td>-0.114177</td>\n",
       "      <td>-0.108364</td>\n",
       "      <td>-0.115082</td>\n",
       "      <td>-0.111999</td>\n",
       "      <td>-0.115504</td>\n",
       "    </tr>\n",
       "    <tr>\n",
       "      <th>13</th>\n",
       "      <td>0.001570</td>\n",
       "      <td>-0.110388</td>\n",
       "      <td>-0.107305</td>\n",
       "      <td>-0.110132</td>\n",
       "      <td>-0.111279</td>\n",
       "      <td>1.000000</td>\n",
       "      <td>-0.110551</td>\n",
       "      <td>-0.104923</td>\n",
       "      <td>-0.111427</td>\n",
       "      <td>-0.108441</td>\n",
       "      <td>-0.111836</td>\n",
       "    </tr>\n",
       "    <tr>\n",
       "      <th>19</th>\n",
       "      <td>-0.024941</td>\n",
       "      <td>-0.113263</td>\n",
       "      <td>-0.110100</td>\n",
       "      <td>-0.113000</td>\n",
       "      <td>-0.114177</td>\n",
       "      <td>-0.110551</td>\n",
       "      <td>1.000000</td>\n",
       "      <td>-0.107655</td>\n",
       "      <td>-0.114329</td>\n",
       "      <td>-0.111265</td>\n",
       "      <td>-0.114748</td>\n",
       "    </tr>\n",
       "    <tr>\n",
       "      <th>20</th>\n",
       "      <td>0.017594</td>\n",
       "      <td>-0.107496</td>\n",
       "      <td>-0.104495</td>\n",
       "      <td>-0.107247</td>\n",
       "      <td>-0.108364</td>\n",
       "      <td>-0.104923</td>\n",
       "      <td>-0.107655</td>\n",
       "      <td>1.000000</td>\n",
       "      <td>-0.108509</td>\n",
       "      <td>-0.105601</td>\n",
       "      <td>-0.108907</td>\n",
       "    </tr>\n",
       "    <tr>\n",
       "      <th>23</th>\n",
       "      <td>0.020461</td>\n",
       "      <td>-0.114161</td>\n",
       "      <td>-0.110973</td>\n",
       "      <td>-0.113896</td>\n",
       "      <td>-0.115082</td>\n",
       "      <td>-0.111427</td>\n",
       "      <td>-0.114329</td>\n",
       "      <td>-0.108509</td>\n",
       "      <td>1.000000</td>\n",
       "      <td>-0.112148</td>\n",
       "      <td>-0.115658</td>\n",
       "    </tr>\n",
       "    <tr>\n",
       "      <th>27</th>\n",
       "      <td>0.012834</td>\n",
       "      <td>-0.111101</td>\n",
       "      <td>-0.107999</td>\n",
       "      <td>-0.110844</td>\n",
       "      <td>-0.111999</td>\n",
       "      <td>-0.108441</td>\n",
       "      <td>-0.111265</td>\n",
       "      <td>-0.105601</td>\n",
       "      <td>-0.112148</td>\n",
       "      <td>1.000000</td>\n",
       "      <td>-0.112559</td>\n",
       "    </tr>\n",
       "    <tr>\n",
       "      <th>28</th>\n",
       "      <td>-0.026177</td>\n",
       "      <td>-0.114579</td>\n",
       "      <td>-0.111380</td>\n",
       "      <td>-0.114314</td>\n",
       "      <td>-0.115504</td>\n",
       "      <td>-0.111836</td>\n",
       "      <td>-0.114748</td>\n",
       "      <td>-0.108907</td>\n",
       "      <td>-0.115658</td>\n",
       "      <td>-0.112559</td>\n",
       "      <td>1.000000</td>\n",
       "    </tr>\n",
       "  </tbody>\n",
       "</table>\n",
       "</div>"
      ],
      "text/plain": [
       "              Weekly_Sales         1         2         6        11        13  \\\n",
       "Weekly_Sales      1.000000 -0.029251  0.011596  0.019971 -0.002279  0.001570   \n",
       "1                -0.029251  1.000000 -0.109937 -0.112834 -0.114009 -0.110388   \n",
       "2                 0.011596 -0.109937  1.000000 -0.109683 -0.110825 -0.107305   \n",
       "6                 0.019971 -0.112834 -0.109683  1.000000 -0.113745 -0.110132   \n",
       "11               -0.002279 -0.114009 -0.110825 -0.113745  1.000000 -0.111279   \n",
       "13                0.001570 -0.110388 -0.107305 -0.110132 -0.111279  1.000000   \n",
       "19               -0.024941 -0.113263 -0.110100 -0.113000 -0.114177 -0.110551   \n",
       "20                0.017594 -0.107496 -0.104495 -0.107247 -0.108364 -0.104923   \n",
       "23                0.020461 -0.114161 -0.110973 -0.113896 -0.115082 -0.111427   \n",
       "27                0.012834 -0.111101 -0.107999 -0.110844 -0.111999 -0.108441   \n",
       "28               -0.026177 -0.114579 -0.111380 -0.114314 -0.115504 -0.111836   \n",
       "\n",
       "                    19        20        23        27        28  \n",
       "Weekly_Sales -0.024941  0.017594  0.020461  0.012834 -0.026177  \n",
       "1            -0.113263 -0.107496 -0.114161 -0.111101 -0.114579  \n",
       "2            -0.110100 -0.104495 -0.110973 -0.107999 -0.111380  \n",
       "6            -0.113000 -0.107247 -0.113896 -0.110844 -0.114314  \n",
       "11           -0.114177 -0.108364 -0.115082 -0.111999 -0.115504  \n",
       "13           -0.110551 -0.104923 -0.111427 -0.108441 -0.111836  \n",
       "19            1.000000 -0.107655 -0.114329 -0.111265 -0.114748  \n",
       "20           -0.107655  1.000000 -0.108509 -0.105601 -0.108907  \n",
       "23           -0.114329 -0.108509  1.000000 -0.112148 -0.115658  \n",
       "27           -0.111265 -0.105601 -0.112148  1.000000 -0.112559  \n",
       "28           -0.114748 -0.108907 -0.115658 -0.112559  1.000000  "
      ]
     },
     "execution_count": 75,
     "metadata": {},
     "output_type": "execute_result"
    }
   ],
   "source": [
    "#See the values\n",
    "corr_matrix"
   ]
  },
  {
   "cell_type": "code",
   "execution_count": 76,
   "metadata": {},
   "outputs": [
    {
     "data": {
      "text/plain": [
       "<matplotlib.axes._subplots.AxesSubplot at 0x12273d810>"
      ]
     },
     "execution_count": 76,
     "metadata": {},
     "output_type": "execute_result"
    },
    {
     "data": {
      "image/png": "[encoded data removed]",
      "text/plain": [
       "<Figure size 432x288 with 2 Axes>"
      ]
     },
     "metadata": {
      "needs_background": "light"
     },
     "output_type": "display_data"
    }
   ],
   "source": [
    "#Plot a heatmap\n",
    "sns.heatmap(corr_matrix)"
   ]
  },
  {
   "cell_type": "markdown",
   "metadata": {},
   "source": [
    "Same than correlation, we are not able to identify a clear correlation between weekly sales and number of stores. All the values say to us stores and weekly sales is uncorrelated. "
   ]
  },
  {
   "cell_type": "markdown",
   "metadata": {},
   "source": [
    "# Hypothesis testing for departments"
   ]
  },
  {
   "cell_type": "markdown",
   "metadata": {},
   "source": [
    "Hypothesis: Department 8 would tend to higher mean on sales than department 13."
   ]
  },
  {
   "cell_type": "code",
   "execution_count": 98,
   "metadata": {},
   "outputs": [
    {
     "name": "stdout",
     "output_type": "stream",
     "text": [
      "The length of department 8 is: 5389 and the length of department 13 is: 5210\n"
     ]
    }
   ],
   "source": [
    "#See if the length of departments are the same to see if in case I can do a permutation test\n",
    "print('The length of department 8 is:', len(df_dept8), 'and the length of department 13 is:', len(df_dept13))"
   ]
  },
  {
   "cell_type": "markdown",
   "metadata": {},
   "source": [
    "The length of department 8 is not the same than department 13, so we are not doing a permutation test. Instead, we would use a bootstraping to see if we have results that are statistically significative."
   ]
  },
  {
   "cell_type": "code",
   "execution_count": 81,
   "metadata": {},
   "outputs": [],
   "source": [
    "#Define the department 8 array\n",
    "dept8_array = df_dept8['Weekly_Sales'].values"
   ]
  },
  {
   "cell_type": "code",
   "execution_count": 83,
   "metadata": {},
   "outputs": [],
   "source": [
    "#define the department 13 array\n",
    "dept13_array = df_dept13['Weekly_Sales'].values"
   ]
  },
  {
   "cell_type": "code",
   "execution_count": 92,
   "metadata": {},
   "outputs": [],
   "source": [
    "#Create a function to calculate the absolute difference between means\n",
    "def diff_mean(array1, array2):\n",
    "    return abs(np.mean(array1) - np.mean(array2))"
   ]
  },
  {
   "cell_type": "code",
   "execution_count": 97,
   "metadata": {},
   "outputs": [
    {
     "data": {
      "text/plain": [
       "661.7116016432119"
      ]
     },
     "execution_count": 97,
     "metadata": {},
     "output_type": "execute_result"
    }
   ],
   "source": [
    "# Calculate the absolute mean difference between department 8 and department 13\n",
    "diff_mean(dept8_array, dept13_array)"
   ]
  },
  {
   "cell_type": "code",
   "execution_count": 106,
   "metadata": {},
   "outputs": [],
   "source": [
    "#Define a function to do the bootstraping for sample 1\n",
    "def sampler(data, n):\n",
    "    return np.random.choice(data)   "
   ]
  },
  {
   "cell_type": "code",
   "execution_count": 107,
   "metadata": {},
   "outputs": [],
   "source": [
    "#Define a function to do the bootstraping for sample 2\n",
    "def sampler_2(data2, n2):\n",
    "    return np.random.choice(data2, n2)"
   ]
  },
  {
   "cell_type": "code",
   "execution_count": 126,
   "metadata": {},
   "outputs": [],
   "source": [
    "#Repite the experiment over and over again by calculating the difference between the means\n",
    "number_tries = 2000\n",
    "diff = np.empty(number_tries)\n",
    "for i in range(number_tries):\n",
    "        diff[i] = np.mean(sampler(dept8_array, len(dept8_array))) - np.mean(sampler_2(dept13_array, len(dept13_array)))"
   ]
  },
  {
   "cell_type": "code",
   "execution_count": 127,
   "metadata": {},
   "outputs": [
    {
     "data": {
      "image/png": "[encoded data removed]",
      "text/plain": [
       "<Figure size 432x288 with 1 Axes>"
      ]
     },
     "metadata": {
      "needs_background": "light"
     },
     "output_type": "display_data"
    }
   ],
   "source": [
    "#Plot of the histogram to see the distribution of the means\n",
    "n_bins = np.sqrt(len(diff))\n",
    "n_bins = int(n_bins)\n",
    "plt.hist(diff, bins = n_bins)\n",
    "plt.xlabel('Difference on the mean')\n",
    "plt.ylabel('Frequency')\n",
    "plt.show()"
   ]
  },
  {
   "cell_type": "code",
   "execution_count": 140,
   "metadata": {},
   "outputs": [],
   "source": [
    "#Calculation of the p-value for a difference of mean of 661.61\n",
    "p_value = np.sum(abs(diff) < diff_mean(dept8_array, dept13_array))/number_tries       "
   ]
  },
  {
   "cell_type": "code",
   "execution_count": 145,
   "metadata": {},
   "outputs": [],
   "source": [
    "#Either approve or not our null hypothesis\n",
    "# If department 13 has more sales than department 8, that would mean a positive difference of means\n",
    "p_value2 = np.sum(diff > 0)/number_tries"
   ]
  },
  {
   "cell_type": "code",
   "execution_count": 146,
   "metadata": {},
   "outputs": [
    {
     "name": "stdout",
     "output_type": "stream",
     "text": [
      "The p-value we got was: 0.5215\n"
     ]
    }
   ],
   "source": [
    "print('The p-value we got was:', p_value)"
   ]
  },
  {
   "cell_type": "code",
   "execution_count": 148,
   "metadata": {},
   "outputs": [
    {
     "name": "stdout",
     "output_type": "stream",
     "text": [
      "The probability to have the difference of means higher than 0 between department 8 and department 8 is: 0.0\n"
     ]
    }
   ],
   "source": [
    "print('The probability to have the difference of means higher than 0 between department 8 and department 8 is:', p_value2)"
   ]
  },
  {
   "cell_type": "markdown",
   "metadata": {},
   "source": [
    "By doing a big number of repetition of test, we were able to conclude some things:\n",
    "1. Department 8 would normally have lower mean of sales than department 13. By repeting the experiments several times, we always got department 8 has lower mean of weekly sales than department 13. But, on the other hand, department 8 has higher sum of sales which may indicate the presence of some high values or low and higher standard deviation since the mean is highly influenced by the extreme values\n",
    "2. The difference between the means would not necessarily be approximately 661.7116016432119 since we got a p-value of 52.15% which indicates not statistical significance. "
   ]
  },
  {
   "cell_type": "code",
   "execution_count": null,
   "metadata": {},
   "outputs": [],
   "source": [
    "#Repeat the experiments using two other departments"
   ]
  },
  {
   "cell_type": "code",
   "execution_count": 155,
   "metadata": {},
   "outputs": [],
   "source": [
    "#Create the arrays from the data frame\n",
    "dept79_array = df_dept79['Weekly_Sales'].values\n",
    "dept7_array = df_dept7['Weekly_Sales'].values"
   ]
  },
  {
   "cell_type": "code",
   "execution_count": 158,
   "metadata": {},
   "outputs": [
    {
     "data": {
      "text/plain": [
       "2470.1431322218414"
      ]
     },
     "execution_count": 158,
     "metadata": {},
     "output_type": "execute_result"
    }
   ],
   "source": [
    "#Mean difference\n",
    "diff_mean(dept79_array, dept7_array)"
   ]
  },
  {
   "cell_type": "code",
   "execution_count": 156,
   "metadata": {},
   "outputs": [],
   "source": [
    "#Repite the experiment over and over again by calculating the difference between the means\n",
    "number_tries = 2000\n",
    "diff = np.empty(number_tries)\n",
    "for i in range(number_tries):\n",
    "        diff[i] = np.mean(sampler(dept79_array, len(dept79_array))) - np.mean(sampler_2(dept7_array, len(dept7_array)))"
   ]
  },
  {
   "cell_type": "code",
   "execution_count": 157,
   "metadata": {},
   "outputs": [
    {
     "data": {
      "image/png": "[encoded data removed]",
      "text/plain": [
       "<Figure size 432x288 with 1 Axes>"
      ]
     },
     "metadata": {
      "needs_background": "light"
     },
     "output_type": "display_data"
    }
   ],
   "source": [
    "n_bins = np.sqrt(len(diff))\n",
    "n_bins = int(n_bins)\n",
    "plt.hist(diff, bins = n_bins)\n",
    "plt.xlabel('Mean Difference')\n",
    "plt.ylabel('Frequency')\n",
    "plt.show()"
   ]
  },
  {
   "cell_type": "code",
   "execution_count": 159,
   "metadata": {},
   "outputs": [],
   "source": [
    "#Calculation of our p-value\n",
    "p_value = np.sum(diff < 0)/number_tries"
   ]
  },
  {
   "cell_type": "code",
   "execution_count": 160,
   "metadata": {},
   "outputs": [
    {
     "name": "stdout",
     "output_type": "stream",
     "text": [
      "The options to get department 7 with higher mean sales than department 79 is: 0.0\n"
     ]
    }
   ],
   "source": [
    "print('The options to get department 7 with higher mean sales than department 79 is:', p_value)"
   ]
  },
  {
   "cell_type": "markdown",
   "metadata": {},
   "source": [
    "We can draw some conclusions:\n",
    "1. Depending on the departments we want to choose, the mean difference could change and we can get some statistical results. Higher sum of sales would not mean the average would be higher. \n",
    "2. Since we should not make an overall conclusion for all departments, depending on the department, the difference of mean could either be significant or not. It would depend the department that were chosen. "
   ]
  },
  {
   "cell_type": "markdown",
   "metadata": {},
   "source": [
    "# Hypothesis Testing for stores"
   ]
  },
  {
   "cell_type": "markdown",
   "metadata": {},
   "source": [
    "Hypothesis : "
   ]
  },
  {
   "cell_type": "code",
   "execution_count": 162,
   "metadata": {},
   "outputs": [],
   "source": [
    "#Define the arrays\n",
    "store23_array = df_store23['Weekly_Sales'].values\n",
    "store20_array = df_store20['Weekly_Sales'].values"
   ]
  },
  {
   "cell_type": "code",
   "execution_count": 163,
   "metadata": {},
   "outputs": [],
   "source": [
    "#Repite the experiment over and over again by calculating the difference between the means\n",
    "number_tries = 2000\n",
    "diff = np.empty(number_tries)\n",
    "for i in range(number_tries):\n",
    "        diff[i] = np.mean(sampler(store23_array, len(store23_array))) - np.mean(sampler_2(store20_array, len(store20_array)))"
   ]
  },
  {
   "cell_type": "code",
   "execution_count": 165,
   "metadata": {},
   "outputs": [
    {
     "data": {
      "image/png": "[encoded data removed]",
      "text/plain": [
       "<Figure size 432x288 with 1 Axes>"
      ]
     },
     "metadata": {
      "needs_background": "light"
     },
     "output_type": "display_data"
    }
   ],
   "source": [
    "#Plot the histogram\n",
    "plt.hist(diff, bins = n_bins)\n",
    "plt.xlabel('Difference of means')\n",
    "plt.ylabel('Frequency')\n",
    "plt.show()"
   ]
  },
  {
   "cell_type": "code",
   "execution_count": 166,
   "metadata": {},
   "outputs": [],
   "source": [
    "#We would calculate the probability that the mean of store 23 is higher than store 20\n",
    "p_value = np.sum(diff > 0)/number_tries"
   ]
  },
  {
   "cell_type": "code",
   "execution_count": 167,
   "metadata": {},
   "outputs": [
    {
     "name": "stdout",
     "output_type": "stream",
     "text": [
      "The options to get store 23 with higher mean sales than department 20 is: 0.6455\n"
     ]
    }
   ],
   "source": [
    "print('The options to get store 23 with higher mean sales than department 20 is:', p_value)"
   ]
  },
  {
   "cell_type": "markdown",
   "metadata": {},
   "source": [
    "We did not get any signficant statistical results that store 23 would have higher sales than store 20"
   ]
  },
  {
   "cell_type": "code",
   "execution_count": 168,
   "metadata": {},
   "outputs": [],
   "source": [
    "#Do the same experiment with different stores"
   ]
  },
  {
   "cell_type": "code",
   "execution_count": 169,
   "metadata": {},
   "outputs": [],
   "source": [
    "store27_array = df_store27['Weekly_Sales'].values\n",
    "store28_array = df_store28['Weekly_Sales'].values"
   ]
  },
  {
   "cell_type": "code",
   "execution_count": 170,
   "metadata": {},
   "outputs": [
    {
     "data": {
      "text/plain": [
       "1436.8960017606933"
      ]
     },
     "execution_count": 170,
     "metadata": {},
     "output_type": "execute_result"
    }
   ],
   "source": [
    "#Mean difference\n",
    "diff_mean(store27_array, store28_array)"
   ]
  },
  {
   "cell_type": "code",
   "execution_count": 171,
   "metadata": {},
   "outputs": [],
   "source": [
    "#Repite the experiment over and over again by calculating the difference between the means\n",
    "number_tries = 2000\n",
    "diff = np.empty(number_tries)\n",
    "for i in range(number_tries):\n",
    "        diff[i] = np.mean(sampler(store27_array, len(store27_array))) - np.mean(sampler_2(store28_array, len(store28_array)))"
   ]
  },
  {
   "cell_type": "code",
   "execution_count": 172,
   "metadata": {},
   "outputs": [
    {
     "data": {
      "image/png": "[encoded data removed]",
      "text/plain": [
       "<Figure size 432x288 with 1 Axes>"
      ]
     },
     "metadata": {
      "needs_background": "light"
     },
     "output_type": "display_data"
    }
   ],
   "source": [
    "#Plot the histogram\n",
    "plt.hist(diff, bins = n_bins)\n",
    "plt.xlabel('Difference of means')\n",
    "plt.ylabel('Frequency')\n",
    "plt.show()"
   ]
  },
  {
   "cell_type": "code",
   "execution_count": 173,
   "metadata": {},
   "outputs": [],
   "source": [
    "#Calculate the p-value for negative difference of means\n",
    "p_value = np.sum(diff < 0)/number_tries"
   ]
  },
  {
   "cell_type": "code",
   "execution_count": 174,
   "metadata": {},
   "outputs": [
    {
     "name": "stdout",
     "output_type": "stream",
     "text": [
      "The options to get store 28 with higher mean sales than department 27 is: 0.0\n"
     ]
    }
   ],
   "source": [
    "print('The options to get store 28 with higher mean sales than department 27 is:', p_value)"
   ]
  },
  {
   "cell_type": "markdown",
   "metadata": {},
   "source": [
    "We can draw the same conclusions we got from the department test hypothesis. If the results are statistical significant would depend on the department we choose."
   ]
  }
 ],
 "metadata": {
  "kernelspec": {
   "display_name": "Python 3",
   "language": "python",
   "name": "python3"
  },
  "language_info": {
   "codemirror_mode": {
    "name": "ipython",
    "version": 3
   },
   "file_extension": ".py",
   "mimetype": "text/x-python",
   "name": "python",
   "nbconvert_exporter": "python",
   "pygments_lexer": "ipython3",
   "version": "3.7.4"
  }
 },
 "nbformat": 4,
 "nbformat_minor": 2
}

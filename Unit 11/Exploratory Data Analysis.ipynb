{
 "cells": [
  {
   "cell_type": "code",
   "execution_count": 1,
   "metadata": {},
   "outputs": [],
   "source": [
    "import pandas as pd\n",
    "import numpy as np\n",
    "import matplotlib.pyplot as plt\n",
    "import seaborn as sns\n",
    "from sklearn.metrics import mean_squared_error, r2_score \n",
    "from sklearn.linear_model import LinearRegression\n",
    "from sklearn.model_selection import train_test_split\n",
    "import statsmodels.api as sm\n",
    "import warnings"
   ]
  },
  {
   "cell_type": "markdown",
   "metadata": {},
   "source": [
    "# Load the data we are going to work"
   ]
  },
  {
   "cell_type": "code",
   "execution_count": 2,
   "metadata": {},
   "outputs": [],
   "source": [
    "#Use pd.read_csv to read the csv file\n",
    "df = pd.read_csv('walmart_sales.csv')"
   ]
  },
  {
   "cell_type": "code",
   "execution_count": 3,
   "metadata": {},
   "outputs": [],
   "source": [
    "#Drop the first column since it is not necessary in our analysis\n",
    "df.drop(columns = df.columns[0], inplace = True)"
   ]
  },
  {
   "cell_type": "code",
   "execution_count": 4,
   "metadata": {},
   "outputs": [
    {
     "data": {
      "text/html": [
       "<div>\n",
       "<style scoped>\n",
       "    .dataframe tbody tr th:only-of-type {\n",
       "        vertical-align: middle;\n",
       "    }\n",
       "\n",
       "    .dataframe tbody tr th {\n",
       "        vertical-align: top;\n",
       "    }\n",
       "\n",
       "    .dataframe thead th {\n",
       "        text-align: right;\n",
       "    }\n",
       "</style>\n",
       "<table border=\"1\" class=\"dataframe\">\n",
       "  <thead>\n",
       "    <tr style=\"text-align: right;\">\n",
       "      <th></th>\n",
       "      <th>Date</th>\n",
       "      <th>Temperature</th>\n",
       "      <th>Fuel_Price</th>\n",
       "      <th>CPI</th>\n",
       "      <th>Unemployment</th>\n",
       "      <th>IsHoliday</th>\n",
       "      <th>Weekly_Sales</th>\n",
       "      <th>Close</th>\n",
       "      <th>1</th>\n",
       "      <th>2</th>\n",
       "      <th>...</th>\n",
       "      <th>90</th>\n",
       "      <th>91</th>\n",
       "      <th>92</th>\n",
       "      <th>93</th>\n",
       "      <th>94</th>\n",
       "      <th>95</th>\n",
       "      <th>96</th>\n",
       "      <th>97</th>\n",
       "      <th>98</th>\n",
       "      <th>99</th>\n",
       "    </tr>\n",
       "  </thead>\n",
       "  <tbody>\n",
       "    <tr>\n",
       "      <th>0</th>\n",
       "      <td>2010-02-05</td>\n",
       "      <td>42.31</td>\n",
       "      <td>2.572</td>\n",
       "      <td>211.096358</td>\n",
       "      <td>8.106</td>\n",
       "      <td>False</td>\n",
       "      <td>24924.50</td>\n",
       "      <td>53.450001</td>\n",
       "      <td>1</td>\n",
       "      <td>0</td>\n",
       "      <td>...</td>\n",
       "      <td>0</td>\n",
       "      <td>0</td>\n",
       "      <td>0</td>\n",
       "      <td>0</td>\n",
       "      <td>0</td>\n",
       "      <td>0</td>\n",
       "      <td>0</td>\n",
       "      <td>0</td>\n",
       "      <td>0</td>\n",
       "      <td>0</td>\n",
       "    </tr>\n",
       "    <tr>\n",
       "      <th>1</th>\n",
       "      <td>2010-02-05</td>\n",
       "      <td>42.31</td>\n",
       "      <td>2.572</td>\n",
       "      <td>211.096358</td>\n",
       "      <td>8.106</td>\n",
       "      <td>False</td>\n",
       "      <td>50605.27</td>\n",
       "      <td>53.450001</td>\n",
       "      <td>0</td>\n",
       "      <td>1</td>\n",
       "      <td>...</td>\n",
       "      <td>0</td>\n",
       "      <td>0</td>\n",
       "      <td>0</td>\n",
       "      <td>0</td>\n",
       "      <td>0</td>\n",
       "      <td>0</td>\n",
       "      <td>0</td>\n",
       "      <td>0</td>\n",
       "      <td>0</td>\n",
       "      <td>0</td>\n",
       "    </tr>\n",
       "    <tr>\n",
       "      <th>2</th>\n",
       "      <td>2010-02-05</td>\n",
       "      <td>42.31</td>\n",
       "      <td>2.572</td>\n",
       "      <td>211.096358</td>\n",
       "      <td>8.106</td>\n",
       "      <td>False</td>\n",
       "      <td>13740.12</td>\n",
       "      <td>53.450001</td>\n",
       "      <td>0</td>\n",
       "      <td>0</td>\n",
       "      <td>...</td>\n",
       "      <td>0</td>\n",
       "      <td>0</td>\n",
       "      <td>0</td>\n",
       "      <td>0</td>\n",
       "      <td>0</td>\n",
       "      <td>0</td>\n",
       "      <td>0</td>\n",
       "      <td>0</td>\n",
       "      <td>0</td>\n",
       "      <td>0</td>\n",
       "    </tr>\n",
       "    <tr>\n",
       "      <th>3</th>\n",
       "      <td>2010-02-05</td>\n",
       "      <td>42.31</td>\n",
       "      <td>2.572</td>\n",
       "      <td>211.096358</td>\n",
       "      <td>8.106</td>\n",
       "      <td>False</td>\n",
       "      <td>39954.04</td>\n",
       "      <td>53.450001</td>\n",
       "      <td>0</td>\n",
       "      <td>0</td>\n",
       "      <td>...</td>\n",
       "      <td>0</td>\n",
       "      <td>0</td>\n",
       "      <td>0</td>\n",
       "      <td>0</td>\n",
       "      <td>0</td>\n",
       "      <td>0</td>\n",
       "      <td>0</td>\n",
       "      <td>0</td>\n",
       "      <td>0</td>\n",
       "      <td>0</td>\n",
       "    </tr>\n",
       "    <tr>\n",
       "      <th>4</th>\n",
       "      <td>2010-02-05</td>\n",
       "      <td>42.31</td>\n",
       "      <td>2.572</td>\n",
       "      <td>211.096358</td>\n",
       "      <td>8.106</td>\n",
       "      <td>False</td>\n",
       "      <td>32229.38</td>\n",
       "      <td>53.450001</td>\n",
       "      <td>0</td>\n",
       "      <td>0</td>\n",
       "      <td>...</td>\n",
       "      <td>0</td>\n",
       "      <td>0</td>\n",
       "      <td>0</td>\n",
       "      <td>0</td>\n",
       "      <td>0</td>\n",
       "      <td>0</td>\n",
       "      <td>0</td>\n",
       "      <td>0</td>\n",
       "      <td>0</td>\n",
       "      <td>0</td>\n",
       "    </tr>\n",
       "  </tbody>\n",
       "</table>\n",
       "<p>5 rows × 89 columns</p>\n",
       "</div>"
      ],
      "text/plain": [
       "         Date  Temperature  Fuel_Price         CPI  Unemployment  IsHoliday  \\\n",
       "0  2010-02-05        42.31       2.572  211.096358         8.106      False   \n",
       "1  2010-02-05        42.31       2.572  211.096358         8.106      False   \n",
       "2  2010-02-05        42.31       2.572  211.096358         8.106      False   \n",
       "3  2010-02-05        42.31       2.572  211.096358         8.106      False   \n",
       "4  2010-02-05        42.31       2.572  211.096358         8.106      False   \n",
       "\n",
       "   Weekly_Sales      Close  1  2  ...  90  91  92  93  94  95  96  97  98  99  \n",
       "0      24924.50  53.450001  1  0  ...   0   0   0   0   0   0   0   0   0   0  \n",
       "1      50605.27  53.450001  0  1  ...   0   0   0   0   0   0   0   0   0   0  \n",
       "2      13740.12  53.450001  0  0  ...   0   0   0   0   0   0   0   0   0   0  \n",
       "3      39954.04  53.450001  0  0  ...   0   0   0   0   0   0   0   0   0   0  \n",
       "4      32229.38  53.450001  0  0  ...   0   0   0   0   0   0   0   0   0   0  \n",
       "\n",
       "[5 rows x 89 columns]"
      ]
     },
     "execution_count": 4,
     "metadata": {},
     "output_type": "execute_result"
    }
   ],
   "source": [
    "#See the first 5 rows to see if the dataset looks like what we expected\n",
    "df.head()"
   ]
  },
  {
   "cell_type": "code",
   "execution_count": 5,
   "metadata": {},
   "outputs": [
    {
     "data": {
      "text/plain": [
       "(409727, 89)"
      ]
     },
     "execution_count": 5,
     "metadata": {},
     "output_type": "execute_result"
    }
   ],
   "source": [
    "df.shape"
   ]
  },
  {
   "cell_type": "markdown",
   "metadata": {},
   "source": [
    "# Data Visualization"
   ]
  },
  {
   "cell_type": "code",
   "execution_count": 6,
   "metadata": {},
   "outputs": [],
   "source": [
    "#Plot an histogram of the variables we are interested on"
   ]
  },
  {
   "cell_type": "code",
   "execution_count": 7,
   "metadata": {},
   "outputs": [
    {
     "data": {
      "text/plain": [
       "'I am interested on the weekly sales as my dependant variable since it is what we are trying to predict'"
      ]
     },
     "execution_count": 7,
     "metadata": {},
     "output_type": "execute_result"
    }
   ],
   "source": [
    "'''I am interested on the weekly sales as my dependant variable since it is what we are trying to predict'''"
   ]
  },
  {
   "cell_type": "code",
   "execution_count": 8,
   "metadata": {},
   "outputs": [
    {
     "data": {
      "image/png": "[encoded data removed]",
      "text/plain": [
       "<Figure size 432x288 with 1 Axes>"
      ]
     },
     "metadata": {
      "needs_background": "light"
     },
     "output_type": "display_data"
    }
   ],
   "source": [
    "#Plot a histogram of the weekly_sales variables\n",
    "n_bins = np.sqrt(len(df['Weekly_Sales']))\n",
    "n_bins = int(n_bins)\n",
    "plt.hist(df['Weekly_Sales'], bins = n_bins)\n",
    "plt.xlabel('Weekly_Sales')\n",
    "plt.ylabel('Frequency')\n",
    "plt.show()"
   ]
  },
  {
   "cell_type": "code",
   "execution_count": 9,
   "metadata": {},
   "outputs": [
    {
     "data": {
      "text/plain": [
       "<matplotlib.axes._subplots.AxesSubplot at 0x13400a390>"
      ]
     },
     "execution_count": 9,
     "metadata": {},
     "output_type": "execute_result"
    },
    {
     "data": {
      "image/png": "[encoded data removed]",
      "text/plain": [
       "<Figure size 432x288 with 1 Axes>"
      ]
     },
     "metadata": {
      "needs_background": "light"
     },
     "output_type": "display_data"
    }
   ],
   "source": [
    "#Plot a boxplot\n",
    "sns.boxplot(x = 'Weekly_Sales', data = df)"
   ]
  },
  {
   "cell_type": "code",
   "execution_count": 10,
   "metadata": {},
   "outputs": [
    {
     "data": {
      "text/plain": [
       "'From the box plot, we are able to see that there may be some outliers'"
      ]
     },
     "execution_count": 10,
     "metadata": {},
     "output_type": "execute_result"
    }
   ],
   "source": [
    "'''From the box plot, we are able to see that there may be some outliers'''"
   ]
  },
  {
   "cell_type": "markdown",
   "metadata": {},
   "source": [
    "### Removing outliers "
   ]
  },
  {
   "cell_type": "code",
   "execution_count": 11,
   "metadata": {},
   "outputs": [],
   "source": [
    "#Process to remove outliers\n",
    "mean = df['Weekly_Sales'].mean()\n",
    "Q1 = df['Weekly_Sales'].quantile(0.25)\n",
    "Q3 = df['Weekly_Sales'].quantile(0.75)"
   ]
  },
  {
   "cell_type": "code",
   "execution_count": 12,
   "metadata": {},
   "outputs": [],
   "source": [
    "IQR = Q3 - Q1"
   ]
  },
  {
   "cell_type": "code",
   "execution_count": 13,
   "metadata": {},
   "outputs": [],
   "source": [
    "df = df.loc[df['Weekly_Sales'] >= Q1 - 1.5*IQR]\n",
    "df = df.loc[df['Weekly_Sales'] <= Q3 + 1.5*IQR]"
   ]
  },
  {
   "cell_type": "code",
   "execution_count": 14,
   "metadata": {},
   "outputs": [
    {
     "data": {
      "text/plain": [
       "(375188, 89)"
      ]
     },
     "execution_count": 14,
     "metadata": {},
     "output_type": "execute_result"
    }
   ],
   "source": [
    "df.shape"
   ]
  },
  {
   "cell_type": "code",
   "execution_count": 15,
   "metadata": {},
   "outputs": [
    {
     "data": {
      "text/plain": [
       "<matplotlib.axes._subplots.AxesSubplot at 0x122bce4d0>"
      ]
     },
     "execution_count": 15,
     "metadata": {},
     "output_type": "execute_result"
    },
    {
     "data": {
      "image/png": "[encoded data removed]",
      "text/plain": [
       "<Figure size 432x288 with 1 Axes>"
      ]
     },
     "metadata": {
      "needs_background": "light"
     },
     "output_type": "display_data"
    }
   ],
   "source": [
    "sns.boxplot(x = 'Weekly_Sales', data = df)"
   ]
  },
  {
   "cell_type": "code",
   "execution_count": 16,
   "metadata": {},
   "outputs": [
    {
     "data": {
      "image/png": "[encoded data removed]",
      "text/plain": [
       "<Figure size 432x288 with 1 Axes>"
      ]
     },
     "metadata": {
      "needs_background": "light"
     },
     "output_type": "display_data"
    }
   ],
   "source": [
    "#Plot a histogram of the weekly_sales variables\n",
    "n_bins = np.sqrt(len(df['Weekly_Sales']))\n",
    "n_bins = int(n_bins)\n",
    "plt.hist(df['Weekly_Sales'], bins = n_bins)\n",
    "plt.xlabel('Weekly_Sales')\n",
    "plt.ylabel('Frequency')\n",
    "plt.show()"
   ]
  },
  {
   "cell_type": "code",
   "execution_count": 17,
   "metadata": {},
   "outputs": [
    {
     "data": {
      "text/plain": [
       "'It does not look like the weekly sales follow a normal distribution based on the histogram'"
      ]
     },
     "execution_count": 17,
     "metadata": {},
     "output_type": "execute_result"
    }
   ],
   "source": [
    "'''It does not look like the weekly sales follow a normal distribution based on the histogram'''"
   ]
  },
  {
   "cell_type": "code",
   "execution_count": 18,
   "metadata": {},
   "outputs": [],
   "source": [
    "df_2 = df[['Temperature', 'Fuel_Price', 'CPI', 'Unemployment', 'Weekly_Sales', 'Close']]"
   ]
  },
  {
   "cell_type": "code",
   "execution_count": 19,
   "metadata": {},
   "outputs": [],
   "source": [
    "#Plot a correlation heat map to see the correlation among all the variables\n",
    "df_corr = df_2.corr()"
   ]
  },
  {
   "cell_type": "code",
   "execution_count": 20,
   "metadata": {},
   "outputs": [
    {
     "data": {
      "text/html": [
       "<div>\n",
       "<style scoped>\n",
       "    .dataframe tbody tr th:only-of-type {\n",
       "        vertical-align: middle;\n",
       "    }\n",
       "\n",
       "    .dataframe tbody tr th {\n",
       "        vertical-align: top;\n",
       "    }\n",
       "\n",
       "    .dataframe thead th {\n",
       "        text-align: right;\n",
       "    }\n",
       "</style>\n",
       "<table border=\"1\" class=\"dataframe\">\n",
       "  <thead>\n",
       "    <tr style=\"text-align: right;\">\n",
       "      <th></th>\n",
       "      <th>Temperature</th>\n",
       "      <th>Fuel_Price</th>\n",
       "      <th>CPI</th>\n",
       "      <th>Unemployment</th>\n",
       "      <th>Weekly_Sales</th>\n",
       "      <th>Close</th>\n",
       "    </tr>\n",
       "  </thead>\n",
       "  <tbody>\n",
       "    <tr>\n",
       "      <th>Temperature</th>\n",
       "      <td>1.000000</td>\n",
       "      <td>0.143087</td>\n",
       "      <td>0.177008</td>\n",
       "      <td>0.101062</td>\n",
       "      <td>0.001416</td>\n",
       "      <td>0.098519</td>\n",
       "    </tr>\n",
       "    <tr>\n",
       "      <th>Fuel_Price</th>\n",
       "      <td>0.143087</td>\n",
       "      <td>1.000000</td>\n",
       "      <td>-0.168826</td>\n",
       "      <td>-0.029669</td>\n",
       "      <td>0.007062</td>\n",
       "      <td>0.469201</td>\n",
       "    </tr>\n",
       "    <tr>\n",
       "      <th>CPI</th>\n",
       "      <td>0.177008</td>\n",
       "      <td>-0.168826</td>\n",
       "      <td>1.000000</td>\n",
       "      <td>-0.312462</td>\n",
       "      <td>-0.037607</td>\n",
       "      <td>0.063113</td>\n",
       "    </tr>\n",
       "    <tr>\n",
       "      <th>Unemployment</th>\n",
       "      <td>0.101062</td>\n",
       "      <td>-0.029669</td>\n",
       "      <td>-0.312462</td>\n",
       "      <td>1.000000</td>\n",
       "      <td>-0.009346</td>\n",
       "      <td>-0.216900</td>\n",
       "    </tr>\n",
       "    <tr>\n",
       "      <th>Weekly_Sales</th>\n",
       "      <td>0.001416</td>\n",
       "      <td>0.007062</td>\n",
       "      <td>-0.037607</td>\n",
       "      <td>-0.009346</td>\n",
       "      <td>1.000000</td>\n",
       "      <td>-0.003274</td>\n",
       "    </tr>\n",
       "    <tr>\n",
       "      <th>Close</th>\n",
       "      <td>0.098519</td>\n",
       "      <td>0.469201</td>\n",
       "      <td>0.063113</td>\n",
       "      <td>-0.216900</td>\n",
       "      <td>-0.003274</td>\n",
       "      <td>1.000000</td>\n",
       "    </tr>\n",
       "  </tbody>\n",
       "</table>\n",
       "</div>"
      ],
      "text/plain": [
       "              Temperature  Fuel_Price       CPI  Unemployment  Weekly_Sales  \\\n",
       "Temperature      1.000000    0.143087  0.177008      0.101062      0.001416   \n",
       "Fuel_Price       0.143087    1.000000 -0.168826     -0.029669      0.007062   \n",
       "CPI              0.177008   -0.168826  1.000000     -0.312462     -0.037607   \n",
       "Unemployment     0.101062   -0.029669 -0.312462      1.000000     -0.009346   \n",
       "Weekly_Sales     0.001416    0.007062 -0.037607     -0.009346      1.000000   \n",
       "Close            0.098519    0.469201  0.063113     -0.216900     -0.003274   \n",
       "\n",
       "                 Close  \n",
       "Temperature   0.098519  \n",
       "Fuel_Price    0.469201  \n",
       "CPI           0.063113  \n",
       "Unemployment -0.216900  \n",
       "Weekly_Sales -0.003274  \n",
       "Close         1.000000  "
      ]
     },
     "execution_count": 20,
     "metadata": {},
     "output_type": "execute_result"
    }
   ],
   "source": [
    "df_corr"
   ]
  },
  {
   "cell_type": "code",
   "execution_count": 21,
   "metadata": {},
   "outputs": [
    {
     "data": {
      "text/plain": [
       "<matplotlib.axes._subplots.AxesSubplot at 0x1225d1b10>"
      ]
     },
     "execution_count": 21,
     "metadata": {},
     "output_type": "execute_result"
    },
    {
     "data": {
      "image/png": "[encoded data removed]",
      "text/plain": [
       "<Figure size 432x288 with 2 Axes>"
      ]
     },
     "metadata": {
      "needs_background": "light"
     },
     "output_type": "display_data"
    }
   ],
   "source": [
    "sns.heatmap(df_corr)"
   ]
  },
  {
   "cell_type": "code",
   "execution_count": 22,
   "metadata": {},
   "outputs": [
    {
     "data": {
      "text/plain": [
       "'Looks like the variables that are more correlated are the Fuel_Price and the Close price of the stock\\nOn the other hand, there is no a clear correlation between the sales and any of the variables'"
      ]
     },
     "execution_count": 22,
     "metadata": {},
     "output_type": "execute_result"
    }
   ],
   "source": [
    "'''Looks like the variables that are more correlated are the Fuel_Price and the Close price of the stock\n",
    "On the other hand, there is no a clear correlation between the sales and any of the variables'''\n"
   ]
  },
  {
   "cell_type": "markdown",
   "metadata": {},
   "source": [
    "# Hypothesis testing"
   ]
  },
  {
   "cell_type": "markdown",
   "metadata": {},
   "source": [
    "I will use the Null Hypothesis that departments have influence on the weekly sales"
   ]
  },
  {
   "cell_type": "code",
   "execution_count": 23,
   "metadata": {},
   "outputs": [],
   "source": [
    "#To use the hypothesis testing, we will use the same model, but with no categorical(dummies) variables\n",
    "df_no_dummies = pd.read_csv('walmart_sales_statistical.csv', index_col = 0)"
   ]
  },
  {
   "cell_type": "code",
   "execution_count": 24,
   "metadata": {},
   "outputs": [],
   "source": [
    "#Process to remove outliers since the mean is heavily influenced for the outliers\n",
    "#Define the 25% and the 75% percentile\n",
    "Q1 = df_no_dummies['Weekly_Sales'].quantile(0.25)\n",
    "Q3 = df_no_dummies['Weekly_Sales'].quantile(0.75)"
   ]
  },
  {
   "cell_type": "code",
   "execution_count": 25,
   "metadata": {},
   "outputs": [],
   "source": [
    "#Define the Interquartile range\n",
    "IQR = Q3 - Q1"
   ]
  },
  {
   "cell_type": "code",
   "execution_count": 26,
   "metadata": {},
   "outputs": [],
   "source": [
    "#Remove the outliers by using the Interquartile formula\n",
    "df_no_dummies = df_no_dummies.loc[df_no_dummies['Weekly_Sales'] >= Q1 - 1.5*IQR]\n",
    "df_no_dummies = df_no_dummies.loc[df_no_dummies['Weekly_Sales'] <= Q3 + 1.5*IQR]"
   ]
  },
  {
   "cell_type": "code",
   "execution_count": 27,
   "metadata": {},
   "outputs": [
    {
     "data": {
      "text/plain": [
       "<matplotlib.axes._subplots.AxesSubplot at 0x122453690>"
      ]
     },
     "execution_count": 27,
     "metadata": {},
     "output_type": "execute_result"
    },
    {
     "data": {
      "image/png": "[encoded data removed]",
      "text/plain": [
       "<Figure size 432x288 with 1 Axes>"
      ]
     },
     "metadata": {
      "needs_background": "light"
     },
     "output_type": "display_data"
    }
   ],
   "source": [
    "#Plot the boxplot \n",
    "sns.boxplot(x = 'Weekly_Sales', data = df_no_dummies)"
   ]
  },
  {
   "cell_type": "code",
   "execution_count": 28,
   "metadata": {},
   "outputs": [
    {
     "data": {
      "image/png": "[encoded data removed]",
      "text/plain": [
       "<Figure size 432x288 with 1 Axes>"
      ]
     },
     "metadata": {
      "needs_background": "light"
     },
     "output_type": "display_data"
    }
   ],
   "source": [
    "#Plot the Histogram without the outliers\n",
    "plt.hist(df_no_dummies['Weekly_Sales'], bins = n_bins)\n",
    "plt.xlabel('Weekly_Sales')\n",
    "plt.ylabel('Frequency')\n",
    "plt.show()"
   ]
  },
  {
   "cell_type": "code",
   "execution_count": 29,
   "metadata": {},
   "outputs": [],
   "source": [
    "#See the department 1 and its distribution\n",
    "df_no_dummies_dept1 = df_no_dummies.loc[df_no_dummies['Dept'] == 1]"
   ]
  },
  {
   "cell_type": "code",
   "execution_count": 30,
   "metadata": {},
   "outputs": [],
   "source": [
    "mean1 = df_no_dummies_dept1['Weekly_Sales'].mean()"
   ]
  },
  {
   "cell_type": "code",
   "execution_count": 31,
   "metadata": {},
   "outputs": [
    {
     "data": {
      "image/png": "[encoded data removed]",
      "text/plain": [
       "<Figure size 432x288 with 1 Axes>"
      ]
     },
     "metadata": {
      "needs_background": "light"
     },
     "output_type": "display_data"
    }
   ],
   "source": [
    "#Plot the histogram for Department 1\n",
    "n_bins = np.sqrt(len(df_no_dummies_dept1['Weekly_Sales']))\n",
    "n_bins = int(n_bins)\n",
    "plt.hist(df_no_dummies_dept1['Weekly_Sales'], bins = n_bins)\n",
    "plt.xlabel('Weekly_Sales')\n",
    "plt.ylabel('Frequency')\n",
    "plt.show()"
   ]
  },
  {
   "cell_type": "code",
   "execution_count": 32,
   "metadata": {},
   "outputs": [],
   "source": [
    "#Dpeartment 3 to compare with department 1\n",
    "df_no_dummies_dept3 = df_no_dummies.loc[df_no_dummies['Dept'] == 3]"
   ]
  },
  {
   "cell_type": "code",
   "execution_count": 33,
   "metadata": {},
   "outputs": [],
   "source": [
    "mean2 = df_no_dummies_dept3['Weekly_Sales'].mean()"
   ]
  },
  {
   "cell_type": "code",
   "execution_count": 34,
   "metadata": {},
   "outputs": [
    {
     "data": {
      "image/png": "[encoded data removed]",
      "text/plain": [
       "<Figure size 432x288 with 1 Axes>"
      ]
     },
     "metadata": {
      "needs_background": "light"
     },
     "output_type": "display_data"
    }
   ],
   "source": [
    "#Plot the histogram for Department 3\n",
    "plt.hist(df_no_dummies_dept3['Weekly_Sales'], bins = n_bins)\n",
    "plt.xlabel('Weekly_Sales')\n",
    "plt.ylabel('Frequency')\n",
    "plt.show()"
   ]
  },
  {
   "cell_type": "markdown",
   "metadata": {},
   "source": [
    "### Permutation test"
   ]
  },
  {
   "cell_type": "code",
   "execution_count": 35,
   "metadata": {},
   "outputs": [],
   "source": [
    "#Start the permutation test\n",
    "df_perm = df_no_dummies_dept3.append(df_no_dummies_dept1)"
   ]
  },
  {
   "cell_type": "code",
   "execution_count": 36,
   "metadata": {},
   "outputs": [],
   "source": [
    "#Extract the columns we are interested\n",
    "df_perm = df_perm[['Weekly_Sales', 'Dept']]"
   ]
  },
  {
   "cell_type": "code",
   "execution_count": 37,
   "metadata": {},
   "outputs": [],
   "source": [
    "#Start the permutation test\n",
    "df_perm['Permutation'] = np.random.permutation(df_perm['Weekly_Sales'])"
   ]
  },
  {
   "cell_type": "code",
   "execution_count": 38,
   "metadata": {},
   "outputs": [
    {
     "data": {
      "text/html": [
       "<div>\n",
       "<style scoped>\n",
       "    .dataframe tbody tr th:only-of-type {\n",
       "        vertical-align: middle;\n",
       "    }\n",
       "\n",
       "    .dataframe tbody tr th {\n",
       "        vertical-align: top;\n",
       "    }\n",
       "\n",
       "    .dataframe thead th {\n",
       "        text-align: right;\n",
       "    }\n",
       "</style>\n",
       "<table border=\"1\" class=\"dataframe\">\n",
       "  <thead>\n",
       "    <tr style=\"text-align: right;\">\n",
       "      <th></th>\n",
       "      <th>Dept</th>\n",
       "      <th>1</th>\n",
       "      <th>3</th>\n",
       "    </tr>\n",
       "  </thead>\n",
       "  <tbody>\n",
       "    <tr>\n",
       "      <th rowspan=\"8\" valign=\"top\">Weekly_Sales</th>\n",
       "      <th>count</th>\n",
       "      <td>6034.000000</td>\n",
       "      <td>6064.000000</td>\n",
       "    </tr>\n",
       "    <tr>\n",
       "      <th>mean</th>\n",
       "      <td>16633.638507</td>\n",
       "      <td>10131.944865</td>\n",
       "    </tr>\n",
       "    <tr>\n",
       "      <th>std</th>\n",
       "      <td>9120.993802</td>\n",
       "      <td>8239.061567</td>\n",
       "    </tr>\n",
       "    <tr>\n",
       "      <th>min</th>\n",
       "      <td>711.110000</td>\n",
       "      <td>2.000000</td>\n",
       "    </tr>\n",
       "    <tr>\n",
       "      <th>25%</th>\n",
       "      <td>10075.602500</td>\n",
       "      <td>5206.482500</td>\n",
       "    </tr>\n",
       "    <tr>\n",
       "      <th>50%</th>\n",
       "      <td>14789.160000</td>\n",
       "      <td>9014.315000</td>\n",
       "    </tr>\n",
       "    <tr>\n",
       "      <th>75%</th>\n",
       "      <td>21173.597500</td>\n",
       "      <td>12875.245000</td>\n",
       "    </tr>\n",
       "    <tr>\n",
       "      <th>max</th>\n",
       "      <td>46999.200000</td>\n",
       "      <td>47057.650000</td>\n",
       "    </tr>\n",
       "    <tr>\n",
       "      <th rowspan=\"8\" valign=\"top\">Permutation</th>\n",
       "      <th>count</th>\n",
       "      <td>6034.000000</td>\n",
       "      <td>6064.000000</td>\n",
       "    </tr>\n",
       "    <tr>\n",
       "      <th>mean</th>\n",
       "      <td>13252.917638</td>\n",
       "      <td>13495.940531</td>\n",
       "    </tr>\n",
       "    <tr>\n",
       "      <th>std</th>\n",
       "      <td>9167.666595</td>\n",
       "      <td>9385.648089</td>\n",
       "    </tr>\n",
       "    <tr>\n",
       "      <th>min</th>\n",
       "      <td>2.280000</td>\n",
       "      <td>2.000000</td>\n",
       "    </tr>\n",
       "    <tr>\n",
       "      <th>25%</th>\n",
       "      <td>7243.482500</td>\n",
       "      <td>7301.390000</td>\n",
       "    </tr>\n",
       "    <tr>\n",
       "      <th>50%</th>\n",
       "      <td>11583.605000</td>\n",
       "      <td>11747.115000</td>\n",
       "    </tr>\n",
       "    <tr>\n",
       "      <th>75%</th>\n",
       "      <td>17214.967500</td>\n",
       "      <td>17575.240000</td>\n",
       "    </tr>\n",
       "    <tr>\n",
       "      <th>max</th>\n",
       "      <td>47057.650000</td>\n",
       "      <td>47055.640000</td>\n",
       "    </tr>\n",
       "  </tbody>\n",
       "</table>\n",
       "</div>"
      ],
      "text/plain": [
       "Dept                           1             3\n",
       "Weekly_Sales count   6034.000000   6064.000000\n",
       "             mean   16633.638507  10131.944865\n",
       "             std     9120.993802   8239.061567\n",
       "             min      711.110000      2.000000\n",
       "             25%    10075.602500   5206.482500\n",
       "             50%    14789.160000   9014.315000\n",
       "             75%    21173.597500  12875.245000\n",
       "             max    46999.200000  47057.650000\n",
       "Permutation  count   6034.000000   6064.000000\n",
       "             mean   13252.917638  13495.940531\n",
       "             std     9167.666595   9385.648089\n",
       "             min        2.280000      2.000000\n",
       "             25%     7243.482500   7301.390000\n",
       "             50%    11583.605000  11747.115000\n",
       "             75%    17214.967500  17575.240000\n",
       "             max    47057.650000  47055.640000"
      ]
     },
     "execution_count": 38,
     "metadata": {},
     "output_type": "execute_result"
    }
   ],
   "source": [
    "#Compare the permutation and the data we got\n",
    "df_perm.groupby('Dept').describe().T"
   ]
  },
  {
   "cell_type": "code",
   "execution_count": 39,
   "metadata": {},
   "outputs": [],
   "source": [
    "#Start an empty list to fill the difference between the means\n",
    "number_tries = 500\n",
    "difference = []\n",
    "for i in range(number_tries):\n",
    "    df_perm[i] = np.random.permutation(df_perm['Weekly_Sales'])\n",
    "    diff = df_perm.loc[df_perm['Dept'] == 1][i].mean() - df_perm.loc[df_perm['Dept'] == 3][i].mean()\n",
    "    difference.append(diff)"
   ]
  },
  {
   "cell_type": "code",
   "execution_count": 40,
   "metadata": {},
   "outputs": [
    {
     "name": "stdout",
     "output_type": "stream",
     "text": [
      "The average of difference of the permutations is -4.864866767785982\n"
     ]
    }
   ],
   "source": [
    "print('The average of difference of the permutations is', np.mean(difference))"
   ]
  },
  {
   "cell_type": "code",
   "execution_count": 41,
   "metadata": {},
   "outputs": [
    {
     "data": {
      "image/png": "[encoded data removed]",
      "text/plain": [
       "<Figure size 432x288 with 1 Axes>"
      ]
     },
     "metadata": {
      "needs_background": "light"
     },
     "output_type": "display_data"
    }
   ],
   "source": [
    "#Plot the difference distribution\n",
    "plt.hist(difference, bins = n_bins)\n",
    "plt.xlabel('Difference')\n",
    "plt.ylabel('Frequency')\n",
    "plt.show()"
   ]
  },
  {
   "cell_type": "code",
   "execution_count": 42,
   "metadata": {},
   "outputs": [],
   "source": [
    "#Absolute value of the original means of the dataset\n",
    "abs_difference = abs(mean1 - mean2)"
   ]
  },
  {
   "cell_type": "code",
   "execution_count": 43,
   "metadata": {},
   "outputs": [
    {
     "name": "stdout",
     "output_type": "stream",
     "text": [
      "We got a p-value of 0.0\n"
     ]
    }
   ],
   "source": [
    "#Calculate our p-value to see the statistical significance\n",
    "p_value = np.sum(np.mean(difference) >= abs_difference)/number_tries\n",
    "print('We got a p-value of', p_value)"
   ]
  },
  {
   "cell_type": "markdown",
   "metadata": {},
   "source": [
    "By looking the data, we had our Null Hypothesis that department does affect the weekly sales on Walmart. However, by running a permutation test, we are rejecting our Null Hypothesis and department does not influence as much as expected on the weekly sales"
   ]
  },
  {
   "cell_type": "markdown",
   "metadata": {},
   "source": [
    "### Modelling and creation of a model to predict the weekly sales"
   ]
  },
  {
   "cell_type": "markdown",
   "metadata": {},
   "source": [
    "#### Multiple Linear Regression"
   ]
  },
  {
   "cell_type": "markdown",
   "metadata": {},
   "source": [
    "#### Model 1"
   ]
  },
  {
   "cell_type": "code",
   "execution_count": 44,
   "metadata": {},
   "outputs": [
    {
     "name": "stderr",
     "output_type": "stream",
     "text": [
      "/opt/anaconda3/lib/python3.7/site-packages/numpy/core/fromnumeric.py:2495: FutureWarning: Method .ptp is deprecated and will be removed in a future version. Use numpy.ptp instead.\n",
      "  return ptp(axis=axis, out=out, **kwargs)\n"
     ]
    }
   ],
   "source": [
    "# Create test and train datasets\n",
    "# Include all columns from data except weekly_sales and department in the explanatory variables X \n",
    "X = df_2.drop(columns = 'Weekly_Sales', axis = 1)\n",
    "y = df[['Weekly_Sales']]\n",
    "\n",
    "# Create constants for X, so the model knows its bounds\n",
    "X = sm.add_constant(X)\n",
    "\n",
    "\n",
    "# Split the data\n",
    "X_train, X_test, y_train, y_test = train_test_split(X, y, test_size = 0.25, random_state = 123)"
   ]
  },
  {
   "cell_type": "code",
   "execution_count": 45,
   "metadata": {},
   "outputs": [],
   "source": [
    "# Create the model\n",
    "rModel = sm.OLS(y_train, X_train)\n",
    "# Fit the model\n",
    "rModel_results = rModel.fit()"
   ]
  },
  {
   "cell_type": "code",
   "execution_count": 46,
   "metadata": {},
   "outputs": [
    {
     "data": {
      "text/html": [
       "<table class=\"simpletable\">\n",
       "<caption>OLS Regression Results</caption>\n",
       "<tr>\n",
       "  <th>Dep. Variable:</th>      <td>Weekly_Sales</td>   <th>  R-squared:         </th>  <td>   0.002</td>  \n",
       "</tr>\n",
       "<tr>\n",
       "  <th>Model:</th>                   <td>OLS</td>       <th>  Adj. R-squared:    </th>  <td>   0.002</td>  \n",
       "</tr>\n",
       "<tr>\n",
       "  <th>Method:</th>             <td>Least Squares</td>  <th>  F-statistic:       </th>  <td>   120.5</td>  \n",
       "</tr>\n",
       "<tr>\n",
       "  <th>Date:</th>             <td>Fri, 10 Jul 2020</td> <th>  Prob (F-statistic):</th>  <td>7.60e-128</td> \n",
       "</tr>\n",
       "<tr>\n",
       "  <th>Time:</th>                 <td>13:03:23</td>     <th>  Log-Likelihood:    </th> <td>-3.0242e+06</td>\n",
       "</tr>\n",
       "<tr>\n",
       "  <th>No. Observations:</th>      <td>281391</td>      <th>  AIC:               </th>  <td>6.048e+06</td> \n",
       "</tr>\n",
       "<tr>\n",
       "  <th>Df Residuals:</th>          <td>281385</td>      <th>  BIC:               </th>  <td>6.048e+06</td> \n",
       "</tr>\n",
       "<tr>\n",
       "  <th>Df Model:</th>              <td>     5</td>      <th>                     </th>      <td> </td>     \n",
       "</tr>\n",
       "<tr>\n",
       "  <th>Covariance Type:</th>      <td>nonrobust</td>    <th>                     </th>      <td> </td>     \n",
       "</tr>\n",
       "</table>\n",
       "<table class=\"simpletable\">\n",
       "<tr>\n",
       "        <td></td>          <th>coef</th>     <th>std err</th>      <th>t</th>      <th>P>|t|</th>  <th>[0.025</th>    <th>0.975]</th>  \n",
       "</tr>\n",
       "<tr>\n",
       "  <th>const</th>        <td> 1.435e+04</td> <td>  270.920</td> <td>   52.953</td> <td> 0.000</td> <td> 1.38e+04</td> <td> 1.49e+04</td>\n",
       "</tr>\n",
       "<tr>\n",
       "  <th>Temperature</th>  <td>    8.0824</td> <td>    1.204</td> <td>    6.710</td> <td> 0.000</td> <td>    5.722</td> <td>   10.443</td>\n",
       "</tr>\n",
       "<tr>\n",
       "  <th>Fuel_Price</th>   <td>   26.3404</td> <td>   54.588</td> <td>    0.483</td> <td> 0.629</td> <td>  -80.651</td> <td>  133.331</td>\n",
       "</tr>\n",
       "<tr>\n",
       "  <th>CPI</th>          <td>  -13.8964</td> <td>    0.602</td> <td>  -23.070</td> <td> 0.000</td> <td>  -15.077</td> <td>  -12.716</td>\n",
       "</tr>\n",
       "<tr>\n",
       "  <th>Unemployment</th> <td> -158.5248</td> <td>   12.388</td> <td>  -12.797</td> <td> 0.000</td> <td> -182.805</td> <td> -134.245</td>\n",
       "</tr>\n",
       "<tr>\n",
       "  <th>Close</th>        <td>  -13.7098</td> <td>    3.414</td> <td>   -4.016</td> <td> 0.000</td> <td>  -20.400</td> <td>   -7.019</td>\n",
       "</tr>\n",
       "</table>\n",
       "<table class=\"simpletable\">\n",
       "<tr>\n",
       "  <th>Omnibus:</th>       <td>54727.040</td> <th>  Durbin-Watson:     </th> <td>   1.999</td> \n",
       "</tr>\n",
       "<tr>\n",
       "  <th>Prob(Omnibus):</th>  <td> 0.000</td>   <th>  Jarque-Bera (JB):  </th> <td>92928.386</td>\n",
       "</tr>\n",
       "<tr>\n",
       "  <th>Skew:</th>           <td> 1.319</td>   <th>  Prob(JB):          </th> <td>    0.00</td> \n",
       "</tr>\n",
       "<tr>\n",
       "  <th>Kurtosis:</th>       <td> 3.982</td>   <th>  Cond. No.          </th> <td>2.49e+03</td> \n",
       "</tr>\n",
       "</table><br/><br/>Warnings:<br/>[1] Standard Errors assume that the covariance matrix of the errors is correctly specified.<br/>[2] The condition number is large, 2.49e+03. This might indicate that there are<br/>strong multicollinearity or other numerical problems."
      ],
      "text/plain": [
       "<class 'statsmodels.iolib.summary.Summary'>\n",
       "\"\"\"\n",
       "                            OLS Regression Results                            \n",
       "==============================================================================\n",
       "Dep. Variable:           Weekly_Sales   R-squared:                       0.002\n",
       "Model:                            OLS   Adj. R-squared:                  0.002\n",
       "Method:                 Least Squares   F-statistic:                     120.5\n",
       "Date:                Fri, 10 Jul 2020   Prob (F-statistic):          7.60e-128\n",
       "Time:                        13:03:23   Log-Likelihood:            -3.0242e+06\n",
       "No. Observations:              281391   AIC:                         6.048e+06\n",
       "Df Residuals:                  281385   BIC:                         6.048e+06\n",
       "Df Model:                           5                                         \n",
       "Covariance Type:            nonrobust                                         \n",
       "================================================================================\n",
       "                   coef    std err          t      P>|t|      [0.025      0.975]\n",
       "--------------------------------------------------------------------------------\n",
       "const         1.435e+04    270.920     52.953      0.000    1.38e+04    1.49e+04\n",
       "Temperature      8.0824      1.204      6.710      0.000       5.722      10.443\n",
       "Fuel_Price      26.3404     54.588      0.483      0.629     -80.651     133.331\n",
       "CPI            -13.8964      0.602    -23.070      0.000     -15.077     -12.716\n",
       "Unemployment  -158.5248     12.388    -12.797      0.000    -182.805    -134.245\n",
       "Close          -13.7098      3.414     -4.016      0.000     -20.400      -7.019\n",
       "==============================================================================\n",
       "Omnibus:                    54727.040   Durbin-Watson:                   1.999\n",
       "Prob(Omnibus):                  0.000   Jarque-Bera (JB):            92928.386\n",
       "Skew:                           1.319   Prob(JB):                         0.00\n",
       "Kurtosis:                       3.982   Cond. No.                     2.49e+03\n",
       "==============================================================================\n",
       "\n",
       "Warnings:\n",
       "[1] Standard Errors assume that the covariance matrix of the errors is correctly specified.\n",
       "[2] The condition number is large, 2.49e+03. This might indicate that there are\n",
       "strong multicollinearity or other numerical problems.\n",
       "\"\"\""
      ]
     },
     "execution_count": 46,
     "metadata": {},
     "output_type": "execute_result"
    }
   ],
   "source": [
    "# Evaluate the model\n",
    "rModel_results.summary()"
   ]
  },
  {
   "cell_type": "code",
   "execution_count": 47,
   "metadata": {},
   "outputs": [
    {
     "data": {
      "text/plain": [
       "'As we can see, a linear regression is not a good model to try to predict the weekly sales at walmart because of the 0.02 adjusted R-Squared. Wee need to find another possible model to predict the weekly sales in a store'"
      ]
     },
     "execution_count": 47,
     "metadata": {},
     "output_type": "execute_result"
    }
   ],
   "source": [
    "'''As we can see, a linear regression is not a good model to try to predict the weekly sales at walmart because of the 0.02 adjusted R-Squared. Wee need to find another possible model to predict the weekly sales in a store'''"
   ]
  },
  {
   "cell_type": "code",
   "execution_count": 48,
   "metadata": {},
   "outputs": [],
   "source": [
    "coeff_results = pd.DataFrame(rModel_results.params)"
   ]
  },
  {
   "cell_type": "code",
   "execution_count": 49,
   "metadata": {},
   "outputs": [
    {
     "data": {
      "text/html": [
       "<div>\n",
       "<style scoped>\n",
       "    .dataframe tbody tr th:only-of-type {\n",
       "        vertical-align: middle;\n",
       "    }\n",
       "\n",
       "    .dataframe tbody tr th {\n",
       "        vertical-align: top;\n",
       "    }\n",
       "\n",
       "    .dataframe thead th {\n",
       "        text-align: right;\n",
       "    }\n",
       "</style>\n",
       "<table border=\"1\" class=\"dataframe\">\n",
       "  <thead>\n",
       "    <tr style=\"text-align: right;\">\n",
       "      <th></th>\n",
       "      <th>0</th>\n",
       "    </tr>\n",
       "  </thead>\n",
       "  <tbody>\n",
       "    <tr>\n",
       "      <th>const</th>\n",
       "      <td>14346.131822</td>\n",
       "    </tr>\n",
       "    <tr>\n",
       "      <th>Temperature</th>\n",
       "      <td>8.082358</td>\n",
       "    </tr>\n",
       "    <tr>\n",
       "      <th>Fuel_Price</th>\n",
       "      <td>26.340424</td>\n",
       "    </tr>\n",
       "    <tr>\n",
       "      <th>CPI</th>\n",
       "      <td>-13.896396</td>\n",
       "    </tr>\n",
       "    <tr>\n",
       "      <th>Unemployment</th>\n",
       "      <td>-158.524795</td>\n",
       "    </tr>\n",
       "    <tr>\n",
       "      <th>Close</th>\n",
       "      <td>-13.709822</td>\n",
       "    </tr>\n",
       "  </tbody>\n",
       "</table>\n",
       "</div>"
      ],
      "text/plain": [
       "                         0\n",
       "const         14346.131822\n",
       "Temperature       8.082358\n",
       "Fuel_Price       26.340424\n",
       "CPI             -13.896396\n",
       "Unemployment   -158.524795\n",
       "Close           -13.709822"
      ]
     },
     "execution_count": 49,
     "metadata": {},
     "output_type": "execute_result"
    }
   ],
   "source": [
    "coeff_results"
   ]
  },
  {
   "cell_type": "code",
   "execution_count": 50,
   "metadata": {},
   "outputs": [
    {
     "data": {
      "text/plain": [
       "'Maximum seems to be the temperature and the other ones have negative influence on the weekly sales. The highest negative infuence is the unemployement, something to take into real consideration'"
      ]
     },
     "execution_count": 50,
     "metadata": {},
     "output_type": "execute_result"
    }
   ],
   "source": [
    "'''Maximum seems to be the temperature and the other ones have negative influence on the weekly sales. The highest negative infuence is the unemployement, something to take into real consideration'''"
   ]
  },
  {
   "cell_type": "code",
   "execution_count": 51,
   "metadata": {},
   "outputs": [
    {
     "data": {
      "text/plain": [
       "'Higher temperature is meaning higher expected sales as a point of consideration and for some reason, a decrease in the stock price is having anegative impact on the weekly sales'"
      ]
     },
     "execution_count": 51,
     "metadata": {},
     "output_type": "execute_result"
    }
   ],
   "source": [
    "'''Higher temperature is meaning higher expected sales as a point of consideration and for some reason, a decrease in the stock price is having anegative impact on the weekly sales'''"
   ]
  },
  {
   "cell_type": "markdown",
   "metadata": {},
   "source": [
    "#### Model 2"
   ]
  },
  {
   "cell_type": "code",
   "execution_count": 52,
   "metadata": {},
   "outputs": [
    {
     "data": {
      "text/html": [
       "<div>\n",
       "<style scoped>\n",
       "    .dataframe tbody tr th:only-of-type {\n",
       "        vertical-align: middle;\n",
       "    }\n",
       "\n",
       "    .dataframe tbody tr th {\n",
       "        vertical-align: top;\n",
       "    }\n",
       "\n",
       "    .dataframe thead th {\n",
       "        text-align: right;\n",
       "    }\n",
       "</style>\n",
       "<table border=\"1\" class=\"dataframe\">\n",
       "  <thead>\n",
       "    <tr style=\"text-align: right;\">\n",
       "      <th></th>\n",
       "      <th>Date</th>\n",
       "      <th>Temperature</th>\n",
       "      <th>Fuel_Price</th>\n",
       "      <th>CPI</th>\n",
       "      <th>Unemployment</th>\n",
       "      <th>IsHoliday</th>\n",
       "      <th>Weekly_Sales</th>\n",
       "      <th>Close</th>\n",
       "      <th>1</th>\n",
       "      <th>2</th>\n",
       "      <th>...</th>\n",
       "      <th>90</th>\n",
       "      <th>91</th>\n",
       "      <th>92</th>\n",
       "      <th>93</th>\n",
       "      <th>94</th>\n",
       "      <th>95</th>\n",
       "      <th>96</th>\n",
       "      <th>97</th>\n",
       "      <th>98</th>\n",
       "      <th>99</th>\n",
       "    </tr>\n",
       "  </thead>\n",
       "  <tbody>\n",
       "    <tr>\n",
       "      <th>0</th>\n",
       "      <td>2010-02-05</td>\n",
       "      <td>42.31</td>\n",
       "      <td>2.572</td>\n",
       "      <td>211.096358</td>\n",
       "      <td>8.106</td>\n",
       "      <td>False</td>\n",
       "      <td>24924.50</td>\n",
       "      <td>53.450001</td>\n",
       "      <td>1</td>\n",
       "      <td>0</td>\n",
       "      <td>...</td>\n",
       "      <td>0</td>\n",
       "      <td>0</td>\n",
       "      <td>0</td>\n",
       "      <td>0</td>\n",
       "      <td>0</td>\n",
       "      <td>0</td>\n",
       "      <td>0</td>\n",
       "      <td>0</td>\n",
       "      <td>0</td>\n",
       "      <td>0</td>\n",
       "    </tr>\n",
       "    <tr>\n",
       "      <th>2</th>\n",
       "      <td>2010-02-05</td>\n",
       "      <td>42.31</td>\n",
       "      <td>2.572</td>\n",
       "      <td>211.096358</td>\n",
       "      <td>8.106</td>\n",
       "      <td>False</td>\n",
       "      <td>13740.12</td>\n",
       "      <td>53.450001</td>\n",
       "      <td>0</td>\n",
       "      <td>0</td>\n",
       "      <td>...</td>\n",
       "      <td>0</td>\n",
       "      <td>0</td>\n",
       "      <td>0</td>\n",
       "      <td>0</td>\n",
       "      <td>0</td>\n",
       "      <td>0</td>\n",
       "      <td>0</td>\n",
       "      <td>0</td>\n",
       "      <td>0</td>\n",
       "      <td>0</td>\n",
       "    </tr>\n",
       "    <tr>\n",
       "      <th>3</th>\n",
       "      <td>2010-02-05</td>\n",
       "      <td>42.31</td>\n",
       "      <td>2.572</td>\n",
       "      <td>211.096358</td>\n",
       "      <td>8.106</td>\n",
       "      <td>False</td>\n",
       "      <td>39954.04</td>\n",
       "      <td>53.450001</td>\n",
       "      <td>0</td>\n",
       "      <td>0</td>\n",
       "      <td>...</td>\n",
       "      <td>0</td>\n",
       "      <td>0</td>\n",
       "      <td>0</td>\n",
       "      <td>0</td>\n",
       "      <td>0</td>\n",
       "      <td>0</td>\n",
       "      <td>0</td>\n",
       "      <td>0</td>\n",
       "      <td>0</td>\n",
       "      <td>0</td>\n",
       "    </tr>\n",
       "    <tr>\n",
       "      <th>4</th>\n",
       "      <td>2010-02-05</td>\n",
       "      <td>42.31</td>\n",
       "      <td>2.572</td>\n",
       "      <td>211.096358</td>\n",
       "      <td>8.106</td>\n",
       "      <td>False</td>\n",
       "      <td>32229.38</td>\n",
       "      <td>53.450001</td>\n",
       "      <td>0</td>\n",
       "      <td>0</td>\n",
       "      <td>...</td>\n",
       "      <td>0</td>\n",
       "      <td>0</td>\n",
       "      <td>0</td>\n",
       "      <td>0</td>\n",
       "      <td>0</td>\n",
       "      <td>0</td>\n",
       "      <td>0</td>\n",
       "      <td>0</td>\n",
       "      <td>0</td>\n",
       "      <td>0</td>\n",
       "    </tr>\n",
       "    <tr>\n",
       "      <th>5</th>\n",
       "      <td>2010-02-05</td>\n",
       "      <td>42.31</td>\n",
       "      <td>2.572</td>\n",
       "      <td>211.096358</td>\n",
       "      <td>8.106</td>\n",
       "      <td>False</td>\n",
       "      <td>5749.03</td>\n",
       "      <td>53.450001</td>\n",
       "      <td>0</td>\n",
       "      <td>0</td>\n",
       "      <td>...</td>\n",
       "      <td>0</td>\n",
       "      <td>0</td>\n",
       "      <td>0</td>\n",
       "      <td>0</td>\n",
       "      <td>0</td>\n",
       "      <td>0</td>\n",
       "      <td>0</td>\n",
       "      <td>0</td>\n",
       "      <td>0</td>\n",
       "      <td>0</td>\n",
       "    </tr>\n",
       "  </tbody>\n",
       "</table>\n",
       "<p>5 rows × 89 columns</p>\n",
       "</div>"
      ],
      "text/plain": [
       "         Date  Temperature  Fuel_Price         CPI  Unemployment  IsHoliday  \\\n",
       "0  2010-02-05        42.31       2.572  211.096358         8.106      False   \n",
       "2  2010-02-05        42.31       2.572  211.096358         8.106      False   \n",
       "3  2010-02-05        42.31       2.572  211.096358         8.106      False   \n",
       "4  2010-02-05        42.31       2.572  211.096358         8.106      False   \n",
       "5  2010-02-05        42.31       2.572  211.096358         8.106      False   \n",
       "\n",
       "   Weekly_Sales      Close  1  2  ...  90  91  92  93  94  95  96  97  98  99  \n",
       "0      24924.50  53.450001  1  0  ...   0   0   0   0   0   0   0   0   0   0  \n",
       "2      13740.12  53.450001  0  0  ...   0   0   0   0   0   0   0   0   0   0  \n",
       "3      39954.04  53.450001  0  0  ...   0   0   0   0   0   0   0   0   0   0  \n",
       "4      32229.38  53.450001  0  0  ...   0   0   0   0   0   0   0   0   0   0  \n",
       "5       5749.03  53.450001  0  0  ...   0   0   0   0   0   0   0   0   0   0  \n",
       "\n",
       "[5 rows x 89 columns]"
      ]
     },
     "execution_count": 52,
     "metadata": {},
     "output_type": "execute_result"
    }
   ],
   "source": [
    "#Divide the sales by department\n",
    "df.head()"
   ]
  },
  {
   "cell_type": "code",
   "execution_count": 53,
   "metadata": {},
   "outputs": [],
   "source": [
    "#Model 2 will take into consideration just the department\n",
    "df_categorical = df.iloc[:,6:].drop(columns = {'Close', '99'})"
   ]
  },
  {
   "cell_type": "code",
   "execution_count": 54,
   "metadata": {},
   "outputs": [
    {
     "data": {
      "text/html": [
       "<div>\n",
       "<style scoped>\n",
       "    .dataframe tbody tr th:only-of-type {\n",
       "        vertical-align: middle;\n",
       "    }\n",
       "\n",
       "    .dataframe tbody tr th {\n",
       "        vertical-align: top;\n",
       "    }\n",
       "\n",
       "    .dataframe thead th {\n",
       "        text-align: right;\n",
       "    }\n",
       "</style>\n",
       "<table border=\"1\" class=\"dataframe\">\n",
       "  <thead>\n",
       "    <tr style=\"text-align: right;\">\n",
       "      <th></th>\n",
       "      <th>Weekly_Sales</th>\n",
       "      <th>1</th>\n",
       "      <th>2</th>\n",
       "      <th>3</th>\n",
       "      <th>4</th>\n",
       "      <th>5</th>\n",
       "      <th>6</th>\n",
       "      <th>7</th>\n",
       "      <th>8</th>\n",
       "      <th>9</th>\n",
       "      <th>...</th>\n",
       "      <th>87</th>\n",
       "      <th>90</th>\n",
       "      <th>91</th>\n",
       "      <th>92</th>\n",
       "      <th>93</th>\n",
       "      <th>94</th>\n",
       "      <th>95</th>\n",
       "      <th>96</th>\n",
       "      <th>97</th>\n",
       "      <th>98</th>\n",
       "    </tr>\n",
       "  </thead>\n",
       "  <tbody>\n",
       "    <tr>\n",
       "      <th>0</th>\n",
       "      <td>24924.50</td>\n",
       "      <td>1</td>\n",
       "      <td>0</td>\n",
       "      <td>0</td>\n",
       "      <td>0</td>\n",
       "      <td>0</td>\n",
       "      <td>0</td>\n",
       "      <td>0</td>\n",
       "      <td>0</td>\n",
       "      <td>0</td>\n",
       "      <td>...</td>\n",
       "      <td>0</td>\n",
       "      <td>0</td>\n",
       "      <td>0</td>\n",
       "      <td>0</td>\n",
       "      <td>0</td>\n",
       "      <td>0</td>\n",
       "      <td>0</td>\n",
       "      <td>0</td>\n",
       "      <td>0</td>\n",
       "      <td>0</td>\n",
       "    </tr>\n",
       "    <tr>\n",
       "      <th>2</th>\n",
       "      <td>13740.12</td>\n",
       "      <td>0</td>\n",
       "      <td>0</td>\n",
       "      <td>1</td>\n",
       "      <td>0</td>\n",
       "      <td>0</td>\n",
       "      <td>0</td>\n",
       "      <td>0</td>\n",
       "      <td>0</td>\n",
       "      <td>0</td>\n",
       "      <td>...</td>\n",
       "      <td>0</td>\n",
       "      <td>0</td>\n",
       "      <td>0</td>\n",
       "      <td>0</td>\n",
       "      <td>0</td>\n",
       "      <td>0</td>\n",
       "      <td>0</td>\n",
       "      <td>0</td>\n",
       "      <td>0</td>\n",
       "      <td>0</td>\n",
       "    </tr>\n",
       "    <tr>\n",
       "      <th>3</th>\n",
       "      <td>39954.04</td>\n",
       "      <td>0</td>\n",
       "      <td>0</td>\n",
       "      <td>0</td>\n",
       "      <td>1</td>\n",
       "      <td>0</td>\n",
       "      <td>0</td>\n",
       "      <td>0</td>\n",
       "      <td>0</td>\n",
       "      <td>0</td>\n",
       "      <td>...</td>\n",
       "      <td>0</td>\n",
       "      <td>0</td>\n",
       "      <td>0</td>\n",
       "      <td>0</td>\n",
       "      <td>0</td>\n",
       "      <td>0</td>\n",
       "      <td>0</td>\n",
       "      <td>0</td>\n",
       "      <td>0</td>\n",
       "      <td>0</td>\n",
       "    </tr>\n",
       "    <tr>\n",
       "      <th>4</th>\n",
       "      <td>32229.38</td>\n",
       "      <td>0</td>\n",
       "      <td>0</td>\n",
       "      <td>0</td>\n",
       "      <td>0</td>\n",
       "      <td>1</td>\n",
       "      <td>0</td>\n",
       "      <td>0</td>\n",
       "      <td>0</td>\n",
       "      <td>0</td>\n",
       "      <td>...</td>\n",
       "      <td>0</td>\n",
       "      <td>0</td>\n",
       "      <td>0</td>\n",
       "      <td>0</td>\n",
       "      <td>0</td>\n",
       "      <td>0</td>\n",
       "      <td>0</td>\n",
       "      <td>0</td>\n",
       "      <td>0</td>\n",
       "      <td>0</td>\n",
       "    </tr>\n",
       "    <tr>\n",
       "      <th>5</th>\n",
       "      <td>5749.03</td>\n",
       "      <td>0</td>\n",
       "      <td>0</td>\n",
       "      <td>0</td>\n",
       "      <td>0</td>\n",
       "      <td>0</td>\n",
       "      <td>1</td>\n",
       "      <td>0</td>\n",
       "      <td>0</td>\n",
       "      <td>0</td>\n",
       "      <td>...</td>\n",
       "      <td>0</td>\n",
       "      <td>0</td>\n",
       "      <td>0</td>\n",
       "      <td>0</td>\n",
       "      <td>0</td>\n",
       "      <td>0</td>\n",
       "      <td>0</td>\n",
       "      <td>0</td>\n",
       "      <td>0</td>\n",
       "      <td>0</td>\n",
       "    </tr>\n",
       "  </tbody>\n",
       "</table>\n",
       "<p>5 rows × 81 columns</p>\n",
       "</div>"
      ],
      "text/plain": [
       "   Weekly_Sales  1  2  3  4  5  6  7  8  9  ...  87  90  91  92  93  94  95  \\\n",
       "0      24924.50  1  0  0  0  0  0  0  0  0  ...   0   0   0   0   0   0   0   \n",
       "2      13740.12  0  0  1  0  0  0  0  0  0  ...   0   0   0   0   0   0   0   \n",
       "3      39954.04  0  0  0  1  0  0  0  0  0  ...   0   0   0   0   0   0   0   \n",
       "4      32229.38  0  0  0  0  1  0  0  0  0  ...   0   0   0   0   0   0   0   \n",
       "5       5749.03  0  0  0  0  0  1  0  0  0  ...   0   0   0   0   0   0   0   \n",
       "\n",
       "   96  97  98  \n",
       "0   0   0   0  \n",
       "2   0   0   0  \n",
       "3   0   0   0  \n",
       "4   0   0   0  \n",
       "5   0   0   0  \n",
       "\n",
       "[5 rows x 81 columns]"
      ]
     },
     "execution_count": 54,
     "metadata": {},
     "output_type": "execute_result"
    }
   ],
   "source": [
    "df_categorical.head()"
   ]
  },
  {
   "cell_type": "code",
   "execution_count": 55,
   "metadata": {},
   "outputs": [],
   "source": [
    "# Create test and train datasets\n",
    "# Include all columns from data except weekly_sales and department in the explanatory variables X \n",
    "X = df_categorical.drop(columns = 'Weekly_Sales', axis = 1)\n",
    "y = df_categorical[['Weekly_Sales']]\n",
    "\n",
    "# Create constants for X, so the model knows its bounds\n",
    "X = sm.add_constant(X)\n",
    "\n",
    "\n",
    "# Split the data\n",
    "X_train, X_test, y_train, y_test = train_test_split(X, y, test_size = 0.25, random_state = 123)"
   ]
  },
  {
   "cell_type": "code",
   "execution_count": 56,
   "metadata": {},
   "outputs": [],
   "source": [
    "# Create the model\n",
    "rModel2 = sm.OLS(y_train, X_train)\n",
    "# Fit the model\n",
    "rModel2_results = rModel2.fit()"
   ]
  },
  {
   "cell_type": "code",
   "execution_count": 57,
   "metadata": {},
   "outputs": [
    {
     "data": {
      "text/html": [
       "<table class=\"simpletable\">\n",
       "<caption>OLS Regression Results</caption>\n",
       "<tr>\n",
       "  <th>Dep. Variable:</th>      <td>Weekly_Sales</td>   <th>  R-squared:         </th>  <td>   0.483</td>  \n",
       "</tr>\n",
       "<tr>\n",
       "  <th>Model:</th>                   <td>OLS</td>       <th>  Adj. R-squared:    </th>  <td>   0.483</td>  \n",
       "</tr>\n",
       "<tr>\n",
       "  <th>Method:</th>             <td>Least Squares</td>  <th>  F-statistic:       </th>  <td>   3284.</td>  \n",
       "</tr>\n",
       "<tr>\n",
       "  <th>Date:</th>             <td>Fri, 10 Jul 2020</td> <th>  Prob (F-statistic):</th>   <td>  0.00</td>   \n",
       "</tr>\n",
       "<tr>\n",
       "  <th>Time:</th>                 <td>13:03:27</td>     <th>  Log-Likelihood:    </th> <td>-2.9317e+06</td>\n",
       "</tr>\n",
       "<tr>\n",
       "  <th>No. Observations:</th>      <td>281391</td>      <th>  AIC:               </th>  <td>5.864e+06</td> \n",
       "</tr>\n",
       "<tr>\n",
       "  <th>Df Residuals:</th>          <td>281310</td>      <th>  BIC:               </th>  <td>5.864e+06</td> \n",
       "</tr>\n",
       "<tr>\n",
       "  <th>Df Model:</th>              <td>    80</td>      <th>                     </th>      <td> </td>     \n",
       "</tr>\n",
       "<tr>\n",
       "  <th>Covariance Type:</th>      <td>nonrobust</td>    <th>                     </th>      <td> </td>     \n",
       "</tr>\n",
       "</table>\n",
       "<table class=\"simpletable\">\n",
       "<tr>\n",
       "    <td></td>       <th>coef</th>     <th>std err</th>      <th>t</th>      <th>P>|t|</th>  <th>[0.025</th>    <th>0.975]</th>  \n",
       "</tr>\n",
       "<tr>\n",
       "  <th>const</th> <td>  417.0312</td> <td>  324.289</td> <td>    1.286</td> <td> 0.198</td> <td> -218.566</td> <td> 1052.628</td>\n",
       "</tr>\n",
       "<tr>\n",
       "  <th>1</th>     <td> 1.627e+04</td> <td>  346.424</td> <td>   46.951</td> <td> 0.000</td> <td> 1.56e+04</td> <td> 1.69e+04</td>\n",
       "</tr>\n",
       "<tr>\n",
       "  <th>2</th>     <td> 2.514e+04</td> <td>  359.691</td> <td>   69.901</td> <td> 0.000</td> <td> 2.44e+04</td> <td> 2.58e+04</td>\n",
       "</tr>\n",
       "<tr>\n",
       "  <th>3</th>     <td> 9879.4548</td> <td>  345.648</td> <td>   28.582</td> <td> 0.000</td> <td> 9201.995</td> <td> 1.06e+04</td>\n",
       "</tr>\n",
       "<tr>\n",
       "  <th>4</th>     <td> 2.269e+04</td> <td>  347.228</td> <td>   65.351</td> <td> 0.000</td> <td>  2.2e+04</td> <td> 2.34e+04</td>\n",
       "</tr>\n",
       "<tr>\n",
       "  <th>5</th>     <td> 1.707e+04</td> <td>  346.900</td> <td>   49.201</td> <td> 0.000</td> <td> 1.64e+04</td> <td> 1.77e+04</td>\n",
       "</tr>\n",
       "<tr>\n",
       "  <th>6</th>     <td> 4233.9068</td> <td>  346.724</td> <td>   12.211</td> <td> 0.000</td> <td> 3554.337</td> <td> 4913.476</td>\n",
       "</tr>\n",
       "<tr>\n",
       "  <th>7</th>     <td> 1.733e+04</td> <td>  347.375</td> <td>   49.876</td> <td> 0.000</td> <td> 1.66e+04</td> <td>  1.8e+04</td>\n",
       "</tr>\n",
       "<tr>\n",
       "  <th>8</th>     <td> 2.424e+04</td> <td>  348.661</td> <td>   69.509</td> <td> 0.000</td> <td> 2.36e+04</td> <td> 2.49e+04</td>\n",
       "</tr>\n",
       "<tr>\n",
       "  <th>9</th>     <td> 1.657e+04</td> <td>  346.719</td> <td>   47.801</td> <td> 0.000</td> <td> 1.59e+04</td> <td> 1.73e+04</td>\n",
       "</tr>\n",
       "<tr>\n",
       "  <th>10</th>    <td> 1.685e+04</td> <td>  345.807</td> <td>   48.718</td> <td> 0.000</td> <td> 1.62e+04</td> <td> 1.75e+04</td>\n",
       "</tr>\n",
       "<tr>\n",
       "  <th>11</th>    <td> 1.371e+04</td> <td>  345.500</td> <td>   39.669</td> <td> 0.000</td> <td>  1.3e+04</td> <td> 1.44e+04</td>\n",
       "</tr>\n",
       "<tr>\n",
       "  <th>12</th>    <td> 3791.9950</td> <td>  345.293</td> <td>   10.982</td> <td> 0.000</td> <td> 3115.231</td> <td> 4468.759</td>\n",
       "</tr>\n",
       "<tr>\n",
       "  <th>13</th>    <td> 2.471e+04</td> <td>  349.153</td> <td>   70.760</td> <td> 0.000</td> <td>  2.4e+04</td> <td> 2.54e+04</td>\n",
       "</tr>\n",
       "<tr>\n",
       "  <th>14</th>    <td> 1.364e+04</td> <td>  345.447</td> <td>   39.496</td> <td> 0.000</td> <td>  1.3e+04</td> <td> 1.43e+04</td>\n",
       "</tr>\n",
       "<tr>\n",
       "  <th>16</th>    <td> 1.129e+04</td> <td>  346.333</td> <td>   32.603</td> <td> 0.000</td> <td> 1.06e+04</td> <td>  1.2e+04</td>\n",
       "</tr>\n",
       "<tr>\n",
       "  <th>17</th>    <td> 9699.4811</td> <td>  345.223</td> <td>   28.096</td> <td> 0.000</td> <td> 9022.853</td> <td> 1.04e+04</td>\n",
       "</tr>\n",
       "<tr>\n",
       "  <th>18</th>    <td> 4904.0357</td> <td>  351.853</td> <td>   13.938</td> <td> 0.000</td> <td> 4214.414</td> <td> 5593.658</td>\n",
       "</tr>\n",
       "<tr>\n",
       "  <th>19</th>    <td> 1221.8458</td> <td>  356.029</td> <td>    3.432</td> <td> 0.001</td> <td>  524.039</td> <td> 1919.652</td>\n",
       "</tr>\n",
       "<tr>\n",
       "  <th>20</th>    <td> 5125.6091</td> <td>  346.444</td> <td>   14.795</td> <td> 0.000</td> <td> 4446.589</td> <td> 5804.629</td>\n",
       "</tr>\n",
       "<tr>\n",
       "  <th>21</th>    <td> 4488.7941</td> <td>  345.150</td> <td>   13.005</td> <td> 0.000</td> <td> 3812.310</td> <td> 5165.278</td>\n",
       "</tr>\n",
       "<tr>\n",
       "  <th>22</th>    <td> 1.034e+04</td> <td>  348.205</td> <td>   29.696</td> <td> 0.000</td> <td> 9657.706</td> <td>  1.1e+04</td>\n",
       "</tr>\n",
       "<tr>\n",
       "  <th>23</th>    <td> 2.077e+04</td> <td>  349.245</td> <td>   59.464</td> <td> 0.000</td> <td> 2.01e+04</td> <td> 2.15e+04</td>\n",
       "</tr>\n",
       "<tr>\n",
       "  <th>24</th>    <td> 5910.1341</td> <td>  348.947</td> <td>   16.937</td> <td> 0.000</td> <td> 5226.208</td> <td> 6594.060</td>\n",
       "</tr>\n",
       "<tr>\n",
       "  <th>25</th>    <td> 8456.3379</td> <td>  345.495</td> <td>   24.476</td> <td> 0.000</td> <td> 7779.176</td> <td> 9133.499</td>\n",
       "</tr>\n",
       "<tr>\n",
       "  <th>26</th>    <td> 7084.4492</td> <td>  347.663</td> <td>   20.377</td> <td> 0.000</td> <td> 6403.039</td> <td> 7765.860</td>\n",
       "</tr>\n",
       "<tr>\n",
       "  <th>27</th>    <td> 1142.2151</td> <td>  347.788</td> <td>    3.284</td> <td> 0.001</td> <td>  460.560</td> <td> 1823.871</td>\n",
       "</tr>\n",
       "<tr>\n",
       "  <th>28</th>    <td>  191.1950</td> <td>  346.361</td> <td>    0.552</td> <td> 0.581</td> <td> -487.664</td> <td>  870.054</td>\n",
       "</tr>\n",
       "<tr>\n",
       "  <th>29</th>    <td> 5154.7190</td> <td>  349.214</td> <td>   14.761</td> <td> 0.000</td> <td> 4470.269</td> <td> 5839.169</td>\n",
       "</tr>\n",
       "<tr>\n",
       "  <th>30</th>    <td> 3687.9268</td> <td>  349.671</td> <td>   10.547</td> <td> 0.000</td> <td> 3002.581</td> <td> 4373.273</td>\n",
       "</tr>\n",
       "<tr>\n",
       "  <th>31</th>    <td> 1909.7408</td> <td>  346.361</td> <td>    5.514</td> <td> 0.000</td> <td> 1230.882</td> <td> 2588.600</td>\n",
       "</tr>\n",
       "<tr>\n",
       "  <th>32</th>    <td> 6179.2136</td> <td>  346.699</td> <td>   17.823</td> <td> 0.000</td> <td> 5499.693</td> <td> 6858.734</td>\n",
       "</tr>\n",
       "<tr>\n",
       "  <th>33</th>    <td> 5967.7577</td> <td>  349.282</td> <td>   17.086</td> <td> 0.000</td> <td> 5283.174</td> <td> 6652.341</td>\n",
       "</tr>\n",
       "<tr>\n",
       "  <th>34</th>    <td> 1.478e+04</td> <td>  349.551</td> <td>   42.297</td> <td> 0.000</td> <td> 1.41e+04</td> <td> 1.55e+04</td>\n",
       "</tr>\n",
       "<tr>\n",
       "  <th>35</th>    <td> 2479.9008</td> <td>  349.245</td> <td>    7.101</td> <td> 0.000</td> <td> 1795.390</td> <td> 3164.411</td>\n",
       "</tr>\n",
       "<tr>\n",
       "  <th>36</th>    <td> 1576.3158</td> <td>  349.507</td> <td>    4.510</td> <td> 0.000</td> <td>  891.292</td> <td> 2261.339</td>\n",
       "</tr>\n",
       "<tr>\n",
       "  <th>37</th>    <td> 2687.1902</td> <td>  374.733</td> <td>    7.171</td> <td> 0.000</td> <td> 1952.724</td> <td> 3421.657</td>\n",
       "</tr>\n",
       "<tr>\n",
       "  <th>38</th>    <td> 3.545e+04</td> <td>  385.291</td> <td>   92.019</td> <td> 0.000</td> <td> 3.47e+04</td> <td> 3.62e+04</td>\n",
       "</tr>\n",
       "<tr>\n",
       "  <th>39</th>    <td> -406.4350</td> <td> 2270.022</td> <td>   -0.179</td> <td> 0.858</td> <td>-4855.615</td> <td> 4042.745</td>\n",
       "</tr>\n",
       "<tr>\n",
       "  <th>40</th>    <td> 2.856e+04</td> <td>  360.557</td> <td>   79.215</td> <td> 0.000</td> <td> 2.79e+04</td> <td> 2.93e+04</td>\n",
       "</tr>\n",
       "<tr>\n",
       "  <th>41</th>    <td> 1527.1882</td> <td>  349.159</td> <td>    4.374</td> <td> 0.000</td> <td>  842.846</td> <td> 2211.530</td>\n",
       "</tr>\n",
       "<tr>\n",
       "  <th>42</th>    <td> 4778.9968</td> <td>  345.267</td> <td>   13.841</td> <td> 0.000</td> <td> 4102.284</td> <td> 5455.710</td>\n",
       "</tr>\n",
       "<tr>\n",
       "  <th>43</th>    <td> -415.7179</td> <td> 2719.647</td> <td>   -0.153</td> <td> 0.879</td> <td>-5746.151</td> <td> 4914.715</td>\n",
       "</tr>\n",
       "<tr>\n",
       "  <th>44</th>    <td> 4198.5019</td> <td>  348.947</td> <td>   12.032</td> <td> 0.000</td> <td> 3514.576</td> <td> 4882.428</td>\n",
       "</tr>\n",
       "<tr>\n",
       "  <th>45</th>    <td> -393.8188</td> <td>  391.143</td> <td>   -1.007</td> <td> 0.314</td> <td>-1160.448</td> <td>  372.810</td>\n",
       "</tr>\n",
       "<tr>\n",
       "  <th>46</th>    <td> 1.828e+04</td> <td>  345.775</td> <td>   52.859</td> <td> 0.000</td> <td> 1.76e+04</td> <td>  1.9e+04</td>\n",
       "</tr>\n",
       "<tr>\n",
       "  <th>47</th>    <td> -421.6830</td> <td>  494.158</td> <td>   -0.853</td> <td> 0.393</td> <td>-1390.220</td> <td>  546.854</td>\n",
       "</tr>\n",
       "<tr>\n",
       "  <th>48</th>    <td>  886.4278</td> <td>  396.854</td> <td>    2.234</td> <td> 0.026</td> <td>  108.605</td> <td> 1664.251</td>\n",
       "</tr>\n",
       "<tr>\n",
       "  <th>49</th>    <td> 7743.9137</td> <td>  353.716</td> <td>   21.893</td> <td> 0.000</td> <td> 7050.640</td> <td> 8437.188</td>\n",
       "</tr>\n",
       "<tr>\n",
       "  <th>50</th>    <td> 2210.8839</td> <td>  402.834</td> <td>    5.488</td> <td> 0.000</td> <td> 1421.340</td> <td> 3000.428</td>\n",
       "</tr>\n",
       "<tr>\n",
       "  <th>51</th>    <td> -395.8672</td> <td>  414.063</td> <td>   -0.956</td> <td> 0.339</td> <td>-1207.419</td> <td>  415.684</td>\n",
       "</tr>\n",
       "<tr>\n",
       "  <th>52</th>    <td> 1521.7448</td> <td>  345.558</td> <td>    4.404</td> <td> 0.000</td> <td>  844.461</td> <td> 2199.029</td>\n",
       "</tr>\n",
       "<tr>\n",
       "  <th>54</th>    <td> -312.4661</td> <td>  352.012</td> <td>   -0.888</td> <td> 0.375</td> <td>-1002.400</td> <td>  377.467</td>\n",
       "</tr>\n",
       "<tr>\n",
       "  <th>55</th>    <td> 9487.2231</td> <td>  348.376</td> <td>   27.233</td> <td> 0.000</td> <td> 8804.415</td> <td> 1.02e+04</td>\n",
       "</tr>\n",
       "<tr>\n",
       "  <th>56</th>    <td> 3236.0749</td> <td>  347.513</td> <td>    9.312</td> <td> 0.000</td> <td> 2554.959</td> <td> 3917.191</td>\n",
       "</tr>\n",
       "<tr>\n",
       "  <th>58</th>    <td> 3297.0667</td> <td>  354.455</td> <td>    9.302</td> <td> 0.000</td> <td> 2602.345</td> <td> 3991.788</td>\n",
       "</tr>\n",
       "<tr>\n",
       "  <th>59</th>    <td>  187.2180</td> <td>  346.223</td> <td>    0.541</td> <td> 0.589</td> <td> -491.369</td> <td>  865.805</td>\n",
       "</tr>\n",
       "<tr>\n",
       "  <th>60</th>    <td>  -74.0206</td> <td>  347.777</td> <td>   -0.213</td> <td> 0.831</td> <td> -755.655</td> <td>  607.613</td>\n",
       "</tr>\n",
       "<tr>\n",
       "  <th>65</th>    <td> 3.894e+04</td> <td> 1149.079</td> <td>   33.887</td> <td> 0.000</td> <td> 3.67e+04</td> <td> 4.12e+04</td>\n",
       "</tr>\n",
       "<tr>\n",
       "  <th>67</th>    <td> 6933.1310</td> <td>  344.975</td> <td>   20.098</td> <td> 0.000</td> <td> 6256.990</td> <td> 7609.272</td>\n",
       "</tr>\n",
       "<tr>\n",
       "  <th>71</th>    <td> 5272.9223</td> <td>  349.325</td> <td>   15.095</td> <td> 0.000</td> <td> 4588.254</td> <td> 5957.590</td>\n",
       "</tr>\n",
       "<tr>\n",
       "  <th>72</th>    <td>  2.48e+04</td> <td>  364.329</td> <td>   68.075</td> <td> 0.000</td> <td> 2.41e+04</td> <td> 2.55e+04</td>\n",
       "</tr>\n",
       "<tr>\n",
       "  <th>74</th>    <td> 1.323e+04</td> <td>  345.424</td> <td>   38.287</td> <td> 0.000</td> <td> 1.25e+04</td> <td> 1.39e+04</td>\n",
       "</tr>\n",
       "<tr>\n",
       "  <th>77</th>    <td>  -94.7238</td> <td>  828.183</td> <td>   -0.114</td> <td> 0.909</td> <td>-1717.940</td> <td> 1528.493</td>\n",
       "</tr>\n",
       "<tr>\n",
       "  <th>78</th>    <td> -409.4324</td> <td>  702.466</td> <td>   -0.583</td> <td> 0.560</td> <td>-1786.246</td> <td>  967.381</td>\n",
       "</tr>\n",
       "<tr>\n",
       "  <th>79</th>    <td> 1.972e+04</td> <td>  346.439</td> <td>   56.918</td> <td> 0.000</td> <td>  1.9e+04</td> <td> 2.04e+04</td>\n",
       "</tr>\n",
       "<tr>\n",
       "  <th>80</th>    <td> 1.179e+04</td> <td>  346.996</td> <td>   33.985</td> <td> 0.000</td> <td> 1.11e+04</td> <td> 1.25e+04</td>\n",
       "</tr>\n",
       "<tr>\n",
       "  <th>81</th>    <td> 1.507e+04</td> <td>  345.411</td> <td>   43.638</td> <td> 0.000</td> <td> 1.44e+04</td> <td> 1.57e+04</td>\n",
       "</tr>\n",
       "<tr>\n",
       "  <th>82</th>    <td> 1.422e+04</td> <td>  345.594</td> <td>   41.147</td> <td> 0.000</td> <td> 1.35e+04</td> <td> 1.49e+04</td>\n",
       "</tr>\n",
       "<tr>\n",
       "  <th>83</th>    <td> 2916.4610</td> <td>  346.930</td> <td>    8.406</td> <td> 0.000</td> <td> 2236.488</td> <td> 3596.434</td>\n",
       "</tr>\n",
       "<tr>\n",
       "  <th>85</th>    <td> 1867.8758</td> <td>  346.400</td> <td>    5.392</td> <td> 0.000</td> <td> 1188.941</td> <td> 2546.810</td>\n",
       "</tr>\n",
       "<tr>\n",
       "  <th>87</th>    <td> 1.216e+04</td> <td>  345.770</td> <td>   35.157</td> <td> 0.000</td> <td> 1.15e+04</td> <td> 1.28e+04</td>\n",
       "</tr>\n",
       "<tr>\n",
       "  <th>90</th>    <td> 1.997e+04</td> <td>  360.622</td> <td>   55.384</td> <td> 0.000</td> <td> 1.93e+04</td> <td> 2.07e+04</td>\n",
       "</tr>\n",
       "<tr>\n",
       "  <th>91</th>    <td> 1.812e+04</td> <td>  354.500</td> <td>   51.124</td> <td> 0.000</td> <td> 1.74e+04</td> <td> 1.88e+04</td>\n",
       "</tr>\n",
       "<tr>\n",
       "  <th>92</th>    <td> 2.702e+04</td> <td>  379.073</td> <td>   71.292</td> <td> 0.000</td> <td> 2.63e+04</td> <td> 2.78e+04</td>\n",
       "</tr>\n",
       "<tr>\n",
       "  <th>93</th>    <td> 1.822e+04</td> <td>  351.868</td> <td>   51.769</td> <td> 0.000</td> <td> 1.75e+04</td> <td> 1.89e+04</td>\n",
       "</tr>\n",
       "<tr>\n",
       "  <th>94</th>    <td> 1.904e+04</td> <td>  358.561</td> <td>   53.099</td> <td> 0.000</td> <td> 1.83e+04</td> <td> 1.97e+04</td>\n",
       "</tr>\n",
       "<tr>\n",
       "  <th>95</th>    <td> 3.223e+04</td> <td>  382.164</td> <td>   84.336</td> <td> 0.000</td> <td> 3.15e+04</td> <td>  3.3e+04</td>\n",
       "</tr>\n",
       "<tr>\n",
       "  <th>96</th>    <td>  1.46e+04</td> <td>  351.845</td> <td>   41.507</td> <td> 0.000</td> <td> 1.39e+04</td> <td> 1.53e+04</td>\n",
       "</tr>\n",
       "<tr>\n",
       "  <th>97</th>    <td> 1.383e+04</td> <td>  345.707</td> <td>   39.993</td> <td> 0.000</td> <td> 1.31e+04</td> <td> 1.45e+04</td>\n",
       "</tr>\n",
       "<tr>\n",
       "  <th>98</th>    <td> 6365.4221</td> <td>  347.083</td> <td>   18.340</td> <td> 0.000</td> <td> 5685.148</td> <td> 7045.696</td>\n",
       "</tr>\n",
       "</table>\n",
       "<table class=\"simpletable\">\n",
       "<tr>\n",
       "  <th>Omnibus:</th>       <td>24518.023</td> <th>  Durbin-Watson:     </th> <td>   1.997</td> \n",
       "</tr>\n",
       "<tr>\n",
       "  <th>Prob(Omnibus):</th>  <td> 0.000</td>   <th>  Jarque-Bera (JB):  </th> <td>53296.608</td>\n",
       "</tr>\n",
       "<tr>\n",
       "  <th>Skew:</th>           <td> 0.561</td>   <th>  Prob(JB):          </th> <td>    0.00</td> \n",
       "</tr>\n",
       "<tr>\n",
       "  <th>Kurtosis:</th>       <td> 4.813</td>   <th>  Cond. No.          </th> <td>    199.</td> \n",
       "</tr>\n",
       "</table><br/><br/>Warnings:<br/>[1] Standard Errors assume that the covariance matrix of the errors is correctly specified."
      ],
      "text/plain": [
       "<class 'statsmodels.iolib.summary.Summary'>\n",
       "\"\"\"\n",
       "                            OLS Regression Results                            \n",
       "==============================================================================\n",
       "Dep. Variable:           Weekly_Sales   R-squared:                       0.483\n",
       "Model:                            OLS   Adj. R-squared:                  0.483\n",
       "Method:                 Least Squares   F-statistic:                     3284.\n",
       "Date:                Fri, 10 Jul 2020   Prob (F-statistic):               0.00\n",
       "Time:                        13:03:27   Log-Likelihood:            -2.9317e+06\n",
       "No. Observations:              281391   AIC:                         5.864e+06\n",
       "Df Residuals:                  281310   BIC:                         5.864e+06\n",
       "Df Model:                          80                                         \n",
       "Covariance Type:            nonrobust                                         \n",
       "==============================================================================\n",
       "                 coef    std err          t      P>|t|      [0.025      0.975]\n",
       "------------------------------------------------------------------------------\n",
       "const        417.0312    324.289      1.286      0.198    -218.566    1052.628\n",
       "1           1.627e+04    346.424     46.951      0.000    1.56e+04    1.69e+04\n",
       "2           2.514e+04    359.691     69.901      0.000    2.44e+04    2.58e+04\n",
       "3           9879.4548    345.648     28.582      0.000    9201.995    1.06e+04\n",
       "4           2.269e+04    347.228     65.351      0.000     2.2e+04    2.34e+04\n",
       "5           1.707e+04    346.900     49.201      0.000    1.64e+04    1.77e+04\n",
       "6           4233.9068    346.724     12.211      0.000    3554.337    4913.476\n",
       "7           1.733e+04    347.375     49.876      0.000    1.66e+04     1.8e+04\n",
       "8           2.424e+04    348.661     69.509      0.000    2.36e+04    2.49e+04\n",
       "9           1.657e+04    346.719     47.801      0.000    1.59e+04    1.73e+04\n",
       "10          1.685e+04    345.807     48.718      0.000    1.62e+04    1.75e+04\n",
       "11          1.371e+04    345.500     39.669      0.000     1.3e+04    1.44e+04\n",
       "12          3791.9950    345.293     10.982      0.000    3115.231    4468.759\n",
       "13          2.471e+04    349.153     70.760      0.000     2.4e+04    2.54e+04\n",
       "14          1.364e+04    345.447     39.496      0.000     1.3e+04    1.43e+04\n",
       "16          1.129e+04    346.333     32.603      0.000    1.06e+04     1.2e+04\n",
       "17          9699.4811    345.223     28.096      0.000    9022.853    1.04e+04\n",
       "18          4904.0357    351.853     13.938      0.000    4214.414    5593.658\n",
       "19          1221.8458    356.029      3.432      0.001     524.039    1919.652\n",
       "20          5125.6091    346.444     14.795      0.000    4446.589    5804.629\n",
       "21          4488.7941    345.150     13.005      0.000    3812.310    5165.278\n",
       "22          1.034e+04    348.205     29.696      0.000    9657.706     1.1e+04\n",
       "23          2.077e+04    349.245     59.464      0.000    2.01e+04    2.15e+04\n",
       "24          5910.1341    348.947     16.937      0.000    5226.208    6594.060\n",
       "25          8456.3379    345.495     24.476      0.000    7779.176    9133.499\n",
       "26          7084.4492    347.663     20.377      0.000    6403.039    7765.860\n",
       "27          1142.2151    347.788      3.284      0.001     460.560    1823.871\n",
       "28           191.1950    346.361      0.552      0.581    -487.664     870.054\n",
       "29          5154.7190    349.214     14.761      0.000    4470.269    5839.169\n",
       "30          3687.9268    349.671     10.547      0.000    3002.581    4373.273\n",
       "31          1909.7408    346.361      5.514      0.000    1230.882    2588.600\n",
       "32          6179.2136    346.699     17.823      0.000    5499.693    6858.734\n",
       "33          5967.7577    349.282     17.086      0.000    5283.174    6652.341\n",
       "34          1.478e+04    349.551     42.297      0.000    1.41e+04    1.55e+04\n",
       "35          2479.9008    349.245      7.101      0.000    1795.390    3164.411\n",
       "36          1576.3158    349.507      4.510      0.000     891.292    2261.339\n",
       "37          2687.1902    374.733      7.171      0.000    1952.724    3421.657\n",
       "38          3.545e+04    385.291     92.019      0.000    3.47e+04    3.62e+04\n",
       "39          -406.4350   2270.022     -0.179      0.858   -4855.615    4042.745\n",
       "40          2.856e+04    360.557     79.215      0.000    2.79e+04    2.93e+04\n",
       "41          1527.1882    349.159      4.374      0.000     842.846    2211.530\n",
       "42          4778.9968    345.267     13.841      0.000    4102.284    5455.710\n",
       "43          -415.7179   2719.647     -0.153      0.879   -5746.151    4914.715\n",
       "44          4198.5019    348.947     12.032      0.000    3514.576    4882.428\n",
       "45          -393.8188    391.143     -1.007      0.314   -1160.448     372.810\n",
       "46          1.828e+04    345.775     52.859      0.000    1.76e+04     1.9e+04\n",
       "47          -421.6830    494.158     -0.853      0.393   -1390.220     546.854\n",
       "48           886.4278    396.854      2.234      0.026     108.605    1664.251\n",
       "49          7743.9137    353.716     21.893      0.000    7050.640    8437.188\n",
       "50          2210.8839    402.834      5.488      0.000    1421.340    3000.428\n",
       "51          -395.8672    414.063     -0.956      0.339   -1207.419     415.684\n",
       "52          1521.7448    345.558      4.404      0.000     844.461    2199.029\n",
       "54          -312.4661    352.012     -0.888      0.375   -1002.400     377.467\n",
       "55          9487.2231    348.376     27.233      0.000    8804.415    1.02e+04\n",
       "56          3236.0749    347.513      9.312      0.000    2554.959    3917.191\n",
       "58          3297.0667    354.455      9.302      0.000    2602.345    3991.788\n",
       "59           187.2180    346.223      0.541      0.589    -491.369     865.805\n",
       "60           -74.0206    347.777     -0.213      0.831    -755.655     607.613\n",
       "65          3.894e+04   1149.079     33.887      0.000    3.67e+04    4.12e+04\n",
       "67          6933.1310    344.975     20.098      0.000    6256.990    7609.272\n",
       "71          5272.9223    349.325     15.095      0.000    4588.254    5957.590\n",
       "72           2.48e+04    364.329     68.075      0.000    2.41e+04    2.55e+04\n",
       "74          1.323e+04    345.424     38.287      0.000    1.25e+04    1.39e+04\n",
       "77           -94.7238    828.183     -0.114      0.909   -1717.940    1528.493\n",
       "78          -409.4324    702.466     -0.583      0.560   -1786.246     967.381\n",
       "79          1.972e+04    346.439     56.918      0.000     1.9e+04    2.04e+04\n",
       "80          1.179e+04    346.996     33.985      0.000    1.11e+04    1.25e+04\n",
       "81          1.507e+04    345.411     43.638      0.000    1.44e+04    1.57e+04\n",
       "82          1.422e+04    345.594     41.147      0.000    1.35e+04    1.49e+04\n",
       "83          2916.4610    346.930      8.406      0.000    2236.488    3596.434\n",
       "85          1867.8758    346.400      5.392      0.000    1188.941    2546.810\n",
       "87          1.216e+04    345.770     35.157      0.000    1.15e+04    1.28e+04\n",
       "90          1.997e+04    360.622     55.384      0.000    1.93e+04    2.07e+04\n",
       "91          1.812e+04    354.500     51.124      0.000    1.74e+04    1.88e+04\n",
       "92          2.702e+04    379.073     71.292      0.000    2.63e+04    2.78e+04\n",
       "93          1.822e+04    351.868     51.769      0.000    1.75e+04    1.89e+04\n",
       "94          1.904e+04    358.561     53.099      0.000    1.83e+04    1.97e+04\n",
       "95          3.223e+04    382.164     84.336      0.000    3.15e+04     3.3e+04\n",
       "96           1.46e+04    351.845     41.507      0.000    1.39e+04    1.53e+04\n",
       "97          1.383e+04    345.707     39.993      0.000    1.31e+04    1.45e+04\n",
       "98          6365.4221    347.083     18.340      0.000    5685.148    7045.696\n",
       "==============================================================================\n",
       "Omnibus:                    24518.023   Durbin-Watson:                   1.997\n",
       "Prob(Omnibus):                  0.000   Jarque-Bera (JB):            53296.608\n",
       "Skew:                           0.561   Prob(JB):                         0.00\n",
       "Kurtosis:                       4.813   Cond. No.                         199.\n",
       "==============================================================================\n",
       "\n",
       "Warnings:\n",
       "[1] Standard Errors assume that the covariance matrix of the errors is correctly specified.\n",
       "\"\"\""
      ]
     },
     "execution_count": 57,
     "metadata": {},
     "output_type": "execute_result"
    }
   ],
   "source": [
    "# Evaluate the model\n",
    "rModel2_results.summary()"
   ]
  },
  {
   "cell_type": "code",
   "execution_count": 58,
   "metadata": {},
   "outputs": [
    {
     "data": {
      "text/plain": [
       "'The R-Squared looks better by having the department as the independant variables, but it is not still the best model'"
      ]
     },
     "execution_count": 58,
     "metadata": {},
     "output_type": "execute_result"
    }
   ],
   "source": [
    "'''The R-Squared looks better by having the department as the independant variables, but it is not still the best model'''"
   ]
  },
  {
   "cell_type": "code",
   "execution_count": 59,
   "metadata": {},
   "outputs": [],
   "source": [
    "# Use our new model to make predictions\n",
    "y_pred = rModel2_results.predict(X_test)"
   ]
  },
  {
   "cell_type": "code",
   "execution_count": 60,
   "metadata": {},
   "outputs": [
    {
     "data": {
      "text/plain": [
       "Text(0, 0.5, 'Predicted')"
      ]
     },
     "execution_count": 60,
     "metadata": {},
     "output_type": "execute_result"
    },
    {
     "data": {
      "image/png": "[encoded data removed]",
      "text/plain": [
       "<Figure size 432x288 with 1 Axes>"
      ]
     },
     "metadata": {
      "needs_background": "light"
     },
     "output_type": "display_data"
    }
   ],
   "source": [
    "# Plot the predictions\n",
    "# Build a scatterplot\n",
    "plt.scatter(y_test, y_pred)\n",
    "\n",
    "# Label it nicely\n",
    "plt.title('Model 2 predictions vs. the actual values')\n",
    "plt.xlabel('Actual')\n",
    "plt.ylabel('Predicted')"
   ]
  },
  {
   "cell_type": "code",
   "execution_count": 61,
   "metadata": {},
   "outputs": [],
   "source": [
    "#Look at the max value and the intercept for the department variables\n",
    "coeff_results = pd.DataFrame(rModel2_results.params)"
   ]
  },
  {
   "cell_type": "code",
   "execution_count": 62,
   "metadata": {},
   "outputs": [],
   "source": [
    "coeff_results = coeff_results.iloc[1:,:]"
   ]
  },
  {
   "cell_type": "code",
   "execution_count": 63,
   "metadata": {},
   "outputs": [
    {
     "data": {
      "text/plain": [
       "0    38938.553983\n",
       "dtype: float64"
      ]
     },
     "execution_count": 63,
     "metadata": {},
     "output_type": "execute_result"
    }
   ],
   "source": [
    "coeff_results.max()"
   ]
  },
  {
   "cell_type": "code",
   "execution_count": 64,
   "metadata": {},
   "outputs": [
    {
     "data": {
      "text/html": [
       "<div>\n",
       "<style scoped>\n",
       "    .dataframe tbody tr th:only-of-type {\n",
       "        vertical-align: middle;\n",
       "    }\n",
       "\n",
       "    .dataframe tbody tr th {\n",
       "        vertical-align: top;\n",
       "    }\n",
       "\n",
       "    .dataframe thead th {\n",
       "        text-align: right;\n",
       "    }\n",
       "</style>\n",
       "<table border=\"1\" class=\"dataframe\">\n",
       "  <thead>\n",
       "    <tr style=\"text-align: right;\">\n",
       "      <th></th>\n",
       "      <th>0</th>\n",
       "    </tr>\n",
       "  </thead>\n",
       "  <tbody>\n",
       "    <tr>\n",
       "      <th>1</th>\n",
       "      <td>16265.037965</td>\n",
       "    </tr>\n",
       "    <tr>\n",
       "      <th>2</th>\n",
       "      <td>25142.701662</td>\n",
       "    </tr>\n",
       "    <tr>\n",
       "      <th>3</th>\n",
       "      <td>9879.454810</td>\n",
       "    </tr>\n",
       "    <tr>\n",
       "      <th>4</th>\n",
       "      <td>22691.709758</td>\n",
       "    </tr>\n",
       "    <tr>\n",
       "      <th>5</th>\n",
       "      <td>17067.647323</td>\n",
       "    </tr>\n",
       "    <tr>\n",
       "      <th>6</th>\n",
       "      <td>4233.906844</td>\n",
       "    </tr>\n",
       "    <tr>\n",
       "      <th>7</th>\n",
       "      <td>17325.829687</td>\n",
       "    </tr>\n",
       "    <tr>\n",
       "      <th>8</th>\n",
       "      <td>24235.145082</td>\n",
       "    </tr>\n",
       "    <tr>\n",
       "      <th>9</th>\n",
       "      <td>16573.429222</td>\n",
       "    </tr>\n",
       "    <tr>\n",
       "      <th>10</th>\n",
       "      <td>16847.065568</td>\n",
       "    </tr>\n",
       "    <tr>\n",
       "      <th>11</th>\n",
       "      <td>13705.508926</td>\n",
       "    </tr>\n",
       "    <tr>\n",
       "      <th>12</th>\n",
       "      <td>3791.994988</td>\n",
       "    </tr>\n",
       "    <tr>\n",
       "      <th>13</th>\n",
       "      <td>24705.941230</td>\n",
       "    </tr>\n",
       "    <tr>\n",
       "      <th>14</th>\n",
       "      <td>13643.646064</td>\n",
       "    </tr>\n",
       "    <tr>\n",
       "      <th>16</th>\n",
       "      <td>11291.505493</td>\n",
       "    </tr>\n",
       "    <tr>\n",
       "      <th>17</th>\n",
       "      <td>9699.481054</td>\n",
       "    </tr>\n",
       "    <tr>\n",
       "      <th>18</th>\n",
       "      <td>4904.035665</td>\n",
       "    </tr>\n",
       "    <tr>\n",
       "      <th>19</th>\n",
       "      <td>1221.845807</td>\n",
       "    </tr>\n",
       "    <tr>\n",
       "      <th>20</th>\n",
       "      <td>5125.609090</td>\n",
       "    </tr>\n",
       "    <tr>\n",
       "      <th>21</th>\n",
       "      <td>4488.794095</td>\n",
       "    </tr>\n",
       "    <tr>\n",
       "      <th>22</th>\n",
       "      <td>10340.179433</td>\n",
       "    </tr>\n",
       "    <tr>\n",
       "      <th>23</th>\n",
       "      <td>20767.534264</td>\n",
       "    </tr>\n",
       "    <tr>\n",
       "      <th>24</th>\n",
       "      <td>5910.134073</td>\n",
       "    </tr>\n",
       "    <tr>\n",
       "      <th>25</th>\n",
       "      <td>8456.337863</td>\n",
       "    </tr>\n",
       "    <tr>\n",
       "      <th>26</th>\n",
       "      <td>7084.449248</td>\n",
       "    </tr>\n",
       "    <tr>\n",
       "      <th>27</th>\n",
       "      <td>1142.215089</td>\n",
       "    </tr>\n",
       "    <tr>\n",
       "      <th>28</th>\n",
       "      <td>191.194995</td>\n",
       "    </tr>\n",
       "    <tr>\n",
       "      <th>29</th>\n",
       "      <td>5154.719018</td>\n",
       "    </tr>\n",
       "    <tr>\n",
       "      <th>30</th>\n",
       "      <td>3687.926814</td>\n",
       "    </tr>\n",
       "    <tr>\n",
       "      <th>31</th>\n",
       "      <td>1909.740763</td>\n",
       "    </tr>\n",
       "    <tr>\n",
       "      <th>32</th>\n",
       "      <td>6179.213612</td>\n",
       "    </tr>\n",
       "    <tr>\n",
       "      <th>33</th>\n",
       "      <td>5967.757682</td>\n",
       "    </tr>\n",
       "    <tr>\n",
       "      <th>34</th>\n",
       "      <td>14784.895895</td>\n",
       "    </tr>\n",
       "    <tr>\n",
       "      <th>35</th>\n",
       "      <td>2479.900847</td>\n",
       "    </tr>\n",
       "    <tr>\n",
       "      <th>36</th>\n",
       "      <td>1576.315818</td>\n",
       "    </tr>\n",
       "    <tr>\n",
       "      <th>37</th>\n",
       "      <td>2687.190233</td>\n",
       "    </tr>\n",
       "    <tr>\n",
       "      <th>38</th>\n",
       "      <td>35454.081925</td>\n",
       "    </tr>\n",
       "    <tr>\n",
       "      <th>39</th>\n",
       "      <td>-406.435048</td>\n",
       "    </tr>\n",
       "    <tr>\n",
       "      <th>40</th>\n",
       "      <td>28561.529869</td>\n",
       "    </tr>\n",
       "    <tr>\n",
       "      <th>41</th>\n",
       "      <td>1527.188193</td>\n",
       "    </tr>\n",
       "    <tr>\n",
       "      <th>42</th>\n",
       "      <td>4778.996767</td>\n",
       "    </tr>\n",
       "    <tr>\n",
       "      <th>43</th>\n",
       "      <td>-415.717869</td>\n",
       "    </tr>\n",
       "    <tr>\n",
       "      <th>44</th>\n",
       "      <td>4198.501851</td>\n",
       "    </tr>\n",
       "    <tr>\n",
       "      <th>45</th>\n",
       "      <td>-393.818768</td>\n",
       "    </tr>\n",
       "    <tr>\n",
       "      <th>46</th>\n",
       "      <td>18277.418019</td>\n",
       "    </tr>\n",
       "    <tr>\n",
       "      <th>47</th>\n",
       "      <td>-421.682982</td>\n",
       "    </tr>\n",
       "    <tr>\n",
       "      <th>48</th>\n",
       "      <td>886.427841</td>\n",
       "    </tr>\n",
       "    <tr>\n",
       "      <th>49</th>\n",
       "      <td>7743.913687</td>\n",
       "    </tr>\n",
       "    <tr>\n",
       "      <th>50</th>\n",
       "      <td>2210.883898</td>\n",
       "    </tr>\n",
       "    <tr>\n",
       "      <th>51</th>\n",
       "      <td>-395.867151</td>\n",
       "    </tr>\n",
       "    <tr>\n",
       "      <th>52</th>\n",
       "      <td>1521.744782</td>\n",
       "    </tr>\n",
       "    <tr>\n",
       "      <th>54</th>\n",
       "      <td>-312.466130</td>\n",
       "    </tr>\n",
       "    <tr>\n",
       "      <th>55</th>\n",
       "      <td>9487.223104</td>\n",
       "    </tr>\n",
       "    <tr>\n",
       "      <th>56</th>\n",
       "      <td>3236.074911</td>\n",
       "    </tr>\n",
       "    <tr>\n",
       "      <th>58</th>\n",
       "      <td>3297.066714</td>\n",
       "    </tr>\n",
       "    <tr>\n",
       "      <th>59</th>\n",
       "      <td>187.217953</td>\n",
       "    </tr>\n",
       "    <tr>\n",
       "      <th>60</th>\n",
       "      <td>-74.020649</td>\n",
       "    </tr>\n",
       "    <tr>\n",
       "      <th>65</th>\n",
       "      <td>38938.553983</td>\n",
       "    </tr>\n",
       "    <tr>\n",
       "      <th>67</th>\n",
       "      <td>6933.131024</td>\n",
       "    </tr>\n",
       "    <tr>\n",
       "      <th>71</th>\n",
       "      <td>5272.922278</td>\n",
       "    </tr>\n",
       "    <tr>\n",
       "      <th>72</th>\n",
       "      <td>24801.663105</td>\n",
       "    </tr>\n",
       "    <tr>\n",
       "      <th>74</th>\n",
       "      <td>13225.183138</td>\n",
       "    </tr>\n",
       "    <tr>\n",
       "      <th>77</th>\n",
       "      <td>-94.723768</td>\n",
       "    </tr>\n",
       "    <tr>\n",
       "      <th>78</th>\n",
       "      <td>-409.432445</td>\n",
       "    </tr>\n",
       "    <tr>\n",
       "      <th>79</th>\n",
       "      <td>19718.615531</td>\n",
       "    </tr>\n",
       "    <tr>\n",
       "      <th>80</th>\n",
       "      <td>11792.545667</td>\n",
       "    </tr>\n",
       "    <tr>\n",
       "      <th>81</th>\n",
       "      <td>15072.915776</td>\n",
       "    </tr>\n",
       "    <tr>\n",
       "      <th>82</th>\n",
       "      <td>14220.111288</td>\n",
       "    </tr>\n",
       "    <tr>\n",
       "      <th>83</th>\n",
       "      <td>2916.461012</td>\n",
       "    </tr>\n",
       "    <tr>\n",
       "      <th>85</th>\n",
       "      <td>1867.875833</td>\n",
       "    </tr>\n",
       "    <tr>\n",
       "      <th>87</th>\n",
       "      <td>12156.103336</td>\n",
       "    </tr>\n",
       "    <tr>\n",
       "      <th>90</th>\n",
       "      <td>19972.712992</td>\n",
       "    </tr>\n",
       "    <tr>\n",
       "      <th>91</th>\n",
       "      <td>18123.484270</td>\n",
       "    </tr>\n",
       "    <tr>\n",
       "      <th>92</th>\n",
       "      <td>27024.767001</td>\n",
       "    </tr>\n",
       "    <tr>\n",
       "      <th>93</th>\n",
       "      <td>18215.858713</td>\n",
       "    </tr>\n",
       "    <tr>\n",
       "      <th>94</th>\n",
       "      <td>19039.295660</td>\n",
       "    </tr>\n",
       "    <tr>\n",
       "      <th>95</th>\n",
       "      <td>32229.976574</td>\n",
       "    </tr>\n",
       "    <tr>\n",
       "      <th>96</th>\n",
       "      <td>14603.937126</td>\n",
       "    </tr>\n",
       "    <tr>\n",
       "      <th>97</th>\n",
       "      <td>13825.709128</td>\n",
       "    </tr>\n",
       "    <tr>\n",
       "      <th>98</th>\n",
       "      <td>6365.422086</td>\n",
       "    </tr>\n",
       "  </tbody>\n",
       "</table>\n",
       "</div>"
      ],
      "text/plain": [
       "               0\n",
       "1   16265.037965\n",
       "2   25142.701662\n",
       "3    9879.454810\n",
       "4   22691.709758\n",
       "5   17067.647323\n",
       "6    4233.906844\n",
       "7   17325.829687\n",
       "8   24235.145082\n",
       "9   16573.429222\n",
       "10  16847.065568\n",
       "11  13705.508926\n",
       "12   3791.994988\n",
       "13  24705.941230\n",
       "14  13643.646064\n",
       "16  11291.505493\n",
       "17   9699.481054\n",
       "18   4904.035665\n",
       "19   1221.845807\n",
       "20   5125.609090\n",
       "21   4488.794095\n",
       "22  10340.179433\n",
       "23  20767.534264\n",
       "24   5910.134073\n",
       "25   8456.337863\n",
       "26   7084.449248\n",
       "27   1142.215089\n",
       "28    191.194995\n",
       "29   5154.719018\n",
       "30   3687.926814\n",
       "31   1909.740763\n",
       "32   6179.213612\n",
       "33   5967.757682\n",
       "34  14784.895895\n",
       "35   2479.900847\n",
       "36   1576.315818\n",
       "37   2687.190233\n",
       "38  35454.081925\n",
       "39   -406.435048\n",
       "40  28561.529869\n",
       "41   1527.188193\n",
       "42   4778.996767\n",
       "43   -415.717869\n",
       "44   4198.501851\n",
       "45   -393.818768\n",
       "46  18277.418019\n",
       "47   -421.682982\n",
       "48    886.427841\n",
       "49   7743.913687\n",
       "50   2210.883898\n",
       "51   -395.867151\n",
       "52   1521.744782\n",
       "54   -312.466130\n",
       "55   9487.223104\n",
       "56   3236.074911\n",
       "58   3297.066714\n",
       "59    187.217953\n",
       "60    -74.020649\n",
       "65  38938.553983\n",
       "67   6933.131024\n",
       "71   5272.922278\n",
       "72  24801.663105\n",
       "74  13225.183138\n",
       "77    -94.723768\n",
       "78   -409.432445\n",
       "79  19718.615531\n",
       "80  11792.545667\n",
       "81  15072.915776\n",
       "82  14220.111288\n",
       "83   2916.461012\n",
       "85   1867.875833\n",
       "87  12156.103336\n",
       "90  19972.712992\n",
       "91  18123.484270\n",
       "92  27024.767001\n",
       "93  18215.858713\n",
       "94  19039.295660\n",
       "95  32229.976574\n",
       "96  14603.937126\n",
       "97  13825.709128\n",
       "98   6365.422086"
      ]
     },
     "execution_count": 64,
     "metadata": {},
     "output_type": "execute_result"
    }
   ],
   "source": [
    "pd.set_option('max_rows', None)\n",
    "coeff_results"
   ]
  },
  {
   "cell_type": "code",
   "execution_count": 65,
   "metadata": {},
   "outputs": [
    {
     "data": {
      "text/plain": [
       "'According to the coefficients, the department that has more direct relation with the number of sales is the department number 65'"
      ]
     },
     "execution_count": 65,
     "metadata": {},
     "output_type": "execute_result"
    }
   ],
   "source": [
    "'''According to the coefficients, the department that has more direct relation with the number of sales is the department number 65'''"
   ]
  }
 ],
 "metadata": {
  "kernelspec": {
   "display_name": "Python 3",
   "language": "python",
   "name": "python3"
  },
  "language_info": {
   "codemirror_mode": {
    "name": "ipython",
    "version": 3
   },
   "file_extension": ".py",
   "mimetype": "text/x-python",
   "name": "python",
   "nbconvert_exporter": "python",
   "pygments_lexer": "ipython3",
   "version": "3.7.4"
  }
 },
 "nbformat": 4,
 "nbformat_minor": 2
}

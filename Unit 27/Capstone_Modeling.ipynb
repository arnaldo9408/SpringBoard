{
 "cells": [
  {
   "cell_type": "markdown",
   "metadata": {},
   "source": [
    "##### On this jupyter notebook, we are continuing our project. We are using the previous data wrangling project we already made to proceed with the modeling part. \n",
    "\n",
    "\n",
    "##### The modeling part is about to predict how different stock prices (Apple, American Airlines, and Tesla) will move as function of the time and oil.\n",
    "\n",
    "\n",
    "##### We will be doing two regression types. Standard Regression and Gradient Boosting Regressor. On this step, we are comparing standarized data and data without standarization.\n",
    "\n",
    "\n",
    "##### After doing the regressions, we will be performing ARIMAX and SARIMAX analysis. We would be comparing the different models, the outcomes, computing errors, comparing with test data, and finally doing forecasting.\n",
    "\n",
    "\n",
    "##### Finally, we are concluding what model is better if we want to predict stock prices, the advantages and disadvantages of the models, etc."
   ]
  },
  {
   "cell_type": "code",
   "execution_count": 1,
   "metadata": {},
   "outputs": [],
   "source": [
    "#Import libraries\n",
    "import pandas as pd\n",
    "from pandas_datareader.data import DataReader\n",
    "import datetime\n",
    "import functools\n",
    "import matplotlib.pyplot as plt\n",
    "import warnings\n",
    "import seaborn as sns\n",
    "from statsmodels.graphics.tsaplots import plot_acf\n",
    "from statsmodels.tsa.seasonal import seasonal_decompose\n",
    "import numpy as np\n",
    "from sklearn.model_selection import cross_val_score\n",
    "from sklearn.model_selection import GridSearchCV\n",
    "from sklearn.ensemble import GradientBoostingRegressor\n",
    "from statsmodels.tsa.arima_process import ArmaProcess\n",
    "from statsmodels.tsa.stattools import kpss\n",
    "import sys\n",
    "from sklearn.metrics import mean_squared_error\n",
    "from statsmodels.tsa.arima_model import ARIMA\n",
    "from statsmodels.tsa.statespace.sarimax import SARIMAX\n",
    "from sklearn.linear_model import LinearRegression"
   ]
  },
  {
   "cell_type": "markdown",
   "metadata": {},
   "source": [
    "#### Insights from the data visualization"
   ]
  },
  {
   "cell_type": "markdown",
   "metadata": {},
   "source": [
    "- As expected, Tesla stock is the less correlated with the oil price and American Airlines the most correlated with the oil price.\n",
    "\n",
    "\n",
    "- Regarding the correlation result for American Airlines, we have a following hypothesis: If there is an increase on the oil price is because the increase of the demand. People around the world are traveling, so there is more customers on the airline industry, so therefore an increase on its revenues. If the company does well, investors acquire stocks, and therefore stock price also increases.\n",
    "\n",
    "\n",
    "- For Tesla we have the following hypothesis: Oil prices roses the lowest value in their history. Tesla on the other hand, they have their highest stock price. To remark, oil prices are down and Tesla stock prices are high, so that's why we can support their negative correlation.  Same can be explained with Apple. \n",
    "\n",
    "\n",
    "- In the future, we could have the following hypothesis to what is going to happen between Tesla and its stock price: Oil prices could continue going down due to the use of fraking. People may not see Tesla as savings to their budget since it would be cheaper to just continue using regular gas, thereby Tesla revenues would go down and therefore their stock price as well. On the other hand, people may also want to help the work by making it more ecological can continue increasing Tesla revenues and therefore their stock price.\n",
    "\n",
    "\n",
    "- JinkoSolar Holding is close to be not correlated with oil price. Therefore, we could conclude they are independ of how the oil price, but there is a small inclination that if oil price decrease, there would be an increase on the stocks. \n"
   ]
  },
  {
   "cell_type": "code",
   "execution_count": 2,
   "metadata": {},
   "outputs": [],
   "source": [
    "# Create a function that reads the data from yahoo finance\n",
    "def stock_data(ticker, data_source, start, end):\n",
    "    df = DataReader(ticker, data_source, start, end)['Adj Close']\n",
    "    df = df.to_frame(ticker) \n",
    "    return df"
   ]
  },
  {
   "cell_type": "code",
   "execution_count": 3,
   "metadata": {},
   "outputs": [],
   "source": [
    "#Define variables of data source, start and end date\n",
    "start = datetime.date(2000,1,1)\n",
    "end = datetime.date(2020,8,31)\n",
    "source = 'yahoo'"
   ]
  },
  {
   "cell_type": "code",
   "execution_count": 4,
   "metadata": {},
   "outputs": [],
   "source": [
    "#Get the data from the stocks we would like to make the data serie analysis\n",
    "jks = stock_data('JKS', source, start, end)\n",
    "aal = stock_data('AAL', source, start, end)\n",
    "tsla = stock_data('TSLA', source, start, end)"
   ]
  },
  {
   "cell_type": "code",
   "execution_count": 5,
   "metadata": {},
   "outputs": [],
   "source": [
    "#Read the oil price\n",
    "oil = pd.read_csv('OPEC-ORB.csv', index_col = 0)\n",
    "oil.index = pd.to_datetime(oil.index)\n",
    "oil.rename( columns = {'Value': 'Oil Price'}, inplace = True)"
   ]
  },
  {
   "cell_type": "code",
   "execution_count": 6,
   "metadata": {},
   "outputs": [],
   "source": [
    "# Define a function to merge the different data frames\n",
    "def merge_df(df1, df2, df3, df4):\n",
    "    df = [df1, df2, df3, df4]\n",
    "    return functools.reduce(lambda left, right : pd.merge(left, right, how = 'inner', on = 'Date'), df)"
   ]
  },
  {
   "cell_type": "code",
   "execution_count": 7,
   "metadata": {},
   "outputs": [],
   "source": [
    "#Data Frame we are going to make the times series\n",
    "df = merge_df(oil, jks, aal,tsla).sort_values(by = 'Date', ascending = True)"
   ]
  },
  {
   "cell_type": "markdown",
   "metadata": {},
   "source": [
    "# Modeling"
   ]
  },
  {
   "cell_type": "markdown",
   "metadata": {},
   "source": [
    "#### Now we are in the modeling part. We are creating different X and Y arrays for each method. With method I'm referring to linear methods and sesonality methods"
   ]
  },
  {
   "cell_type": "markdown",
   "metadata": {},
   "source": [
    "### Create the y and x arrays  for Regressions"
   ]
  },
  {
   "cell_type": "code",
   "execution_count": 8,
   "metadata": {},
   "outputs": [],
   "source": [
    "#Divide between train and test data\n",
    "#For time series, we would divide in consecutive train and test data set"
   ]
  },
  {
   "cell_type": "code",
   "execution_count": 9,
   "metadata": {},
   "outputs": [],
   "source": [
    "#Reset Index to have date as categorical variables to run linear models\n",
    "df2 = df.reset_index(inplace = True)"
   ]
  },
  {
   "cell_type": "code",
   "execution_count": 10,
   "metadata": {},
   "outputs": [],
   "source": [
    "#Create the Date as categorical variables\n",
    "df_date = pd.DataFrame()\n",
    "\n",
    "df_date['Year'] = pd.Series(df['Date'])\n",
    "df_date['Year'] = pd.DatetimeIndex(df_date['Year']).year\n",
    "\n",
    "df_date['Month'] = pd.Series(df['Date'])\n",
    "df_date['Month'] = pd.DatetimeIndex(df_date['Month']).month\n",
    "\n",
    "df_date['Day'] = pd.Series(df['Date'])\n",
    "df_date['Day'] = pd.DatetimeIndex(df_date['Day']).day"
   ]
  },
  {
   "cell_type": "code",
   "execution_count": 11,
   "metadata": {},
   "outputs": [],
   "source": [
    "#Drop the current date column\n",
    "df2 = df.drop(columns = 'Date', axis = 1)"
   ]
  },
  {
   "cell_type": "code",
   "execution_count": 12,
   "metadata": {},
   "outputs": [],
   "source": [
    "#Concat the data frame data function as categorical variable with the stock and oil prices\n",
    "df2 = pd.concat([df_date, df], axis = 1)"
   ]
  },
  {
   "cell_type": "code",
   "execution_count": 13,
   "metadata": {},
   "outputs": [
    {
     "data": {
      "text/html": [
       "<div>\n",
       "<style scoped>\n",
       "    .dataframe tbody tr th:only-of-type {\n",
       "        vertical-align: middle;\n",
       "    }\n",
       "\n",
       "    .dataframe tbody tr th {\n",
       "        vertical-align: top;\n",
       "    }\n",
       "\n",
       "    .dataframe thead th {\n",
       "        text-align: right;\n",
       "    }\n",
       "</style>\n",
       "<table border=\"1\" class=\"dataframe\">\n",
       "  <thead>\n",
       "    <tr style=\"text-align: right;\">\n",
       "      <th></th>\n",
       "      <th>Year</th>\n",
       "      <th>Month</th>\n",
       "      <th>Day</th>\n",
       "      <th>Date</th>\n",
       "      <th>Oil Price</th>\n",
       "      <th>JKS</th>\n",
       "      <th>AAL</th>\n",
       "      <th>TSLA</th>\n",
       "    </tr>\n",
       "  </thead>\n",
       "  <tbody>\n",
       "    <tr>\n",
       "      <th>0</th>\n",
       "      <td>2010</td>\n",
       "      <td>6</td>\n",
       "      <td>29</td>\n",
       "      <td>2010-06-29</td>\n",
       "      <td>72.66</td>\n",
       "      <td>9.96</td>\n",
       "      <td>8.051013</td>\n",
       "      <td>4.778</td>\n",
       "    </tr>\n",
       "    <tr>\n",
       "      <th>1</th>\n",
       "      <td>2010</td>\n",
       "      <td>6</td>\n",
       "      <td>30</td>\n",
       "      <td>2010-06-30</td>\n",
       "      <td>72.49</td>\n",
       "      <td>9.70</td>\n",
       "      <td>8.117004</td>\n",
       "      <td>4.766</td>\n",
       "    </tr>\n",
       "    <tr>\n",
       "      <th>2</th>\n",
       "      <td>2010</td>\n",
       "      <td>7</td>\n",
       "      <td>1</td>\n",
       "      <td>2010-07-01</td>\n",
       "      <td>70.48</td>\n",
       "      <td>9.80</td>\n",
       "      <td>8.154712</td>\n",
       "      <td>4.392</td>\n",
       "    </tr>\n",
       "    <tr>\n",
       "      <th>3</th>\n",
       "      <td>2010</td>\n",
       "      <td>7</td>\n",
       "      <td>2</td>\n",
       "      <td>2010-07-02</td>\n",
       "      <td>69.63</td>\n",
       "      <td>10.21</td>\n",
       "      <td>7.721052</td>\n",
       "      <td>3.840</td>\n",
       "    </tr>\n",
       "    <tr>\n",
       "      <th>4</th>\n",
       "      <td>2010</td>\n",
       "      <td>7</td>\n",
       "      <td>6</td>\n",
       "      <td>2010-07-06</td>\n",
       "      <td>69.73</td>\n",
       "      <td>10.79</td>\n",
       "      <td>7.617351</td>\n",
       "      <td>3.222</td>\n",
       "    </tr>\n",
       "  </tbody>\n",
       "</table>\n",
       "</div>"
      ],
      "text/plain": [
       "   Year  Month  Day       Date  Oil Price    JKS       AAL   TSLA\n",
       "0  2010      6   29 2010-06-29      72.66   9.96  8.051013  4.778\n",
       "1  2010      6   30 2010-06-30      72.49   9.70  8.117004  4.766\n",
       "2  2010      7    1 2010-07-01      70.48   9.80  8.154712  4.392\n",
       "3  2010      7    2 2010-07-02      69.63  10.21  7.721052  3.840\n",
       "4  2010      7    6 2010-07-06      69.73  10.79  7.617351  3.222"
      ]
     },
     "execution_count": 13,
     "metadata": {},
     "output_type": "execute_result"
    }
   ],
   "source": [
    "#See how the data frame looks like \n",
    "df2.head()"
   ]
  },
  {
   "cell_type": "code",
   "execution_count": 14,
   "metadata": {},
   "outputs": [],
   "source": [
    "#Create our X array for the regressions\n",
    "X = df2[['Year','Month', 'Day', 'Oil Price']].values"
   ]
  },
  {
   "cell_type": "code",
   "execution_count": 15,
   "metadata": {},
   "outputs": [],
   "source": [
    "#Create the y arrays\n",
    "y = df2.iloc[:,4:].values"
   ]
  },
  {
   "cell_type": "code",
   "execution_count": 16,
   "metadata": {},
   "outputs": [],
   "source": [
    "#Dependant Variable\n",
    "y_oil = df2['Oil Price']\n",
    "y_jks = df2['JKS']\n",
    "y_aal = df2['AAL']\n",
    "y_tsla = df2['TSLA']"
   ]
  },
  {
   "cell_type": "markdown",
   "metadata": {},
   "source": [
    "#### Divide into train and test data"
   ]
  },
  {
   "cell_type": "code",
   "execution_count": 17,
   "metadata": {},
   "outputs": [],
   "source": [
    "#Define the 80% of the data as train data and 20% as test data\n",
    "q3 = int(len(y)*0.8)\n",
    "q1 = int(len(y) *0.2)"
   ]
  },
  {
   "cell_type": "code",
   "execution_count": 18,
   "metadata": {},
   "outputs": [],
   "source": [
    "#Define train function\n",
    "def train(array):\n",
    "    return array[:q3]"
   ]
  },
  {
   "cell_type": "code",
   "execution_count": 19,
   "metadata": {},
   "outputs": [],
   "source": [
    "#Define test\n",
    "def test(array):\n",
    "    return array[q3:]"
   ]
  },
  {
   "cell_type": "code",
   "execution_count": 20,
   "metadata": {},
   "outputs": [],
   "source": [
    "#X train and test array\n",
    "X_train = train(X)\n",
    "X_test = test(X)"
   ]
  },
  {
   "cell_type": "code",
   "execution_count": 21,
   "metadata": {},
   "outputs": [],
   "source": [
    "# y train and test array\n",
    "y_train = train(y)\n",
    "y_test = test(y)"
   ]
  },
  {
   "cell_type": "markdown",
   "metadata": {},
   "source": [
    "#### Define arrays for each stock"
   ]
  },
  {
   "cell_type": "code",
   "execution_count": 22,
   "metadata": {},
   "outputs": [],
   "source": [
    "#Apple Stock\n",
    "y_jks_train = [i[1] for i in y_train]\n",
    "y_jks_test = [i[1] for i in y_test]"
   ]
  },
  {
   "cell_type": "code",
   "execution_count": 23,
   "metadata": {},
   "outputs": [],
   "source": [
    "# American Airlines Stock\n",
    "y_aal_train = [i[2] for i in y_train]\n",
    "y_aal_test = [i[2] for i in y_test]"
   ]
  },
  {
   "cell_type": "code",
   "execution_count": 24,
   "metadata": {},
   "outputs": [],
   "source": [
    "#Tesla Stock\n",
    "y_tsla_train = [i[3] for i in y_train]\n",
    "y_tsla_test = [i[3] for i in y_test]"
   ]
  },
  {
   "cell_type": "markdown",
   "metadata": {},
   "source": [
    "## Standarization"
   ]
  },
  {
   "cell_type": "markdown",
   "metadata": {},
   "source": [
    "I am also doing standarization in order to compare the results between standarized and not standarized data and see which model performs the best."
   ]
  },
  {
   "cell_type": "markdown",
   "metadata": {},
   "source": [
    "#### Standarization"
   ]
  },
  {
   "cell_type": "code",
   "execution_count": 25,
   "metadata": {},
   "outputs": [],
   "source": [
    "#Import the library\n",
    "from sklearn.preprocessing import StandardScaler"
   ]
  },
  {
   "cell_type": "code",
   "execution_count": 26,
   "metadata": {},
   "outputs": [],
   "source": [
    "#Apply the scaler on the x_train\n",
    "def scaler(array):\n",
    "    scaler = StandardScaler()\n",
    "    return scaler.fit_transform(array)"
   ]
  },
  {
   "cell_type": "code",
   "execution_count": 27,
   "metadata": {},
   "outputs": [],
   "source": [
    "# Standarization \n",
    "X_train_scaler = scaler(X_train)\n",
    "X_test_scaler = scaler(X_test)"
   ]
  },
  {
   "cell_type": "markdown",
   "metadata": {},
   "source": [
    "## Regressions"
   ]
  },
  {
   "cell_type": "markdown",
   "metadata": {},
   "source": [
    "#### We are defining functions that do the linear model. This is to make the code reusable as soon as I want to add a new stock or group of stocks."
   ]
  },
  {
   "cell_type": "code",
   "execution_count": 28,
   "metadata": {},
   "outputs": [],
   "source": [
    "#Define a function for the train score\n",
    "def reg_train_score(model,x_train, y_train):\n",
    "    return model.score(x_train, y_train)"
   ]
  },
  {
   "cell_type": "code",
   "execution_count": 29,
   "metadata": {},
   "outputs": [],
   "source": [
    "#Define a function for the test score\n",
    "def reg_test_score(model, x_test, y_test):\n",
    "    return model.score(x_test, y_test)"
   ]
  },
  {
   "cell_type": "code",
   "execution_count": 30,
   "metadata": {},
   "outputs": [],
   "source": [
    "#Define the function for normal regression use the models we want to use to predict the stock prices in the future\n",
    "def regression_fit(model, x_train, y_train):\n",
    "    reg = model()\n",
    "    return reg.fit(x_train, y_train)"
   ]
  },
  {
   "cell_type": "code",
   "execution_count": 31,
   "metadata": {},
   "outputs": [],
   "source": [
    "#Define a function for Gradient Boosting Regressor\n",
    "def regression_fit_gradient(model, x_train, y_train, learning_rate, max_depth, n_estimators, tol):\n",
    "    reg = model(learning_rate = learning_rate, n_estimators = n_estimators, max_depth = max_depth, tol = tol)\n",
    "    return reg.fit(x_train, y_train)"
   ]
  },
  {
   "cell_type": "code",
   "execution_count": 32,
   "metadata": {},
   "outputs": [],
   "source": [
    "#Define a function for the prediction\n",
    "def regression_prediction(regression_fit, x_test):\n",
    "    predict = regression_fit.predict(x_test)\n",
    "    return predict"
   ]
  },
  {
   "cell_type": "code",
   "execution_count": 33,
   "metadata": {},
   "outputs": [],
   "source": [
    "#Define a function to plot\n",
    "def plot_regression(y_test, regression_prediction):\n",
    "    plt.scatter(y_test, regression_prediction, color = 'black')\n",
    "    x0 = min(y_test)\n",
    "    x1 = max(y_test)\n",
    "    y0 = min(regression_prediction)\n",
    "    y1 = max(regression_prediction)\n",
    "    plt.plot([x0,x1], [y0, y1], color = 'red')\n",
    "    plt.xlabel('Actual Stock Price')\n",
    "    plt.ylabel('Predicted Stock Price')\n",
    "    plt.title('Actual vs Predicted Stock Price')\n",
    "    return plt.show()"
   ]
  },
  {
   "cell_type": "code",
   "execution_count": 34,
   "metadata": {},
   "outputs": [],
   "source": [
    "#Define a function to create a data frame for the coefficients\n",
    "def coefficients(reg):\n",
    "    coefficients = pd.DataFrame()\n",
    "    coefficients['Variable'] = ['Year', 'Month', 'Day', 'Oil Price']\n",
    "    coefficients['Coefficients'] = reg.coef_\n",
    "    return coefficients"
   ]
  },
  {
   "cell_type": "code",
   "execution_count": 35,
   "metadata": {},
   "outputs": [],
   "source": [
    "#Define a function for Cross Validation\n",
    "def grid_search(model, param_grid, x_train, y_train,cv = 3):\n",
    "    model = model()\n",
    "    model_cv = GridSearchCV(model, param_grid, cv = 3)\n",
    "    model_cv.fit(x_train, y_train)\n",
    "    print('Based on the Cross Validation, the best parameters were:',\n",
    "          model_cv.best_params_)"
   ]
  },
  {
   "cell_type": "markdown",
   "metadata": {},
   "source": [
    "### JinkoSolar Holding"
   ]
  },
  {
   "cell_type": "markdown",
   "metadata": {},
   "source": [
    "#### Standard Regression"
   ]
  },
  {
   "cell_type": "code",
   "execution_count": 36,
   "metadata": {},
   "outputs": [],
   "source": [
    "#Create the model for Apple\n",
    "reg = regression_fit(LinearRegression, X_train, y_jks_train)\n",
    "#See the predictions\n",
    "predict = regression_prediction(reg, X_test)"
   ]
  },
  {
   "cell_type": "code",
   "execution_count": 37,
   "metadata": {},
   "outputs": [
    {
     "data": {
      "image/png": "[encoded data removed]",
      "text/plain": [
       "<Figure size 432x288 with 1 Axes>"
      ]
     },
     "metadata": {
      "needs_background": "light"
     },
     "output_type": "display_data"
    }
   ],
   "source": [
    "#Plot the results\n",
    "plot_regression(y_jks_test, predict)"
   ]
  },
  {
   "cell_type": "code",
   "execution_count": 38,
   "metadata": {},
   "outputs": [
    {
     "name": "stdout",
     "output_type": "stream",
     "text": [
      "The train and the test score are 0.09038467348536905 and -0.6632474535258568 respectively\n"
     ]
    }
   ],
   "source": [
    "#Print the scores\n",
    "print('The train and the test score are {} and {} respectively'.format(reg_train_score(reg,X_train, y_jks_train), \n",
    "                                                                reg_test_score(reg, X_test, y_jks_test)))"
   ]
  },
  {
   "cell_type": "code",
   "execution_count": 39,
   "metadata": {},
   "outputs": [
    {
     "data": {
      "text/plain": [
       "12888.428057755003"
      ]
     },
     "execution_count": 39,
     "metadata": {},
     "output_type": "execute_result"
    }
   ],
   "source": [
    "mean_squared_error(y_tsla_test, predict)"
   ]
  },
  {
   "cell_type": "code",
   "execution_count": 40,
   "metadata": {},
   "outputs": [
    {
     "data": {
      "text/html": [
       "<div>\n",
       "<style scoped>\n",
       "    .dataframe tbody tr th:only-of-type {\n",
       "        vertical-align: middle;\n",
       "    }\n",
       "\n",
       "    .dataframe tbody tr th {\n",
       "        vertical-align: top;\n",
       "    }\n",
       "\n",
       "    .dataframe thead th {\n",
       "        text-align: right;\n",
       "    }\n",
       "</style>\n",
       "<table border=\"1\" class=\"dataframe\">\n",
       "  <thead>\n",
       "    <tr style=\"text-align: right;\">\n",
       "      <th></th>\n",
       "      <th>Variable</th>\n",
       "      <th>Coefficients</th>\n",
       "    </tr>\n",
       "  </thead>\n",
       "  <tbody>\n",
       "    <tr>\n",
       "      <th>0</th>\n",
       "      <td>Year</td>\n",
       "      <td>-0.052908</td>\n",
       "    </tr>\n",
       "    <tr>\n",
       "      <th>1</th>\n",
       "      <td>Month</td>\n",
       "      <td>0.011791</td>\n",
       "    </tr>\n",
       "    <tr>\n",
       "      <th>2</th>\n",
       "      <td>Day</td>\n",
       "      <td>-0.002653</td>\n",
       "    </tr>\n",
       "    <tr>\n",
       "      <th>3</th>\n",
       "      <td>Oil Price</td>\n",
       "      <td>-0.094551</td>\n",
       "    </tr>\n",
       "  </tbody>\n",
       "</table>\n",
       "</div>"
      ],
      "text/plain": [
       "    Variable  Coefficients\n",
       "0       Year     -0.052908\n",
       "1      Month      0.011791\n",
       "2        Day     -0.002653\n",
       "3  Oil Price     -0.094551"
      ]
     },
     "execution_count": 40,
     "metadata": {},
     "output_type": "execute_result"
    }
   ],
   "source": [
    "#See the coefficients for the Standard Linear Regression\n",
    "coefficients(reg = reg)"
   ]
  },
  {
   "cell_type": "markdown",
   "metadata": {},
   "source": [
    "#### Standard Regression with Standarization"
   ]
  },
  {
   "cell_type": "code",
   "execution_count": 41,
   "metadata": {},
   "outputs": [],
   "source": [
    "#Create the model for Apple\n",
    "reg = regression_fit(LinearRegression, X_train_scaler, y_jks_train)\n",
    "#See the predictions\n",
    "predict = regression_prediction(reg, X_test_scaler)"
   ]
  },
  {
   "cell_type": "code",
   "execution_count": 42,
   "metadata": {},
   "outputs": [
    {
     "data": {
      "image/png": "[encoded data removed]",
      "text/plain": [
       "<Figure size 432x288 with 1 Axes>"
      ]
     },
     "metadata": {
      "needs_background": "light"
     },
     "output_type": "display_data"
    }
   ],
   "source": [
    "#Plot the results\n",
    "plot_regression(y_jks_test, predict)"
   ]
  },
  {
   "cell_type": "code",
   "execution_count": 43,
   "metadata": {},
   "outputs": [
    {
     "name": "stdout",
     "output_type": "stream",
     "text": [
      "The train and the test score are 0.09038467348536938 and -0.41424093892491487 respectively\n"
     ]
    }
   ],
   "source": [
    "#Print the scores\n",
    "print('The train and the test score are {} and {} respectively'.format(reg_train_score(reg,X_train_scaler, y_jks_train), \n",
    "                                                                reg_test_score(reg, X_test_scaler, y_jks_test)))"
   ]
  },
  {
   "cell_type": "code",
   "execution_count": 44,
   "metadata": {},
   "outputs": [
    {
     "data": {
      "text/plain": [
       "13088.064025379654"
      ]
     },
     "execution_count": 44,
     "metadata": {},
     "output_type": "execute_result"
    }
   ],
   "source": [
    "mean_squared_error(y_tsla_test, predict)"
   ]
  },
  {
   "cell_type": "markdown",
   "metadata": {},
   "source": [
    "#### Gradient Boosting Regressor"
   ]
  },
  {
   "cell_type": "code",
   "execution_count": 45,
   "metadata": {},
   "outputs": [],
   "source": [
    "#Establish possible parameters to do the Grid Search\n",
    "param_grid = {'learning_rate': [0.1, 1.0],\n",
    "             'n_estimators': [100, 250],\n",
    "             'max_depth': [3, 5],\n",
    "             'tol': [0.0001, 0.01, 1]}"
   ]
  },
  {
   "cell_type": "code",
   "execution_count": 46,
   "metadata": {},
   "outputs": [
    {
     "name": "stdout",
     "output_type": "stream",
     "text": [
      "Based on the Cross Validation, the best parameters were: {'learning_rate': 0.1, 'max_depth': 3, 'n_estimators': 100, 'tol': 0.01}\n"
     ]
    }
   ],
   "source": [
    "#Use the function we previously defined\n",
    "warnings.simplefilter(\"ignore\")\n",
    "grid_search(GradientBoostingRegressor, param_grid, X_train, y_jks_train,cv = 3)"
   ]
  },
  {
   "cell_type": "code",
   "execution_count": 47,
   "metadata": {},
   "outputs": [],
   "source": [
    "#Fit the model\n",
    "reg = regression_fit_gradient(GradientBoostingRegressor, X_train, y_jks_train, learning_rate =\n",
    "                        0.1, max_depth = 3, n_estimators = 100, tol = 0.0001)\n",
    "#Make the predictions\n",
    "reg_pred = regression_prediction(reg, X_test)"
   ]
  },
  {
   "cell_type": "code",
   "execution_count": 48,
   "metadata": {},
   "outputs": [
    {
     "data": {
      "image/png": "[encoded data removed]",
      "text/plain": [
       "<Figure size 432x288 with 1 Axes>"
      ]
     },
     "metadata": {
      "needs_background": "light"
     },
     "output_type": "display_data"
    }
   ],
   "source": [
    "#Plot the results\n",
    "plot_regression(y_jks_test, reg_pred)"
   ]
  },
  {
   "cell_type": "code",
   "execution_count": 49,
   "metadata": {},
   "outputs": [
    {
     "name": "stdout",
     "output_type": "stream",
     "text": [
      "The train and the test score are 0.9349237071442831 and -0.0863403843787951 respectively\n"
     ]
    }
   ],
   "source": [
    "#Print the scores\n",
    "print('The train and the test score are {} and {} respectively'.format(reg_train_score(reg,X_train, y_jks_train), \n",
    "                                                                reg_test_score(reg, X_test, y_jks_test)))"
   ]
  },
  {
   "cell_type": "code",
   "execution_count": 50,
   "metadata": {},
   "outputs": [
    {
     "data": {
      "text/plain": [
       "20.130786758317782"
      ]
     },
     "execution_count": 50,
     "metadata": {},
     "output_type": "execute_result"
    }
   ],
   "source": [
    "mean_squared_error(y_jks_test, reg_pred)"
   ]
  },
  {
   "cell_type": "markdown",
   "metadata": {},
   "source": [
    "#### Gradient Boosting Classifier with Standarization"
   ]
  },
  {
   "cell_type": "code",
   "execution_count": 51,
   "metadata": {},
   "outputs": [
    {
     "name": "stdout",
     "output_type": "stream",
     "text": [
      "Based on the Cross Validation, the best parameters were: {'learning_rate': 0.1, 'max_depth': 3, 'n_estimators': 100, 'tol': 0.01}\n"
     ]
    }
   ],
   "source": [
    "#Use the function we previously defined\n",
    "warnings.simplefilter(\"ignore\")\n",
    "grid_search(GradientBoostingRegressor, param_grid, X_train_scaler, y_jks_train,cv = 3)"
   ]
  },
  {
   "cell_type": "code",
   "execution_count": 52,
   "metadata": {},
   "outputs": [],
   "source": [
    "#Fit the model\n",
    "reg = regression_fit_gradient(GradientBoostingRegressor, X_train, y_jks_train, learning_rate =\n",
    "                        0.1, max_depth = 3, n_estimators = 100, tol = 0.0001)\n",
    "#Make the predictions\n",
    "reg_pred = regression_prediction(reg, X_test)"
   ]
  },
  {
   "cell_type": "code",
   "execution_count": 53,
   "metadata": {},
   "outputs": [
    {
     "data": {
      "image/png": "[encoded data removed]",
      "text/plain": [
       "<Figure size 432x288 with 1 Axes>"
      ]
     },
     "metadata": {
      "needs_background": "light"
     },
     "output_type": "display_data"
    }
   ],
   "source": [
    "#Plot the results\n",
    "plot_regression(y_jks_test, reg_pred)"
   ]
  },
  {
   "cell_type": "code",
   "execution_count": 54,
   "metadata": {},
   "outputs": [
    {
     "name": "stdout",
     "output_type": "stream",
     "text": [
      "The train and the test score are -0.94671046775589 and -2.469791343152656 respectively\n"
     ]
    }
   ],
   "source": [
    "#Print the scores\n",
    "print('The train and the test score are {} and {} respectively'.format(reg_train_score(reg,X_train_scaler, y_jks_train), \n",
    "                                                                reg_test_score(reg, X_test_scaler, y_jks_test)))"
   ]
  },
  {
   "cell_type": "code",
   "execution_count": 55,
   "metadata": {},
   "outputs": [
    {
     "data": {
      "text/plain": [
       "20.291968883418846"
      ]
     },
     "execution_count": 55,
     "metadata": {},
     "output_type": "execute_result"
    }
   ],
   "source": [
    "mean_squared_error(y_jks_test, reg_pred)"
   ]
  },
  {
   "cell_type": "markdown",
   "metadata": {},
   "source": [
    "### American Airlines"
   ]
  },
  {
   "cell_type": "markdown",
   "metadata": {},
   "source": [
    "#### Standard Regression"
   ]
  },
  {
   "cell_type": "code",
   "execution_count": 56,
   "metadata": {},
   "outputs": [],
   "source": [
    "#Create the model for American Airlines\n",
    "reg = regression_fit(LinearRegression, X_train, y_aal_train)\n",
    "#See the predictions\n",
    "predict = regression_prediction(reg, X_test)"
   ]
  },
  {
   "cell_type": "code",
   "execution_count": 57,
   "metadata": {},
   "outputs": [
    {
     "data": {
      "image/png": "[encoded data removed]",
      "text/plain": [
       "<Figure size 432x288 with 1 Axes>"
      ]
     },
     "metadata": {
      "needs_background": "light"
     },
     "output_type": "display_data"
    }
   ],
   "source": [
    "#Plot the results\n",
    "plot_regression(y_aal_test, predict)"
   ]
  },
  {
   "cell_type": "code",
   "execution_count": 58,
   "metadata": {},
   "outputs": [
    {
     "name": "stdout",
     "output_type": "stream",
     "text": [
      "The train and the test score are 0.8355231390268394 and -12.415163543793538 respectively\n"
     ]
    }
   ],
   "source": [
    "#Print the scores\n",
    "print('The train and the test score are {} and {} respectively'.format(reg_train_score(reg,X_train, y_aal_train), \n",
    "                                                                reg_test_score(reg, X_test, y_aal_test)))"
   ]
  },
  {
   "cell_type": "code",
   "execution_count": 59,
   "metadata": {},
   "outputs": [
    {
     "data": {
      "text/plain": [
       "8038.288599704931"
      ]
     },
     "execution_count": 59,
     "metadata": {},
     "output_type": "execute_result"
    }
   ],
   "source": [
    "mean_squared_error(y_tsla_test, predict)"
   ]
  },
  {
   "cell_type": "code",
   "execution_count": 60,
   "metadata": {},
   "outputs": [
    {
     "data": {
      "text/html": [
       "<div>\n",
       "<style scoped>\n",
       "    .dataframe tbody tr th:only-of-type {\n",
       "        vertical-align: middle;\n",
       "    }\n",
       "\n",
       "    .dataframe tbody tr th {\n",
       "        vertical-align: top;\n",
       "    }\n",
       "\n",
       "    .dataframe thead th {\n",
       "        text-align: right;\n",
       "    }\n",
       "</style>\n",
       "<table border=\"1\" class=\"dataframe\">\n",
       "  <thead>\n",
       "    <tr style=\"text-align: right;\">\n",
       "      <th></th>\n",
       "      <th>Variable</th>\n",
       "      <th>Coefficients</th>\n",
       "    </tr>\n",
       "  </thead>\n",
       "  <tbody>\n",
       "    <tr>\n",
       "      <th>0</th>\n",
       "      <td>Year</td>\n",
       "      <td>5.076209</td>\n",
       "    </tr>\n",
       "    <tr>\n",
       "      <th>1</th>\n",
       "      <td>Month</td>\n",
       "      <td>0.215497</td>\n",
       "    </tr>\n",
       "    <tr>\n",
       "      <th>2</th>\n",
       "      <td>Day</td>\n",
       "      <td>0.018191</td>\n",
       "    </tr>\n",
       "    <tr>\n",
       "      <th>3</th>\n",
       "      <td>Oil Price</td>\n",
       "      <td>-0.121225</td>\n",
       "    </tr>\n",
       "  </tbody>\n",
       "</table>\n",
       "</div>"
      ],
      "text/plain": [
       "    Variable  Coefficients\n",
       "0       Year      5.076209\n",
       "1      Month      0.215497\n",
       "2        Day      0.018191\n",
       "3  Oil Price     -0.121225"
      ]
     },
     "execution_count": 60,
     "metadata": {},
     "output_type": "execute_result"
    }
   ],
   "source": [
    "#See the coefficients for the Standard Linear Regression\n",
    "coefficients(reg = reg)"
   ]
  },
  {
   "cell_type": "markdown",
   "metadata": {},
   "source": [
    "#### Standard Regression with Standarization"
   ]
  },
  {
   "cell_type": "code",
   "execution_count": 61,
   "metadata": {},
   "outputs": [],
   "source": [
    "#Create the model for American Airlines\n",
    "reg = regression_fit(LinearRegression, X_train_scaler, y_aal_train)\n",
    "#See the predictions\n",
    "predict = regression_prediction(reg, X_test_scaler)"
   ]
  },
  {
   "cell_type": "code",
   "execution_count": 62,
   "metadata": {},
   "outputs": [
    {
     "data": {
      "image/png": "[encoded data removed]",
      "text/plain": [
       "<Figure size 432x288 with 1 Axes>"
      ]
     },
     "metadata": {
      "needs_background": "light"
     },
     "output_type": "display_data"
    }
   ],
   "source": [
    "#Plot the results\n",
    "plot_regression(y_aal_test, predict)"
   ]
  },
  {
   "cell_type": "code",
   "execution_count": 63,
   "metadata": {},
   "outputs": [
    {
     "name": "stdout",
     "output_type": "stream",
     "text": [
      "The train and the test score are 0.8355231390268485 and -5.468351197927753 respectively\n"
     ]
    }
   ],
   "source": [
    "#Print the scores\n",
    "print('The train and the test score are {} and {} respectively'.format(reg_train_score(reg,X_train_scaler, y_aal_train), \n",
    "                                                                reg_test_score(reg, X_test_scaler, y_aal_test)))"
   ]
  },
  {
   "cell_type": "code",
   "execution_count": 64,
   "metadata": {},
   "outputs": [
    {
     "data": {
      "text/plain": [
       "10515.636904831435"
      ]
     },
     "execution_count": 64,
     "metadata": {},
     "output_type": "execute_result"
    }
   ],
   "source": [
    "mean_squared_error(y_tsla_test, predict)"
   ]
  },
  {
   "cell_type": "code",
   "execution_count": 65,
   "metadata": {},
   "outputs": [
    {
     "data": {
      "text/html": [
       "<div>\n",
       "<style scoped>\n",
       "    .dataframe tbody tr th:only-of-type {\n",
       "        vertical-align: middle;\n",
       "    }\n",
       "\n",
       "    .dataframe tbody tr th {\n",
       "        vertical-align: top;\n",
       "    }\n",
       "\n",
       "    .dataframe thead th {\n",
       "        text-align: right;\n",
       "    }\n",
       "</style>\n",
       "<table border=\"1\" class=\"dataframe\">\n",
       "  <thead>\n",
       "    <tr style=\"text-align: right;\">\n",
       "      <th></th>\n",
       "      <th>Variable</th>\n",
       "      <th>Coefficients</th>\n",
       "    </tr>\n",
       "  </thead>\n",
       "  <tbody>\n",
       "    <tr>\n",
       "      <th>0</th>\n",
       "      <td>Year</td>\n",
       "      <td>12.096508</td>\n",
       "    </tr>\n",
       "    <tr>\n",
       "      <th>1</th>\n",
       "      <td>Month</td>\n",
       "      <td>0.732263</td>\n",
       "    </tr>\n",
       "    <tr>\n",
       "      <th>2</th>\n",
       "      <td>Day</td>\n",
       "      <td>0.159182</td>\n",
       "    </tr>\n",
       "    <tr>\n",
       "      <th>3</th>\n",
       "      <td>Oil Price</td>\n",
       "      <td>-3.390307</td>\n",
       "    </tr>\n",
       "  </tbody>\n",
       "</table>\n",
       "</div>"
      ],
      "text/plain": [
       "    Variable  Coefficients\n",
       "0       Year     12.096508\n",
       "1      Month      0.732263\n",
       "2        Day      0.159182\n",
       "3  Oil Price     -3.390307"
      ]
     },
     "execution_count": 65,
     "metadata": {},
     "output_type": "execute_result"
    }
   ],
   "source": [
    "#See the coefficients for the Standard Linear Regression\n",
    "coefficients(reg = reg)"
   ]
  },
  {
   "cell_type": "markdown",
   "metadata": {},
   "source": [
    "#### Gradient Boosting with Standarization"
   ]
  },
  {
   "cell_type": "code",
   "execution_count": 66,
   "metadata": {},
   "outputs": [
    {
     "name": "stdout",
     "output_type": "stream",
     "text": [
      "Based on the Cross Validation, the best parameters were: {'learning_rate': 1.0, 'max_depth': 5, 'n_estimators': 100, 'tol': 0.0001}\n"
     ]
    }
   ],
   "source": [
    "#Use the function we previously defined\n",
    "warnings.simplefilter(\"ignore\")\n",
    "grid_search(GradientBoostingRegressor, param_grid, X_train, y_aal_train,cv = 3)"
   ]
  },
  {
   "cell_type": "code",
   "execution_count": 67,
   "metadata": {},
   "outputs": [],
   "source": [
    "#Fit the model\n",
    "reg = regression_fit_gradient(GradientBoostingRegressor, X_train, y_aal_train, learning_rate =\n",
    "                        0.1, max_depth = 5, n_estimators = 250, tol = 1)\n",
    "#Make the predictions\n",
    "reg_pred = regression_prediction(reg, X_test)"
   ]
  },
  {
   "cell_type": "code",
   "execution_count": 68,
   "metadata": {},
   "outputs": [
    {
     "data": {
      "image/png": "[encoded data removed]",
      "text/plain": [
       "<Figure size 432x288 with 1 Axes>"
      ]
     },
     "metadata": {
      "needs_background": "light"
     },
     "output_type": "display_data"
    }
   ],
   "source": [
    "#Plot the results\n",
    "plot_regression(y_aal_test, reg_pred)"
   ]
  },
  {
   "cell_type": "code",
   "execution_count": 69,
   "metadata": {},
   "outputs": [
    {
     "name": "stdout",
     "output_type": "stream",
     "text": [
      "The train and the test score are 0.9989063059513702 and -5.769545435311315 respectively\n"
     ]
    }
   ],
   "source": [
    "#Print the scores\n",
    "print('The train and the test score are {} and {} respectively'.format(reg_train_score(reg,X_train, y_aal_train), \n",
    "                                                                reg_test_score(reg, X_test, y_aal_test)))"
   ]
  },
  {
   "cell_type": "code",
   "execution_count": 70,
   "metadata": {},
   "outputs": [
    {
     "data": {
      "text/plain": [
       "545.1628870637513"
      ]
     },
     "execution_count": 70,
     "metadata": {},
     "output_type": "execute_result"
    }
   ],
   "source": [
    "mean_squared_error(y_aal_test, reg_pred)"
   ]
  },
  {
   "cell_type": "markdown",
   "metadata": {},
   "source": [
    "#### Gradient Boosting with Standarization"
   ]
  },
  {
   "cell_type": "code",
   "execution_count": 71,
   "metadata": {},
   "outputs": [
    {
     "name": "stdout",
     "output_type": "stream",
     "text": [
      "Based on the Cross Validation, the best parameters were: {'learning_rate': 0.1, 'max_depth': 5, 'n_estimators': 250, 'tol': 0.01}\n"
     ]
    }
   ],
   "source": [
    "#Use the function we previously defined\n",
    "warnings.simplefilter(\"ignore\")\n",
    "grid_search(GradientBoostingRegressor, param_grid, X_train_scaler, y_aal_train,cv = 3)"
   ]
  },
  {
   "cell_type": "code",
   "execution_count": 72,
   "metadata": {},
   "outputs": [],
   "source": [
    "#Fit the model\n",
    "reg = regression_fit_gradient(GradientBoostingRegressor, X_train, y_aal_train, learning_rate =\n",
    "                        0.1, max_depth = 5, n_estimators = 250, tol = 1)\n",
    "#Make the predictions\n",
    "reg_pred = regression_prediction(reg, X_test)"
   ]
  },
  {
   "cell_type": "code",
   "execution_count": 73,
   "metadata": {},
   "outputs": [
    {
     "data": {
      "image/png": "[encoded data removed]",
      "text/plain": [
       "<Figure size 432x288 with 1 Axes>"
      ]
     },
     "metadata": {
      "needs_background": "light"
     },
     "output_type": "display_data"
    }
   ],
   "source": [
    "#Plot the results\n",
    "plot_regression(y_aal_test, reg_pred)"
   ]
  },
  {
   "cell_type": "code",
   "execution_count": 74,
   "metadata": {},
   "outputs": [
    {
     "name": "stdout",
     "output_type": "stream",
     "text": [
      "The train and the test score are 0.9989063059513702 and -5.74460276939072 respectively\n"
     ]
    }
   ],
   "source": [
    "#Print the scores\n",
    "print('The train and the test score are {} and {} respectively'.format(reg_train_score(reg,X_train, y_aal_train), \n",
    "                                                                reg_test_score(reg, X_test, y_aal_test)))"
   ]
  },
  {
   "cell_type": "code",
   "execution_count": 75,
   "metadata": {},
   "outputs": [
    {
     "data": {
      "text/plain": [
       "543.1542121986105"
      ]
     },
     "execution_count": 75,
     "metadata": {},
     "output_type": "execute_result"
    }
   ],
   "source": [
    "mean_squared_error(y_aal_test, reg_pred)"
   ]
  },
  {
   "cell_type": "markdown",
   "metadata": {},
   "source": [
    "### Tesla"
   ]
  },
  {
   "cell_type": "markdown",
   "metadata": {},
   "source": [
    "#### Standard Regression"
   ]
  },
  {
   "cell_type": "code",
   "execution_count": 76,
   "metadata": {},
   "outputs": [],
   "source": [
    "#Create the model for Tesla\n",
    "reg = regression_fit(LinearRegression, X_train, y_tsla_train)\n",
    "#See the predictions\n",
    "predict = regression_prediction(reg, X_test)"
   ]
  },
  {
   "cell_type": "code",
   "execution_count": 77,
   "metadata": {},
   "outputs": [
    {
     "data": {
      "image/png": "[encoded data removed]",
      "text/plain": [
       "<Figure size 432x288 with 1 Axes>"
      ]
     },
     "metadata": {
      "needs_background": "light"
     },
     "output_type": "display_data"
    }
   ],
   "source": [
    "#Plot the results\n",
    "plot_regression(y_tsla_test, predict)"
   ]
  },
  {
   "cell_type": "code",
   "execution_count": 78,
   "metadata": {},
   "outputs": [
    {
     "name": "stdout",
     "output_type": "stream",
     "text": [
      "The train and the test score are 0.8648413079589319 and 0.01674577391830767 respectively\n"
     ]
    }
   ],
   "source": [
    "#Print the scores\n",
    "print('The train and the test score are {} and {} respectively'.format(reg_train_score(reg,X_train, y_tsla_train), \n",
    "                                                                reg_test_score(reg, X_test, y_tsla_test)))"
   ]
  },
  {
   "cell_type": "code",
   "execution_count": 79,
   "metadata": {},
   "outputs": [
    {
     "data": {
      "text/plain": [
       "6511.297232384621"
      ]
     },
     "execution_count": 79,
     "metadata": {},
     "output_type": "execute_result"
    }
   ],
   "source": [
    "mean_squared_error(y_tsla_test, predict)"
   ]
  },
  {
   "cell_type": "code",
   "execution_count": 80,
   "metadata": {},
   "outputs": [
    {
     "data": {
      "text/html": [
       "<div>\n",
       "<style scoped>\n",
       "    .dataframe tbody tr th:only-of-type {\n",
       "        vertical-align: middle;\n",
       "    }\n",
       "\n",
       "    .dataframe tbody tr th {\n",
       "        vertical-align: top;\n",
       "    }\n",
       "\n",
       "    .dataframe thead th {\n",
       "        text-align: right;\n",
       "    }\n",
       "</style>\n",
       "<table border=\"1\" class=\"dataframe\">\n",
       "  <thead>\n",
       "    <tr style=\"text-align: right;\">\n",
       "      <th></th>\n",
       "      <th>Variable</th>\n",
       "      <th>Coefficients</th>\n",
       "    </tr>\n",
       "  </thead>\n",
       "  <tbody>\n",
       "    <tr>\n",
       "      <th>0</th>\n",
       "      <td>Year</td>\n",
       "      <td>8.994587</td>\n",
       "    </tr>\n",
       "    <tr>\n",
       "      <th>1</th>\n",
       "      <td>Month</td>\n",
       "      <td>0.938611</td>\n",
       "    </tr>\n",
       "    <tr>\n",
       "      <th>2</th>\n",
       "      <td>Day</td>\n",
       "      <td>0.033673</td>\n",
       "    </tr>\n",
       "    <tr>\n",
       "      <th>3</th>\n",
       "      <td>Oil Price</td>\n",
       "      <td>0.002201</td>\n",
       "    </tr>\n",
       "  </tbody>\n",
       "</table>\n",
       "</div>"
      ],
      "text/plain": [
       "    Variable  Coefficients\n",
       "0       Year      8.994587\n",
       "1      Month      0.938611\n",
       "2        Day      0.033673\n",
       "3  Oil Price      0.002201"
      ]
     },
     "execution_count": 80,
     "metadata": {},
     "output_type": "execute_result"
    }
   ],
   "source": [
    "#See the coefficients for the Standard Linear Regression\n",
    "coefficients(reg = reg)"
   ]
  },
  {
   "cell_type": "markdown",
   "metadata": {},
   "source": [
    "#### Standard Regression with Standarization"
   ]
  },
  {
   "cell_type": "code",
   "execution_count": 81,
   "metadata": {},
   "outputs": [],
   "source": [
    "#Create the model for Tesla\n",
    "reg = regression_fit(LinearRegression, X_train_scaler, y_tsla_train)\n",
    "#See the predictions\n",
    "predict = regression_prediction(reg, X_test_scaler)"
   ]
  },
  {
   "cell_type": "code",
   "execution_count": 82,
   "metadata": {},
   "outputs": [
    {
     "data": {
      "image/png": "[encoded data removed]",
      "text/plain": [
       "<Figure size 432x288 with 1 Axes>"
      ]
     },
     "metadata": {
      "needs_background": "light"
     },
     "output_type": "display_data"
    }
   ],
   "source": [
    "#Plot the results\n",
    "plot_regression(y_tsla_test, predict)"
   ]
  },
  {
   "cell_type": "code",
   "execution_count": 83,
   "metadata": {},
   "outputs": [
    {
     "name": "stdout",
     "output_type": "stream",
     "text": [
      "The train and the test score are 0.8648413079589468 and -0.4168864362085117 respectively\n"
     ]
    }
   ],
   "source": [
    "#Print the scores\n",
    "print('The train and the test score are {} and {} respectively'.format(reg_train_score(reg,X_train_scaler, y_tsla_train), \n",
    "                                                                reg_test_score(reg, X_test_scaler, y_tsla_test)))"
   ]
  },
  {
   "cell_type": "code",
   "execution_count": 84,
   "metadata": {},
   "outputs": [
    {
     "data": {
      "text/plain": [
       "9382.892527655691"
      ]
     },
     "execution_count": 84,
     "metadata": {},
     "output_type": "execute_result"
    }
   ],
   "source": [
    "mean_squared_error(y_tsla_test, predict)"
   ]
  },
  {
   "cell_type": "code",
   "execution_count": 85,
   "metadata": {},
   "outputs": [
    {
     "data": {
      "text/html": [
       "<div>\n",
       "<style scoped>\n",
       "    .dataframe tbody tr th:only-of-type {\n",
       "        vertical-align: middle;\n",
       "    }\n",
       "\n",
       "    .dataframe tbody tr th {\n",
       "        vertical-align: top;\n",
       "    }\n",
       "\n",
       "    .dataframe thead th {\n",
       "        text-align: right;\n",
       "    }\n",
       "</style>\n",
       "<table border=\"1\" class=\"dataframe\">\n",
       "  <thead>\n",
       "    <tr style=\"text-align: right;\">\n",
       "      <th></th>\n",
       "      <th>Variable</th>\n",
       "      <th>Coefficients</th>\n",
       "    </tr>\n",
       "  </thead>\n",
       "  <tbody>\n",
       "    <tr>\n",
       "      <th>0</th>\n",
       "      <td>Year</td>\n",
       "      <td>21.433927</td>\n",
       "    </tr>\n",
       "    <tr>\n",
       "      <th>1</th>\n",
       "      <td>Month</td>\n",
       "      <td>3.189422</td>\n",
       "    </tr>\n",
       "    <tr>\n",
       "      <th>2</th>\n",
       "      <td>Day</td>\n",
       "      <td>0.294663</td>\n",
       "    </tr>\n",
       "    <tr>\n",
       "      <th>3</th>\n",
       "      <td>Oil Price</td>\n",
       "      <td>0.061557</td>\n",
       "    </tr>\n",
       "  </tbody>\n",
       "</table>\n",
       "</div>"
      ],
      "text/plain": [
       "    Variable  Coefficients\n",
       "0       Year     21.433927\n",
       "1      Month      3.189422\n",
       "2        Day      0.294663\n",
       "3  Oil Price      0.061557"
      ]
     },
     "execution_count": 85,
     "metadata": {},
     "output_type": "execute_result"
    }
   ],
   "source": [
    "#See the coefficients for the Standard Linear Regression\n",
    "coefficients(reg = reg)"
   ]
  },
  {
   "cell_type": "markdown",
   "metadata": {},
   "source": [
    "#### Gradient Boosting Regressor"
   ]
  },
  {
   "cell_type": "code",
   "execution_count": 86,
   "metadata": {},
   "outputs": [
    {
     "name": "stdout",
     "output_type": "stream",
     "text": [
      "Based on the Cross Validation, the best parameters were: {'learning_rate': 0.1, 'max_depth': 5, 'n_estimators': 250, 'tol': 0.0001}\n"
     ]
    }
   ],
   "source": [
    "#Use the function we previously defined\n",
    "warnings.simplefilter(\"ignore\")\n",
    "grid_search(GradientBoostingRegressor, param_grid, X_train, y_tsla_train,cv = 3)"
   ]
  },
  {
   "cell_type": "code",
   "execution_count": 87,
   "metadata": {},
   "outputs": [],
   "source": [
    "#Fit the model\n",
    "reg = regression_fit_gradient(GradientBoostingRegressor, X_train, y_tsla_train, learning_rate =\n",
    "                        1.0, max_depth = 3, n_estimators = 250, tol = 0.0001)\n",
    "#Make the predictions\n",
    "reg_pred = regression_prediction(reg, X_test)"
   ]
  },
  {
   "cell_type": "code",
   "execution_count": 88,
   "metadata": {},
   "outputs": [
    {
     "data": {
      "image/png": "[encoded data removed]",
      "text/plain": [
       "<Figure size 432x288 with 1 Axes>"
      ]
     },
     "metadata": {
      "needs_background": "light"
     },
     "output_type": "display_data"
    }
   ],
   "source": [
    "#Plot the results\n",
    "plot_regression(y_tsla_test, reg_pred)"
   ]
  },
  {
   "cell_type": "code",
   "execution_count": 89,
   "metadata": {},
   "outputs": [
    {
     "name": "stdout",
     "output_type": "stream",
     "text": [
      "The train and the test score are 0.9992235269883438 and -0.18697771210414005 respectively\n"
     ]
    }
   ],
   "source": [
    "#Print the scores\n",
    "print('The train and the test score are {} and {} respectively'.format(reg_train_score(reg,X_train, y_tsla_train), \n",
    "                                                                reg_test_score(reg, X_test, y_tsla_test)))"
   ]
  },
  {
   "cell_type": "code",
   "execution_count": 90,
   "metadata": {},
   "outputs": [
    {
     "data": {
      "text/plain": [
       "7860.393056763513"
      ]
     },
     "execution_count": 90,
     "metadata": {},
     "output_type": "execute_result"
    }
   ],
   "source": [
    "mean_squared_error(y_tsla_test, reg_pred)"
   ]
  },
  {
   "cell_type": "markdown",
   "metadata": {},
   "source": [
    "#### Gradient Boosting Regressorwith Standarization"
   ]
  },
  {
   "cell_type": "code",
   "execution_count": 91,
   "metadata": {},
   "outputs": [
    {
     "name": "stdout",
     "output_type": "stream",
     "text": [
      "Based on the Cross Validation, the best parameters were: {'learning_rate': 0.1, 'max_depth': 5, 'n_estimators': 250, 'tol': 0.01}\n"
     ]
    }
   ],
   "source": [
    "#Use the function we previously defined\n",
    "warnings.simplefilter(\"ignore\")\n",
    "grid_search(GradientBoostingRegressor, param_grid, X_train_scaler, y_tsla_train,cv = 3)"
   ]
  },
  {
   "cell_type": "code",
   "execution_count": 92,
   "metadata": {},
   "outputs": [],
   "source": [
    "#Fit the model\n",
    "reg = regression_fit_gradient(GradientBoostingRegressor, X_train, y_tsla_train, learning_rate =\n",
    "                        1.0, max_depth = 3, n_estimators = 250, tol = 0.0001)\n",
    "#Make the predictions\n",
    "reg_pred = regression_prediction(reg, X_test)"
   ]
  },
  {
   "cell_type": "code",
   "execution_count": 93,
   "metadata": {},
   "outputs": [
    {
     "data": {
      "image/png": "[encoded data removed]",
      "text/plain": [
       "<Figure size 432x288 with 1 Axes>"
      ]
     },
     "metadata": {
      "needs_background": "light"
     },
     "output_type": "display_data"
    }
   ],
   "source": [
    "#Plot the results\n",
    "plot_regression(y_tsla_test, reg_pred)"
   ]
  },
  {
   "cell_type": "code",
   "execution_count": 94,
   "metadata": {},
   "outputs": [
    {
     "name": "stdout",
     "output_type": "stream",
     "text": [
      "The train and the test score are -0.7142101419230493 and -1.1093376146403617 respectively\n"
     ]
    }
   ],
   "source": [
    "#Print the scores\n",
    "print('The train and the test score are {} and {} respectively'.format(reg_train_score(reg,X_train_scaler, y_tsla_train), \n",
    "                                                                reg_test_score(reg, X_test_scaler, y_tsla_test)))"
   ]
  },
  {
   "cell_type": "code",
   "execution_count": 95,
   "metadata": {},
   "outputs": [
    {
     "data": {
      "text/plain": [
       "7879.657202205451"
      ]
     },
     "execution_count": 95,
     "metadata": {},
     "output_type": "execute_result"
    }
   ],
   "source": [
    "mean_squared_error(y_tsla_test, reg_pred)"
   ]
  },
  {
   "cell_type": "markdown",
   "metadata": {},
   "source": [
    "#### Insights from the linear regression"
   ]
  },
  {
   "cell_type": "markdown",
   "metadata": {},
   "source": [
    "- By doing this standard regression, we can conclude that models such as Lasso or Ridge would not work well to anticipate the future stock price. It fits well the training data, but it doesn't do well on the test data. This could also be supported because the higher increases occurred after 2018. \n",
    "\n",
    "\n",
    "- We may need to rely more on the times series analysis we are making on the next steps."
   ]
  },
  {
   "cell_type": "markdown",
   "metadata": {},
   "source": [
    "## Constant model"
   ]
  },
  {
   "cell_type": "markdown",
   "metadata": {},
   "source": [
    "### JKS"
   ]
  },
  {
   "cell_type": "code",
   "execution_count": 96,
   "metadata": {},
   "outputs": [],
   "source": [
    "pred = []\n",
    "num = y_jks_train[-1]\n",
    "for i in range(1,513):\n",
    "    pred.append(num)\n",
    "    continue"
   ]
  },
  {
   "cell_type": "code",
   "execution_count": 97,
   "metadata": {},
   "outputs": [
    {
     "data": {
      "image/png": "[encoded data removed]",
      "text/plain": [
       "<Figure size 432x288 with 1 Axes>"
      ]
     },
     "metadata": {
      "needs_background": "light"
     },
     "output_type": "display_data"
    }
   ],
   "source": [
    "plt.plot(y_jks_test)\n",
    "plt.plot(pred)\n",
    "plt.show()"
   ]
  },
  {
   "cell_type": "code",
   "execution_count": 98,
   "metadata": {},
   "outputs": [
    {
     "data": {
      "text/plain": [
       "42.875611800460874"
      ]
     },
     "execution_count": 98,
     "metadata": {},
     "output_type": "execute_result"
    }
   ],
   "source": [
    "mean_squared_error(y_jks_test, pred)"
   ]
  },
  {
   "cell_type": "markdown",
   "metadata": {},
   "source": [
    "### AAL"
   ]
  },
  {
   "cell_type": "code",
   "execution_count": 99,
   "metadata": {},
   "outputs": [],
   "source": [
    "pred = []\n",
    "num = y_aal_train[-1]\n",
    "for i in range(1,513):\n",
    "    pred.append(num)\n",
    "    continue"
   ]
  },
  {
   "cell_type": "code",
   "execution_count": 100,
   "metadata": {},
   "outputs": [
    {
     "data": {
      "image/png": "[encoded data removed]",
      "text/plain": [
       "<Figure size 432x288 with 1 Axes>"
      ]
     },
     "metadata": {
      "needs_background": "light"
     },
     "output_type": "display_data"
    }
   ],
   "source": [
    "plt.plot(y_aal_test)\n",
    "plt.plot(pred)\n",
    "plt.show()"
   ]
  },
  {
   "cell_type": "code",
   "execution_count": 101,
   "metadata": {},
   "outputs": [
    {
     "data": {
      "text/plain": [
       "179.19719903529386"
      ]
     },
     "execution_count": 101,
     "metadata": {},
     "output_type": "execute_result"
    }
   ],
   "source": [
    "mean_squared_error(y_aal_test, pred)"
   ]
  },
  {
   "cell_type": "markdown",
   "metadata": {},
   "source": [
    "### TSLA"
   ]
  },
  {
   "cell_type": "code",
   "execution_count": 102,
   "metadata": {},
   "outputs": [],
   "source": [
    "pred = []\n",
    "num = y_tsla_train[-1]\n",
    "for i in range(1,513):\n",
    "    pred.append(num)\n",
    "    continue"
   ]
  },
  {
   "cell_type": "code",
   "execution_count": 103,
   "metadata": {},
   "outputs": [
    {
     "data": {
      "image/png": "[encoded data removed]",
      "text/plain": [
       "<Figure size 432x288 with 1 Axes>"
      ]
     },
     "metadata": {
      "needs_background": "light"
     },
     "output_type": "display_data"
    }
   ],
   "source": [
    "plt.plot(y_tsla_test)\n",
    "plt.plot(pred)\n",
    "plt.show()"
   ]
  },
  {
   "cell_type": "code",
   "execution_count": 104,
   "metadata": {},
   "outputs": [
    {
     "data": {
      "text/plain": [
       "1755.6526242056366"
      ]
     },
     "execution_count": 104,
     "metadata": {},
     "output_type": "execute_result"
    }
   ],
   "source": [
    "mean_squared_error(y_aal_test, pred)"
   ]
  },
  {
   "cell_type": "markdown",
   "metadata": {},
   "source": [
    "### Insights"
   ]
  },
  {
   "cell_type": "markdown",
   "metadata": {},
   "source": [
    "##### Regressions are very bad model to make predictions because I get even more accuracy, and less error by just assuming a constant model with the last stock price.\n",
    "\n",
    "##### We should completely go to the times series analysis this time to make our conclusions about what to do with the stocks."
   ]
  },
  {
   "cell_type": "markdown",
   "metadata": {},
   "source": [
    "## Times Series Analysis"
   ]
  },
  {
   "cell_type": "markdown",
   "metadata": {},
   "source": [
    "In this step, we are making a times series analysis in order to predict the different stock prices. This is the methodology we are following:\n",
    "\n",
    "- Check if the data is stationary by using kpss.\n",
    "\n",
    "- If data is not stationalry, we are making them stationary using logarithms. \n",
    "\n",
    "- Do a Cross Validation to see the best order for the models. For the Autocorrelation plots we can imply order = (1,0,0) would be the best.\n",
    "\n",
    "- After we are creating the SARIMAX and ARIMA model. "
   ]
  },
  {
   "cell_type": "code",
   "execution_count": 105,
   "metadata": {},
   "outputs": [],
   "source": [
    "def transform_log(y):\n",
    "    return np.log(y)"
   ]
  },
  {
   "cell_type": "markdown",
   "metadata": {},
   "source": [
    "### Check if the data is stationary"
   ]
  },
  {
   "cell_type": "code",
   "execution_count": 106,
   "metadata": {},
   "outputs": [],
   "source": [
    "#Firstly we need to set a higher recursion limit\n",
    "sys.setrecursionlimit(10000)"
   ]
  },
  {
   "cell_type": "code",
   "execution_count": 107,
   "metadata": {},
   "outputs": [
    {
     "data": {
      "text/plain": [
       "(5.440463061940448,\n",
       " 0.01,\n",
       " 27,\n",
       " {'10%': 0.347, '5%': 0.463, '2.5%': 0.574, '1%': 0.739})"
      ]
     },
     "execution_count": 107,
     "metadata": {},
     "output_type": "execute_result"
    }
   ],
   "source": [
    "#Check if Oil is Stationary\n",
    "kpss(y_oil)"
   ]
  },
  {
   "cell_type": "code",
   "execution_count": 108,
   "metadata": {},
   "outputs": [
    {
     "data": {
      "text/plain": [
       "(0.6309868504740087,\n",
       " 0.01981937722963557,\n",
       " 27,\n",
       " {'10%': 0.347, '5%': 0.463, '2.5%': 0.574, '1%': 0.739})"
      ]
     },
     "execution_count": 108,
     "metadata": {},
     "output_type": "execute_result"
    }
   ],
   "source": [
    "#Check if Apple Stock Price is stationary\n",
    "kpss(y_jks)"
   ]
  },
  {
   "cell_type": "code",
   "execution_count": 109,
   "metadata": {},
   "outputs": [
    {
     "data": {
      "text/plain": [
       "(4.5799140336336945,\n",
       " 0.01,\n",
       " 27,\n",
       " {'10%': 0.347, '5%': 0.463, '2.5%': 0.574, '1%': 0.739})"
      ]
     },
     "execution_count": 109,
     "metadata": {},
     "output_type": "execute_result"
    }
   ],
   "source": [
    "#Check if American Airlines data is stationary\n",
    "kpss(y_aal)"
   ]
  },
  {
   "cell_type": "code",
   "execution_count": 110,
   "metadata": {},
   "outputs": [
    {
     "data": {
      "text/plain": [
       "(4.741163872953131,\n",
       " 0.01,\n",
       " 27,\n",
       " {'10%': 0.347, '5%': 0.463, '2.5%': 0.574, '1%': 0.739})"
      ]
     },
     "execution_count": 110,
     "metadata": {},
     "output_type": "execute_result"
    }
   ],
   "source": [
    "#Check if Tesla Stock Price is stationary\n",
    "kpss(y_tsla)"
   ]
  },
  {
   "cell_type": "markdown",
   "metadata": {},
   "source": [
    "### Insights"
   ]
  },
  {
   "cell_type": "markdown",
   "metadata": {},
   "source": [
    "- For all of the stocks, the data is not stationary since we got a p-value less than 0.05 for all of them. Thereore, we need to make the data stationary by using np.log"
   ]
  },
  {
   "cell_type": "markdown",
   "metadata": {},
   "source": [
    "### Making Data Stationary"
   ]
  },
  {
   "cell_type": "code",
   "execution_count": 111,
   "metadata": {
    "scrolled": true
   },
   "outputs": [
    {
     "data": {
      "text/plain": [
       "(0.059785057821304374,\n",
       " 0.1,\n",
       " 27,\n",
       " {'10%': 0.347, '5%': 0.463, '2.5%': 0.574, '1%': 0.739})"
      ]
     },
     "execution_count": 111,
     "metadata": {},
     "output_type": "execute_result"
    }
   ],
   "source": [
    "# Oil p-value\n",
    "y_oil_log = transform_log(y_oil)\n",
    "kpss(y_oil_log.diff().dropna())"
   ]
  },
  {
   "cell_type": "code",
   "execution_count": 112,
   "metadata": {},
   "outputs": [
    {
     "data": {
      "text/plain": [
       "(0.05689604830260006,\n",
       " 0.1,\n",
       " 27,\n",
       " {'10%': 0.347, '5%': 0.463, '2.5%': 0.574, '1%': 0.739})"
      ]
     },
     "execution_count": 112,
     "metadata": {},
     "output_type": "execute_result"
    }
   ],
   "source": [
    "# Apple p-value\n",
    "y_jks_log = transform_log(y_jks)\n",
    "kpss(y_jks_log.diff().dropna())"
   ]
  },
  {
   "cell_type": "code",
   "execution_count": 113,
   "metadata": {},
   "outputs": [
    {
     "data": {
      "text/plain": [
       "(0.3961933229944284,\n",
       " 0.0787959814679188,\n",
       " 27,\n",
       " {'10%': 0.347, '5%': 0.463, '2.5%': 0.574, '1%': 0.739})"
      ]
     },
     "execution_count": 113,
     "metadata": {},
     "output_type": "execute_result"
    }
   ],
   "source": [
    "# American Airlines p-value\n",
    "y_aal_log = transform_log(y_aal)\n",
    "kpss(y_aal_log.diff().dropna())"
   ]
  },
  {
   "cell_type": "code",
   "execution_count": 114,
   "metadata": {},
   "outputs": [
    {
     "data": {
      "text/plain": [
       "(0.18840587005251933,\n",
       " 0.1,\n",
       " 27,\n",
       " {'10%': 0.347, '5%': 0.463, '2.5%': 0.574, '1%': 0.739})"
      ]
     },
     "execution_count": 114,
     "metadata": {},
     "output_type": "execute_result"
    }
   ],
   "source": [
    "# Tesla p-value\n",
    "y_tsla_log = transform_log(y_tsla)\n",
    "kpss(y_tsla_log.diff().dropna())"
   ]
  },
  {
   "cell_type": "markdown",
   "metadata": {},
   "source": [
    "Now, all the data is stationary since for all of them we have p-values higher than 0.05"
   ]
  },
  {
   "cell_type": "markdown",
   "metadata": {},
   "source": [
    "## Define the X and y arrays for the stationary models"
   ]
  },
  {
   "cell_type": "code",
   "execution_count": 115,
   "metadata": {},
   "outputs": [],
   "source": [
    "df_log = pd.DataFrame()\n",
    "df_log['Date'] = df['Date']\n",
    "df_log['Oil Price'] = y_oil_log\n",
    "df_log['JKS'] = y_jks_log\n",
    "df_log['AAL'] = y_aal_log\n",
    "df_log['TSLA'] = y_tsla_log\n",
    "df_log.set_index('Date', inplace = True)"
   ]
  },
  {
   "cell_type": "code",
   "execution_count": 116,
   "metadata": {},
   "outputs": [],
   "source": [
    "df_log_train = df_log.loc['2010-06-29':'2019-01-01']\n",
    "df_log_test = df_log['2019-01-01':]"
   ]
  },
  {
   "cell_type": "code",
   "execution_count": 117,
   "metadata": {},
   "outputs": [],
   "source": [
    "#Define arrays for ARIMA\n",
    "# Oil Price\n",
    "y_oil_train_log = df_log_train['Oil Price']\n",
    "y_oil_test_log = df_log_test['Oil Price']"
   ]
  },
  {
   "cell_type": "code",
   "execution_count": 118,
   "metadata": {},
   "outputs": [],
   "source": [
    "#JKS\n",
    "y_jks_train_log = df_log_train['JKS']\n",
    "y_jks_test_log = df_log_test['JKS']"
   ]
  },
  {
   "cell_type": "code",
   "execution_count": 119,
   "metadata": {},
   "outputs": [],
   "source": [
    "#American Airlines\n",
    "y_aal_train_log = df_log_train['AAL']\n",
    "y_aal_test_log = df_log_test['AAL']"
   ]
  },
  {
   "cell_type": "code",
   "execution_count": 120,
   "metadata": {},
   "outputs": [],
   "source": [
    "#American Airlines\n",
    "y_tsla_train_log = df_log_train['TSLA']\n",
    "y_tsla_test_log = df_log_test['TSLA']"
   ]
  },
  {
   "cell_type": "markdown",
   "metadata": {},
   "source": [
    "### ARIMA Functions"
   ]
  },
  {
   "cell_type": "code",
   "execution_count": 121,
   "metadata": {},
   "outputs": [],
   "source": [
    "#Model to do the type of cross validation\n",
    "def arima_model_prediction_oil(array1, array2, order):\n",
    "    mod = ARIMA(endog = array1, order = order, exog = None)\n",
    "    mod_fit = mod.fit(disp = 0)\n",
    "    pred = mod_fit.forecast(steps = len(array2))[0]\n",
    "    return pred"
   ]
  },
  {
   "cell_type": "code",
   "execution_count": 122,
   "metadata": {},
   "outputs": [],
   "source": [
    "def arima_forecast_oil(array1, order):\n",
    "    mod = ARIMA(endog = array1, order = order, exog = None)\n",
    "    mod_fit = mod.fit(disp = 0)\n",
    "    pred = mod_fit.forecast(steps = 865, alpha = 0.05)[0]\n",
    "    return pred"
   ]
  },
  {
   "cell_type": "code",
   "execution_count": 123,
   "metadata": {},
   "outputs": [],
   "source": [
    "graph_test = pd.DataFrame(y_oil_test_log).reset_index(drop = True)\n",
    "def arima_comparison_oil(array1, order):\n",
    "    model = ARIMA(endog = array1, order = order, exog = None)\n",
    "    model_fit = model.fit()\n",
    "    pred = model_fit.predict(start = 2139, end = 2558)\n",
    "    graph_pred = pd.DataFrame(pred).reset_index(drop = True)\n",
    "    plt.plot(graph_test)\n",
    "    plt.plot(graph_pred)\n",
    "    return plt.show()"
   ]
  },
  {
   "cell_type": "code",
   "execution_count": 124,
   "metadata": {},
   "outputs": [],
   "source": [
    "# Create a function that gets the scores for each order.\n",
    "#We are picking the order that has the least error\n",
    "def arima_validation_oil(y_train, y_test):\n",
    "    for p in p_value:\n",
    "        for q in q_value:\n",
    "            for d in d_value:\n",
    "                try:\n",
    "                    pred = arima_model_prediction_oil(array1 = y_train, array2 = y_test,order = (p,q,d))\n",
    "                    error = mean_squared_error(y_test, pred)\n",
    "                    print('({}, {}, {}) : Error of: {}'.format(p, q, d, error))\n",
    "                except:\n",
    "                    pass"
   ]
  },
  {
   "cell_type": "markdown",
   "metadata": {},
   "source": [
    "## Oil Price"
   ]
  },
  {
   "cell_type": "code",
   "execution_count": 125,
   "metadata": {},
   "outputs": [],
   "source": [
    "#Define Arrays for Cross Validation\n",
    "train = y_oil_train_log[q1:]\n",
    "test = y_oil_train_log[:q1]"
   ]
  },
  {
   "cell_type": "code",
   "execution_count": 126,
   "metadata": {},
   "outputs": [],
   "source": [
    "#Set a range of values to check out the best order for ARIMA\n",
    "p_value = list(range(0,3))\n",
    "q_value = list(range(0,3))\n",
    "d_value = list(range(0,3))\n",
    "s_value = list(range(0,3))"
   ]
  },
  {
   "cell_type": "code",
   "execution_count": 127,
   "metadata": {},
   "outputs": [
    {
     "name": "stdout",
     "output_type": "stream",
     "text": [
      "(0, 0, 0) : Error of: 0.18819632737234923\n",
      "(0, 0, 1) : Error of: 0.18830214765643252\n",
      "(0, 1, 0) : Error of: 0.6226814473291176\n",
      "(0, 1, 1) : Error of: 0.6355775693626695\n",
      "(0, 1, 2) : Error of: 0.6350667651088996\n",
      "(0, 2, 0) : Error of: 30.728358471645723\n",
      "(0, 2, 1) : Error of: 10.477378189716596\n",
      "(0, 2, 2) : Error of: 3.4540404203569333\n",
      "(1, 0, 0) : Error of: 0.37683955071043235\n",
      "(1, 0, 1) : Error of: 0.3587084485296662\n",
      "(1, 0, 2) : Error of: 0.3564015953797467\n",
      "(1, 1, 0) : Error of: 0.6313465577572582\n",
      "(1, 1, 1) : Error of: 0.6351646967377882\n",
      "(1, 1, 2) : Error of: 0.635557751256973\n",
      "(1, 2, 0) : Error of: 0.39658418374055554\n",
      "(1, 2, 1) : Error of: 1.2261488346617273\n",
      "(1, 2, 2) : Error of: 2.8318528467783346\n",
      "(2, 0, 0) : Error of: 0.3491477886247062\n",
      "(2, 0, 1) : Error of: 0.3567248238761433\n",
      "(2, 0, 2) : Error of: 0.3557324180579138\n",
      "(2, 1, 0) : Error of: 0.6350195650260233\n",
      "(2, 1, 1) : Error of: 0.635232663285219\n",
      "(2, 1, 2) : Error of: 0.6354963063873766\n",
      "(2, 2, 0) : Error of: 6.9139699289178695\n",
      "(2, 2, 1) : Error of: 4.156188708269497\n",
      "(2, 2, 2) : Error of: 4.071883100979539\n"
     ]
    }
   ],
   "source": [
    "arima_validation_oil(y_train = train, y_test = test)"
   ]
  },
  {
   "cell_type": "markdown",
   "metadata": {},
   "source": [
    "- Regarding the oil, we got the least error on the ARIMA order with order = (1,0,2)"
   ]
  },
  {
   "cell_type": "code",
   "execution_count": 128,
   "metadata": {},
   "outputs": [
    {
     "data": {
      "image/png": "[encoded data removed]",
      "text/plain": [
       "<Figure size 432x288 with 1 Axes>"
      ]
     },
     "metadata": {
      "needs_background": "light"
     },
     "output_type": "display_data"
    }
   ],
   "source": [
    "#Compare test and predictions with the order\n",
    "arima_comparison_oil(array1 = y_oil_train_log, order = (1,0,1))"
   ]
  },
  {
   "cell_type": "code",
   "execution_count": 129,
   "metadata": {},
   "outputs": [],
   "source": [
    "df3 = df_log_train.reset_index(drop = True)"
   ]
  },
  {
   "cell_type": "code",
   "execution_count": 130,
   "metadata": {},
   "outputs": [],
   "source": [
    "#Make Projections \n",
    "oil_forecast = arima_forecast_oil(array1 = y_oil_train_log, order = (1,0,2))\n",
    "df_oil_forecast = pd.DataFrame({'Oil Price': oil_forecast, 'Time': [i for i in range(2139, 2139 + 865)]})\n",
    "df_oil_forecast = df_oil_forecast.set_index('Time')\n",
    "oil_arima_graph = pd.concat([pd.DataFrame(df3['Oil Price']), df_oil_forecast], axis = 0)"
   ]
  },
  {
   "cell_type": "code",
   "execution_count": 131,
   "metadata": {},
   "outputs": [
    {
     "data": {
      "image/png": "[encoded data removed]",
      "text/plain": [
       "<Figure size 432x288 with 1 Axes>"
      ]
     },
     "metadata": {
      "needs_background": "light"
     },
     "output_type": "display_data"
    }
   ],
   "source": [
    "#Plot the projections\n",
    "plt.plot(oil_arima_graph)\n",
    "plt.ylabel('Price')\n",
    "plt.axvline(2138, color = 'orange', linestyle = '-.')\n",
    "plt.show()"
   ]
  },
  {
   "cell_type": "markdown",
   "metadata": {},
   "source": [
    "#### From the Oil Price, after doing the forecast, we are seeing the oil price is expecting to increase in the futre and be stable (This may not be totally true due to the previous oil behavior that is characterized to be very volatil)."
   ]
  },
  {
   "cell_type": "markdown",
   "metadata": {},
   "source": [
    "## Stocks"
   ]
  },
  {
   "cell_type": "code",
   "execution_count": 132,
   "metadata": {},
   "outputs": [],
   "source": [
    "def arima_model_stock_pred(array1, order, array2):\n",
    "    mod = ARIMA(endog = array1, order = order, exog = train)\n",
    "    mod_fit = mod.fit(disp = 0)\n",
    "    pred = mod_fit.forecast(steps = len(array2), exog = test)[0]\n",
    "    return pred"
   ]
  },
  {
   "cell_type": "code",
   "execution_count": 133,
   "metadata": {},
   "outputs": [],
   "source": [
    "# Create a function to do the cross validation for stocks\n",
    "def arima_validation_stock(y_train, y_test):\n",
    "    for p in p_value:\n",
    "        for q in q_value:\n",
    "            for d in d_value:\n",
    "                try:\n",
    "                    pred = arima_model_stock_pred(array1 = y_train, order = (p,q,d), array2 = y_test)\n",
    "                    error = mean_squared_error(y_test, pred)\n",
    "                    print('({}, {}, {}) : Error of: {}'.format(p, q, d, error))\n",
    "                except:\n",
    "                    pass"
   ]
  },
  {
   "cell_type": "code",
   "execution_count": 134,
   "metadata": {},
   "outputs": [],
   "source": [
    "def arima_forecast_stock(array1, order):\n",
    "    mod = ARIMA(endog = array1, order = order, exog = df_log_train['Oil Price'])\n",
    "    mod_fit = mod.fit(disp = 0)\n",
    "    pred = mod_fit.forecast(steps = 865, alpha = 0.05, exog = oil_forecast)[0]\n",
    "    return pred"
   ]
  },
  {
   "cell_type": "code",
   "execution_count": 135,
   "metadata": {},
   "outputs": [],
   "source": [
    "graph_jks_test = pd.DataFrame(y_jks_test_log).reset_index(drop = True)\n",
    "graph_aal_test = pd.DataFrame(y_aal_test_log).reset_index(drop = True)\n",
    "graph_tsla_test = pd.DataFrame(y_tsla_test_log).reset_index(drop = True)\n",
    "\n",
    "def arima_comparison_stock(array1, order, test):\n",
    "    model = ARIMA(endog = array1, order = order, exog = df_log_train['Oil Price'])\n",
    "    model_fit = model.fit()\n",
    "    pred = model_fit.predict(start = 2139, end = 2558, exog = y_oil_test_log)\n",
    "    graph_pred = pd.DataFrame(pred).reset_index(drop = True)\n",
    "    plt.plot(test)\n",
    "    plt.plot(graph_pred)\n",
    "    return plt.show()"
   ]
  },
  {
   "cell_type": "markdown",
   "metadata": {},
   "source": [
    "## JKS"
   ]
  },
  {
   "cell_type": "markdown",
   "metadata": {},
   "source": [
    "### ARIMA"
   ]
  },
  {
   "cell_type": "code",
   "execution_count": 136,
   "metadata": {},
   "outputs": [],
   "source": [
    "#Define Arrays for Cross Validation\n",
    "train_jks = y_jks_train_log[q1:].values\n",
    "test_jks = y_jks_train_log[:q1].values"
   ]
  },
  {
   "cell_type": "code",
   "execution_count": 137,
   "metadata": {
    "scrolled": false
   },
   "outputs": [
    {
     "name": "stdout",
     "output_type": "stream",
     "text": [
      "(0, 0, 0) : Error of: 0.4759268678511311\n",
      "(0, 0, 1) : Error of: 0.4758071727795804\n",
      "(0, 1, 0) : Error of: 1.0575718215522971\n",
      "(0, 1, 1) : Error of: 1.0572052747594134\n",
      "(0, 1, 2) : Error of: 1.0571380205636882\n",
      "(0, 2, 0) : Error of: 135.85408833064236\n",
      "(0, 2, 1) : Error of: 2.4054144817509995\n",
      "(1, 0, 0) : Error of: 0.541847431040153\n",
      "(1, 0, 1) : Error of: 0.5419838978375601\n",
      "(1, 0, 2) : Error of: 0.5425934682891246\n",
      "(1, 1, 0) : Error of: 1.0571838265621751\n",
      "(1, 1, 1) : Error of: 1.0572638386341702\n",
      "(1, 2, 0) : Error of: 152.4767187133646\n",
      "(1, 2, 1) : Error of: 2.381657696775298\n",
      "(1, 2, 2) : Error of: 2.499304468479781\n",
      "(2, 0, 0) : Error of: 0.5419864163891036\n",
      "(2, 0, 1) : Error of: 0.5421986885872089\n",
      "(2, 0, 2) : Error of: 0.5413802382078418\n",
      "(2, 1, 0) : Error of: 1.0570832196749889\n",
      "(2, 1, 1) : Error of: 1.0569397552063222\n",
      "(2, 2, 0) : Error of: 55.60103058551858\n",
      "(2, 2, 1) : Error of: 2.4514749713730275\n",
      "(2, 2, 2) : Error of: 2.2799087229576585\n"
     ]
    }
   ],
   "source": [
    "arima_validation_stock(y_train = train_jks, y_test = test_jks)"
   ]
  },
  {
   "cell_type": "markdown",
   "metadata": {},
   "source": [
    "Order (1,0,0)"
   ]
  },
  {
   "cell_type": "code",
   "execution_count": 138,
   "metadata": {},
   "outputs": [
    {
     "data": {
      "image/png": "[encoded data removed]",
      "text/plain": [
       "<Figure size 432x288 with 1 Axes>"
      ]
     },
     "metadata": {
      "needs_background": "light"
     },
     "output_type": "display_data"
    }
   ],
   "source": [
    "#Comparison between test and predicted values\n",
    "arima_comparison_stock(array1 = y_jks_train_log, order = (0,0,1), test = graph_jks_test)"
   ]
  },
  {
   "cell_type": "markdown",
   "metadata": {},
   "source": [
    "##### From the JKS stock, we are seeing that the predicted and the test data behave very similar, so we are going to proceed to make our forecast."
   ]
  },
  {
   "cell_type": "code",
   "execution_count": 139,
   "metadata": {},
   "outputs": [],
   "source": [
    "#Make Projections \n",
    "forecast = arima_forecast_stock(array1 = y_jks_train_log, order = (0,0,1))\n",
    "forecast = pd.DataFrame({'JKS': forecast, 'Time': [i for i in range(2139, 2139 + 865)]})\n",
    "forecast = forecast.set_index('Time')\n",
    "graph_arima_jks = pd.concat([pd.DataFrame(df_log_train['JKS']).reset_index(drop = True), forecast], axis = 0)"
   ]
  },
  {
   "cell_type": "code",
   "execution_count": 140,
   "metadata": {},
   "outputs": [
    {
     "data": {
      "image/png": "[encoded data removed]",
      "text/plain": [
       "<Figure size 432x288 with 1 Axes>"
      ]
     },
     "metadata": {
      "needs_background": "light"
     },
     "output_type": "display_data"
    }
   ],
   "source": [
    "#Plot the projectioms\n",
    "plt.plot(graph_arima_jks)\n",
    "plt.axvline(2139, color = 'Orange', linestyle = 'dotted')\n",
    "plt.show()"
   ]
  },
  {
   "cell_type": "markdown",
   "metadata": {},
   "source": [
    "#### From the forecast we can conclude that JKS stock may tend to be constant."
   ]
  },
  {
   "cell_type": "markdown",
   "metadata": {},
   "source": [
    "### American Airlines"
   ]
  },
  {
   "cell_type": "code",
   "execution_count": 141,
   "metadata": {},
   "outputs": [],
   "source": [
    "#Define Arrays for Cross Validation\n",
    "train_aal = y_aal_train_log[q1:].values\n",
    "test_aal = y_aal_train_log[:q1].values"
   ]
  },
  {
   "cell_type": "code",
   "execution_count": 142,
   "metadata": {},
   "outputs": [
    {
     "name": "stdout",
     "output_type": "stream",
     "text": [
      "(0, 0, 0) : Error of: 1.2994789972673175\n",
      "(0, 0, 1) : Error of: 1.3079093641160282\n",
      "(0, 1, 0) : Error of: 3.0406682858809737\n",
      "(0, 1, 1) : Error of: 3.040073490259293\n",
      "(0, 1, 2) : Error of: 3.0387382461390398\n",
      "(0, 2, 0) : Error of: 7.345470870854624\n",
      "(0, 2, 1) : Error of: 0.7411231164092583\n",
      "(0, 2, 2) : Error of: 0.7586779443934224\n",
      "(1, 0, 0) : Error of: 1.8044602226417885\n",
      "(1, 0, 1) : Error of: 1.7986714540783308\n",
      "(1, 0, 2) : Error of: 1.7924399007022473\n",
      "(1, 1, 0) : Error of: 3.0399641114044287\n",
      "(1, 1, 1) : Error of: 3.0400214461409716\n",
      "(1, 2, 0) : Error of: 6.247358373103994\n",
      "(1, 2, 1) : Error of: 0.3329105347930652\n",
      "(1, 2, 2) : Error of: 0.8111886039920349\n",
      "(2, 0, 0) : Error of: 1.797946544365783\n",
      "(2, 0, 1) : Error of: 1.7944304077098778\n",
      "(2, 0, 2) : Error of: 1.792432047684688\n",
      "(2, 1, 0) : Error of: 3.038950356258118\n",
      "(2, 1, 1) : Error of: 3.035818314844714\n",
      "(2, 1, 2) : Error of: 3.036228176250354\n",
      "(2, 2, 0) : Error of: 1.3985302775351571\n",
      "(2, 2, 1) : Error of: 1.0784902826077631\n",
      "(2, 2, 2) : Error of: 1.1077822427451862\n"
     ]
    }
   ],
   "source": [
    "arima_validation_stock(y_train = train_aal, y_test = test_aal)"
   ]
  },
  {
   "cell_type": "code",
   "execution_count": 143,
   "metadata": {},
   "outputs": [
    {
     "data": {
      "image/png": "[encoded data removed]",
      "text/plain": [
       "<Figure size 432x288 with 1 Axes>"
      ]
     },
     "metadata": {
      "needs_background": "light"
     },
     "output_type": "display_data"
    }
   ],
   "source": [
    "# Comparison between test and predictions\n",
    "arima_comparison_stock(array1 = y_aal_train_log, order = (0,0,1), test = graph_aal_test)"
   ]
  },
  {
   "cell_type": "markdown",
   "metadata": {},
   "source": [
    "#### From this comparison, the predictions and the test data were moving very similar. However, unexpected events such as covid (there is no model that would take into consideration this) made the stock prediction and the test move differently. "
   ]
  },
  {
   "cell_type": "code",
   "execution_count": 144,
   "metadata": {},
   "outputs": [],
   "source": [
    "#Make Projections \n",
    "forecast = arima_forecast_stock(array1 = y_aal_train_log, order = (0,0,1))\n",
    "forecast = pd.DataFrame({'AAL': forecast, 'Time': [i for i in range(2139, 2139 + 865)]})\n",
    "forecast = forecast.set_index('Time')\n",
    "graph_arima_aal = pd.concat([pd.DataFrame(df_log_train['AAL']).reset_index(drop = True), forecast], axis = 0)"
   ]
  },
  {
   "cell_type": "code",
   "execution_count": 145,
   "metadata": {},
   "outputs": [
    {
     "data": {
      "image/png": "[encoded data removed]",
      "text/plain": [
       "<Figure size 432x288 with 1 Axes>"
      ]
     },
     "metadata": {
      "needs_background": "light"
     },
     "output_type": "display_data"
    }
   ],
   "source": [
    "#Plot the projectioms\n",
    "plt.plot(graph_arima_aal)\n",
    "plt.axvline(2139, color = 'Orange', linestyle = 'dotted')\n",
    "plt.show()"
   ]
  },
  {
   "cell_type": "markdown",
   "metadata": {},
   "source": [
    "#### From the forecast we are seeing that the American Airlines stock may continue decreasing over time based on previous behavior."
   ]
  },
  {
   "cell_type": "markdown",
   "metadata": {},
   "source": [
    "### Tesla"
   ]
  },
  {
   "cell_type": "code",
   "execution_count": 146,
   "metadata": {},
   "outputs": [],
   "source": [
    "#Define Arrays for Cross Validation\n",
    "train_tsla = y_tsla_train_log[q1:].values\n",
    "test_tsla = y_tsla_train_log[:q1].values"
   ]
  },
  {
   "cell_type": "code",
   "execution_count": 147,
   "metadata": {},
   "outputs": [
    {
     "name": "stdout",
     "output_type": "stream",
     "text": [
      "(0, 0, 0) : Error of: 2.480252382053331\n",
      "(0, 0, 1) : Error of: 2.498714395965215\n",
      "(0, 1, 0) : Error of: 10.430010437745274\n",
      "(0, 1, 1) : Error of: 10.428251914657967\n",
      "(0, 1, 2) : Error of: 10.427532342550922\n",
      "(0, 2, 0) : Error of: 223.32967861660444\n",
      "(0, 2, 1) : Error of: 4.6996407277651535\n",
      "(1, 0, 0) : Error of: 6.2826871965230895\n",
      "(1, 0, 1) : Error of: 6.2928549026893315\n",
      "(1, 0, 2) : Error of: 6.29068626646188\n",
      "(1, 1, 0) : Error of: 10.427940060124289\n",
      "(1, 1, 1) : Error of: 10.427956691097988\n",
      "(1, 2, 0) : Error of: 51.92470643270327\n",
      "(1, 2, 1) : Error of: 4.706706224006901\n",
      "(1, 2, 2) : Error of: 6.628384646580777\n",
      "(2, 0, 0) : Error of: 6.292866345609433\n",
      "(2, 0, 1) : Error of: 6.292604057876451\n",
      "(2, 0, 2) : Error of: 6.300910839366322\n",
      "(2, 1, 0) : Error of: 10.427538984822963\n",
      "(2, 1, 1) : Error of: 10.426753423259067\n",
      "(2, 2, 0) : Error of: 31.186336783816706\n",
      "(2, 2, 1) : Error of: 6.926323283785957\n",
      "(2, 2, 2) : Error of: 5.417793728646502\n"
     ]
    }
   ],
   "source": [
    "arima_validation_stock(y_train = train_tsla, y_test = test_tsla)"
   ]
  },
  {
   "cell_type": "code",
   "execution_count": 148,
   "metadata": {},
   "outputs": [
    {
     "data": {
      "image/png": "[encoded data removed]",
      "text/plain": [
       "<Figure size 432x288 with 1 Axes>"
      ]
     },
     "metadata": {
      "needs_background": "light"
     },
     "output_type": "display_data"
    }
   ],
   "source": [
    "# Comparison between test and predictions\n",
    "arima_comparison_stock(array1 = y_tsla_train_log, order = (0,0,1), test = graph_tsla_test)"
   ]
  },
  {
   "cell_type": "markdown",
   "metadata": {},
   "source": [
    "#### Stock test data and predictions were moving similarly. However, when our predictions said stocks were going down, tesla stock continued booming. Tesla Stock is very difficult to analyze by any model because of its volatility. "
   ]
  },
  {
   "cell_type": "code",
   "execution_count": 149,
   "metadata": {},
   "outputs": [],
   "source": [
    "#Make Projections \n",
    "forecast = arima_forecast_stock(array1 = y_tsla_train_log, order = (0,0,1))\n",
    "forecast = pd.DataFrame({'TSLA': forecast, 'Time': [i for i in range(2139, 2139 + 865)]})\n",
    "forecast = forecast.set_index('Time')\n",
    "graph_arima_tsla = pd.concat([pd.DataFrame(df_log_train['TSLA']).reset_index(drop = True), forecast], axis = 0)"
   ]
  },
  {
   "cell_type": "code",
   "execution_count": 150,
   "metadata": {},
   "outputs": [
    {
     "data": {
      "image/png": "[encoded data removed]",
      "text/plain": [
       "<Figure size 432x288 with 1 Axes>"
      ]
     },
     "metadata": {
      "needs_background": "light"
     },
     "output_type": "display_data"
    }
   ],
   "source": [
    "#Plot the projectioms\n",
    "plt.plot(graph_arima_tsla)\n",
    "plt.axvline(2139, color = 'Orange', linestyle = 'dotted')\n",
    "plt.show()"
   ]
  },
  {
   "cell_type": "markdown",
   "metadata": {},
   "source": [
    "#### From the forecast we can observe Tesla Stock may tend to fall. but not dramatically and then it would be stable."
   ]
  },
  {
   "cell_type": "markdown",
   "metadata": {},
   "source": [
    "### SARIMAX Oil"
   ]
  },
  {
   "cell_type": "code",
   "execution_count": 151,
   "metadata": {},
   "outputs": [],
   "source": [
    "#Model to do the type of cross validation\n",
    "def sarimax_model_prediction_oil(array1, array2, order1, order2):\n",
    "    mod = SARIMAX(endog = array1, order = order1, seasonal_order = order2, exog = None)\n",
    "    mod_fit = mod.fit(disp = 0)\n",
    "    pred = mod_fit.forecast(steps = len(array2))\n",
    "    return pred"
   ]
  },
  {
   "cell_type": "code",
   "execution_count": 152,
   "metadata": {},
   "outputs": [],
   "source": [
    "# Create a function that gets the scores for each order.\n",
    "#We are picking the order that has the least error\n",
    "def sarimax_validation_oil(y_train, y_test):\n",
    "    for p in p_value:\n",
    "        for q in q_value:\n",
    "            for d in d_value:\n",
    "                for s in s_value:\n",
    "                    try:\n",
    "                        pred = sarimax_model_prediction_oil(array1 = y_train, array2 = y_test,\n",
    "                                                        order1 = (p,q,d), order2 = (p,q,d,s))\n",
    "                        error = mean_squared_error(y_test, pred)\n",
    "                        print('({}, {}, {}, {}) : Error of: {}'.format(p, q, d, s, error))\n",
    "                    except:\n",
    "                        pass"
   ]
  },
  {
   "cell_type": "code",
   "execution_count": 153,
   "metadata": {},
   "outputs": [],
   "source": [
    "def sarimax_comparison_oil(array1, order1, order2):\n",
    "    model = SARIMAX(endog = array1, order = order1, seasonal_order = order2, exog = None)\n",
    "    model_fit = model.fit()\n",
    "    pred = model_fit.predict(start = 2139, end = 2558)\n",
    "    graph_pred = pd.DataFrame(pred).reset_index(drop = True)\n",
    "    plt.plot(graph_test)\n",
    "    plt.plot(graph_pred)\n",
    "    return plt.show()"
   ]
  },
  {
   "cell_type": "code",
   "execution_count": 154,
   "metadata": {},
   "outputs": [],
   "source": [
    "def sarimax_forecast_oil(array1, order1, order2):\n",
    "    mod = SARIMAX(endog = array1, order = order1, seasonal_order = order2, exog = None)\n",
    "    mod_fit = mod.fit(disp = 0)\n",
    "    pred = mod_fit.forecast(steps = 865, alpha = 0.05)\n",
    "    return pred"
   ]
  },
  {
   "cell_type": "markdown",
   "metadata": {},
   "source": [
    "### Oil"
   ]
  },
  {
   "cell_type": "code",
   "execution_count": 155,
   "metadata": {},
   "outputs": [
    {
     "name": "stdout",
     "output_type": "stream",
     "text": [
      "(0, 0, 0, 0) : Error of: 21.232127557549376\n",
      "(0, 0, 0, 1) : Error of: 21.232127557549376\n",
      "(0, 0, 0, 2) : Error of: 21.232127557549376\n",
      "(0, 0, 1, 0) : Error of: 21.187141161355388\n",
      "(0, 0, 1, 1) : Error of: 21.187141161355388\n",
      "(0, 0, 1, 2) : Error of: 21.160308455486117\n",
      "(0, 0, 2, 0) : Error of: 21.172595155094093\n",
      "(0, 0, 2, 1) : Error of: 21.172595155094093\n",
      "(0, 0, 2, 2) : Error of: 21.09826878035448\n",
      "(0, 1, 0, 1) : Error of: 26.93053468790763\n",
      "(0, 1, 0, 2) : Error of: 12.768745322408058\n",
      "(0, 1, 1, 1) : Error of: 4.425388342483944\n",
      "(0, 1, 1, 2) : Error of: 0.7862949760066305\n",
      "(0, 1, 2, 1) : Error of: 22.24145124872347\n",
      "(0, 1, 2, 2) : Error of: 8.360385760130717\n",
      "(0, 2, 0, 1) : Error of: 1677608441469.1333\n",
      "(0, 2, 0, 2) : Error of: 17343606711.444572\n",
      "(0, 2, 1, 1) : Error of: 63.89809312368498\n",
      "(0, 2, 1, 2) : Error of: 40.730440394139684\n",
      "(0, 2, 2, 1) : Error of: 16.253233239736584\n",
      "(0, 2, 2, 2) : Error of: 51.117257989759295\n",
      "(1, 0, 0, 0) : Error of: 25.222185122305955\n",
      "(1, 0, 0, 1) : Error of: 25.222185122305955\n",
      "(1, 0, 0, 2) : Error of: 11.6275581325877\n",
      "(1, 0, 1, 0) : Error of: 4.272591263157346\n",
      "(1, 0, 1, 1) : Error of: 4.272591263157346\n",
      "(1, 0, 1, 2) : Error of: 0.590211930583558\n",
      "(1, 0, 2, 0) : Error of: 20.72669727909271\n",
      "(1, 0, 2, 1) : Error of: 20.72669727909271\n",
      "(1, 0, 2, 2) : Error of: 14.750479019766955\n",
      "(1, 1, 0, 1) : Error of: 0.3130168581443445\n",
      "(1, 1, 0, 2) : Error of: 1.8241755638616095\n",
      "(1, 1, 1, 1) : Error of: 12.534251945053892\n",
      "(1, 1, 1, 2) : Error of: 1.3634832661802514\n",
      "(1, 1, 2, 1) : Error of: 11.568369308250158\n",
      "(1, 1, 2, 2) : Error of: 7.539502828768803\n",
      "(1, 2, 0, 1) : Error of: 26826680073.45143\n",
      "(1, 2, 0, 2) : Error of: 2108285441.8353379\n",
      "(1, 2, 1, 1) : Error of: 0.3364687257940141\n",
      "(1, 2, 1, 2) : Error of: 2.453118782401644\n",
      "(1, 2, 2, 1) : Error of: 60.47253172874692\n",
      "(1, 2, 2, 2) : Error of: 7.915839122976463\n",
      "(2, 0, 0, 0) : Error of: 0.31393076202638054\n",
      "(2, 0, 0, 1) : Error of: 0.31393076202638054\n",
      "(2, 0, 0, 2) : Error of: 2.2938069525361398\n",
      "(2, 0, 1, 0) : Error of: 10.102319229644564\n",
      "(2, 0, 1, 1) : Error of: 10.102319229644564\n",
      "(2, 0, 1, 2) : Error of: 1.6412313227094113\n",
      "(2, 0, 2, 0) : Error of: 13.297705163372386\n",
      "(2, 0, 2, 1) : Error of: 13.297705163372386\n",
      "(2, 0, 2, 2) : Error of: 0.6184862363721975\n",
      "(2, 1, 0, 1) : Error of: 8.814216612000877\n",
      "(2, 1, 0, 2) : Error of: 18.07779311912953\n",
      "(2, 1, 1, 1) : Error of: 11.284774783780415\n",
      "(2, 1, 1, 2) : Error of: 11.048687151303627\n",
      "(2, 1, 2, 1) : Error of: 12.329793882418702\n",
      "(2, 1, 2, 2) : Error of: 9.14270954462126\n",
      "(2, 2, 0, 1) : Error of: 978242167.5537477\n",
      "(2, 2, 0, 2) : Error of: 1119392231.9294295\n",
      "(2, 2, 1, 1) : Error of: 19.309129673916335\n",
      "(2, 2, 1, 2) : Error of: 196.18479351837735\n",
      "(2, 2, 2, 1) : Error of: 0.2798074357663949\n",
      "(2, 2, 2, 2) : Error of: 60.77187624633978\n"
     ]
    }
   ],
   "source": [
    "sarimax_validation_oil(y_train = train, y_test = test)"
   ]
  },
  {
   "cell_type": "markdown",
   "metadata": {},
   "source": [
    "Order = (1,0,2,2)"
   ]
  },
  {
   "cell_type": "code",
   "execution_count": 156,
   "metadata": {},
   "outputs": [
    {
     "data": {
      "image/png": "[encoded data removed]",
      "text/plain": [
       "<Figure size 432x288 with 1 Axes>"
      ]
     },
     "metadata": {
      "needs_background": "light"
     },
     "output_type": "display_data"
    }
   ],
   "source": [
    "#Comparison between predicted and test data\n",
    "sarimax_comparison_oil(array1 = y_oil_train_log, order1 = (0,1,1) , order2 = (0,1,1,2))"
   ]
  },
  {
   "cell_type": "markdown",
   "metadata": {},
   "source": [
    "#### Comparing the prediction and the test data, looks the prediction follows the general trend."
   ]
  },
  {
   "cell_type": "code",
   "execution_count": 157,
   "metadata": {},
   "outputs": [],
   "source": [
    "# Create a data frame with all the forecast\n",
    "graph_sarimax = pd.DataFrame()"
   ]
  },
  {
   "cell_type": "code",
   "execution_count": 158,
   "metadata": {},
   "outputs": [],
   "source": [
    "oil_forecast_sarimax = sarimax_forecast_oil(y_oil_train_log, order1 = (0,1,1,), order2 = (0,1,1,2))\n",
    "df_oil_forecast = pd.DataFrame({'Oil Price': oil_forecast_sarimax, 'Time': [i for i in range(2139, 2139 + 865)]})\n",
    "df_oil_forecast = df_oil_forecast.set_index('Time')\n",
    "graph_oil_sarimax = pd.concat([pd.DataFrame(df_log_train['Oil Price']).reset_index(drop = True), \n",
    "                               df_oil_forecast], axis = 0)"
   ]
  },
  {
   "cell_type": "code",
   "execution_count": 159,
   "metadata": {},
   "outputs": [
    {
     "data": {
      "image/png": "[encoded data removed]",
      "text/plain": [
       "<Figure size 432x288 with 1 Axes>"
      ]
     },
     "metadata": {
      "needs_background": "light"
     },
     "output_type": "display_data"
    }
   ],
   "source": [
    "#Plot the projectioms\n",
    "plt.plot(graph_oil_sarimax)\n",
    "plt.axvline(2139, color = 'Orange', linestyle = 'dotted')\n",
    "plt.show()"
   ]
  },
  {
   "cell_type": "markdown",
   "metadata": {},
   "source": [
    "#### Same than ARIMA, SARIMAX tells us that the oil Price will go down, but dramatically."
   ]
  },
  {
   "cell_type": "markdown",
   "metadata": {},
   "source": [
    "## Stocks"
   ]
  },
  {
   "cell_type": "code",
   "execution_count": 160,
   "metadata": {},
   "outputs": [],
   "source": [
    "def sarimax_model_prediction(array1, array2, order1, order2):\n",
    "    mod = SARIMAX(endog = array1, order = order1, seasonal_order = order2, exog = train.reshape(-1,1))\n",
    "    mod_fit = mod.fit(disp = 0)\n",
    "    pred = mod_fit.forecast(steps = len(array2), exog = test.reshape(-1,1))\n",
    "    return pred"
   ]
  },
  {
   "cell_type": "code",
   "execution_count": 161,
   "metadata": {},
   "outputs": [],
   "source": [
    "# Create a function that gets the scores for each order.\n",
    "#We are picking the order that has the least error\n",
    "def sarimax_validation(y_train, y_test):\n",
    "    for p in p_value:\n",
    "        for q in q_value:\n",
    "            for d in d_value:\n",
    "                for s in s_value:\n",
    "                    try:\n",
    "                        pred = sarimax_model_prediction_oil(array1 = y_train, array2 = y_test,\n",
    "                                                        order1 = (p,q,d), order2 = (p,q,d,s))\n",
    "                        error = mean_squared_error(y_test, pred)\n",
    "                        print('({}, {}, {}, {}) : Error of: {}'.format(p, q, d, s, error))\n",
    "                    except:\n",
    "                        pass"
   ]
  },
  {
   "cell_type": "code",
   "execution_count": 162,
   "metadata": {},
   "outputs": [],
   "source": [
    "graph_jks_test = pd.DataFrame(y_jks_test_log).reset_index(drop = True)\n",
    "graph_aal_test = pd.DataFrame(y_aal_test_log).reset_index(drop = True)\n",
    "graph_tsla_test = pd.DataFrame(y_tsla_test_log).reset_index(drop = True)\n",
    "def sarimax_comparison_test(array1, order1, order2, test):\n",
    "    model = SARIMAX(endog = array1, order = order1, seasonal_order = order2, exog = df_log_train['Oil Price'].values.\n",
    "                   reshape(-1,1))\n",
    "    model_fit = model.fit()\n",
    "    pred = model_fit.predict(start = 2139, end = 2558, exog = y_oil_test_log.values.reshape(-1,1))\n",
    "    graph_pred = pd.DataFrame(pred).reset_index(drop = True)\n",
    "    plt.plot(test)\n",
    "    plt.plot(graph_pred)\n",
    "    return plt.show()    \n"
   ]
  },
  {
   "cell_type": "code",
   "execution_count": 163,
   "metadata": {},
   "outputs": [],
   "source": [
    "def sarimax_forecast_stock(array1, order1, order2):\n",
    "    mod = SARIMAX(endog = array1, order = order1, seasonal_order = order2, exog = df_log_train['Oil Price'].\n",
    "                  values.reshape(-1,1))\n",
    "    mod_fit = mod.fit(disp = 0)\n",
    "    pred = mod_fit.forecast(steps = 865, alpha = 0.05, exog = oil_forecast.reshape(-1,1))\n",
    "    return pred"
   ]
  },
  {
   "cell_type": "markdown",
   "metadata": {},
   "source": [
    "### JKS"
   ]
  },
  {
   "cell_type": "code",
   "execution_count": 164,
   "metadata": {},
   "outputs": [
    {
     "name": "stdout",
     "output_type": "stream",
     "text": [
      "(0, 0, 0, 0) : Error of: 7.234460351039023\n",
      "(0, 0, 0, 1) : Error of: 7.234460351039023\n",
      "(0, 0, 0, 2) : Error of: 7.234460351039023\n",
      "(0, 0, 1, 0) : Error of: 7.220752041568527\n",
      "(0, 0, 1, 1) : Error of: 7.220752041568527\n",
      "(0, 0, 1, 2) : Error of: 7.21557296122289\n",
      "(0, 0, 2, 0) : Error of: 7.208016582543581\n",
      "(0, 0, 2, 1) : Error of: 7.208016582543581\n",
      "(0, 0, 2, 2) : Error of: 7.199761744800584\n",
      "(0, 1, 0, 1) : Error of: 13.236701083388793\n",
      "(0, 1, 0, 2) : Error of: 24.117450927976353\n",
      "(0, 1, 1, 1) : Error of: 11.072501425493186\n",
      "(0, 1, 1, 2) : Error of: 0.7797455060830841\n",
      "(0, 1, 2, 1) : Error of: 21.67244166664605\n",
      "(0, 1, 2, 2) : Error of: 0.8403503750473851\n",
      "(0, 2, 0, 1) : Error of: 551313460402.9423\n",
      "(0, 2, 0, 2) : Error of: 128782832743.28635\n",
      "(0, 2, 1, 1) : Error of: 90.1938476308205\n",
      "(0, 2, 1, 2) : Error of: 78.62768433383877\n",
      "(0, 2, 2, 1) : Error of: 51.453243683858176\n",
      "(0, 2, 2, 2) : Error of: 38.62189382504244\n",
      "(1, 0, 0, 0) : Error of: 6.655830275580516\n",
      "(1, 0, 0, 1) : Error of: 6.655830275580516\n",
      "(1, 0, 0, 2) : Error of: 0.622091708481554\n",
      "(1, 0, 1, 0) : Error of: 5.5770082484694665\n",
      "(1, 0, 1, 1) : Error of: 5.5770082484694665\n",
      "(1, 0, 1, 2) : Error of: 0.7453967152839556\n",
      "(1, 0, 2, 0) : Error of: 4.907987842364662\n",
      "(1, 0, 2, 1) : Error of: 4.907987842364662\n",
      "(1, 1, 0, 1) : Error of: 11.905338166551497\n",
      "(1, 1, 0, 2) : Error of: 14.974927474920868\n",
      "(1, 1, 1, 1) : Error of: 4.364202405404155\n",
      "(1, 1, 1, 2) : Error of: 0.7767586704825571\n",
      "(1, 1, 2, 1) : Error of: 0.6143477220725824\n",
      "(1, 1, 2, 2) : Error of: 0.8425093848304085\n",
      "(1, 2, 0, 1) : Error of: 104601654676.69843\n",
      "(1, 2, 0, 2) : Error of: 2627934810.148104\n",
      "(1, 2, 1, 1) : Error of: 60.859799327805206\n",
      "(1, 2, 1, 2) : Error of: 47.94893440379131\n",
      "(1, 2, 2, 1) : Error of: 606.7101591908981\n",
      "(1, 2, 2, 2) : Error of: 43.16694666117495\n",
      "(2, 0, 0, 0) : Error of: 6.269208862630342\n",
      "(2, 0, 0, 1) : Error of: 6.269208862630342\n",
      "(2, 0, 0, 2) : Error of: 0.702294063238903\n",
      "(2, 0, 1, 0) : Error of: 3.4135187827739055\n",
      "(2, 0, 1, 1) : Error of: 3.4135187827739055\n",
      "(2, 0, 1, 2) : Error of: 3.2387204818530715\n",
      "(2, 0, 2, 0) : Error of: 5.229304687738808\n",
      "(2, 0, 2, 1) : Error of: 5.229304687738808\n",
      "(2, 0, 2, 2) : Error of: 0.9119085871626504\n",
      "(2, 1, 0, 1) : Error of: 1.900076184726618\n",
      "(2, 1, 0, 2) : Error of: 26.83418679224764\n",
      "(2, 1, 1, 1) : Error of: 0.5839230318706364\n",
      "(2, 1, 1, 2) : Error of: 0.9988214879124311\n",
      "(2, 1, 2, 1) : Error of: 2.016985966429979\n",
      "(2, 1, 2, 2) : Error of: 0.8196009187547073\n",
      "(2, 2, 0, 1) : Error of: 3666202676.865843\n",
      "(2, 2, 0, 2) : Error of: 56885194.572293684\n",
      "(2, 2, 1, 1) : Error of: 11.844565570425772\n",
      "(2, 2, 1, 2) : Error of: 90.4208811828199\n",
      "(2, 2, 2, 1) : Error of: 6.86667439337346\n",
      "(2, 2, 2, 2) : Error of: 20.687273199211003\n"
     ]
    }
   ],
   "source": [
    "sarimax_validation(y_train = train_jks, y_test = test_jks)"
   ]
  },
  {
   "cell_type": "code",
   "execution_count": 165,
   "metadata": {},
   "outputs": [
    {
     "data": {
      "image/png": "[encoded data removed]",
      "text/plain": [
       "<Figure size 432x288 with 1 Axes>"
      ]
     },
     "metadata": {
      "needs_background": "light"
     },
     "output_type": "display_data"
    }
   ],
   "source": [
    "#Comparison\n",
    "sarimax_comparison_test(array1 = y_jks_train_log, order1 = (0,1,1), order2 = (0,1,1,2), test = graph_jks_test)"
   ]
  },
  {
   "cell_type": "markdown",
   "metadata": {},
   "source": [
    "#### From the comparison, we see very similary behavior when stock is whether going up or down."
   ]
  },
  {
   "cell_type": "code",
   "execution_count": 166,
   "metadata": {},
   "outputs": [],
   "source": [
    "jks_forecast_sarimax = sarimax_forecast_stock(array1 = y_jks_train_log, order1 = (0,1,1), order2 = (0,1,1,2))\n",
    "df_jks_forecast = pd.DataFrame({'Price': jks_forecast_sarimax, 'Time': [i for i in range(2139, 2139 + 865)]})\n",
    "df_jks_forecast = df_jks_forecast.set_index('Time')\n",
    "graph_jks_sarimax = pd.concat([pd.DataFrame(df_log_train['JKS']).reset_index(drop = True), df_jks_forecast], axis = 0)"
   ]
  },
  {
   "cell_type": "code",
   "execution_count": 167,
   "metadata": {},
   "outputs": [
    {
     "data": {
      "image/png": "[encoded data removed]",
      "text/plain": [
       "<Figure size 432x288 with 1 Axes>"
      ]
     },
     "metadata": {
      "needs_background": "light"
     },
     "output_type": "display_data"
    }
   ],
   "source": [
    "#Plot the projectioms\n",
    "plt.plot(graph_jks_sarimax)\n",
    "plt.axvline(2139, color = 'Orange', linestyle = 'dotted')\n",
    "plt.show()"
   ]
  },
  {
   "cell_type": "markdown",
   "metadata": {},
   "source": [
    "#### SARIMAX is telling us stock price may increase in the future. It is not going to boom though. It may be a very controlled increas en the stock price."
   ]
  },
  {
   "cell_type": "markdown",
   "metadata": {},
   "source": [
    "### AAL"
   ]
  },
  {
   "cell_type": "code",
   "execution_count": 168,
   "metadata": {},
   "outputs": [
    {
     "name": "stdout",
     "output_type": "stream",
     "text": [
      "(0, 0, 0, 0) : Error of: 4.281529205671078\n",
      "(0, 0, 0, 1) : Error of: 4.281529205671078\n",
      "(0, 0, 0, 2) : Error of: 4.281529205671078\n",
      "(0, 0, 1, 0) : Error of: 4.267973684432081\n",
      "(0, 0, 1, 1) : Error of: 4.267973684432081\n",
      "(0, 0, 1, 2) : Error of: 4.25986111632135\n",
      "(0, 0, 2, 0) : Error of: 4.257747774027041\n",
      "(0, 0, 2, 1) : Error of: 4.257747774027041\n",
      "(0, 0, 2, 2) : Error of: 4.2476313977877185\n",
      "(0, 1, 0, 1) : Error of: 0.9522050505583907\n",
      "(0, 1, 0, 2) : Error of: 1.230224542350889\n",
      "(0, 1, 1, 1) : Error of: 1.4534658985658662\n",
      "(0, 1, 1, 2) : Error of: 1.9273078532315677\n",
      "(0, 1, 2, 1) : Error of: 0.4790108944157858\n",
      "(0, 1, 2, 2) : Error of: 1.956144899404104\n",
      "(0, 2, 0, 1) : Error of: 233228603765.00113\n",
      "(0, 2, 0, 2) : Error of: 64729548071.92484\n",
      "(0, 2, 1, 1) : Error of: 0.8524949067848056\n",
      "(0, 2, 1, 2) : Error of: 0.3122590421347465\n",
      "(0, 2, 2, 1) : Error of: 113.23594985113716\n",
      "(0, 2, 2, 2) : Error of: 13.68430799928583\n",
      "(1, 0, 0, 0) : Error of: 3.431335794827578\n",
      "(1, 0, 0, 1) : Error of: 3.431335794827578\n",
      "(1, 0, 0, 2) : Error of: 1.9378513560900346\n",
      "(1, 0, 1, 0) : Error of: 2.0837826120485654\n",
      "(1, 0, 1, 1) : Error of: 2.0837826120485654\n",
      "(1, 0, 1, 2) : Error of: 1.2333745434824455\n",
      "(1, 0, 2, 0) : Error of: 1.3448544043128305\n",
      "(1, 0, 2, 1) : Error of: 1.3448544043128305\n",
      "(1, 0, 2, 2) : Error of: 1.7086097077172961\n",
      "(1, 1, 0, 1) : Error of: 0.4670273315440165\n",
      "(1, 1, 0, 2) : Error of: 0.5656308421022904\n",
      "(1, 1, 1, 1) : Error of: 1.0116185616202886\n",
      "(1, 1, 1, 2) : Error of: 1.978691279459722\n",
      "(1, 1, 2, 1) : Error of: 0.47501192319255897\n",
      "(1, 1, 2, 2) : Error of: 1.3114487628875977\n",
      "(1, 2, 0, 1) : Error of: 53780781250.71357\n",
      "(1, 2, 0, 2) : Error of: 175540773.75523773\n",
      "(1, 2, 1, 1) : Error of: 0.6067336346657578\n",
      "(1, 2, 1, 2) : Error of: 2.219446117723198\n",
      "(1, 2, 2, 1) : Error of: 301.9272633646805\n",
      "(1, 2, 2, 2) : Error of: 2.4813258909444125\n",
      "(2, 0, 0, 0) : Error of: 2.9347725703737795\n",
      "(2, 0, 0, 1) : Error of: 2.9347725703737795\n",
      "(2, 0, 0, 2) : Error of: 1.9130568223283273\n",
      "(2, 0, 1, 0) : Error of: 1.5636066489840568\n",
      "(2, 0, 1, 1) : Error of: 1.5636066489840568\n",
      "(2, 0, 1, 2) : Error of: 0.9439621467433948\n",
      "(2, 0, 2, 0) : Error of: 2.089195000926051\n",
      "(2, 0, 2, 1) : Error of: 2.089195000926051\n",
      "(2, 1, 0, 1) : Error of: 4.051448599462019\n",
      "(2, 1, 0, 2) : Error of: 0.4906653456424488\n",
      "(2, 1, 1, 1) : Error of: 0.5252557244690056\n",
      "(2, 1, 1, 2) : Error of: 0.49640749995036393\n",
      "(2, 1, 2, 1) : Error of: 0.8841832418405451\n",
      "(2, 1, 2, 2) : Error of: 1.0813444669921772\n",
      "(2, 2, 0, 1) : Error of: 3500087740.7747564\n",
      "(2, 2, 0, 2) : Error of: 93778676.53316762\n",
      "(2, 2, 1, 1) : Error of: 13.58358318557424\n",
      "(2, 2, 1, 2) : Error of: 50.477457900287874\n",
      "(2, 2, 2, 1) : Error of: 2.8019467014957185\n",
      "(2, 2, 2, 2) : Error of: 5.717688342785857\n"
     ]
    }
   ],
   "source": [
    "# Do the validation\n",
    "sarimax_validation(y_train = train_aal, y_test = test_aal)"
   ]
  },
  {
   "cell_type": "code",
   "execution_count": 169,
   "metadata": {},
   "outputs": [
    {
     "data": {
      "image/png": "[encoded data removed]",
      "text/plain": [
       "<Figure size 432x288 with 1 Axes>"
      ]
     },
     "metadata": {
      "needs_background": "light"
     },
     "output_type": "display_data"
    }
   ],
   "source": [
    "#Comparison\n",
    "sarimax_comparison_test(array1 = y_aal_train_log, order1 = (0,1,1), order2 = (0,1,1,1), test = graph_aal_test)"
   ]
  },
  {
   "cell_type": "markdown",
   "metadata": {},
   "source": [
    "#### SARIMAX follows the general trend of the stock price"
   ]
  },
  {
   "cell_type": "code",
   "execution_count": 170,
   "metadata": {},
   "outputs": [],
   "source": [
    "#Forecast\n",
    "aal_forecast_sarimax = sarimax_forecast_stock(array1 = y_aal_train_log, order1 = (0,1,1), order2 = (0,1,1,1))\n",
    "df_aal_forecast = pd.DataFrame({'Price': aal_forecast_sarimax, 'Time': [i for i in range(2139, 2139 + 865)]})\n",
    "df_aal_forecast = df_aal_forecast.set_index('Time')\n",
    "graph_aal_sarimax = pd.concat([pd.DataFrame(df_log_train['AAL']).reset_index(drop = True), df_aal_forecast], axis = 0)"
   ]
  },
  {
   "cell_type": "code",
   "execution_count": 171,
   "metadata": {},
   "outputs": [
    {
     "data": {
      "image/png": "[encoded data removed]",
      "text/plain": [
       "<Figure size 432x288 with 1 Axes>"
      ]
     },
     "metadata": {
      "needs_background": "light"
     },
     "output_type": "display_data"
    }
   ],
   "source": [
    "#Plot the projectioms\n",
    "plt.plot(graph_aal_sarimax)\n",
    "plt.axvline(2139, color = 'Orange', linestyle = 'dotted')\n",
    "plt.show()"
   ]
  },
  {
   "cell_type": "markdown",
   "metadata": {},
   "source": [
    "#### SARIMAX is also telling us that American Airlines stock price is falling."
   ]
  },
  {
   "cell_type": "markdown",
   "metadata": {},
   "source": [
    "### Tesla"
   ]
  },
  {
   "cell_type": "code",
   "execution_count": 172,
   "metadata": {},
   "outputs": [
    {
     "name": "stdout",
     "output_type": "stream",
     "text": [
      "(0, 0, 0, 0) : Error of: 2.84473257993231\n",
      "(0, 0, 0, 1) : Error of: 2.84473257993231\n",
      "(0, 0, 0, 2) : Error of: 2.84473257993231\n",
      "(0, 0, 1, 0) : Error of: 2.839842093335547\n",
      "(0, 0, 1, 1) : Error of: 2.839842093335547\n",
      "(0, 0, 1, 2) : Error of: 2.8370349611704686\n",
      "(0, 0, 2, 0) : Error of: 2.846131149091436\n",
      "(0, 0, 2, 1) : Error of: 2.846131149091436\n",
      "(0, 0, 2, 2) : Error of: 2.8422647968121617\n",
      "(0, 1, 0, 1) : Error of: 335.0621060612821\n",
      "(0, 1, 0, 2) : Error of: 33.07424432627181\n",
      "(0, 1, 1, 1) : Error of: 13.709217395772118\n",
      "(0, 1, 1, 2) : Error of: 8.026034773180696\n",
      "(0, 1, 2, 1) : Error of: 2.777194129148216\n",
      "(0, 1, 2, 2) : Error of: 8.008297536788241\n",
      "(0, 2, 0, 1) : Error of: 1349482257968.1736\n",
      "(0, 2, 0, 2) : Error of: 6908481690.829098\n",
      "(0, 2, 1, 1) : Error of: 802.6728775049099\n",
      "(0, 2, 1, 2) : Error of: 53.45776594459165\n",
      "(0, 2, 2, 1) : Error of: 3.6769663757356135\n",
      "(0, 2, 2, 2) : Error of: 756.235381098715\n",
      "(1, 0, 0, 0) : Error of: 2.8561490348773524\n",
      "(1, 0, 0, 1) : Error of: 2.8561490348773524\n",
      "(1, 0, 0, 2) : Error of: 6.1745689114970945\n",
      "(1, 0, 1, 0) : Error of: 2.3436010777273246\n",
      "(1, 0, 1, 1) : Error of: 2.3436010777273246\n",
      "(1, 0, 1, 2) : Error of: 6.1035491462085565\n",
      "(1, 0, 2, 0) : Error of: 1.892923347082246\n",
      "(1, 0, 2, 1) : Error of: 1.892923347082246\n",
      "(1, 0, 2, 2) : Error of: 6.536985653467889\n",
      "(1, 1, 0, 1) : Error of: 75.12441254448329\n",
      "(1, 1, 0, 2) : Error of: 37.24355524337288\n",
      "(1, 1, 1, 1) : Error of: 2.941540274086629\n",
      "(1, 1, 1, 2) : Error of: 8.020886176950409\n",
      "(1, 1, 2, 1) : Error of: 7.533352803046423\n",
      "(1, 1, 2, 2) : Error of: 8.412535841886346\n",
      "(1, 2, 0, 1) : Error of: 38261440008.73193\n",
      "(1, 2, 0, 2) : Error of: 359129.56770370837\n",
      "(1, 2, 1, 1) : Error of: 193.07802018802465\n",
      "(1, 2, 1, 2) : Error of: 82.23834858160751\n",
      "(1, 2, 2, 1) : Error of: 1080.1005231644835\n",
      "(1, 2, 2, 2) : Error of: 156.91083337566891\n",
      "(2, 0, 0, 0) : Error of: 2.7226187740610137\n",
      "(2, 0, 0, 1) : Error of: 2.7226187740610137\n",
      "(2, 0, 0, 2) : Error of: 5.676156632883005\n",
      "(2, 0, 1, 0) : Error of: 1.7697596801610982\n",
      "(2, 0, 1, 1) : Error of: 1.7697596801610982\n",
      "(2, 0, 1, 2) : Error of: 5.408016522598028\n",
      "(2, 0, 2, 0) : Error of: 2.403416692512619\n",
      "(2, 0, 2, 1) : Error of: 2.403416692512619\n",
      "(2, 0, 2, 2) : Error of: 7.0159900831826985\n",
      "(2, 1, 0, 1) : Error of: 52.56250692884875\n",
      "(2, 1, 0, 2) : Error of: 4.332849500066684\n",
      "(2, 1, 1, 1) : Error of: 5.347910710129582\n",
      "(2, 1, 1, 2) : Error of: 6.959345705758279\n",
      "(2, 1, 2, 1) : Error of: 3.2066999010872075\n",
      "(2, 1, 2, 2) : Error of: 7.090474263323761\n",
      "(2, 2, 0, 1) : Error of: 922347349.8828572\n",
      "(2, 2, 0, 2) : Error of: 923014806.9409117\n",
      "(2, 2, 1, 1) : Error of: 146.8997023224785\n",
      "(2, 2, 1, 2) : Error of: 4.111686714455667\n",
      "(2, 2, 2, 2) : Error of: 96.79914869032648\n"
     ]
    }
   ],
   "source": [
    "# Do the validation\n",
    "sarimax_validation(y_train = train_tsla, y_test = test_tsla)"
   ]
  },
  {
   "cell_type": "code",
   "execution_count": 173,
   "metadata": {},
   "outputs": [
    {
     "data": {
      "image/png": "[encoded data removed]",
      "text/plain": [
       "<Figure size 432x288 with 1 Axes>"
      ]
     },
     "metadata": {
      "needs_background": "light"
     },
     "output_type": "display_data"
    }
   ],
   "source": [
    "#Comparison\n",
    "sarimax_comparison_test(array1 = y_tsla_train_log, order1 = (0,1,1), order2 = (0,1,1,2), test = graph_tsla_test)"
   ]
  },
  {
   "cell_type": "markdown",
   "metadata": {},
   "source": [
    "#### SARIMAS follows the general trend as well for Tesla."
   ]
  },
  {
   "cell_type": "code",
   "execution_count": 174,
   "metadata": {},
   "outputs": [],
   "source": [
    "#Forecast\n",
    "tsla_forecast_sarimax = sarimax_forecast_stock(array1 = y_tsla_train_log, order1 = (0,1,1), order2 = (0,1,1,2))\n",
    "df_tsla_forecast = pd.DataFrame({'Price': tsla_forecast_sarimax, 'Time': [i for i in range(2139, 2139 + 865)]})\n",
    "df_tsla_forecast = df_tsla_forecast.set_index('Time')\n",
    "graph_tsla_sarimax = pd.concat([pd.DataFrame(df_log_train['TSLA']).reset_index(drop = True), df_tsla_forecast], axis = 0)"
   ]
  },
  {
   "cell_type": "code",
   "execution_count": 175,
   "metadata": {},
   "outputs": [
    {
     "data": {
      "image/png": "[encoded data removed]",
      "text/plain": [
       "<Figure size 432x288 with 1 Axes>"
      ]
     },
     "metadata": {
      "needs_background": "light"
     },
     "output_type": "display_data"
    }
   ],
   "source": [
    "#Plot the projectioms\n",
    "plt.plot(graph_tsla_sarimax)\n",
    "plt.axvline(2139, color = 'Orange', linestyle = 'dotted')\n",
    "plt.show()"
   ]
  },
  {
   "cell_type": "markdown",
   "metadata": {},
   "source": [
    "#### From SARIMAX we are concluding that Tesla stock price is icreasing in a steeper way."
   ]
  },
  {
   "cell_type": "markdown",
   "metadata": {},
   "source": [
    "### Insights"
   ]
  },
  {
   "cell_type": "markdown",
   "metadata": {},
   "source": [
    "- There is not a better model between Arima o Sarimax. The model I need to choose depends on how the model performs comparing it with the behavior of the stock. It is important to mention that since this is a model, it may go wrong with the predictions.\n",
    "\n",
    "\n",
    "- For each stock, we are analyzing what may happen in the future"
   ]
  },
  {
   "cell_type": "markdown",
   "metadata": {},
   "source": [
    "#### JKS \n",
    "\n",
    "- For JKS. one models says the stock price may decrease and the other model says stock price may appreciate in the close future. According to both models, the increase/decrease is going to be very controlled which make this a very safe investment opportunity. "
   ]
  },
  {
   "cell_type": "markdown",
   "metadata": {},
   "source": [
    "#### American Airlines\n",
    "\n",
    "- This a very interesting one since it is a company highly affected because of covid. The American Airlines stock price has fell down on the last months. However, it is safe to assume in the future the stock price may increase again because the world would be recover from covid and additionally, the normal flights will return to normality. However, due to the tendency, both models say stock price may depreciate which makes this stock a very risky investment."
   ]
  },
  {
   "cell_type": "markdown",
   "metadata": {},
   "source": [
    "#### Tesla\n",
    "\n",
    "- This is maybe the most difficult stock to analyze because of the company. It has hugely increasing their stock price on the last months, and SARIMAX supports it is going to continue this way. However, ARIMA says stock price may decrease. I would say the stock price may continue appreciating since it has a momentum, but it is likely to be controlled and not dramatically as it had occured. "
   ]
  },
  {
   "cell_type": "markdown",
   "metadata": {},
   "source": [
    "### Recommendations\n",
    "\n",
    "- If you don't want unexpected behavior, according to the models, JKS may be the best option for you. American Airlines and Tesla had more unexpected behavior.\n",
    "\n",
    "- It is still important to mention the some influence between the oil prices and the stocks behavior. JKS is not very correlated, but a decrease in oil price suppose an increase on the stock price for some reason. Now, if oil price decrease, American Airline's stock price decrease as well because they are highly correlated. Finally, Tesla and Oil Price have negative correlation between them, so a decrease in stock price is supposing an increase on Tesla stock price.  \n",
    "\n",
    "- If oil price continues going down, it would be a better option to invest in Tesla or JKS rather than American airlines because of the close relation with the oil price and the american airlines stock price. If oil price goes up, American Airlines may be the best option to invest in."
   ]
  }
 ],
 "metadata": {
  "kernelspec": {
   "display_name": "Python 3",
   "language": "python",
   "name": "python3"
  },
  "language_info": {
   "codemirror_mode": {
    "name": "ipython",
    "version": 3
   },
   "file_extension": ".py",
   "mimetype": "text/x-python",
   "name": "python",
   "nbconvert_exporter": "python",
   "pygments_lexer": "ipython3",
   "version": "3.7.4"
  }
 },
 "nbformat": 4,
 "nbformat_minor": 2
}

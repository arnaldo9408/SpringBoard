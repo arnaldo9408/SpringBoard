{
 "cells": [
  {
   "cell_type": "markdown",
   "metadata": {},
   "source": [
    "# Data Wrangling"
   ]
  },
  {
   "cell_type": "markdown",
   "metadata": {},
   "source": [
    "#### On this notebook, I am taking the necessary data, and organize it to complete my last project. I am doing a times series analysis for three different stocks traded in the New York Stock Exchange. I am doing the analysis to Apple, American Airlines, and Tesla. Additionally, to make this project more advanced, I am studying the correlation between those stock prices and the oil price. "
   ]
  },
  {
   "cell_type": "markdown",
   "metadata": {},
   "source": [
    "#### Firstly, I am importing the libraries we need to use to complete this step"
   ]
  },
  {
   "cell_type": "code",
   "execution_count": 1,
   "metadata": {},
   "outputs": [],
   "source": [
    "#Import libraries\n",
    "import pandas as pd\n",
    "from pandas_datareader.data import DataReader\n",
    "import datetime\n",
    "import functools\n",
    "import matplotlib.pyplot as plt\n",
    "import warnings\n",
    "import seaborn as sns\n",
    "from statsmodels.graphics.tsaplots import plot_acf\n",
    "from statsmodels.tsa.seasonal import seasonal_decompose\n",
    "from statsmodels.tsa.stattools import kpss\n",
    "import sys\n",
    "import numpy as np"
   ]
  },
  {
   "cell_type": "markdown",
   "metadata": {},
   "source": [
    "## Data Wrangling"
   ]
  },
  {
   "cell_type": "markdown",
   "metadata": {},
   "source": [
    "I want to use a code that is reusable in case I want to add any other stock to our analysis.\n",
    "I am using Data Reader to get the data from yahoo finance. This would give me the chance to get the data directly from the web without necessity of uploading any csv file.\n",
    "\n",
    "After getting the data, I will convert the data to data frame to make the data easier to use."
   ]
  },
  {
   "cell_type": "code",
   "execution_count": 2,
   "metadata": {},
   "outputs": [],
   "source": [
    "# Create a function that reads the data from yahoo finance\n",
    "def stock_data(ticker, data_source, start, end):\n",
    "    df = DataReader(ticker, data_source, start, end)['Adj Close']\n",
    "    df = df.to_frame(ticker) \n",
    "    return df"
   ]
  },
  {
   "cell_type": "code",
   "execution_count": 3,
   "metadata": {},
   "outputs": [],
   "source": [
    "#Define variables of data source, start and end date\n",
    "start = datetime.date(2000,1,1)\n",
    "end = datetime.date(2020,8,31)\n",
    "source = 'yahoo'"
   ]
  },
  {
   "cell_type": "code",
   "execution_count": 4,
   "metadata": {},
   "outputs": [],
   "source": [
    "#Get the data from the stocks we would like to make the data serie analysis\n",
    "jks = stock_data('JKS', source, start, end)\n",
    "aal = stock_data('AAL', source, start, end)\n",
    "tsla = stock_data('TSLA', source, start, end)"
   ]
  },
  {
   "cell_type": "markdown",
   "metadata": {},
   "source": [
    "I downloaded the oil data from quandl. We could also use Data Reader with an API key. To get the data we use the function the pandas function read_csv."
   ]
  },
  {
   "cell_type": "code",
   "execution_count": 5,
   "metadata": {},
   "outputs": [],
   "source": [
    "#Read the oil price\n",
    "oil = pd.read_csv('OPEC-ORB.csv', index_col = 0)\n",
    "oil.index = pd.to_datetime(oil.index)\n",
    "oil.rename( columns = {'Value': 'Oil Price'}, inplace = True)"
   ]
  },
  {
   "cell_type": "markdown",
   "metadata": {},
   "source": [
    "We also want to create a reusable code to merge different data frames. "
   ]
  },
  {
   "cell_type": "code",
   "execution_count": 6,
   "metadata": {},
   "outputs": [],
   "source": [
    "# Define a function to merge the different data frames\n",
    "def merge_df(df1, df2, df3, df4):\n",
    "    df = [df1, df2, df3, df4]\n",
    "    return functools.reduce(lambda left, right : pd.merge(left, right, how = 'inner', on = 'Date'), df)"
   ]
  },
  {
   "cell_type": "code",
   "execution_count": 7,
   "metadata": {},
   "outputs": [],
   "source": [
    "#Data Frame we are going to make the times series\n",
    "df = merge_df(oil, jks, aal,tsla).sort_values(by = 'Date', ascending = True)"
   ]
  },
  {
   "cell_type": "markdown",
   "metadata": {},
   "source": [
    "# Data Frame overview"
   ]
  },
  {
   "cell_type": "markdown",
   "metadata": {},
   "source": [
    "#### I am exploring the data we have to see if it is necessary to drop/replace Null-Values."
   ]
  },
  {
   "cell_type": "code",
   "execution_count": 8,
   "metadata": {},
   "outputs": [
    {
     "name": "stdout",
     "output_type": "stream",
     "text": [
      "<class 'pandas.core.frame.DataFrame'>\n",
      "DatetimeIndex: 2559 entries, 2010-06-29 to 2020-08-31\n",
      "Data columns (total 4 columns):\n",
      "Oil Price    2559 non-null float64\n",
      "JKS          2559 non-null float64\n",
      "AAL          2559 non-null float64\n",
      "TSLA         2559 non-null float64\n",
      "dtypes: float64(4)\n",
      "memory usage: 100.0 KB\n"
     ]
    }
   ],
   "source": [
    "#Info function on the data frame\n",
    "df.info()"
   ]
  },
  {
   "cell_type": "code",
   "execution_count": 9,
   "metadata": {},
   "outputs": [
    {
     "data": {
      "text/plain": [
       "Oil Price    0\n",
       "JKS          0\n",
       "AAL          0\n",
       "TSLA         0\n",
       "dtype: int64"
      ]
     },
     "execution_count": 9,
     "metadata": {},
     "output_type": "execute_result"
    }
   ],
   "source": [
    "#Check if there is NaN values\n",
    "df.isna().sum()"
   ]
  },
  {
   "cell_type": "code",
   "execution_count": 10,
   "metadata": {},
   "outputs": [
    {
     "data": {
      "text/html": [
       "<div>\n",
       "<style scoped>\n",
       "    .dataframe tbody tr th:only-of-type {\n",
       "        vertical-align: middle;\n",
       "    }\n",
       "\n",
       "    .dataframe tbody tr th {\n",
       "        vertical-align: top;\n",
       "    }\n",
       "\n",
       "    .dataframe thead th {\n",
       "        text-align: right;\n",
       "    }\n",
       "</style>\n",
       "<table border=\"1\" class=\"dataframe\">\n",
       "  <thead>\n",
       "    <tr style=\"text-align: right;\">\n",
       "      <th></th>\n",
       "      <th>Oil Price</th>\n",
       "      <th>JKS</th>\n",
       "      <th>AAL</th>\n",
       "      <th>TSLA</th>\n",
       "    </tr>\n",
       "    <tr>\n",
       "      <th>Date</th>\n",
       "      <th></th>\n",
       "      <th></th>\n",
       "      <th></th>\n",
       "      <th></th>\n",
       "    </tr>\n",
       "  </thead>\n",
       "  <tbody>\n",
       "    <tr>\n",
       "      <th>2010-06-29</th>\n",
       "      <td>72.66</td>\n",
       "      <td>9.96</td>\n",
       "      <td>8.051013</td>\n",
       "      <td>4.778</td>\n",
       "    </tr>\n",
       "    <tr>\n",
       "      <th>2010-06-30</th>\n",
       "      <td>72.49</td>\n",
       "      <td>9.70</td>\n",
       "      <td>8.117004</td>\n",
       "      <td>4.766</td>\n",
       "    </tr>\n",
       "    <tr>\n",
       "      <th>2010-07-01</th>\n",
       "      <td>70.48</td>\n",
       "      <td>9.80</td>\n",
       "      <td>8.154712</td>\n",
       "      <td>4.392</td>\n",
       "    </tr>\n",
       "    <tr>\n",
       "      <th>2010-07-02</th>\n",
       "      <td>69.63</td>\n",
       "      <td>10.21</td>\n",
       "      <td>7.721052</td>\n",
       "      <td>3.840</td>\n",
       "    </tr>\n",
       "    <tr>\n",
       "      <th>2010-07-06</th>\n",
       "      <td>69.73</td>\n",
       "      <td>10.79</td>\n",
       "      <td>7.617351</td>\n",
       "      <td>3.222</td>\n",
       "    </tr>\n",
       "  </tbody>\n",
       "</table>\n",
       "</div>"
      ],
      "text/plain": [
       "            Oil Price    JKS       AAL   TSLA\n",
       "Date                                         \n",
       "2010-06-29      72.66   9.96  8.051013  4.778\n",
       "2010-06-30      72.49   9.70  8.117004  4.766\n",
       "2010-07-01      70.48   9.80  8.154712  4.392\n",
       "2010-07-02      69.63  10.21  7.721052  3.840\n",
       "2010-07-06      69.73  10.79  7.617351  3.222"
      ]
     },
     "execution_count": 10,
     "metadata": {},
     "output_type": "execute_result"
    }
   ],
   "source": [
    "# See the first 5 heads\n",
    "df.head(n = 5)"
   ]
  },
  {
   "cell_type": "markdown",
   "metadata": {},
   "source": [
    "## Data Visualization"
   ]
  },
  {
   "cell_type": "markdown",
   "metadata": {},
   "source": [
    "On this step I want to see the stock behavior during time. I am also doing correlation hetmaps to see how the stocks move in relation with the oil price. Additionally, I am plotting autocorrelation graphics to know the order of the ARIMA or SARIMAX model. Finally, I am doing a seasonal decompose to see trend, seasonality of the data I got."
   ]
  },
  {
   "cell_type": "markdown",
   "metadata": {},
   "source": [
    "### Plot the Multiple times series "
   ]
  },
  {
   "cell_type": "code",
   "execution_count": 11,
   "metadata": {},
   "outputs": [
    {
     "data": {
      "image/png": "[encoded data removed]",
      "text/plain": [
       "<Figure size 1008x576 with 1 Axes>"
      ]
     },
     "metadata": {
      "needs_background": "light"
     },
     "output_type": "display_data"
    }
   ],
   "source": [
    "#Plot \n",
    "df.plot(cmap = 'Dark2', figsize = (14,8))\n",
    "plt.legend(loc = 'best')\n",
    "plt.show()"
   ]
  },
  {
   "cell_type": "markdown",
   "metadata": {},
   "source": [
    "From the graphic above, we can see after 2019, Tesla stock dramatically increased its value over time. Right now, we could think Tesla stock would continue increasing the stock price for the momentum. Additionally, the oul price has fallen after 2015 (this because fracking was implemented and the majorist productors started competing with low price). For the correlation heatmap, we may use only the data available after 2019 to see the relation between oil and stock price recently and not being influenced by previous activities when oil price was really high and for example, Tesla stock was just on their beginning and the stock price was really low."
   ]
  },
  {
   "cell_type": "markdown",
   "metadata": {},
   "source": [
    "### Correlation among the stocks and the oil price"
   ]
  },
  {
   "cell_type": "code",
   "execution_count": 12,
   "metadata": {},
   "outputs": [],
   "source": [
    "#Define the function to create the correlation matrix\n",
    "def correlation_matrix(df, method):\n",
    "    return df.corr(method = method)"
   ]
  },
  {
   "cell_type": "code",
   "execution_count": 13,
   "metadata": {},
   "outputs": [],
   "source": [
    "#Define the function for the correlation heatmap\n",
    "def correlation_matrix_heatmap(df, method):\n",
    "    return sns.heatmap(df.corr(method = method))"
   ]
  },
  {
   "cell_type": "code",
   "execution_count": 14,
   "metadata": {},
   "outputs": [],
   "source": [
    "# To create the correlation heatmap, we are using the data from 2019 to the present. \n",
    "# Tesla and Apple Stock increased their value dramatically, so this may badly influence our insights\n",
    "df_corr = df.loc['2019-01-01':]"
   ]
  },
  {
   "cell_type": "markdown",
   "metadata": {},
   "source": [
    "#### Pearson Correlation"
   ]
  },
  {
   "cell_type": "code",
   "execution_count": 15,
   "metadata": {},
   "outputs": [
    {
     "data": {
      "text/html": [
       "<div>\n",
       "<style scoped>\n",
       "    .dataframe tbody tr th:only-of-type {\n",
       "        vertical-align: middle;\n",
       "    }\n",
       "\n",
       "    .dataframe tbody tr th {\n",
       "        vertical-align: top;\n",
       "    }\n",
       "\n",
       "    .dataframe thead th {\n",
       "        text-align: right;\n",
       "    }\n",
       "</style>\n",
       "<table border=\"1\" class=\"dataframe\">\n",
       "  <thead>\n",
       "    <tr style=\"text-align: right;\">\n",
       "      <th></th>\n",
       "      <th>Oil Price</th>\n",
       "      <th>JKS</th>\n",
       "      <th>AAL</th>\n",
       "      <th>TSLA</th>\n",
       "    </tr>\n",
       "  </thead>\n",
       "  <tbody>\n",
       "    <tr>\n",
       "      <th>Oil Price</th>\n",
       "      <td>1.000000</td>\n",
       "      <td>0.340030</td>\n",
       "      <td>0.894232</td>\n",
       "      <td>-0.532762</td>\n",
       "    </tr>\n",
       "    <tr>\n",
       "      <th>JKS</th>\n",
       "      <td>0.340030</td>\n",
       "      <td>1.000000</td>\n",
       "      <td>0.131747</td>\n",
       "      <td>0.196314</td>\n",
       "    </tr>\n",
       "    <tr>\n",
       "      <th>AAL</th>\n",
       "      <td>0.894232</td>\n",
       "      <td>0.131747</td>\n",
       "      <td>1.000000</td>\n",
       "      <td>-0.730361</td>\n",
       "    </tr>\n",
       "    <tr>\n",
       "      <th>TSLA</th>\n",
       "      <td>-0.532762</td>\n",
       "      <td>0.196314</td>\n",
       "      <td>-0.730361</td>\n",
       "      <td>1.000000</td>\n",
       "    </tr>\n",
       "  </tbody>\n",
       "</table>\n",
       "</div>"
      ],
      "text/plain": [
       "           Oil Price       JKS       AAL      TSLA\n",
       "Oil Price   1.000000  0.340030  0.894232 -0.532762\n",
       "JKS         0.340030  1.000000  0.131747  0.196314\n",
       "AAL         0.894232  0.131747  1.000000 -0.730361\n",
       "TSLA       -0.532762  0.196314 -0.730361  1.000000"
      ]
     },
     "execution_count": 15,
     "metadata": {},
     "output_type": "execute_result"
    }
   ],
   "source": [
    "#Correlation Matrix\n",
    "correlation_matrix(df_corr, 'pearson')"
   ]
  },
  {
   "cell_type": "code",
   "execution_count": 16,
   "metadata": {},
   "outputs": [
    {
     "data": {
      "text/plain": [
       "<matplotlib.axes._subplots.AxesSubplot at 0x110cf4490>"
      ]
     },
     "execution_count": 16,
     "metadata": {},
     "output_type": "execute_result"
    },
    {
     "data": {
      "image/png": "[encoded data removed]",
      "text/plain": [
       "<Figure size 432x288 with 2 Axes>"
      ]
     },
     "metadata": {
      "needs_background": "light"
     },
     "output_type": "display_data"
    }
   ],
   "source": [
    "#Correlation heatmap\n",
    "correlation_matrix_heatmap(df_corr, 'pearson')"
   ]
  },
  {
   "cell_type": "markdown",
   "metadata": {},
   "source": [
    "#### Kendall Correlation"
   ]
  },
  {
   "cell_type": "code",
   "execution_count": 17,
   "metadata": {},
   "outputs": [
    {
     "data": {
      "text/html": [
       "<div>\n",
       "<style scoped>\n",
       "    .dataframe tbody tr th:only-of-type {\n",
       "        vertical-align: middle;\n",
       "    }\n",
       "\n",
       "    .dataframe tbody tr th {\n",
       "        vertical-align: top;\n",
       "    }\n",
       "\n",
       "    .dataframe thead th {\n",
       "        text-align: right;\n",
       "    }\n",
       "</style>\n",
       "<table border=\"1\" class=\"dataframe\">\n",
       "  <thead>\n",
       "    <tr style=\"text-align: right;\">\n",
       "      <th></th>\n",
       "      <th>Oil Price</th>\n",
       "      <th>JKS</th>\n",
       "      <th>AAL</th>\n",
       "      <th>TSLA</th>\n",
       "    </tr>\n",
       "  </thead>\n",
       "  <tbody>\n",
       "    <tr>\n",
       "      <th>Oil Price</th>\n",
       "      <td>1.000000</td>\n",
       "      <td>0.212667</td>\n",
       "      <td>0.578669</td>\n",
       "      <td>-0.378112</td>\n",
       "    </tr>\n",
       "    <tr>\n",
       "      <th>JKS</th>\n",
       "      <td>0.212667</td>\n",
       "      <td>1.000000</td>\n",
       "      <td>0.063673</td>\n",
       "      <td>-0.026380</td>\n",
       "    </tr>\n",
       "    <tr>\n",
       "      <th>AAL</th>\n",
       "      <td>0.578669</td>\n",
       "      <td>0.063673</td>\n",
       "      <td>1.000000</td>\n",
       "      <td>-0.399332</td>\n",
       "    </tr>\n",
       "    <tr>\n",
       "      <th>TSLA</th>\n",
       "      <td>-0.378112</td>\n",
       "      <td>-0.026380</td>\n",
       "      <td>-0.399332</td>\n",
       "      <td>1.000000</td>\n",
       "    </tr>\n",
       "  </tbody>\n",
       "</table>\n",
       "</div>"
      ],
      "text/plain": [
       "           Oil Price       JKS       AAL      TSLA\n",
       "Oil Price   1.000000  0.212667  0.578669 -0.378112\n",
       "JKS         0.212667  1.000000  0.063673 -0.026380\n",
       "AAL         0.578669  0.063673  1.000000 -0.399332\n",
       "TSLA       -0.378112 -0.026380 -0.399332  1.000000"
      ]
     },
     "execution_count": 17,
     "metadata": {},
     "output_type": "execute_result"
    }
   ],
   "source": [
    "#Correlation Matrix\n",
    "correlation_matrix(df_corr, 'kendall')"
   ]
  },
  {
   "cell_type": "code",
   "execution_count": 18,
   "metadata": {},
   "outputs": [
    {
     "data": {
      "text/plain": [
       "<matplotlib.axes._subplots.AxesSubplot at 0x132218bd0>"
      ]
     },
     "execution_count": 18,
     "metadata": {},
     "output_type": "execute_result"
    },
    {
     "data": {
      "image/png": "[encoded data removed]",
      "text/plain": [
       "<Figure size 432x288 with 2 Axes>"
      ]
     },
     "metadata": {
      "needs_background": "light"
     },
     "output_type": "display_data"
    }
   ],
   "source": [
    "#Correlation Heatmap\n",
    "correlation_matrix_heatmap(df_corr, 'kendall')"
   ]
  },
  {
   "cell_type": "markdown",
   "metadata": {},
   "source": [
    "#### Spearman Correlation"
   ]
  },
  {
   "cell_type": "code",
   "execution_count": 19,
   "metadata": {},
   "outputs": [
    {
     "data": {
      "text/html": [
       "<div>\n",
       "<style scoped>\n",
       "    .dataframe tbody tr th:only-of-type {\n",
       "        vertical-align: middle;\n",
       "    }\n",
       "\n",
       "    .dataframe tbody tr th {\n",
       "        vertical-align: top;\n",
       "    }\n",
       "\n",
       "    .dataframe thead th {\n",
       "        text-align: right;\n",
       "    }\n",
       "</style>\n",
       "<table border=\"1\" class=\"dataframe\">\n",
       "  <thead>\n",
       "    <tr style=\"text-align: right;\">\n",
       "      <th></th>\n",
       "      <th>Oil Price</th>\n",
       "      <th>JKS</th>\n",
       "      <th>AAL</th>\n",
       "      <th>TSLA</th>\n",
       "    </tr>\n",
       "  </thead>\n",
       "  <tbody>\n",
       "    <tr>\n",
       "      <th>Oil Price</th>\n",
       "      <td>1.000000</td>\n",
       "      <td>0.314589</td>\n",
       "      <td>0.776885</td>\n",
       "      <td>-0.626441</td>\n",
       "    </tr>\n",
       "    <tr>\n",
       "      <th>JKS</th>\n",
       "      <td>0.314589</td>\n",
       "      <td>1.000000</td>\n",
       "      <td>0.089441</td>\n",
       "      <td>-0.028341</td>\n",
       "    </tr>\n",
       "    <tr>\n",
       "      <th>AAL</th>\n",
       "      <td>0.776885</td>\n",
       "      <td>0.089441</td>\n",
       "      <td>1.000000</td>\n",
       "      <td>-0.619296</td>\n",
       "    </tr>\n",
       "    <tr>\n",
       "      <th>TSLA</th>\n",
       "      <td>-0.626441</td>\n",
       "      <td>-0.028341</td>\n",
       "      <td>-0.619296</td>\n",
       "      <td>1.000000</td>\n",
       "    </tr>\n",
       "  </tbody>\n",
       "</table>\n",
       "</div>"
      ],
      "text/plain": [
       "           Oil Price       JKS       AAL      TSLA\n",
       "Oil Price   1.000000  0.314589  0.776885 -0.626441\n",
       "JKS         0.314589  1.000000  0.089441 -0.028341\n",
       "AAL         0.776885  0.089441  1.000000 -0.619296\n",
       "TSLA       -0.626441 -0.028341 -0.619296  1.000000"
      ]
     },
     "execution_count": 19,
     "metadata": {},
     "output_type": "execute_result"
    }
   ],
   "source": [
    "#Correlation Matrix\n",
    "correlation_matrix(df_corr, 'spearman')"
   ]
  },
  {
   "cell_type": "code",
   "execution_count": 20,
   "metadata": {},
   "outputs": [
    {
     "data": {
      "text/plain": [
       "<matplotlib.axes._subplots.AxesSubplot at 0x13235e0d0>"
      ]
     },
     "execution_count": 20,
     "metadata": {},
     "output_type": "execute_result"
    },
    {
     "data": {
      "image/png": "[encoded data removed]",
      "text/plain": [
       "<Figure size 432x288 with 2 Axes>"
      ]
     },
     "metadata": {
      "needs_background": "light"
     },
     "output_type": "display_data"
    }
   ],
   "source": [
    "#Correlation Heatmap\n",
    "correlation_matrix_heatmap(df_corr, 'spearman')"
   ]
  },
  {
   "cell_type": "markdown",
   "metadata": {},
   "source": [
    "#### Insights from the correlation matrix"
   ]
  },
  {
   "cell_type": "markdown",
   "metadata": {},
   "source": [
    "- As expected, Tesla stock is the less correlated with the oil price and American Airlines the most correlated with the oil price.\n",
    "\n",
    "\n",
    "- Regarding the correlation result for American Airlines, we have a following hypothesis: If there is an increase on the oil price is because the increase of the demand. People around the world are traveling, so there is more customers on the airline industry, so therefore an increase on its revenues. If the company does well, investors acquire stocks, and therefore stock price also increases.\n",
    "\n",
    "\n",
    "- For Tesla we have the following hypothesis: Oil prices roses the lowest value in their history. Tesla on the other hand, they have their highest stock price. To remark, oil prices are down and Tesla stock prices are high, so that's why we can support their negative correlation.  Same can be explained with Apple. \n",
    "\n",
    "\n",
    "- In the future, we could have the following hypothesis to what is going to happen between Tesla and its stock price: Oil prices could continue going down due to the use of fraking. People may not see Tesla as savings to their budget since it would be cheaper to just continue using regular gas, thereby Tesla revenues would go down and therefore their stock price as well. On the other hand, people may also want to help the work by making it more ecological can continue increasing Tesla revenues and therefore their stock price.\n",
    "\n",
    "\n",
    "- JinkoSolar Holding is close to be not correlated with oil price. Therefore, we could conclude they are independ of how the oil price, but there is a small inclination that if oil price decrease, there would be an increase on the stocks. \n"
   ]
  },
  {
   "cell_type": "markdown",
   "metadata": {},
   "source": [
    "### Autocorrelation"
   ]
  },
  {
   "cell_type": "code",
   "execution_count": 21,
   "metadata": {},
   "outputs": [],
   "source": [
    "stock_columns = list(df.columns)"
   ]
  },
  {
   "cell_type": "code",
   "execution_count": 22,
   "metadata": {},
   "outputs": [],
   "source": [
    "#Define a data frame with the rate of return of the stocks and if the oil price increased, decreased or was the same\n",
    "df_change = df.pct_change().dropna()"
   ]
  },
  {
   "cell_type": "code",
   "execution_count": 23,
   "metadata": {},
   "outputs": [
    {
     "data": {
      "text/html": [
       "<div>\n",
       "<style scoped>\n",
       "    .dataframe tbody tr th:only-of-type {\n",
       "        vertical-align: middle;\n",
       "    }\n",
       "\n",
       "    .dataframe tbody tr th {\n",
       "        vertical-align: top;\n",
       "    }\n",
       "\n",
       "    .dataframe thead th {\n",
       "        text-align: right;\n",
       "    }\n",
       "</style>\n",
       "<table border=\"1\" class=\"dataframe\">\n",
       "  <thead>\n",
       "    <tr style=\"text-align: right;\">\n",
       "      <th></th>\n",
       "      <th>Oil Price</th>\n",
       "      <th>JKS</th>\n",
       "      <th>AAL</th>\n",
       "      <th>TSLA</th>\n",
       "    </tr>\n",
       "    <tr>\n",
       "      <th>Date</th>\n",
       "      <th></th>\n",
       "      <th></th>\n",
       "      <th></th>\n",
       "      <th></th>\n",
       "    </tr>\n",
       "  </thead>\n",
       "  <tbody>\n",
       "    <tr>\n",
       "      <th>2010-06-30</th>\n",
       "      <td>-0.002340</td>\n",
       "      <td>-0.026104</td>\n",
       "      <td>0.008197</td>\n",
       "      <td>-0.002512</td>\n",
       "    </tr>\n",
       "    <tr>\n",
       "      <th>2010-07-01</th>\n",
       "      <td>-0.027728</td>\n",
       "      <td>0.010309</td>\n",
       "      <td>0.004645</td>\n",
       "      <td>-0.078472</td>\n",
       "    </tr>\n",
       "    <tr>\n",
       "      <th>2010-07-02</th>\n",
       "      <td>-0.012060</td>\n",
       "      <td>0.041837</td>\n",
       "      <td>-0.053179</td>\n",
       "      <td>-0.125683</td>\n",
       "    </tr>\n",
       "    <tr>\n",
       "      <th>2010-07-06</th>\n",
       "      <td>0.001436</td>\n",
       "      <td>0.056807</td>\n",
       "      <td>-0.013431</td>\n",
       "      <td>-0.160938</td>\n",
       "    </tr>\n",
       "    <tr>\n",
       "      <th>2010-07-07</th>\n",
       "      <td>0.000143</td>\n",
       "      <td>0.148285</td>\n",
       "      <td>0.153466</td>\n",
       "      <td>-0.019243</td>\n",
       "    </tr>\n",
       "  </tbody>\n",
       "</table>\n",
       "</div>"
      ],
      "text/plain": [
       "            Oil Price       JKS       AAL      TSLA\n",
       "Date                                               \n",
       "2010-06-30  -0.002340 -0.026104  0.008197 -0.002512\n",
       "2010-07-01  -0.027728  0.010309  0.004645 -0.078472\n",
       "2010-07-02  -0.012060  0.041837 -0.053179 -0.125683\n",
       "2010-07-06   0.001436  0.056807 -0.013431 -0.160938\n",
       "2010-07-07   0.000143  0.148285  0.153466 -0.019243"
      ]
     },
     "execution_count": 23,
     "metadata": {},
     "output_type": "execute_result"
    }
   ],
   "source": [
    "df_change.head(n = 5)"
   ]
  },
  {
   "cell_type": "code",
   "execution_count": 24,
   "metadata": {},
   "outputs": [],
   "source": [
    "## Define a function that plots the autocorrelation\n",
    "def plot_autocorrelation(x, lags, alpha):\n",
    "    fig = plot_acf(x, lags = lags, alpha = alpha)\n",
    "    return plt.show()"
   ]
  },
  {
   "cell_type": "code",
   "execution_count": 25,
   "metadata": {},
   "outputs": [
    {
     "name": "stdout",
     "output_type": "stream",
     "text": [
      "Oil Price\n"
     ]
    },
    {
     "data": {
      "image/png": "[encoded data removed]",
      "text/plain": [
       "<Figure size 432x288 with 1 Axes>"
      ]
     },
     "metadata": {
      "needs_background": "light"
     },
     "output_type": "display_data"
    },
    {
     "name": "stdout",
     "output_type": "stream",
     "text": [
      "JKS\n"
     ]
    },
    {
     "data": {
      "image/png": "[encoded data removed]",
      "text/plain": [
       "<Figure size 432x288 with 1 Axes>"
      ]
     },
     "metadata": {
      "needs_background": "light"
     },
     "output_type": "display_data"
    },
    {
     "name": "stdout",
     "output_type": "stream",
     "text": [
      "AAL\n"
     ]
    },
    {
     "data": {
      "image/png": "[encoded data removed]",
      "text/plain": [
       "<Figure size 432x288 with 1 Axes>"
      ]
     },
     "metadata": {
      "needs_background": "light"
     },
     "output_type": "display_data"
    },
    {
     "name": "stdout",
     "output_type": "stream",
     "text": [
      "TSLA\n"
     ]
    },
    {
     "data": {
      "image/png": "[encoded data removed]",
      "text/plain": [
       "<Figure size 432x288 with 1 Axes>"
      ]
     },
     "metadata": {
      "needs_background": "light"
     },
     "output_type": "display_data"
    }
   ],
   "source": [
    "for col in stock_columns:\n",
    "    print(col)\n",
    "    plot_autocorrelation(df_change[col], lags = 40, alpha = 0.5)"
   ]
  },
  {
   "cell_type": "markdown",
   "metadata": {},
   "source": [
    "#### Key Insights"
   ]
  },
  {
   "cell_type": "markdown",
   "metadata": {},
   "source": [
    "- From the autocorrelation plots,we may conclude that all the stocks and also the oil price is order 1."
   ]
  },
  {
   "cell_type": "markdown",
   "metadata": {},
   "source": [
    "### Decomposition Analysis"
   ]
  },
  {
   "cell_type": "code",
   "execution_count": 26,
   "metadata": {},
   "outputs": [],
   "source": [
    "def decomposition_analysis(x, model, freq):\n",
    "    return seasonal_decompose(x = x , model = model , freq = freq)"
   ]
  },
  {
   "cell_type": "code",
   "execution_count": 27,
   "metadata": {},
   "outputs": [],
   "source": [
    "#Apply the function for the columns\n",
    "stocks_decompose = []\n",
    "trends = []\n",
    "seasonals = []\n",
    "residuals = []\n",
    "observeds = []\n",
    "\n",
    "for stock in stock_columns:\n",
    "    #Decomposition\n",
    "    decomposition = decomposition_analysis(x = df[stock], model = 'multiplicative', freq = 252)\n",
    "    stocks_decompose.append(decomposition)\n",
    "    \n",
    "    #Trend\n",
    "    trend = decomposition.trend\n",
    "    trends.append(trend)\n",
    "    \n",
    "    #Seasonal\n",
    "    seasonal = decomposition.seasonal\n",
    "    seasonals.append(seasonal)\n",
    "    \n",
    "    #Residual\n",
    "    residual = decomposition.resid\n",
    "    residuals.append(residual)\n",
    "    \n",
    "    #Observed\n",
    "    observed = decomposition.observed\n",
    "    observeds.append(observed)"
   ]
  },
  {
   "cell_type": "code",
   "execution_count": 28,
   "metadata": {},
   "outputs": [
    {
     "data": {
      "image/png": "[encoded data removed]",
      "text/plain": [
       "<Figure size 432x288 with 1 Axes>"
      ]
     },
     "metadata": {
      "needs_background": "light"
     },
     "output_type": "display_data"
    }
   ],
   "source": [
    "#Plot the trend for the stocks\n",
    "for i, j in enumerate(stock_columns):\n",
    "    plt.plot(trends[i], label = j)\n",
    "    plt.legend(loc = (1.02, 0))\n",
    "    continue"
   ]
  },
  {
   "cell_type": "code",
   "execution_count": 29,
   "metadata": {},
   "outputs": [
    {
     "data": {
      "image/png": "[encoded data removed]",
      "text/plain": [
       "<Figure size 432x288 with 1 Axes>"
      ]
     },
     "metadata": {
      "needs_background": "light"
     },
     "output_type": "display_data"
    },
    {
     "data": {
      "image/png": "[encoded data removed]",
      "text/plain": [
       "<Figure size 432x288 with 1 Axes>"
      ]
     },
     "metadata": {
      "needs_background": "light"
     },
     "output_type": "display_data"
    },
    {
     "data": {
      "image/png": "[encoded data removed]",
      "text/plain": [
       "<Figure size 432x288 with 1 Axes>"
      ]
     },
     "metadata": {
      "needs_background": "light"
     },
     "output_type": "display_data"
    },
    {
     "data": {
      "image/png": "[encoded data removed]",
      "text/plain": [
       "<Figure size 432x288 with 1 Axes>"
      ]
     },
     "metadata": {
      "needs_background": "light"
     },
     "output_type": "display_data"
    }
   ],
   "source": [
    "#Plot the seasonals for stocks\n",
    "for i, j in enumerate(stock_columns):\n",
    "    plt.plot(seasonals[i])\n",
    "    plt.title(j)\n",
    "    plt.show()"
   ]
  },
  {
   "cell_type": "code",
   "execution_count": 30,
   "metadata": {},
   "outputs": [
    {
     "data": {
      "image/png": "[encoded data removed]",
      "text/plain": [
       "<Figure size 432x288 with 1 Axes>"
      ]
     },
     "metadata": {
      "needs_background": "light"
     },
     "output_type": "display_data"
    },
    {
     "data": {
      "image/png": "[encoded data removed]",
      "text/plain": [
       "<Figure size 432x288 with 1 Axes>"
      ]
     },
     "metadata": {
      "needs_background": "light"
     },
     "output_type": "display_data"
    },
    {
     "data": {
      "image/png": "[encoded data removed]",
      "text/plain": [
       "<Figure size 432x288 with 1 Axes>"
      ]
     },
     "metadata": {
      "needs_background": "light"
     },
     "output_type": "display_data"
    },
    {
     "data": {
      "image/png": "[encoded data removed]",
      "text/plain": [
       "<Figure size 432x288 with 1 Axes>"
      ]
     },
     "metadata": {
      "needs_background": "light"
     },
     "output_type": "display_data"
    }
   ],
   "source": [
    "#Plot the residuals for each stock\n",
    "for i, j in enumerate(stock_columns):\n",
    "    plt.plot(residuals[i])\n",
    "    plt.title(j)\n",
    "    plt.show()\n",
    "    continue"
   ]
  },
  {
   "cell_type": "markdown",
   "metadata": {},
   "source": [
    "From the graphics, I concluded that Oil Price is very volatile, but the overall trend is to decrease.\n",
    "\n",
    "\n",
    "For American Airlines, it was increasing its stock price, but recently their stock is going down as well. \n",
    "\n",
    "\n",
    "JKS has had a very stable stock price. Interestingly, before Tesla booming, this stock was having a similar behavoir than Tesla. It may be probable this stock would increase its value somewhen.\n",
    "\n",
    "Stocks are very similar regarding their stationarity and all of the stocks have similar value on their residuals as well."
   ]
  },
  {
   "cell_type": "markdown",
   "metadata": {},
   "source": [
    "# Train and test dataset"
   ]
  },
  {
   "cell_type": "markdown",
   "metadata": {},
   "source": [
    "#### We are creating the data frames to create the train and test data set.\n",
    "\n",
    "#### We are also standarizing the data available\n",
    "\n",
    "\n",
    "We are creating different X and Y arrays for each method. With method I'm referring to regression methods and sesonality methods"
   ]
  },
  {
   "cell_type": "markdown",
   "metadata": {},
   "source": [
    "### Create the y and x arrays  for Regressions"
   ]
  },
  {
   "cell_type": "code",
   "execution_count": 31,
   "metadata": {},
   "outputs": [],
   "source": [
    "#Divide between train and test data\n",
    "#For time series, we would divide in consecutive train and test data set"
   ]
  },
  {
   "cell_type": "code",
   "execution_count": 32,
   "metadata": {},
   "outputs": [],
   "source": [
    "#Reset Index to have date as categorical variables to run linear models\n",
    "df2 = df.reset_index(inplace = True)"
   ]
  },
  {
   "cell_type": "code",
   "execution_count": 33,
   "metadata": {},
   "outputs": [],
   "source": [
    "#Create the Date as categorical variables\n",
    "df_date = pd.DataFrame()\n",
    "\n",
    "df_date['Year'] = pd.Series(df['Date'])\n",
    "df_date['Year'] = pd.DatetimeIndex(df_date['Year']).year\n",
    "\n",
    "df_date['Month'] = pd.Series(df['Date'])\n",
    "df_date['Month'] = pd.DatetimeIndex(df_date['Month']).month\n",
    "\n",
    "df_date['Day'] = pd.Series(df['Date'])\n",
    "df_date['Day'] = pd.DatetimeIndex(df_date['Day']).day"
   ]
  },
  {
   "cell_type": "code",
   "execution_count": 34,
   "metadata": {},
   "outputs": [],
   "source": [
    "#Drop the current date column\n",
    "df2 = df.drop(columns = 'Date', axis = 1, inplace = True)"
   ]
  },
  {
   "cell_type": "code",
   "execution_count": 35,
   "metadata": {},
   "outputs": [],
   "source": [
    "#Concat the data frame data function as categorical variable with the stock and oil prices\n",
    "df2 = pd.concat([df_date, df], axis = 1)"
   ]
  },
  {
   "cell_type": "code",
   "execution_count": 36,
   "metadata": {},
   "outputs": [
    {
     "data": {
      "text/html": [
       "<div>\n",
       "<style scoped>\n",
       "    .dataframe tbody tr th:only-of-type {\n",
       "        vertical-align: middle;\n",
       "    }\n",
       "\n",
       "    .dataframe tbody tr th {\n",
       "        vertical-align: top;\n",
       "    }\n",
       "\n",
       "    .dataframe thead th {\n",
       "        text-align: right;\n",
       "    }\n",
       "</style>\n",
       "<table border=\"1\" class=\"dataframe\">\n",
       "  <thead>\n",
       "    <tr style=\"text-align: right;\">\n",
       "      <th></th>\n",
       "      <th>Year</th>\n",
       "      <th>Month</th>\n",
       "      <th>Day</th>\n",
       "      <th>Oil Price</th>\n",
       "      <th>JKS</th>\n",
       "      <th>AAL</th>\n",
       "      <th>TSLA</th>\n",
       "    </tr>\n",
       "  </thead>\n",
       "  <tbody>\n",
       "    <tr>\n",
       "      <th>0</th>\n",
       "      <td>2010</td>\n",
       "      <td>6</td>\n",
       "      <td>29</td>\n",
       "      <td>72.66</td>\n",
       "      <td>9.96</td>\n",
       "      <td>8.051013</td>\n",
       "      <td>4.778</td>\n",
       "    </tr>\n",
       "    <tr>\n",
       "      <th>1</th>\n",
       "      <td>2010</td>\n",
       "      <td>6</td>\n",
       "      <td>30</td>\n",
       "      <td>72.49</td>\n",
       "      <td>9.70</td>\n",
       "      <td>8.117004</td>\n",
       "      <td>4.766</td>\n",
       "    </tr>\n",
       "    <tr>\n",
       "      <th>2</th>\n",
       "      <td>2010</td>\n",
       "      <td>7</td>\n",
       "      <td>1</td>\n",
       "      <td>70.48</td>\n",
       "      <td>9.80</td>\n",
       "      <td>8.154712</td>\n",
       "      <td>4.392</td>\n",
       "    </tr>\n",
       "    <tr>\n",
       "      <th>3</th>\n",
       "      <td>2010</td>\n",
       "      <td>7</td>\n",
       "      <td>2</td>\n",
       "      <td>69.63</td>\n",
       "      <td>10.21</td>\n",
       "      <td>7.721052</td>\n",
       "      <td>3.840</td>\n",
       "    </tr>\n",
       "    <tr>\n",
       "      <th>4</th>\n",
       "      <td>2010</td>\n",
       "      <td>7</td>\n",
       "      <td>6</td>\n",
       "      <td>69.73</td>\n",
       "      <td>10.79</td>\n",
       "      <td>7.617351</td>\n",
       "      <td>3.222</td>\n",
       "    </tr>\n",
       "  </tbody>\n",
       "</table>\n",
       "</div>"
      ],
      "text/plain": [
       "   Year  Month  Day  Oil Price    JKS       AAL   TSLA\n",
       "0  2010      6   29      72.66   9.96  8.051013  4.778\n",
       "1  2010      6   30      72.49   9.70  8.117004  4.766\n",
       "2  2010      7    1      70.48   9.80  8.154712  4.392\n",
       "3  2010      7    2      69.63  10.21  7.721052  3.840\n",
       "4  2010      7    6      69.73  10.79  7.617351  3.222"
      ]
     },
     "execution_count": 36,
     "metadata": {},
     "output_type": "execute_result"
    }
   ],
   "source": [
    "#See how the data frame looks like \n",
    "df2.head()"
   ]
  },
  {
   "cell_type": "code",
   "execution_count": 37,
   "metadata": {},
   "outputs": [],
   "source": [
    "#Create our X array for the regressions\n",
    "X = df2[['Year','Month', 'Day', 'Oil Price']].values"
   ]
  },
  {
   "cell_type": "code",
   "execution_count": 38,
   "metadata": {},
   "outputs": [],
   "source": [
    "#Create the y arrays\n",
    "y = df2.iloc[:,4:].values"
   ]
  },
  {
   "cell_type": "code",
   "execution_count": 39,
   "metadata": {},
   "outputs": [],
   "source": [
    "#Dependant Variable\n",
    "y_oil = df2['Oil Price']\n",
    "y_jks = df2['JKS']\n",
    "y_aal = df2['AAL']\n",
    "y_tsla = df2['TSLA']"
   ]
  },
  {
   "cell_type": "markdown",
   "metadata": {},
   "source": [
    "#### Divide into train and test data"
   ]
  },
  {
   "cell_type": "code",
   "execution_count": 40,
   "metadata": {},
   "outputs": [],
   "source": [
    "#Define the 80% of the data as train data and 20% as test data\n",
    "q3 = int(len(y)*0.8)\n",
    "q1 = int(len(y) *0.2)"
   ]
  },
  {
   "cell_type": "code",
   "execution_count": 41,
   "metadata": {},
   "outputs": [],
   "source": [
    "#Define train function\n",
    "def train(array):\n",
    "    return array[:q3]"
   ]
  },
  {
   "cell_type": "code",
   "execution_count": 42,
   "metadata": {},
   "outputs": [],
   "source": [
    "#Define test\n",
    "def test(array):\n",
    "    return array[q3:]"
   ]
  },
  {
   "cell_type": "code",
   "execution_count": 43,
   "metadata": {},
   "outputs": [],
   "source": [
    "#X train and test array\n",
    "X_train = train(X)\n",
    "X_test = test(X)"
   ]
  },
  {
   "cell_type": "code",
   "execution_count": 44,
   "metadata": {},
   "outputs": [],
   "source": [
    "# y train and test array\n",
    "y_train = train(y)\n",
    "y_test = test(y)"
   ]
  },
  {
   "cell_type": "markdown",
   "metadata": {},
   "source": [
    "#### Define arrays for each stock"
   ]
  },
  {
   "cell_type": "code",
   "execution_count": 45,
   "metadata": {},
   "outputs": [],
   "source": [
    "#Apple Stock\n",
    "y_jks_train = [i[0] for i in y_train]\n",
    "y_jks_test = [i[0] for i in y_test]"
   ]
  },
  {
   "cell_type": "code",
   "execution_count": 46,
   "metadata": {},
   "outputs": [],
   "source": [
    "# American Airlines Stock\n",
    "y_aal_train = [i[1] for i in y_train]\n",
    "y_aal_test = [i[1] for i in y_test]"
   ]
  },
  {
   "cell_type": "code",
   "execution_count": 47,
   "metadata": {},
   "outputs": [],
   "source": [
    "#Tesla Stock\n",
    "y_tsla_train = [i[2] for i in y_train]\n",
    "y_tsla_test = [i[2] for i in y_test]"
   ]
  },
  {
   "cell_type": "code",
   "execution_count": 48,
   "metadata": {},
   "outputs": [],
   "source": [
    "# Create the Train Dataset using pd.DataFrame and pd.concat\n",
    "df_train = pd.concat([pd.DataFrame(data = X_train, columns = ['Year', 'Month', 'Day', 'Oil Price']), pd.DataFrame({'JKS':\n",
    "    y_jks_train, 'AAL': y_aal_train, 'TSLA': y_tsla_train})], axis = 1)\n"
   ]
  },
  {
   "cell_type": "code",
   "execution_count": 49,
   "metadata": {},
   "outputs": [
    {
     "data": {
      "text/html": [
       "<div>\n",
       "<style scoped>\n",
       "    .dataframe tbody tr th:only-of-type {\n",
       "        vertical-align: middle;\n",
       "    }\n",
       "\n",
       "    .dataframe tbody tr th {\n",
       "        vertical-align: top;\n",
       "    }\n",
       "\n",
       "    .dataframe thead th {\n",
       "        text-align: right;\n",
       "    }\n",
       "</style>\n",
       "<table border=\"1\" class=\"dataframe\">\n",
       "  <thead>\n",
       "    <tr style=\"text-align: right;\">\n",
       "      <th></th>\n",
       "      <th>Year</th>\n",
       "      <th>Month</th>\n",
       "      <th>Day</th>\n",
       "      <th>Oil Price</th>\n",
       "      <th>JKS</th>\n",
       "      <th>AAL</th>\n",
       "      <th>TSLA</th>\n",
       "    </tr>\n",
       "  </thead>\n",
       "  <tbody>\n",
       "    <tr>\n",
       "      <th>0</th>\n",
       "      <td>2010.0</td>\n",
       "      <td>6.0</td>\n",
       "      <td>29.0</td>\n",
       "      <td>72.66</td>\n",
       "      <td>9.96</td>\n",
       "      <td>8.051013</td>\n",
       "      <td>4.778</td>\n",
       "    </tr>\n",
       "    <tr>\n",
       "      <th>1</th>\n",
       "      <td>2010.0</td>\n",
       "      <td>6.0</td>\n",
       "      <td>30.0</td>\n",
       "      <td>72.49</td>\n",
       "      <td>9.70</td>\n",
       "      <td>8.117004</td>\n",
       "      <td>4.766</td>\n",
       "    </tr>\n",
       "    <tr>\n",
       "      <th>2</th>\n",
       "      <td>2010.0</td>\n",
       "      <td>7.0</td>\n",
       "      <td>1.0</td>\n",
       "      <td>70.48</td>\n",
       "      <td>9.80</td>\n",
       "      <td>8.154712</td>\n",
       "      <td>4.392</td>\n",
       "    </tr>\n",
       "    <tr>\n",
       "      <th>3</th>\n",
       "      <td>2010.0</td>\n",
       "      <td>7.0</td>\n",
       "      <td>2.0</td>\n",
       "      <td>69.63</td>\n",
       "      <td>10.21</td>\n",
       "      <td>7.721052</td>\n",
       "      <td>3.840</td>\n",
       "    </tr>\n",
       "    <tr>\n",
       "      <th>4</th>\n",
       "      <td>2010.0</td>\n",
       "      <td>7.0</td>\n",
       "      <td>6.0</td>\n",
       "      <td>69.73</td>\n",
       "      <td>10.79</td>\n",
       "      <td>7.617351</td>\n",
       "      <td>3.222</td>\n",
       "    </tr>\n",
       "  </tbody>\n",
       "</table>\n",
       "</div>"
      ],
      "text/plain": [
       "     Year  Month   Day  Oil Price    JKS       AAL   TSLA\n",
       "0  2010.0    6.0  29.0      72.66   9.96  8.051013  4.778\n",
       "1  2010.0    6.0  30.0      72.49   9.70  8.117004  4.766\n",
       "2  2010.0    7.0   1.0      70.48   9.80  8.154712  4.392\n",
       "3  2010.0    7.0   2.0      69.63  10.21  7.721052  3.840\n",
       "4  2010.0    7.0   6.0      69.73  10.79  7.617351  3.222"
      ]
     },
     "execution_count": 49,
     "metadata": {},
     "output_type": "execute_result"
    }
   ],
   "source": [
    "df_train.head()"
   ]
  },
  {
   "cell_type": "code",
   "execution_count": 50,
   "metadata": {},
   "outputs": [],
   "source": [
    "# Create the test Dataset using pd.DataFrame and pd.concat\n",
    "df_test = pd.concat([pd.DataFrame(data = X_test, columns = ['Year', 'Month', 'Day', 'Oil Price']), pd.DataFrame({'JKS':\n",
    "    y_jks_test, 'AAL': y_aal_test, 'TSLA': y_tsla_test})], axis = 1)"
   ]
  },
  {
   "cell_type": "code",
   "execution_count": 51,
   "metadata": {},
   "outputs": [
    {
     "data": {
      "text/html": [
       "<div>\n",
       "<style scoped>\n",
       "    .dataframe tbody tr th:only-of-type {\n",
       "        vertical-align: middle;\n",
       "    }\n",
       "\n",
       "    .dataframe tbody tr th {\n",
       "        vertical-align: top;\n",
       "    }\n",
       "\n",
       "    .dataframe thead th {\n",
       "        text-align: right;\n",
       "    }\n",
       "</style>\n",
       "<table border=\"1\" class=\"dataframe\">\n",
       "  <thead>\n",
       "    <tr style=\"text-align: right;\">\n",
       "      <th></th>\n",
       "      <th>Year</th>\n",
       "      <th>Month</th>\n",
       "      <th>Day</th>\n",
       "      <th>Oil Price</th>\n",
       "      <th>JKS</th>\n",
       "      <th>AAL</th>\n",
       "      <th>TSLA</th>\n",
       "    </tr>\n",
       "  </thead>\n",
       "  <tbody>\n",
       "    <tr>\n",
       "      <th>0</th>\n",
       "      <td>2018.0</td>\n",
       "      <td>8.0</td>\n",
       "      <td>16.0</td>\n",
       "      <td>69.47</td>\n",
       "      <td>12.91</td>\n",
       "      <td>37.449406</td>\n",
       "      <td>67.089996</td>\n",
       "    </tr>\n",
       "    <tr>\n",
       "      <th>1</th>\n",
       "      <td>2018.0</td>\n",
       "      <td>8.0</td>\n",
       "      <td>17.0</td>\n",
       "      <td>70.27</td>\n",
       "      <td>12.23</td>\n",
       "      <td>37.086296</td>\n",
       "      <td>61.099998</td>\n",
       "    </tr>\n",
       "    <tr>\n",
       "      <th>2</th>\n",
       "      <td>2018.0</td>\n",
       "      <td>8.0</td>\n",
       "      <td>20.0</td>\n",
       "      <td>70.64</td>\n",
       "      <td>12.32</td>\n",
       "      <td>39.245338</td>\n",
       "      <td>61.688000</td>\n",
       "    </tr>\n",
       "    <tr>\n",
       "      <th>3</th>\n",
       "      <td>2018.0</td>\n",
       "      <td>8.0</td>\n",
       "      <td>21.0</td>\n",
       "      <td>71.01</td>\n",
       "      <td>12.49</td>\n",
       "      <td>39.578999</td>\n",
       "      <td>64.379997</td>\n",
       "    </tr>\n",
       "    <tr>\n",
       "      <th>4</th>\n",
       "      <td>2018.0</td>\n",
       "      <td>8.0</td>\n",
       "      <td>22.0</td>\n",
       "      <td>71.75</td>\n",
       "      <td>12.36</td>\n",
       "      <td>38.460224</td>\n",
       "      <td>64.328003</td>\n",
       "    </tr>\n",
       "  </tbody>\n",
       "</table>\n",
       "</div>"
      ],
      "text/plain": [
       "     Year  Month   Day  Oil Price    JKS        AAL       TSLA\n",
       "0  2018.0    8.0  16.0      69.47  12.91  37.449406  67.089996\n",
       "1  2018.0    8.0  17.0      70.27  12.23  37.086296  61.099998\n",
       "2  2018.0    8.0  20.0      70.64  12.32  39.245338  61.688000\n",
       "3  2018.0    8.0  21.0      71.01  12.49  39.578999  64.379997\n",
       "4  2018.0    8.0  22.0      71.75  12.36  38.460224  64.328003"
      ]
     },
     "execution_count": 51,
     "metadata": {},
     "output_type": "execute_result"
    }
   ],
   "source": [
    "df_test.head()"
   ]
  },
  {
   "cell_type": "markdown",
   "metadata": {},
   "source": [
    "## Standarization"
   ]
  },
  {
   "cell_type": "markdown",
   "metadata": {},
   "source": [
    "I am also doing standarization in order to compare the results between standarized and not standarized data and see which model performs the best."
   ]
  },
  {
   "cell_type": "markdown",
   "metadata": {},
   "source": [
    "#### Standarization"
   ]
  },
  {
   "cell_type": "code",
   "execution_count": 52,
   "metadata": {},
   "outputs": [],
   "source": [
    "#Import the library\n",
    "from sklearn.preprocessing import StandardScaler"
   ]
  },
  {
   "cell_type": "code",
   "execution_count": 53,
   "metadata": {},
   "outputs": [],
   "source": [
    "#Apply the scaler on the x_train\n",
    "def scaler(array):\n",
    "    scaler = StandardScaler()\n",
    "    return scaler.fit_transform(array)"
   ]
  },
  {
   "cell_type": "code",
   "execution_count": 54,
   "metadata": {},
   "outputs": [],
   "source": [
    "# Standarization \n",
    "X_train_scaler = scaler(X_train)\n",
    "X_test_scaler = scaler(X_test)"
   ]
  },
  {
   "cell_type": "code",
   "execution_count": 55,
   "metadata": {},
   "outputs": [],
   "source": [
    "#Creating the train dataset for the train standarized data\n",
    "df_train_scaler = pd.concat([pd.DataFrame(data = X_train_scaler, columns = ['Year', 'Month', 'Day', 'Oil Price']), pd.DataFrame({'JKS':\n",
    "    y_jks_train, 'AAL': y_aal_train, 'TSLA': y_tsla_train})], axis = 1)"
   ]
  },
  {
   "cell_type": "code",
   "execution_count": 56,
   "metadata": {},
   "outputs": [
    {
     "data": {
      "text/html": [
       "<div>\n",
       "<style scoped>\n",
       "    .dataframe tbody tr th:only-of-type {\n",
       "        vertical-align: middle;\n",
       "    }\n",
       "\n",
       "    .dataframe tbody tr th {\n",
       "        vertical-align: top;\n",
       "    }\n",
       "\n",
       "    .dataframe thead th {\n",
       "        text-align: right;\n",
       "    }\n",
       "</style>\n",
       "<table border=\"1\" class=\"dataframe\">\n",
       "  <thead>\n",
       "    <tr style=\"text-align: right;\">\n",
       "      <th></th>\n",
       "      <th>Year</th>\n",
       "      <th>Month</th>\n",
       "      <th>Day</th>\n",
       "      <th>Oil Price</th>\n",
       "      <th>JKS</th>\n",
       "      <th>AAL</th>\n",
       "      <th>TSLA</th>\n",
       "    </tr>\n",
       "  </thead>\n",
       "  <tbody>\n",
       "    <tr>\n",
       "      <th>0</th>\n",
       "      <td>-1.70112</td>\n",
       "      <td>-0.163031</td>\n",
       "      <td>1.521254</td>\n",
       "      <td>-0.236437</td>\n",
       "      <td>9.96</td>\n",
       "      <td>8.051013</td>\n",
       "      <td>4.778</td>\n",
       "    </tr>\n",
       "    <tr>\n",
       "      <th>1</th>\n",
       "      <td>-1.70112</td>\n",
       "      <td>-0.163031</td>\n",
       "      <td>1.635529</td>\n",
       "      <td>-0.242516</td>\n",
       "      <td>9.70</td>\n",
       "      <td>8.117004</td>\n",
       "      <td>4.766</td>\n",
       "    </tr>\n",
       "    <tr>\n",
       "      <th>2</th>\n",
       "      <td>-1.70112</td>\n",
       "      <td>0.131258</td>\n",
       "      <td>-1.678459</td>\n",
       "      <td>-0.314386</td>\n",
       "      <td>9.80</td>\n",
       "      <td>8.154712</td>\n",
       "      <td>4.392</td>\n",
       "    </tr>\n",
       "    <tr>\n",
       "      <th>3</th>\n",
       "      <td>-1.70112</td>\n",
       "      <td>0.131258</td>\n",
       "      <td>-1.564184</td>\n",
       "      <td>-0.344778</td>\n",
       "      <td>10.21</td>\n",
       "      <td>7.721052</td>\n",
       "      <td>3.840</td>\n",
       "    </tr>\n",
       "    <tr>\n",
       "      <th>4</th>\n",
       "      <td>-1.70112</td>\n",
       "      <td>0.131258</td>\n",
       "      <td>-1.107082</td>\n",
       "      <td>-0.341203</td>\n",
       "      <td>10.79</td>\n",
       "      <td>7.617351</td>\n",
       "      <td>3.222</td>\n",
       "    </tr>\n",
       "  </tbody>\n",
       "</table>\n",
       "</div>"
      ],
      "text/plain": [
       "      Year     Month       Day  Oil Price    JKS       AAL   TSLA\n",
       "0 -1.70112 -0.163031  1.521254  -0.236437   9.96  8.051013  4.778\n",
       "1 -1.70112 -0.163031  1.635529  -0.242516   9.70  8.117004  4.766\n",
       "2 -1.70112  0.131258 -1.678459  -0.314386   9.80  8.154712  4.392\n",
       "3 -1.70112  0.131258 -1.564184  -0.344778  10.21  7.721052  3.840\n",
       "4 -1.70112  0.131258 -1.107082  -0.341203  10.79  7.617351  3.222"
      ]
     },
     "execution_count": 56,
     "metadata": {},
     "output_type": "execute_result"
    }
   ],
   "source": [
    "df_train_scaler.head()"
   ]
  },
  {
   "cell_type": "code",
   "execution_count": 57,
   "metadata": {},
   "outputs": [],
   "source": [
    "#Create the test dataset for the test standarized data\n",
    "df_test_scaler = pd.concat([pd.DataFrame(data = X_test_scaler, columns = ['Year', 'Month', 'Day', 'Oil Price']), pd.DataFrame({'JKS':\n",
    "    y_jks_test, 'AAL': y_aal_test, 'TSLA': y_tsla_test})], axis = 1)"
   ]
  },
  {
   "cell_type": "code",
   "execution_count": 58,
   "metadata": {},
   "outputs": [
    {
     "data": {
      "text/html": [
       "<div>\n",
       "<style scoped>\n",
       "    .dataframe tbody tr th:only-of-type {\n",
       "        vertical-align: middle;\n",
       "    }\n",
       "\n",
       "    .dataframe tbody tr th {\n",
       "        vertical-align: top;\n",
       "    }\n",
       "\n",
       "    .dataframe thead th {\n",
       "        text-align: right;\n",
       "    }\n",
       "</style>\n",
       "<table border=\"1\" class=\"dataframe\">\n",
       "  <thead>\n",
       "    <tr style=\"text-align: right;\">\n",
       "      <th></th>\n",
       "      <th>Year</th>\n",
       "      <th>Month</th>\n",
       "      <th>Day</th>\n",
       "      <th>Oil Price</th>\n",
       "      <th>JKS</th>\n",
       "      <th>AAL</th>\n",
       "      <th>TSLA</th>\n",
       "    </tr>\n",
       "  </thead>\n",
       "  <tbody>\n",
       "    <tr>\n",
       "      <th>0</th>\n",
       "      <td>-1.647738</td>\n",
       "      <td>0.434886</td>\n",
       "      <td>0.002907</td>\n",
       "      <td>0.765317</td>\n",
       "      <td>12.91</td>\n",
       "      <td>37.449406</td>\n",
       "      <td>67.089996</td>\n",
       "    </tr>\n",
       "    <tr>\n",
       "      <th>1</th>\n",
       "      <td>-1.647738</td>\n",
       "      <td>0.434886</td>\n",
       "      <td>0.117405</td>\n",
       "      <td>0.816212</td>\n",
       "      <td>12.23</td>\n",
       "      <td>37.086296</td>\n",
       "      <td>61.099998</td>\n",
       "    </tr>\n",
       "    <tr>\n",
       "      <th>2</th>\n",
       "      <td>-1.647738</td>\n",
       "      <td>0.434886</td>\n",
       "      <td>0.460900</td>\n",
       "      <td>0.839750</td>\n",
       "      <td>12.32</td>\n",
       "      <td>39.245338</td>\n",
       "      <td>61.688000</td>\n",
       "    </tr>\n",
       "    <tr>\n",
       "      <th>3</th>\n",
       "      <td>-1.647738</td>\n",
       "      <td>0.434886</td>\n",
       "      <td>0.575398</td>\n",
       "      <td>0.863289</td>\n",
       "      <td>12.49</td>\n",
       "      <td>39.578999</td>\n",
       "      <td>64.379997</td>\n",
       "    </tr>\n",
       "    <tr>\n",
       "      <th>4</th>\n",
       "      <td>-1.647738</td>\n",
       "      <td>0.434886</td>\n",
       "      <td>0.689896</td>\n",
       "      <td>0.910367</td>\n",
       "      <td>12.36</td>\n",
       "      <td>38.460224</td>\n",
       "      <td>64.328003</td>\n",
       "    </tr>\n",
       "  </tbody>\n",
       "</table>\n",
       "</div>"
      ],
      "text/plain": [
       "       Year     Month       Day  Oil Price    JKS        AAL       TSLA\n",
       "0 -1.647738  0.434886  0.002907   0.765317  12.91  37.449406  67.089996\n",
       "1 -1.647738  0.434886  0.117405   0.816212  12.23  37.086296  61.099998\n",
       "2 -1.647738  0.434886  0.460900   0.839750  12.32  39.245338  61.688000\n",
       "3 -1.647738  0.434886  0.575398   0.863289  12.49  39.578999  64.379997\n",
       "4 -1.647738  0.434886  0.689896   0.910367  12.36  38.460224  64.328003"
      ]
     },
     "execution_count": 58,
     "metadata": {},
     "output_type": "execute_result"
    }
   ],
   "source": [
    "df_test_scaler.head()"
   ]
  },
  {
   "cell_type": "markdown",
   "metadata": {},
   "source": [
    "## Data Wrangling Times Series Analysis"
   ]
  },
  {
   "cell_type": "markdown",
   "metadata": {},
   "source": [
    "In this step, we are making a times series analysis in order to predict the different stock prices. This is the methodology we are following:\n",
    "\n",
    "- Check if the data is stationary by using kpss.\n",
    "\n",
    "- If data is not stationalry, we are making them stationary using logarithms.  "
   ]
  },
  {
   "cell_type": "code",
   "execution_count": 59,
   "metadata": {},
   "outputs": [],
   "source": [
    "def transform_log(y):\n",
    "    return np.log(y)"
   ]
  },
  {
   "cell_type": "markdown",
   "metadata": {},
   "source": [
    "### Check if the data is stationary"
   ]
  },
  {
   "cell_type": "code",
   "execution_count": 60,
   "metadata": {},
   "outputs": [],
   "source": [
    "#Firstly we need to set a higher recursion limit\n",
    "sys.setrecursionlimit(10000)"
   ]
  },
  {
   "cell_type": "code",
   "execution_count": 61,
   "metadata": {},
   "outputs": [
    {
     "data": {
      "text/plain": [
       "(5.440463061940448,\n",
       " 0.01,\n",
       " 27,\n",
       " {'10%': 0.347, '5%': 0.463, '2.5%': 0.574, '1%': 0.739})"
      ]
     },
     "execution_count": 61,
     "metadata": {},
     "output_type": "execute_result"
    }
   ],
   "source": [
    "#Check if Oil is Stationary\n",
    "warnings.simplefilter('ignore')\n",
    "kpss(y_oil)"
   ]
  },
  {
   "cell_type": "code",
   "execution_count": 62,
   "metadata": {},
   "outputs": [
    {
     "data": {
      "text/plain": [
       "(0.6309868504740087,\n",
       " 0.01981937722963557,\n",
       " 27,\n",
       " {'10%': 0.347, '5%': 0.463, '2.5%': 0.574, '1%': 0.739})"
      ]
     },
     "execution_count": 62,
     "metadata": {},
     "output_type": "execute_result"
    }
   ],
   "source": [
    "#Check if Apple Stock Price is stationary\n",
    "kpss(y_jks)"
   ]
  },
  {
   "cell_type": "code",
   "execution_count": 63,
   "metadata": {},
   "outputs": [
    {
     "data": {
      "text/plain": [
       "(4.5799140336336945,\n",
       " 0.01,\n",
       " 27,\n",
       " {'10%': 0.347, '5%': 0.463, '2.5%': 0.574, '1%': 0.739})"
      ]
     },
     "execution_count": 63,
     "metadata": {},
     "output_type": "execute_result"
    }
   ],
   "source": [
    "#Check if American Airlines data is stationary\n",
    "kpss(y_aal)"
   ]
  },
  {
   "cell_type": "code",
   "execution_count": 64,
   "metadata": {},
   "outputs": [
    {
     "data": {
      "text/plain": [
       "(4.741163872953131,\n",
       " 0.01,\n",
       " 27,\n",
       " {'10%': 0.347, '5%': 0.463, '2.5%': 0.574, '1%': 0.739})"
      ]
     },
     "execution_count": 64,
     "metadata": {},
     "output_type": "execute_result"
    }
   ],
   "source": [
    "#Check if Tesla Stock Price is stationary\n",
    "kpss(y_tsla)"
   ]
  },
  {
   "cell_type": "markdown",
   "metadata": {},
   "source": [
    "### Insights"
   ]
  },
  {
   "cell_type": "markdown",
   "metadata": {},
   "source": [
    "- For all of the stocks, the data is not stationary since we got a p-value less than 0.05 for all of them. Thereore, we need to make the data stationary by using np.log"
   ]
  },
  {
   "cell_type": "markdown",
   "metadata": {},
   "source": [
    "### Making Data Stationary"
   ]
  },
  {
   "cell_type": "code",
   "execution_count": 65,
   "metadata": {
    "scrolled": true
   },
   "outputs": [
    {
     "data": {
      "text/plain": [
       "(0.059785057821304374,\n",
       " 0.1,\n",
       " 27,\n",
       " {'10%': 0.347, '5%': 0.463, '2.5%': 0.574, '1%': 0.739})"
      ]
     },
     "execution_count": 65,
     "metadata": {},
     "output_type": "execute_result"
    }
   ],
   "source": [
    "# Oil p-value\n",
    "y_oil_log = transform_log(y_oil)\n",
    "kpss(y_oil_log.diff().dropna())"
   ]
  },
  {
   "cell_type": "code",
   "execution_count": 66,
   "metadata": {},
   "outputs": [
    {
     "data": {
      "text/plain": [
       "(0.05689604830260006,\n",
       " 0.1,\n",
       " 27,\n",
       " {'10%': 0.347, '5%': 0.463, '2.5%': 0.574, '1%': 0.739})"
      ]
     },
     "execution_count": 66,
     "metadata": {},
     "output_type": "execute_result"
    }
   ],
   "source": [
    "# Apple p-value\n",
    "y_jks_log = transform_log(y_jks)\n",
    "kpss(y_jks_log.diff().dropna())"
   ]
  },
  {
   "cell_type": "code",
   "execution_count": 67,
   "metadata": {},
   "outputs": [
    {
     "data": {
      "text/plain": [
       "(0.3961933229944284,\n",
       " 0.0787959814679188,\n",
       " 27,\n",
       " {'10%': 0.347, '5%': 0.463, '2.5%': 0.574, '1%': 0.739})"
      ]
     },
     "execution_count": 67,
     "metadata": {},
     "output_type": "execute_result"
    }
   ],
   "source": [
    "# American Airlines p-value\n",
    "y_aal_log = transform_log(y_aal)\n",
    "kpss(y_aal_log.diff().dropna())"
   ]
  },
  {
   "cell_type": "code",
   "execution_count": 68,
   "metadata": {},
   "outputs": [
    {
     "data": {
      "text/plain": [
       "(0.18840587005251933,\n",
       " 0.1,\n",
       " 27,\n",
       " {'10%': 0.347, '5%': 0.463, '2.5%': 0.574, '1%': 0.739})"
      ]
     },
     "execution_count": 68,
     "metadata": {},
     "output_type": "execute_result"
    }
   ],
   "source": [
    "# Tesla p-value\n",
    "y_tsla_log = transform_log(y_tsla)\n",
    "kpss(y_tsla_log.diff().dropna())"
   ]
  },
  {
   "cell_type": "markdown",
   "metadata": {},
   "source": [
    "Now, all the data is stationary since for all of them we have p-values higher than 0.05"
   ]
  },
  {
   "cell_type": "markdown",
   "metadata": {},
   "source": [
    "## Define the X and y arrays for the stationary models"
   ]
  },
  {
   "cell_type": "code",
   "execution_count": 69,
   "metadata": {},
   "outputs": [],
   "source": [
    "#Define arrays for ARIMA\n",
    "# Oil Price\n",
    "y_oil_train_log = y_oil_log[q1:]\n",
    "y_oil_test_log = y_oil_log[:q1]"
   ]
  },
  {
   "cell_type": "code",
   "execution_count": 70,
   "metadata": {},
   "outputs": [],
   "source": [
    "#Apple\n",
    "y_jks_train_log = y_jks_log[q1:]\n",
    "y_jks_test_log = y_jks_log[:q1]"
   ]
  },
  {
   "cell_type": "code",
   "execution_count": 71,
   "metadata": {},
   "outputs": [],
   "source": [
    "#American Airlines\n",
    "y_aal_train_log = y_aal_log[q1:]\n",
    "y_aal_test_log = y_aal_log[:q1]"
   ]
  },
  {
   "cell_type": "code",
   "execution_count": 72,
   "metadata": {},
   "outputs": [],
   "source": [
    "#Tesla\n",
    "y_tsla_train_log = y_tsla_log[q1:]\n",
    "y_tsla_test_log = y_tsla_log[:q1]"
   ]
  },
  {
   "cell_type": "code",
   "execution_count": 73,
   "metadata": {},
   "outputs": [],
   "source": [
    "#Train dataset for stationary models\n",
    "df_train2 = pd.DataFrame({'Oil Price': y_oil_train_log, 'JKS': y_jks_train_log, 'AAL': y_aal_train_log, \n",
    "              'TSLA': y_tsla_train_log })"
   ]
  },
  {
   "cell_type": "code",
   "execution_count": 74,
   "metadata": {},
   "outputs": [
    {
     "data": {
      "text/html": [
       "<div>\n",
       "<style scoped>\n",
       "    .dataframe tbody tr th:only-of-type {\n",
       "        vertical-align: middle;\n",
       "    }\n",
       "\n",
       "    .dataframe tbody tr th {\n",
       "        vertical-align: top;\n",
       "    }\n",
       "\n",
       "    .dataframe thead th {\n",
       "        text-align: right;\n",
       "    }\n",
       "</style>\n",
       "<table border=\"1\" class=\"dataframe\">\n",
       "  <thead>\n",
       "    <tr style=\"text-align: right;\">\n",
       "      <th></th>\n",
       "      <th>Oil Price</th>\n",
       "      <th>JKS</th>\n",
       "      <th>AAL</th>\n",
       "      <th>TSLA</th>\n",
       "    </tr>\n",
       "  </thead>\n",
       "  <tbody>\n",
       "    <tr>\n",
       "      <th>511</th>\n",
       "      <td>4.572957</td>\n",
       "      <td>1.214913</td>\n",
       "      <td>2.542986</td>\n",
       "      <td>1.840232</td>\n",
       "    </tr>\n",
       "    <tr>\n",
       "      <th>512</th>\n",
       "      <td>4.567780</td>\n",
       "      <td>1.169381</td>\n",
       "      <td>2.573645</td>\n",
       "      <td>1.833221</td>\n",
       "    </tr>\n",
       "    <tr>\n",
       "      <th>513</th>\n",
       "      <td>4.572027</td>\n",
       "      <td>1.187843</td>\n",
       "      <td>2.588629</td>\n",
       "      <td>1.840867</td>\n",
       "    </tr>\n",
       "    <tr>\n",
       "      <th>514</th>\n",
       "      <td>4.578005</td>\n",
       "      <td>1.147402</td>\n",
       "      <td>2.577949</td>\n",
       "      <td>1.877937</td>\n",
       "    </tr>\n",
       "    <tr>\n",
       "      <th>515</th>\n",
       "      <td>4.596129</td>\n",
       "      <td>1.187843</td>\n",
       "      <td>2.611731</td>\n",
       "      <td>1.924249</td>\n",
       "    </tr>\n",
       "  </tbody>\n",
       "</table>\n",
       "</div>"
      ],
      "text/plain": [
       "     Oil Price       JKS       AAL      TSLA\n",
       "511   4.572957  1.214913  2.542986  1.840232\n",
       "512   4.567780  1.169381  2.573645  1.833221\n",
       "513   4.572027  1.187843  2.588629  1.840867\n",
       "514   4.578005  1.147402  2.577949  1.877937\n",
       "515   4.596129  1.187843  2.611731  1.924249"
      ]
     },
     "execution_count": 74,
     "metadata": {},
     "output_type": "execute_result"
    }
   ],
   "source": [
    "df_train2.head()"
   ]
  },
  {
   "cell_type": "code",
   "execution_count": 75,
   "metadata": {},
   "outputs": [],
   "source": [
    "#Test dataset for stationary models\n",
    "df_test2 = pd.DataFrame({'Oil Price': y_oil_test_log, 'JKS': y_jks_test_log, 'AAL': y_aal_test_log, \n",
    "              'TSLA': y_tsla_test_log })"
   ]
  },
  {
   "cell_type": "code",
   "execution_count": 76,
   "metadata": {},
   "outputs": [
    {
     "data": {
      "text/html": [
       "<div>\n",
       "<style scoped>\n",
       "    .dataframe tbody tr th:only-of-type {\n",
       "        vertical-align: middle;\n",
       "    }\n",
       "\n",
       "    .dataframe tbody tr th {\n",
       "        vertical-align: top;\n",
       "    }\n",
       "\n",
       "    .dataframe thead th {\n",
       "        text-align: right;\n",
       "    }\n",
       "</style>\n",
       "<table border=\"1\" class=\"dataframe\">\n",
       "  <thead>\n",
       "    <tr style=\"text-align: right;\">\n",
       "      <th></th>\n",
       "      <th>Oil Price</th>\n",
       "      <th>JKS</th>\n",
       "      <th>AAL</th>\n",
       "      <th>TSLA</th>\n",
       "    </tr>\n",
       "  </thead>\n",
       "  <tbody>\n",
       "    <tr>\n",
       "      <th>0</th>\n",
       "      <td>4.285791</td>\n",
       "      <td>2.298577</td>\n",
       "      <td>2.085798</td>\n",
       "      <td>1.564022</td>\n",
       "    </tr>\n",
       "    <tr>\n",
       "      <th>1</th>\n",
       "      <td>4.283449</td>\n",
       "      <td>2.272126</td>\n",
       "      <td>2.093961</td>\n",
       "      <td>1.561507</td>\n",
       "    </tr>\n",
       "    <tr>\n",
       "      <th>2</th>\n",
       "      <td>4.255329</td>\n",
       "      <td>2.282382</td>\n",
       "      <td>2.098596</td>\n",
       "      <td>1.479785</td>\n",
       "    </tr>\n",
       "    <tr>\n",
       "      <th>3</th>\n",
       "      <td>4.243196</td>\n",
       "      <td>2.323368</td>\n",
       "      <td>2.043951</td>\n",
       "      <td>1.345472</td>\n",
       "    </tr>\n",
       "    <tr>\n",
       "      <th>4</th>\n",
       "      <td>4.244631</td>\n",
       "      <td>2.378620</td>\n",
       "      <td>2.030429</td>\n",
       "      <td>1.170002</td>\n",
       "    </tr>\n",
       "  </tbody>\n",
       "</table>\n",
       "</div>"
      ],
      "text/plain": [
       "   Oil Price       JKS       AAL      TSLA\n",
       "0   4.285791  2.298577  2.085798  1.564022\n",
       "1   4.283449  2.272126  2.093961  1.561507\n",
       "2   4.255329  2.282382  2.098596  1.479785\n",
       "3   4.243196  2.323368  2.043951  1.345472\n",
       "4   4.244631  2.378620  2.030429  1.170002"
      ]
     },
     "execution_count": 76,
     "metadata": {},
     "output_type": "execute_result"
    }
   ],
   "source": [
    "df_test2.head()"
   ]
  }
 ],
 "metadata": {
  "kernelspec": {
   "display_name": "Python 3",
   "language": "python",
   "name": "python3"
  },
  "language_info": {
   "codemirror_mode": {
    "name": "ipython",
    "version": 3
   },
   "file_extension": ".py",
   "mimetype": "text/x-python",
   "name": "python",
   "nbconvert_exporter": "python",
   "pygments_lexer": "ipython3",
   "version": "3.7.4"
  }
 },
 "nbformat": 4,
 "nbformat_minor": 2
}

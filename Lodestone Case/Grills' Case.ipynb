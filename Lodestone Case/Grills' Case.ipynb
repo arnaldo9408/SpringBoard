{
 "cells": [
  {
   "cell_type": "code",
   "execution_count": 1,
   "metadata": {},
   "outputs": [
    {
     "name": "stderr",
     "output_type": "stream",
     "text": [
      "/opt/anaconda3/lib/python3.7/site-packages/ipykernel_launcher.py:8: FutureWarning: pandas.util.testing is deprecated. Use the functions in the public API at pandas.testing instead.\n",
      "  \n"
     ]
    }
   ],
   "source": [
    "# Import the libraries\n",
    "import sys\n",
    "import pandas as pd\n",
    "import numpy as np\n",
    "import matplotlib.pyplot as plt\n",
    "import json\n",
    "import ast \n",
    "import pandas.util.testing as tm\n",
    "import seaborn as sns\n",
    "import numpy as np"
   ]
  },
  {
   "cell_type": "code",
   "execution_count": 2,
   "metadata": {},
   "outputs": [],
   "source": [
    "# Read the csv files\n",
    "df_sheetA = pd.read_csv('SheetA.csv')\n",
    "df_sheetB = pd.read_csv('SheetB.csv')\n",
    "df_sheetC = pd.read_csv('SheetC.csv')"
   ]
  },
  {
   "cell_type": "code",
   "execution_count": 3,
   "metadata": {},
   "outputs": [],
   "source": [
    "# Open the json file\n",
    "with open('SheetC.json') as file:\n",
    "    data = json.load(file)"
   ]
  },
  {
   "cell_type": "code",
   "execution_count": 4,
   "metadata": {},
   "outputs": [
    {
     "data": {
      "text/plain": [
       "[{'test_result': '{\"1\":{\"meta_data\":{\"grill_type\":\"Propane\",\"is_frozen\":\"false\",\"item_material\":\"Hotdog\"},\"sample_item_index\":1,\"survey_result\":{\"guess_grill_correct\":\"true\",\"thumbs_up_score\":\"0.4\"}},\"10\":{\"meta_data\":{\"grill_type\":\"Propane\",\"is_frozen\":\"true\",\"item_material\":\"Hotdog\"},\"sample_item_index\":10,\"survey_result\":{\"guess_grill_correct\":\"true\",\"thumbs_up_score\":\"1.0\"}},\"100\":{\"meta_data\":{\"grill_type\":\"Propane\",\"is_frozen\":\"true\",\"item_material\":\"Hotdog\"},\"sample_item_index\":10,\"survey_result\":{\"guess_grill_correct\":\"true\",\"thumbs_up_score\":\"0.0\"}},\"101\":{\"meta_data\":{\"grill_type\":\"Propane\",\"is_frozen\":\"false\",\"item_material\":\"Hotdog\"},\"sample_item_index\":11,\"survey_result\":{\"guess_grill_correct\":\"true\",\"thumbs_up_score\":\"0.0\"}},\"102\":{\"meta_data\":{\"grill_type\":\"Propane\",\"is_frozen\":\"true\",\"item_material\":\"Hotdog\"},\"sample_item_index\":12,\"survey_result\":{\"guess_grill_correct\":\"true\",\"thumbs_up_score\":\"0.4\"}},\"103\":{\"meta_data\":{\"grill_type\":\"Propane\",\"is_frozen\":\"false\",\"item_material\":\"Hotdog\"},\"sample_item_index\":13,\"survey_result\":{\"guess_grill_correct\":\"true\",\"thumbs_up_score\":\"0.6\"}},\"104\":{\"meta_data\":{\"grill_type\":\"Propane\",\"is_frozen\":\"true\",\"item_material\":\"Hotdog\"},\"sample_item_index\":14,\"survey_result\":{\"guess_grill_correct\":\"true\",\"thumbs_up_score\":\"0.9\"}},\"105\":{\"meta_data\":{\"grill_type\":\"Propane\",\"is_frozen\":\"false\",\"item_material\":\"Hotdog\"},\"sample_item_index\":15,\"survey_result\":{\"guess_grill_correct\":\"true\",\"thumbs_up_score\":\"0.1\"}},\"106\":{\"meta_data\":{\"grill_type\":\"Propane\",\"is_frozen\":\"true\",\"item_material\":\"Hotdog\"},\"sample_item_index\":16,\"survey_result\":{\"guess_grill_correct\":\"true\",\"thumbs_up_score\":\"0.3\"}},\"107\":{\"meta_data\":{\"grill_type\":\"Propane\",\"is_frozen\":\"false\",\"item_material\":\"Hotdog\"},\"sample_item_index\":17,\"survey_result\":{\"guess_grill_correct\":\"true\",\"thumbs_up_score\":\"1.0\"}},\"108\":{\"meta_data\":{\"grill_type\":\"Propane\",\"is_frozen\":\"true\",\"item_material\":\"Hotdog\"},\"sample_item_index\":18,\"survey_result\":{\"guess_grill_correct\":\"true\",\"thumbs_up_score\":\"0.3\"}},\"109\":{\"meta_data\":{\"grill_type\":\"Propane\",\"is_frozen\":\"false\",\"item_material\":\"Hotdog\"},\"sample_item_index\":19,\"survey_result\":{\"guess_grill_correct\":\"true\",\"thumbs_up_score\":\"0.3\"}},\"11\":{\"meta_data\":{\"grill_type\":\"Propane\",\"is_frozen\":\"false\",\"item_material\":\"Hotdog\"},\"sample_item_index\":11,\"survey_result\":{\"guess_grill_correct\":\"true\",\"thumbs_up_score\":\"1.1\"}},\"110\":{\"meta_data\":{\"grill_type\":\"Propane\",\"is_frozen\":\"true\",\"item_material\":\"Hotdog\"},\"sample_item_index\":20,\"survey_result\":{\"guess_grill_correct\":\"true\",\"thumbs_up_score\":\"0.0\"}},\"111\":{\"meta_data\":{\"grill_type\":\"Propane\",\"is_frozen\":\"false\",\"item_material\":\"Hotdog\"},\"sample_item_index\":21,\"survey_result\":{\"guess_grill_correct\":\"true\",\"thumbs_up_score\":\"0.1\"}},\"112\":{\"meta_data\":{\"grill_type\":\"Propane\",\"is_frozen\":\"true\",\"item_material\":\"Hotdog\"},\"sample_item_index\":22,\"survey_result\":{\"guess_grill_correct\":\"false\",\"thumbs_up_score\":\"0.0\"}},\"113\":{\"meta_data\":{\"grill_type\":\"Propane\",\"is_frozen\":\"false\",\"item_material\":\"Hotdog\"},\"sample_item_index\":23,\"survey_result\":{\"guess_grill_correct\":\"true\",\"thumbs_up_score\":\"0.3\"}},\"114\":{\"meta_data\":{\"grill_type\":\"Propane\",\"is_frozen\":\"true\",\"item_material\":\"Hotdog\"},\"sample_item_index\":24,\"survey_result\":{\"guess_grill_correct\":\"true\",\"thumbs_up_score\":\"1.0\"}},\"115\":{\"meta_data\":{\"grill_type\":\"Propane\",\"is_frozen\":\"false\",\"item_material\":\"Hotdog\"},\"sample_item_index\":25,\"survey_result\":{\"guess_grill_correct\":\"true\",\"thumbs_up_score\":\"0.2\"}},\"116\":{\"meta_data\":{\"grill_type\":\"Propane\",\"is_frozen\":\"true\",\"item_material\":\"Hotdog\"},\"sample_item_index\":26,\"survey_result\":{\"guess_grill_correct\":\"true\",\"thumbs_up_score\":\"0.8\"}},\"117\":{\"meta_data\":{\"grill_type\":\"Propane\",\"is_frozen\":\"false\",\"item_material\":\"Hotdog\"},\"sample_item_index\":27,\"survey_result\":{\"guess_grill_correct\":\"false\",\"thumbs_up_score\":\"0.1\"}},\"118\":{\"meta_data\":{\"grill_type\":\"Propane\",\"is_frozen\":\"true\",\"item_material\":\"Hotdog\"},\"sample_item_index\":28,\"survey_result\":{\"guess_grill_correct\":\"true\",\"thumbs_up_score\":\"0.0\"}},\"119\":{\"meta_data\":{\"grill_type\":\"Propane\",\"is_frozen\":\"false\",\"item_material\":\"Hotdog\"},\"sample_item_index\":29,\"survey_result\":{\"guess_grill_correct\":\"true\",\"thumbs_up_score\":\"0.5\"}},\"12\":{\"meta_data\":{\"grill_type\":\"Propane\",\"is_frozen\":\"true\",\"item_material\":\"Hotdog\"},\"sample_item_index\":12,\"survey_result\":{\"guess_grill_correct\":\"true\",\"thumbs_up_score\":\"0.7\"}},\"120\":{\"meta_data\":{\"grill_type\":\"Propane\",\"is_frozen\":\"true\",\"item_material\":\"Hotdog\"},\"sample_item_index\":30,\"survey_result\":{\"guess_grill_correct\":\"false\",\"thumbs_up_score\":\"0.5\"}},\"121\":{\"meta_data\":{\"grill_type\":\"Charcoal\",\"is_frozen\":\"false\",\"item_material\":\"Hotdog\"},\"sample_item_index\":1,\"survey_result\":{\"guess_grill_correct\":\"true\",\"thumbs_up_score\":\"5.1\"}},\"122\":{\"meta_data\":{\"grill_type\":\"Charcoal\",\"is_frozen\":\"true\",\"item_material\":\"Hotdog\"},\"sample_item_index\":2,\"survey_result\":{\"guess_grill_correct\":\"true\",\"thumbs_up_score\":\"5.1\"}},\"123\":{\"meta_data\":{\"grill_type\":\"Charcoal\",\"is_frozen\":\"false\",\"item_material\":\"Hotdog\"},\"sample_item_index\":3,\"survey_result\":{\"guess_grill_correct\":\"true\",\"thumbs_up_score\":\"5.0\"}},\"124\":{\"meta_data\":{\"grill_type\":\"Charcoal\",\"is_frozen\":\"true\",\"item_material\":\"Hotdog\"},\"sample_item_index\":4,\"survey_result\":{\"guess_grill_correct\":\"true\",\"thumbs_up_score\":\"5.3\"}},\"125\":{\"meta_data\":{\"grill_type\":\"Charcoal\",\"is_frozen\":\"false\",\"item_material\":\"Hotdog\"},\"sample_item_index\":5,\"survey_result\":{\"guess_grill_correct\":\"false\",\"thumbs_up_score\":\"5.1\"}},\"126\":{\"meta_data\":{\"grill_type\":\"Charcoal\",\"is_frozen\":\"true\",\"item_material\":\"Hotdog\"},\"sample_item_index\":6,\"survey_result\":{\"guess_grill_correct\":\"true\",\"thumbs_up_score\":\"5.2\"}},\"127\":{\"meta_data\":{\"grill_type\":\"Charcoal\",\"is_frozen\":\"false\",\"item_material\":\"Hotdog\"},\"sample_item_index\":7,\"survey_result\":{\"guess_grill_correct\":\"true\",\"thumbs_up_score\":\"5.4\"}},\"128\":{\"meta_data\":{\"grill_type\":\"Charcoal\",\"is_frozen\":\"true\",\"item_material\":\"Hotdog\"},\"sample_item_index\":8,\"survey_result\":{\"guess_grill_correct\":\"true\",\"thumbs_up_score\":\"5.2\"}},\"129\":{\"meta_data\":{\"grill_type\":\"Charcoal\",\"is_frozen\":\"false\",\"item_material\":\"Hotdog\"},\"sample_item_index\":9,\"survey_result\":{\"guess_grill_correct\":\"true\",\"thumbs_up_score\":\"5.1\"}},\"13\":{\"meta_data\":{\"grill_type\":\"Propane\",\"is_frozen\":\"false\",\"item_material\":\"Hotdog\"},\"sample_item_index\":13,\"survey_result\":{\"guess_grill_correct\":\"true\",\"thumbs_up_score\":\"1.1\"}},\"130\":{\"meta_data\":{\"grill_type\":\"Charcoal\",\"is_frozen\":\"true\",\"item_material\":\"Hotdog\"},\"sample_item_index\":10,\"survey_result\":{\"guess_grill_correct\":\"true\",\"thumbs_up_score\":\"5.4\"}},\"131\":{\"meta_data\":{\"grill_type\":\"Charcoal\",\"is_frozen\":\"false\",\"item_material\":\"Hotdog\"},\"sample_item_index\":11,\"survey_result\":{\"guess_grill_correct\":\"true\",\"thumbs_up_score\":\"5.2\"}},\"132\":{\"meta_data\":{\"grill_type\":\"Charcoal\",\"is_frozen\":\"true\",\"item_material\":\"Hotdog\"},\"sample_item_index\":12,\"survey_result\":{\"guess_grill_correct\":\"true\",\"thumbs_up_score\":\"5.2\"}},\"133\":{\"meta_data\":{\"grill_type\":\"Charcoal\",\"is_frozen\":\"false\",\"item_material\":\"Hotdog\"},\"sample_item_index\":13,\"survey_result\":{\"guess_grill_correct\":\"true\",\"thumbs_up_score\":\"5.2\"}},\"134\":{\"meta_data\":{\"grill_type\":\"Charcoal\",\"is_frozen\":\"true\",\"item_material\":\"Hotdog\"},\"sample_item_index\":14,\"survey_result\":{\"guess_grill_correct\":\"true\",\"thumbs_up_score\":\"5.1\"}},\"135\":{\"meta_data\":{\"grill_type\":\"Charcoal\",\"is_frozen\":\"false\",\"item_material\":\"Hotdog\"},\"sample_item_index\":15,\"survey_result\":{\"guess_grill_correct\":\"true\",\"thumbs_up_score\":\"5.2\"}},\"136\":{\"meta_data\":{\"grill_type\":\"Charcoal\",\"is_frozen\":\"true\",\"item_material\":\"Hotdog\"},\"sample_item_index\":16,\"survey_result\":{\"guess_grill_correct\":\"true\",\"thumbs_up_score\":\"5.1\"}},\"137\":{\"meta_data\":{\"grill_type\":\"Charcoal\",\"is_frozen\":\"false\",\"item_material\":\"Hotdog\"},\"sample_item_index\":17,\"survey_result\":{\"guess_grill_correct\":\"true\",\"thumbs_up_score\":\"5.3\"}},\"138\":{\"meta_data\":{\"grill_type\":\"Charcoal\",\"is_frozen\":\"true\",\"item_material\":\"Hotdog\"},\"sample_item_index\":18,\"survey_result\":{\"guess_grill_correct\":\"true\",\"thumbs_up_score\":\"5.2\"}},\"139\":{\"meta_data\":{\"grill_type\":\"Charcoal\",\"is_frozen\":\"false\",\"item_material\":\"Hotdog\"},\"sample_item_index\":19,\"survey_result\":{\"guess_grill_correct\":\"true\",\"thumbs_up_score\":\"5.2\"}},\"14\":{\"meta_data\":{\"grill_type\":\"Propane\",\"is_frozen\":\"true\",\"item_material\":\"Hotdog\"},\"sample_item_index\":14,\"survey_result\":{\"guess_grill_correct\":\"true\",\"thumbs_up_score\":\"1.1\"}},\"140\":{\"meta_data\":{\"grill_type\":\"Charcoal\",\"is_frozen\":\"true\",\"item_material\":\"Hotdog\"},\"sample_item_index\":20,\"survey_result\":{\"guess_grill_correct\":\"true\",\"thumbs_up_score\":\"5.3\"}},\"141\":{\"meta_data\":{\"grill_type\":\"Charcoal\",\"is_frozen\":\"false\",\"item_material\":\"Hotdog\"},\"sample_item_index\":21,\"survey_result\":{\"guess_grill_correct\":\"true\",\"thumbs_up_score\":\"5.2\"}},\"142\":{\"meta_data\":{\"grill_type\":\"Charcoal\",\"is_frozen\":\"true\",\"item_material\":\"Hotdog\"},\"sample_item_index\":22,\"survey_result\":{\"guess_grill_correct\":\"true\",\"thumbs_up_score\":\"5.3\"}},\"143\":{\"meta_data\":{\"grill_type\":\"Charcoal\",\"is_frozen\":\"false\",\"item_material\":\"Hotdog\"},\"sample_item_index\":23,\"survey_result\":{\"guess_grill_correct\":\"true\",\"thumbs_up_score\":\"5.0\"}},\"144\":{\"meta_data\":{\"grill_type\":\"Charcoal\",\"is_frozen\":\"true\",\"item_material\":\"Hotdog\"},\"sample_item_index\":24,\"survey_result\":{\"guess_grill_correct\":\"true\",\"thumbs_up_score\":\"5.4\"}},\"145\":{\"meta_data\":{\"grill_type\":\"Charcoal\",\"is_frozen\":\"false\",\"item_material\":\"Hotdog\"},\"sample_item_index\":25,\"survey_result\":{\"guess_grill_correct\":\"true\",\"thumbs_up_score\":\"5.1\"}},\"146\":{\"meta_data\":{\"grill_type\":\"Charcoal\",\"is_frozen\":\"true\",\"item_material\":\"Hotdog\"},\"sample_item_index\":26,\"survey_result\":{\"guess_grill_correct\":\"true\",\"thumbs_up_score\":\"5.4\"}},\"147\":{\"meta_data\":{\"grill_type\":\"Charcoal\",\"is_frozen\":\"false\",\"item_material\":\"Hotdog\"},\"sample_item_index\":27,\"survey_result\":{\"guess_grill_correct\":\"true\",\"thumbs_up_score\":\"5.2\"}},\"148\":{\"meta_data\":{\"grill_type\":\"Charcoal\",\"is_frozen\":\"true\",\"item_material\":\"Hotdog\"},\"sample_item_index\":28,\"survey_result\":{\"guess_grill_correct\":\"true\",\"thumbs_up_score\":\"5.2\"}},\"149\":{\"meta_data\":{\"grill_type\":\"Charcoal\",\"is_frozen\":\"false\",\"item_material\":\"Hotdog\"},\"sample_item_index\":29,\"survey_result\":{\"guess_grill_correct\":\"true\",\"thumbs_up_score\":\"5.3\"}},\"15\":{\"meta_data\":{\"grill_type\":\"Propane\",\"is_frozen\":\"false\",\"item_material\":\"Hotdog\"},\"sample_item_index\":15,\"survey_result\":{\"guess_grill_correct\":\"true\",\"thumbs_up_score\":\"0.4\"}},\"150\":{\"meta_data\":{\"grill_type\":\"Charcoal\",\"is_frozen\":\"true\",\"item_material\":\"Hotdog\"},\"sample_item_index\":30,\"survey_result\":{\"guess_grill_correct\":\"false\",\"thumbs_up_score\":\"5.3\"}},\"151\":{\"meta_data\":{\"grill_type\":\"Charcoal\",\"is_frozen\":\"false\",\"item_material\":\"Hotdog\"},\"sample_item_index\":1,\"survey_result\":{\"guess_grill_correct\":\"true\",\"thumbs_up_score\":\"5.1\"}},\"152\":{\"meta_data\":{\"grill_type\":\"Charcoal\",\"is_frozen\":\"true\",\"item_material\":\"Hotdog\"},\"sample_item_index\":2,\"survey_result\":{\"guess_grill_correct\":\"true\",\"thumbs_up_score\":\"5.0\"}},\"153\":{\"meta_data\":{\"grill_type\":\"Charcoal\",\"is_frozen\":\"false\",\"item_material\":\"Hotdog\"},\"sample_item_index\":3,\"survey_result\":{\"guess_grill_correct\":\"true\",\"thumbs_up_score\":\"5.0\"}},\"154\":{\"meta_data\":{\"grill_type\":\"Charcoal\",\"is_frozen\":\"true\",\"item_material\":\"Hotdog\"},\"sample_item_index\":4,\"survey_result\":{\"guess_grill_correct\":\"true\",\"thumbs_up_score\":\"5.3\"}},\"155\":{\"meta_data\":{\"grill_type\":\"Charcoal\",\"is_frozen\":\"false\",\"item_material\":\"Hotdog\"},\"sample_item_index\":5,\"survey_result\":{\"guess_grill_correct\":\"true\",\"thumbs_up_score\":\"5.3\"}},\"156\":{\"meta_data\":{\"grill_type\":\"Charcoal\",\"is_frozen\":\"true\",\"item_material\":\"Hotdog\"},\"sample_item_index\":6,\"survey_result\":{\"guess_grill_correct\":\"true\",\"thumbs_up_score\":\"5.0\"}},\"157\":{\"meta_data\":{\"grill_type\":\"Charcoal\",\"is_frozen\":\"false\",\"item_material\":\"Hotdog\"},\"sample_item_index\":7,\"survey_result\":{\"guess_grill_correct\":\"true\",\"thumbs_up_score\":\"5.2\"}},\"158\":{\"meta_data\":{\"grill_type\":\"Charcoal\",\"is_frozen\":\"true\",\"item_material\":\"Hotdog\"},\"sample_item_index\":8,\"survey_result\":{\"guess_grill_correct\":\"true\",\"thumbs_up_score\":\"5.1\"}},\"159\":{\"meta_data\":{\"grill_type\":\"Charcoal\",\"is_frozen\":\"false\",\"item_material\":\"Hotdog\"},\"sample_item_index\":9,\"survey_result\":{\"guess_grill_correct\":\"true\",\"thumbs_up_score\":\"5.2\"}},\"16\":{\"meta_data\":{\"grill_type\":\"Propane\",\"is_frozen\":\"true\",\"item_material\":\"Hotdog\"},\"sample_item_index\":16,\"survey_result\":{\"guess_grill_correct\":\"true\",\"thumbs_up_score\":\"0.4\"}},\"160\":{\"meta_data\":{\"grill_type\":\"Charcoal\",\"is_frozen\":\"true\",\"item_material\":\"Hotdog\"},\"sample_item_index\":10,\"survey_result\":{\"guess_grill_correct\":\"true\",\"thumbs_up_score\":\"5.2\"}},\"161\":{\"meta_data\":{\"grill_type\":\"Charcoal\",\"is_frozen\":\"false\",\"item_material\":\"Hotdog\"},\"sample_item_index\":11,\"survey_result\":{\"guess_grill_correct\":\"true\",\"thumbs_up_score\":\"5.3\"}},\"162\":{\"meta_data\":{\"grill_type\":\"Charcoal\",\"is_frozen\":\"true\",\"item_material\":\"Hotdog\"},\"sample_item_index\":12,\"survey_result\":{\"guess_grill_correct\":\"true\",\"thumbs_up_score\":\"5.3\"}},\"163\":{\"meta_data\":{\"grill_type\":\"Charcoal\",\"is_frozen\":\"false\",\"item_material\":\"Hotdog\"},\"sample_item_index\":13,\"survey_result\":{\"guess_grill_correct\":\"true\",\"thumbs_up_score\":\"5.2\"}},\"164\":{\"meta_data\":{\"grill_type\":\"Charcoal\",\"is_frozen\":\"true\",\"item_material\":\"Hotdog\"},\"sample_item_index\":14,\"survey_result\":{\"guess_grill_correct\":\"true\",\"thumbs_up_score\":\"5.2\"}},\"165\":{\"meta_data\":{\"grill_type\":\"Charcoal\",\"is_frozen\":\"false\",\"item_material\":\"Hotdog\"},\"sample_item_index\":15,\"survey_result\":{\"guess_grill_correct\":\"true\",\"thumbs_up_score\":\"5.0\"}},\"166\":{\"meta_data\":{\"grill_type\":\"Charcoal\",\"is_frozen\":\"true\",\"item_material\":\"Hotdog\"},\"sample_item_index\":16,\"survey_result\":{\"guess_grill_correct\":\"true\",\"thumbs_up_score\":\"5.3\"}},\"167\":{\"meta_data\":{\"grill_type\":\"Charcoal\",\"is_frozen\":\"false\",\"item_material\":\"Hotdog\"},\"sample_item_index\":17,\"survey_result\":{\"guess_grill_correct\":\"true\",\"thumbs_up_score\":\"5.3\"}},\"168\":{\"meta_data\":{\"grill_type\":\"Charcoal\",\"is_frozen\":\"true\",\"item_material\":\"Hotdog\"},\"sample_item_index\":18,\"survey_result\":{\"guess_grill_correct\":\"true\",\"thumbs_up_score\":\"5.1\"}},\"169\":{\"meta_data\":{\"grill_type\":\"Charcoal\",\"is_frozen\":\"false\",\"item_material\":\"Hotdog\"},\"sample_item_index\":19,\"survey_result\":{\"guess_grill_correct\":\"true\",\"thumbs_up_score\":\"5.1\"}},\"17\":{\"meta_data\":{\"grill_type\":\"Propane\",\"is_frozen\":\"false\",\"item_material\":\"Hotdog\"},\"sample_item_index\":17,\"survey_result\":{\"guess_grill_correct\":\"true\",\"thumbs_up_score\":\"0.9\"}},\"170\":{\"meta_data\":{\"grill_type\":\"Charcoal\",\"is_frozen\":\"true\",\"item_material\":\"Hotdog\"},\"sample_item_index\":20,\"survey_result\":{\"guess_grill_correct\":\"true\",\"thumbs_up_score\":\"5.2\"}},\"171\":{\"meta_data\":{\"grill_type\":\"Charcoal\",\"is_frozen\":\"false\",\"item_material\":\"Hotdog\"},\"sample_item_index\":21,\"survey_result\":{\"guess_grill_correct\":\"true\",\"thumbs_up_score\":\"5.2\"}},\"172\":{\"meta_data\":{\"grill_type\":\"Charcoal\",\"is_frozen\":\"true\",\"item_material\":\"Hotdog\"},\"sample_item_index\":22,\"survey_result\":{\"guess_grill_correct\":\"true\",\"thumbs_up_score\":\"5.0\"}},\"173\":{\"meta_data\":{\"grill_type\":\"Charcoal\",\"is_frozen\":\"false\",\"item_material\":\"Hotdog\"},\"sample_item_index\":23,\"survey_result\":{\"guess_grill_correct\":\"true\",\"thumbs_up_score\":\"5.1\"}},\"174\":{\"meta_data\":{\"grill_type\":\"Charcoal\",\"is_frozen\":\"true\",\"item_material\":\"Hotdog\"},\"sample_item_index\":24,\"survey_result\":{\"guess_grill_correct\":\"true\",\"thumbs_up_score\":\"5.1\"}},\"175\":{\"meta_data\":{\"grill_type\":\"Charcoal\",\"is_frozen\":\"false\",\"item_material\":\"Hotdog\"},\"sample_item_index\":25,\"survey_result\":{\"guess_grill_correct\":\"true\",\"thumbs_up_score\":\"5.2\"}},\"176\":{\"meta_data\":{\"grill_type\":\"Charcoal\",\"is_frozen\":\"true\",\"item_material\":\"Hotdog\"},\"sample_item_index\":26,\"survey_result\":{\"guess_grill_correct\":\"true\",\"thumbs_up_score\":\"5.0\"}},\"177\":{\"meta_data\":{\"grill_type\":\"Charcoal\",\"is_frozen\":\"false\",\"item_material\":\"Hotdog\"},\"sample_item_index\":27,\"survey_result\":{\"guess_grill_correct\":\"true\",\"thumbs_up_score\":\"5.3\"}},\"178\":{\"meta_data\":{\"grill_type\":\"Charcoal\",\"is_frozen\":\"true\",\"item_material\":\"Hotdog\"},\"sample_item_index\":28,\"survey_result\":{\"guess_grill_correct\":\"true\",\"thumbs_up_score\":\"5.0\"}},\"179\":{\"meta_data\":{\"grill_type\":\"Charcoal\",\"is_frozen\":\"false\",\"item_material\":\"Hotdog\"},\"sample_item_index\":29,\"survey_result\":{\"guess_grill_correct\":\"true\",\"thumbs_up_score\":\"5.2\"}},\"18\":{\"meta_data\":{\"grill_type\":\"Propane\",\"is_frozen\":\"true\",\"item_material\":\"Hotdog\"},\"sample_item_index\":18,\"survey_result\":{\"guess_grill_correct\":\"true\",\"thumbs_up_score\":\"1.1\"}},\"180\":{\"meta_data\":{\"grill_type\":\"Charcoal\",\"is_frozen\":\"true\",\"item_material\":\"Hotdog\"},\"sample_item_index\":30,\"survey_result\":{\"guess_grill_correct\":\"true\",\"thumbs_up_score\":\"5.0\"}},\"181\":{\"meta_data\":{\"grill_type\":\"Charcoal\",\"is_frozen\":\"false\",\"item_material\":\"Hotdog\"},\"sample_item_index\":1,\"survey_result\":{\"guess_grill_correct\":\"true\",\"thumbs_up_score\":\"5.3\"}},\"182\":{\"meta_data\":{\"grill_type\":\"Charcoal\",\"is_frozen\":\"true\",\"item_material\":\"Hotdog\"},\"sample_item_index\":2,\"survey_result\":{\"guess_grill_correct\":\"true\",\"thumbs_up_score\":\"5.0\"}},\"183\":{\"meta_data\":{\"grill_type\":\"Charcoal\",\"is_frozen\":\"false\",\"item_material\":\"Hotdog\"},\"sample_item_index\":3,\"survey_result\":{\"guess_grill_correct\":\"true\",\"thumbs_up_score\":\"5.2\"}},\"184\":{\"meta_data\":{\"grill_type\":\"Charcoal\",\"is_frozen\":\"true\",\"item_material\":\"Hotdog\"},\"sample_item_index\":4,\"survey_result\":{\"guess_grill_correct\":\"true\",\"thumbs_up_score\":\"5.4\"}},\"185\":{\"meta_data\":{\"grill_type\":\"Charcoal\",\"is_frozen\":\"false\",\"item_material\":\"Hotdog\"},\"sample_item_index\":5,\"survey_result\":{\"guess_grill_correct\":\"true\",\"thumbs_up_score\":\"5.5\"}},\"186\":{\"meta_data\":{\"grill_type\":\"Charcoal\",\"is_frozen\":\"true\",\"item_material\":\"Hotdog\"},\"sample_item_index\":6,\"survey_result\":{\"guess_grill_correct\":\"true\",\"thumbs_up_score\":\"5.4\"}},\"187\":{\"meta_data\":{\"grill_type\":\"Charcoal\",\"is_frozen\":\"false\",\"item_material\":\"Hotdog\"},\"sample_item_index\":7,\"survey_result\":{\"guess_grill_correct\":\"true\",\"thumbs_up_score\":\"5.1\"}},\"188\":{\"meta_data\":{\"grill_type\":\"Charcoal\",\"is_frozen\":\"true\",\"item_material\":\"Hotdog\"},\"sample_item_index\":8,\"survey_result\":{\"guess_grill_correct\":\"true\",\"thumbs_up_score\":\"5.0\"}},\"189\":{\"meta_data\":{\"grill_type\":\"Charcoal\",\"is_frozen\":\"false\",\"item_material\":\"Hotdog\"},\"sample_item_index\":9,\"survey_result\":{\"guess_grill_correct\":\"true\",\"thumbs_up_score\":\"5.2\"}},\"19\":{\"meta_data\":{\"grill_type\":\"Propane\",\"is_frozen\":\"false\",\"item_material\":\"Hotdog\"},\"sample_item_index\":19,\"survey_result\":{\"guess_grill_correct\":\"true\",\"thumbs_up_score\":\"0.2\"}},\"190\":{\"meta_data\":{\"grill_type\":\"Charcoal\",\"is_frozen\":\"true\",\"item_material\":\"Hotdog\"},\"sample_item_index\":10,\"survey_result\":{\"guess_grill_correct\":\"true\",\"thumbs_up_score\":\"5.5\"}},\"191\":{\"meta_data\":{\"grill_type\":\"Charcoal\",\"is_frozen\":\"false\",\"item_material\":\"Hotdog\"},\"sample_item_index\":11,\"survey_result\":{\"guess_grill_correct\":\"true\",\"thumbs_up_score\":\"5.3\"}},\"192\":{\"meta_data\":{\"grill_type\":\"Charcoal\",\"is_frozen\":\"true\",\"item_material\":\"Hotdog\"},\"sample_item_index\":12,\"survey_result\":{\"guess_grill_correct\":\"true\",\"thumbs_up_score\":\"5.6\"}},\"193\":{\"meta_data\":{\"grill_type\":\"Charcoal\",\"is_frozen\":\"false\",\"item_material\":\"Hotdog\"},\"sample_item_index\":13,\"survey_result\":{\"guess_grill_correct\":\"true\",\"thumbs_up_score\":\"5.4\"}},\"194\":{\"meta_data\":{\"grill_type\":\"Charcoal\",\"is_frozen\":\"true\",\"item_material\":\"Hotdog\"},\"sample_item_index\":14,\"survey_result\":{\"guess_grill_correct\":\"true\",\"thumbs_up_score\":\"5.1\"}},\"195\":{\"meta_data\":{\"grill_type\":\"Charcoal\",\"is_frozen\":\"false\",\"item_material\":\"Hotdog\"},\"sample_item_index\":15,\"survey_result\":{\"guess_grill_correct\":\"true\",\"thumbs_up_score\":\"5.3\"}},\"196\":{\"meta_data\":{\"grill_type\":\"Charcoal\",\"is_frozen\":\"true\",\"item_material\":\"Hotdog\"},\"sample_item_index\":16,\"survey_result\":{\"guess_grill_correct\":\"true\",\"thumbs_up_score\":\"5.6\"}},\"197\":{\"meta_data\":{\"grill_type\":\"Charcoal\",\"is_frozen\":\"false\",\"item_material\":\"Hotdog\"},\"sample_item_index\":17,\"survey_result\":{\"guess_grill_correct\":\"true\",\"thumbs_up_score\":\"5.5\"}},\"198\":{\"meta_data\":{\"grill_type\":\"Charcoal\",\"is_frozen\":\"true\",\"item_material\":\"Hotdog\"},\"sample_item_index\":18,\"survey_result\":{\"guess_grill_correct\":\"true\",\"thumbs_up_score\":\"5.0\"}},\"199\":{\"meta_data\":{\"grill_type\":\"Charcoal\",\"is_frozen\":\"false\",\"item_material\":\"Hotdog\"},\"sample_item_index\":19,\"survey_result\":{\"guess_grill_correct\":\"true\",\"thumbs_up_score\":\"5.6\"}},\"2\":{\"meta_data\":{\"grill_type\":\"Propane\",\"is_frozen\":\"true\",\"item_material\":\"Hotdog\"},\"sample_item_index\":2,\"survey_result\":{\"guess_grill_correct\":\"true\",\"thumbs_up_score\":\"0.8\"}},\"20\":{\"meta_data\":{\"grill_type\":\"Propane\",\"is_frozen\":\"true\",\"item_material\":\"Hotdog\"},\"sample_item_index\":20,\"survey_result\":{\"guess_grill_correct\":\"true\",\"thumbs_up_score\":\"0.3\"}},\"200\":{\"meta_data\":{\"grill_type\":\"Charcoal\",\"is_frozen\":\"true\",\"item_material\":\"Hotdog\"},\"sample_item_index\":20,\"survey_result\":{\"guess_grill_correct\":\"true\",\"thumbs_up_score\":\"5.2\"}},\"201\":{\"meta_data\":{\"grill_type\":\"Charcoal\",\"is_frozen\":\"false\",\"item_material\":\"Hotdog\"},\"sample_item_index\":21,\"survey_result\":{\"guess_grill_correct\":\"false\",\"thumbs_up_score\":\"5.0\"}},\"202\":{\"meta_data\":{\"grill_type\":\"Charcoal\",\"is_frozen\":\"true\",\"item_material\":\"Hotdog\"},\"sample_item_index\":22,\"survey_result\":{\"guess_grill_correct\":\"true\",\"thumbs_up_score\":\"5.3\"}},\"203\":{\"meta_data\":{\"grill_type\":\"Charcoal\",\"is_frozen\":\"false\",\"item_material\":\"Hotdog\"},\"sample_item_index\":23,\"survey_result\":{\"guess_grill_correct\":\"true\",\"thumbs_up_score\":\"5.6\"}},\"204\":{\"meta_data\":{\"grill_type\":\"Charcoal\",\"is_frozen\":\"true\",\"item_material\":\"Hotdog\"},\"sample_item_index\":24,\"survey_result\":{\"guess_grill_correct\":\"true\",\"thumbs_up_score\":\"5.1\"}},\"205\":{\"meta_data\":{\"grill_type\":\"Charcoal\",\"is_frozen\":\"false\",\"item_material\":\"Hotdog\"},\"sample_item_index\":25,\"survey_result\":{\"guess_grill_correct\":\"true\",\"thumbs_up_score\":\"5.2\"}},\"206\":{\"meta_data\":{\"grill_type\":\"Charcoal\",\"is_frozen\":\"true\",\"item_material\":\"Hotdog\"},\"sample_item_index\":26,\"survey_result\":{\"guess_grill_correct\":\"true\",\"thumbs_up_score\":\"5.5\"}},\"207\":{\"meta_data\":{\"grill_type\":\"Charcoal\",\"is_frozen\":\"false\",\"item_material\":\"Hotdog\"},\"sample_item_index\":27,\"survey_result\":{\"guess_grill_correct\":\"true\",\"thumbs_up_score\":\"5.6\"}},\"208\":{\"meta_data\":{\"grill_type\":\"Charcoal\",\"is_frozen\":\"true\",\"item_material\":\"Hotdog\"},\"sample_item_index\":28,\"survey_result\":{\"guess_grill_correct\":\"true\",\"thumbs_up_score\":\"5.5\"}},\"209\":{\"meta_data\":{\"grill_type\":\"Charcoal\",\"is_frozen\":\"false\",\"item_material\":\"Hotdog\"},\"sample_item_index\":29,\"survey_result\":{\"guess_grill_correct\":\"true\",\"thumbs_up_score\":\"5.0\"}},\"21\":{\"meta_data\":{\"grill_type\":\"Propane\",\"is_frozen\":\"false\",\"item_material\":\"Hotdog\"},\"sample_item_index\":21,\"survey_result\":{\"guess_grill_correct\":\"true\",\"thumbs_up_score\":\"0.7\"}},\"210\":{\"meta_data\":{\"grill_type\":\"Charcoal\",\"is_frozen\":\"true\",\"item_material\":\"Hotdog\"},\"sample_item_index\":30,\"survey_result\":{\"guess_grill_correct\":\"true\",\"thumbs_up_score\":\"5.0\"}},\"211\":{\"meta_data\":{\"grill_type\":\"Charcoal\",\"is_frozen\":\"false\",\"item_material\":\"Hotdog\"},\"sample_item_index\":1,\"survey_result\":{\"guess_grill_correct\":\"true\",\"thumbs_up_score\":\"5.2\"}},\"212\":{\"meta_data\":{\"grill_type\":\"Charcoal\",\"is_frozen\":\"true\",\"item_material\":\"Hotdog\"},\"sample_item_index\":2,\"survey_result\":{\"guess_grill_correct\":\"true\",\"thumbs_up_score\":\"5.2\"}},\"213\":{\"meta_data\":{\"grill_type\":\"Charcoal\",\"is_frozen\":\"false\",\"item_material\":\"Hotdog\"},\"sample_item_index\":3,\"survey_result\":{\"guess_grill_correct\":\"false\",\"thumbs_up_score\":\"5.1\"}},\"214\":{\"meta_data\":{\"grill_type\":\"Charcoal\",\"is_frozen\":\"true\",\"item_material\":\"Hotdog\"},\"sample_item_index\":4,\"survey_result\":{\"guess_grill_correct\":\"true\",\"thumbs_up_score\":\"5.0\"}},\"215\":{\"meta_data\":{\"grill_type\":\"Charcoal\",\"is_frozen\":\"false\",\"item_material\":\"Hotdog\"},\"sample_item_index\":5,\"survey_result\":{\"guess_grill_correct\":\"false\",\"thumbs_up_score\":\"5.2\"}},\"216\":{\"meta_data\":{\"grill_type\":\"Charcoal\",\"is_frozen\":\"true\",\"item_material\":\"Hotdog\"},\"sample_item_index\":6,\"survey_result\":{\"guess_grill_correct\":\"true\",\"thumbs_up_score\":\"5.2\"}},\"217\":{\"meta_data\":{\"grill_type\":\"Charcoal\",\"is_frozen\":\"false\",\"item_material\":\"Hotdog\"},\"sample_item_index\":7,\"survey_result\":{\"guess_grill_correct\":\"false\",\"thumbs_up_score\":\"5.0\"}},\"218\":{\"meta_data\":{\"grill_type\":\"Charcoal\",\"is_frozen\":\"true\",\"item_material\":\"Hotdog\"},\"sample_item_index\":8,\"survey_result\":{\"guess_grill_correct\":\"true\",\"thumbs_up_score\":\"5.2\"}},\"219\":{\"meta_data\":{\"grill_type\":\"Charcoal\",\"is_frozen\":\"false\",\"item_material\":\"Hotdog\"},\"sample_item_index\":9,\"survey_result\":{\"guess_grill_correct\":\"true\",\"thumbs_up_score\":\"5.2\"}},\"22\":{\"meta_data\":{\"grill_type\":\"Propane\",\"is_frozen\":\"true\",\"item_material\":\"Hotdog\"},\"sample_item_index\":22,\"survey_result\":{\"guess_grill_correct\":\"false\",\"thumbs_up_score\":\"0.1\"}},\"220\":{\"meta_data\":{\"grill_type\":\"Charcoal\",\"is_frozen\":\"true\",\"item_material\":\"Hotdog\"},\"sample_item_index\":10,\"survey_result\":{\"guess_grill_correct\":\"true\",\"thumbs_up_score\":\"5.2\"}},\"221\":{\"meta_data\":{\"grill_type\":\"Charcoal\",\"is_frozen\":\"false\",\"item_material\":\"Hotdog\"},\"sample_item_index\":11,\"survey_result\":{\"guess_grill_correct\":\"true\",\"thumbs_up_score\":\"5.0\"}},\"222\":{\"meta_data\":{\"grill_type\":\"Charcoal\",\"is_frozen\":\"true\",\"item_material\":\"Hotdog\"},\"sample_item_index\":12,\"survey_result\":{\"guess_grill_correct\":\"true\",\"thumbs_up_score\":\"5.1\"}},\"223\":{\"meta_data\":{\"grill_type\":\"Charcoal\",\"is_frozen\":\"false\",\"item_material\":\"Hotdog\"},\"sample_item_index\":13,\"survey_result\":{\"guess_grill_correct\":\"true\",\"thumbs_up_score\":\"5.1\"}},\"224\":{\"meta_data\":{\"grill_type\":\"Charcoal\",\"is_frozen\":\"true\",\"item_material\":\"Hotdog\"},\"sample_item_index\":14,\"survey_result\":{\"guess_grill_correct\":\"true\",\"thumbs_up_score\":\"5.1\"}},\"225\":{\"meta_data\":{\"grill_type\":\"Charcoal\",\"is_frozen\":\"false\",\"item_material\":\"Hotdog\"},\"sample_item_index\":15,\"survey_result\":{\"guess_grill_correct\":\"true\",\"thumbs_up_score\":\"5.2\"}},\"226\":{\"meta_data\":{\"grill_type\":\"Charcoal\",\"is_frozen\":\"true\",\"item_material\":\"Hotdog\"},\"sample_item_index\":16,\"survey_result\":{\"guess_grill_correct\":\"true\",\"thumbs_up_score\":\"5.1\"}},\"227\":{\"meta_data\":{\"grill_type\":\"Charcoal\",\"is_frozen\":\"false\",\"item_material\":\"Hotdog\"},\"sample_item_index\":17,\"survey_result\":{\"guess_grill_correct\":\"true\",\"thumbs_up_score\":\"5.2\"}},\"228\":{\"meta_data\":{\"grill_type\":\"Charcoal\",\"is_frozen\":\"true\",\"item_material\":\"Hotdog\"},\"sample_item_index\":18,\"survey_result\":{\"guess_grill_correct\":\"true\",\"thumbs_up_score\":\"5.2\"}},\"229\":{\"meta_data\":{\"grill_type\":\"Charcoal\",\"is_frozen\":\"false\",\"item_material\":\"Hotdog\"},\"sample_item_index\":19,\"survey_result\":{\"guess_grill_correct\":\"true\",\"thumbs_up_score\":\"5.2\"}},\"23\":{\"meta_data\":{\"grill_type\":\"Propane\",\"is_frozen\":\"false\",\"item_material\":\"Hotdog\"},\"sample_item_index\":23,\"survey_result\":{\"guess_grill_correct\":\"true\",\"thumbs_up_score\":\"1.0\"}},\"230\":{\"meta_data\":{\"grill_type\":\"Charcoal\",\"is_frozen\":\"true\",\"item_material\":\"Hotdog\"},\"sample_item_index\":20,\"survey_result\":{\"guess_grill_correct\":\"true\",\"thumbs_up_score\":\"5.0\"}},\"231\":{\"meta_data\":{\"grill_type\":\"Charcoal\",\"is_frozen\":\"false\",\"item_material\":\"Hotdog\"},\"sample_item_index\":21,\"survey_result\":{\"guess_grill_correct\":\"true\",\"thumbs_up_score\":\"5.1\"}},\"232\":{\"meta_data\":{\"grill_type\":\"Charcoal\",\"is_frozen\":\"true\",\"item_material\":\"Hotdog\"},\"sample_item_index\":22,\"survey_result\":{\"guess_grill_correct\":\"true\",\"thumbs_up_score\":\"5.0\"}},\"233\":{\"meta_data\":{\"grill_type\":\"Charcoal\",\"is_frozen\":\"false\",\"item_material\":\"Hotdog\"},\"sample_item_index\":23,\"survey_result\":{\"guess_grill_correct\":\"true\",\"thumbs_up_score\":\"5.1\"}},\"234\":{\"meta_data\":{\"grill_type\":\"Charcoal\",\"is_frozen\":\"true\",\"item_material\":\"Hotdog\"},\"sample_item_index\":24,\"survey_result\":{\"guess_grill_correct\":\"true\",\"thumbs_up_score\":\"5.2\"}},\"235\":{\"meta_data\":{\"grill_type\":\"Charcoal\",\"is_frozen\":\"false\",\"item_material\":\"Hotdog\"},\"sample_item_index\":25,\"survey_result\":{\"guess_grill_correct\":\"true\",\"thumbs_up_score\":\"5.0\"}},\"236\":{\"meta_data\":{\"grill_type\":\"Charcoal\",\"is_frozen\":\"true\",\"item_material\":\"Hotdog\"},\"sample_item_index\":26,\"survey_result\":{\"guess_grill_correct\":\"true\",\"thumbs_up_score\":\"5.0\"}},\"237\":{\"meta_data\":{\"grill_type\":\"Charcoal\",\"is_frozen\":\"false\",\"item_material\":\"Hotdog\"},\"sample_item_index\":27,\"survey_result\":{\"guess_grill_correct\":\"true\",\"thumbs_up_score\":\"5.0\"}},\"238\":{\"meta_data\":{\"grill_type\":\"Charcoal\",\"is_frozen\":\"true\",\"item_material\":\"Hotdog\"},\"sample_item_index\":28,\"survey_result\":{\"guess_grill_correct\":\"true\",\"thumbs_up_score\":\"5.1\"}},\"239\":{\"meta_data\":{\"grill_type\":\"Charcoal\",\"is_frozen\":\"false\",\"item_material\":\"Hotdog\"},\"sample_item_index\":29,\"survey_result\":{\"guess_grill_correct\":\"false\",\"thumbs_up_score\":\"5.1\"}},\"24\":{\"meta_data\":{\"grill_type\":\"Propane\",\"is_frozen\":\"true\",\"item_material\":\"Hotdog\"},\"sample_item_index\":24,\"survey_result\":{\"guess_grill_correct\":\"false\",\"thumbs_up_score\":\"0.7\"}},\"240\":{\"meta_data\":{\"grill_type\":\"Charcoal\",\"is_frozen\":\"true\",\"item_material\":\"Hotdog\"},\"sample_item_index\":30,\"survey_result\":{\"guess_grill_correct\":\"true\",\"thumbs_up_score\":\"5.2\"}},\"241\":{\"meta_data\":{\"grill_type\":\"Propane\",\"is_frozen\":\"false\",\"item_material\":\"Veggie Patty\"},\"sample_item_index\":1,\"survey_result\":{\"guess_grill_correct\":\"true\",\"thumbs_up_score\":\"0.0\"}},\"242\":{\"meta_data\":{\"grill_type\":\"Propane\",\"is_frozen\":\"true\",\"item_material\":\"Veggie Patty\"},\"sample_item_index\":2,\"survey_result\":{\"guess_grill_correct\":\"true\",\"thumbs_up_score\":\"0.9\"}},\"243\":{\"meta_data\":{\"grill_type\":\"Propane\",\"is_frozen\":\"false\",\"item_material\":\"Veggie Patty\"},\"sample_item_index\":3,\"survey_result\":{\"guess_grill_correct\":\"true\",\"thumbs_up_score\":\"0.8\"}},\"244\":{\"meta_data\":{\"grill_type\":\"Propane\",\"is_frozen\":\"true\",\"item_material\":\"Veggie Patty\"},\"sample_item_index\":4,\"survey_result\":{\"guess_grill_correct\":\"true\",\"thumbs_up_score\":\"0.8\"}},\"245\":{\"meta_data\":{\"grill_type\":\"Propane\",\"is_frozen\":\"false\",\"item_material\":\"Veggie Patty\"},\"sample_item_index\":5,\"survey_result\":{\"guess_grill_correct\":\"true\",\"thumbs_up_score\":\"1.1\"}},\"246\":{\"meta_data\":{\"grill_type\":\"Propane\",\"is_frozen\":\"true\",\"item_material\":\"Veggie Patty\"},\"sample_item_index\":6,\"survey_result\":{\"guess_grill_correct\":\"true\",\"thumbs_up_score\":\"1.2\"}},\"247\":{\"meta_data\":{\"grill_type\":\"Propane\",\"is_frozen\":\"false\",\"item_material\":\"Veggie Patty\"},\"sample_item_index\":7,\"survey_result\":{\"guess_grill_correct\":\"true\",\"thumbs_up_score\":\"0.6\"}},\"248\":{\"meta_data\":{\"grill_type\":\"Propane\",\"is_frozen\":\"true\",\"item_material\":\"Veggie Patty\"},\"sample_item_index\":8,\"survey_result\":{\"guess_grill_correct\":\"true\",\"thumbs_up_score\":\"1.0\"}},\"249\":{\"meta_data\":{\"grill_type\":\"Propane\",\"is_frozen\":\"false\",\"item_material\":\"Veggie Patty\"},\"sample_item_index\":9,\"survey_result\":{\"guess_grill_correct\":\"true\",\"thumbs_up_score\":\"0.1\"}},\"25\":{\"meta_data\":{\"grill_type\":\"Propane\",\"is_frozen\":\"false\",\"item_material\":\"Hotdog\"},\"sample_item_index\":25,\"survey_result\":{\"guess_grill_correct\":\"true\",\"thumbs_up_score\":\"0.9\"}},\"250\":{\"meta_data\":{\"grill_type\":\"Propane\",\"is_frozen\":\"true\",\"item_material\":\"Veggie Patty\"},\"sample_item_index\":10,\"survey_result\":{\"guess_grill_correct\":\"true\",\"thumbs_up_score\":\"1.1\"}},\"251\":{\"meta_data\":{\"grill_type\":\"Propane\",\"is_frozen\":\"false\",\"item_material\":\"Veggie Patty\"},\"sample_item_index\":11,\"survey_result\":{\"guess_grill_correct\":\"true\",\"thumbs_up_score\":\"0.2\"}},\"252\":{\"meta_data\":{\"grill_type\":\"Propane\",\"is_frozen\":\"true\",\"item_material\":\"Veggie Patty\"},\"sample_item_index\":12,\"survey_result\":{\"guess_grill_correct\":\"true\",\"thumbs_up_score\":\"1.1\"}},\"253\":{\"meta_data\":{\"grill_type\":\"Propane\",\"is_frozen\":\"false\",\"item_material\":\"Veggie Patty\"},\"sample_item_index\":13,\"survey_result\":{\"guess_grill_correct\":\"true\",\"thumbs_up_score\":\"0.9\"}},\"254\":{\"meta_data\":{\"grill_type\":\"Propane\",\"is_frozen\":\"true\",\"item_material\":\"Veggie Patty\"},\"sample_item_index\":14,\"survey_result\":{\"guess_grill_correct\":\"true\",\"thumbs_up_score\":\"0.4\"}},\"255\":{\"meta_data\":{\"grill_type\":\"Propane\",\"is_frozen\":\"false\",\"item_material\":\"Veggie Patty\"},\"sample_item_index\":15,\"survey_result\":{\"guess_grill_correct\":\"true\",\"thumbs_up_score\":\"0.2\"}},\"256\":{\"meta_data\":{\"grill_type\":\"Propane\",\"is_frozen\":\"true\",\"item_material\":\"Veggie Patty\"},\"sample_item_index\":16,\"survey_result\":{\"guess_grill_correct\":\"true\",\"thumbs_up_score\":\"1.0\"}},\"257\":{\"meta_data\":{\"grill_type\":\"Propane\",\"is_frozen\":\"false\",\"item_material\":\"Veggie Patty\"},\"sample_item_index\":17,\"survey_result\":{\"guess_grill_correct\":\"true\",\"thumbs_up_score\":\"0.6\"}},\"258\":{\"meta_data\":{\"grill_type\":\"Propane\",\"is_frozen\":\"true\",\"item_material\":\"Veggie Patty\"},\"sample_item_index\":18,\"survey_result\":{\"guess_grill_correct\":\"true\",\"thumbs_up_score\":\"0.6\"}},\"259\":{\"meta_data\":{\"grill_type\":\"Propane\",\"is_frozen\":\"false\",\"item_material\":\"Veggie Patty\"},\"sample_item_index\":19,\"survey_result\":{\"guess_grill_correct\":\"true\",\"thumbs_up_score\":\"0.2\"}},\"26\":{\"meta_data\":{\"grill_type\":\"Propane\",\"is_frozen\":\"true\",\"item_material\":\"Hotdog\"},\"sample_item_index\":26,\"survey_result\":{\"guess_grill_correct\":\"true\",\"thumbs_up_score\":\"1.0\"}},\"260\":{\"meta_data\":{\"grill_type\":\"Propane\",\"is_frozen\":\"true\",\"item_material\":\"Veggie Patty\"},\"sample_item_index\":20,\"survey_result\":{\"guess_grill_correct\":\"true\",\"thumbs_up_score\":\"0.6\"}},\"261\":{\"meta_data\":{\"grill_type\":\"Propane\",\"is_frozen\":\"false\",\"item_material\":\"Veggie Patty\"},\"sample_item_index\":21,\"survey_result\":{\"guess_grill_correct\":\"true\",\"thumbs_up_score\":\"0.9\"}},\"262\":{\"meta_data\":{\"grill_type\":\"Propane\",\"is_frozen\":\"true\",\"item_material\":\"Veggie Patty\"},\"sample_item_index\":22,\"survey_result\":{\"guess_grill_correct\":\"true\",\"thumbs_up_score\":\"0.0\"}},\"263\":{\"meta_data\":{\"grill_type\":\"Propane\",\"is_frozen\":\"false\",\"item_material\":\"Veggie Patty\"},\"sample_item_index\":23,\"survey_result\":{\"guess_grill_correct\":\"true\",\"thumbs_up_score\":\"1.2\"}},\"264\":{\"meta_data\":{\"grill_type\":\"Propane\",\"is_frozen\":\"true\",\"item_material\":\"Veggie Patty\"},\"sample_item_index\":24,\"survey_result\":{\"guess_grill_correct\":\"true\",\"thumbs_up_score\":\"0.7\"}},\"265\":{\"meta_data\":{\"grill_type\":\"Propane\",\"is_frozen\":\"false\",\"item_material\":\"Veggie Patty\"},\"sample_item_index\":25,\"survey_result\":{\"guess_grill_correct\":\"true\",\"thumbs_up_score\":\"1.0\"}},\"266\":{\"meta_data\":{\"grill_type\":\"Propane\",\"is_frozen\":\"true\",\"item_material\":\"Veggie Patty\"},\"sample_item_index\":26,\"survey_result\":{\"guess_grill_correct\":\"false\",\"thumbs_up_score\":\"1.0\"}},\"267\":{\"meta_data\":{\"grill_type\":\"Propane\",\"is_frozen\":\"false\",\"item_material\":\"Veggie Patty\"},\"sample_item_index\":27,\"survey_result\":{\"guess_grill_correct\":\"false\",\"thumbs_up_score\":\"1.1\"}},\"268\":{\"meta_data\":{\"grill_type\":\"Propane\",\"is_frozen\":\"true\",\"item_material\":\"Veggie Patty\"},\"sample_item_index\":28,\"survey_result\":{\"guess_grill_correct\":\"true\",\"thumbs_up_score\":\"0.3\"}},\"269\":{\"meta_data\":{\"grill_type\":\"Propane\",\"is_frozen\":\"false\",\"item_material\":\"Veggie Patty\"},\"sample_item_index\":29,\"survey_result\":{\"guess_grill_correct\":\"true\",\"thumbs_up_score\":\"1.1\"}},\"27\":{\"meta_data\":{\"grill_type\":\"Propane\",\"is_frozen\":\"false\",\"item_material\":\"Hotdog\"},\"sample_item_index\":27,\"survey_result\":{\"guess_grill_correct\":\"true\",\"thumbs_up_score\":\"1.1\"}},\"270\":{\"meta_data\":{\"grill_type\":\"Propane\",\"is_frozen\":\"true\",\"item_material\":\"Veggie Patty\"},\"sample_item_index\":30,\"survey_result\":{\"guess_grill_correct\":\"true\",\"thumbs_up_score\":\"0.2\"}},\"271\":{\"meta_data\":{\"grill_type\":\"Propane\",\"is_frozen\":\"false\",\"item_material\":\"Veggie Patty\"},\"sample_item_index\":1,\"survey_result\":{\"guess_grill_correct\":\"true\",\"thumbs_up_score\":\"0.8\"}},\"272\":{\"meta_data\":{\"grill_type\":\"Propane\",\"is_frozen\":\"true\",\"item_material\":\"Veggie Patty\"},\"sample_item_index\":2,\"survey_result\":{\"guess_grill_correct\":\"true\",\"thumbs_up_score\":\"0.8\"}},\"273\":{\"meta_data\":{\"grill_type\":\"Propane\",\"is_frozen\":\"false\",\"item_material\":\"Veggie Patty\"},\"sample_item_index\":3,\"survey_result\":{\"guess_grill_correct\":\"true\",\"thumbs_up_score\":\"0.6\"}},\"274\":{\"meta_data\":{\"grill_type\":\"Propane\",\"is_frozen\":\"true\",\"item_material\":\"Veggie Patty\"},\"sample_item_index\":4,\"survey_result\":{\"guess_grill_correct\":\"true\",\"thumbs_up_score\":\"0.7\"}},\"275\":{\"meta_data\":{\"grill_type\":\"Propane\",\"is_frozen\":\"false\",\"item_material\":\"Veggie Patty\"},\"sample_item_index\":5,\"survey_result\":{\"guess_grill_correct\":\"true\",\"thumbs_up_score\":\"0.4\"}},\"276\":{\"meta_data\":{\"grill_type\":\"Propane\",\"is_frozen\":\"true\",\"item_material\":\"Veggie Patty\"},\"sample_item_index\":6,\"survey_result\":{\"guess_grill_correct\":\"true\",\"thumbs_up_score\":\"0.7\"}},\"277\":{\"meta_data\":{\"grill_type\":\"Propane\",\"is_frozen\":\"false\",\"item_material\":\"Veggie Patty\"},\"sample_item_index\":7,\"survey_result\":{\"guess_grill_correct\":\"true\",\"thumbs_up_score\":\"0.7\"}},\"278\":{\"meta_data\":{\"grill_type\":\"Propane\",\"is_frozen\":\"true\",\"item_material\":\"Veggie Patty\"},\"sample_item_index\":8,\"survey_result\":{\"guess_grill_correct\":\"true\",\"thumbs_up_score\":\"0.1\"}},\"279\":{\"meta_data\":{\"grill_type\":\"Propane\",\"is_frozen\":\"false\",\"item_material\":\"Veggie Patty\"},\"sample_item_index\":9,\"survey_result\":{\"guess_grill_correct\":\"true\",\"thumbs_up_score\":\"0.0\"}},\"28\":{\"meta_data\":{\"grill_type\":\"Propane\",\"is_frozen\":\"true\",\"item_material\":\"Hotdog\"},\"sample_item_index\":28,\"survey_result\":{\"guess_grill_correct\":\"false\",\"thumbs_up_score\":\"0.4\"}},\"280\":{\"meta_data\":{\"grill_type\":\"Propane\",\"is_frozen\":\"true\",\"item_material\":\"Veggie Patty\"},\"sample_item_index\":10,\"survey_result\":{\"guess_grill_correct\":\"false\",\"thumbs_up_score\":\"0.2\"}},\"281\":{\"meta_data\":{\"grill_type\":\"Propane\",\"is_frozen\":\"false\",\"item_material\":\"Veggie Patty\"},\"sample_item_index\":11,\"survey_result\":{\"guess_grill_correct\":\"true\",\"thumbs_up_score\":\"0.2\"}},\"282\":{\"meta_data\":{\"grill_type\":\"Propane\",\"is_frozen\":\"true\",\"item_material\":\"Veggie Patty\"},\"sample_item_index\":12,\"survey_result\":{\"guess_grill_correct\":\"true\",\"thumbs_up_score\":\"0.8\"}},\"283\":{\"meta_data\":{\"grill_type\":\"Propane\",\"is_frozen\":\"false\",\"item_material\":\"Veggie Patty\"},\"sample_item_index\":13,\"survey_result\":{\"guess_grill_correct\":\"true\",\"thumbs_up_score\":\"0.5\"}},\"284\":{\"meta_data\":{\"grill_type\":\"Propane\",\"is_frozen\":\"true\",\"item_material\":\"Veggie Patty\"},\"sample_item_index\":14,\"survey_result\":{\"guess_grill_correct\":\"true\",\"thumbs_up_score\":\"0.4\"}},\"285\":{\"meta_data\":{\"grill_type\":\"Propane\",\"is_frozen\":\"false\",\"item_material\":\"Veggie Patty\"},\"sample_item_index\":15,\"survey_result\":{\"guess_grill_correct\":\"true\",\"thumbs_up_score\":\"0.3\"}},\"286\":{\"meta_data\":{\"grill_type\":\"Propane\",\"is_frozen\":\"true\",\"item_material\":\"Veggie Patty\"},\"sample_item_index\":16,\"survey_result\":{\"guess_grill_correct\":\"true\",\"thumbs_up_score\":\"0.4\"}},\"287\":{\"meta_data\":{\"grill_type\":\"Propane\",\"is_frozen\":\"false\",\"item_material\":\"Veggie Patty\"},\"sample_item_index\":17,\"survey_result\":{\"guess_grill_correct\":\"true\",\"thumbs_up_score\":\"0.5\"}},\"288\":{\"meta_data\":{\"grill_type\":\"Propane\",\"is_frozen\":\"true\",\"item_material\":\"Veggie Patty\"},\"sample_item_index\":18,\"survey_result\":{\"guess_grill_correct\":\"true\",\"thumbs_up_score\":\"0.4\"}},\"289\":{\"meta_data\":{\"grill_type\":\"Propane\",\"is_frozen\":\"false\",\"item_material\":\"Veggie Patty\"},\"sample_item_index\":19,\"survey_result\":{\"guess_grill_correct\":\"true\",\"thumbs_up_score\":\"0.6\"}},\"29\":{\"meta_data\":{\"grill_type\":\"Propane\",\"is_frozen\":\"false\",\"item_material\":\"Hotdog\"},\"sample_item_index\":29,\"survey_result\":{\"guess_grill_correct\":\"true\",\"thumbs_up_score\":\"0.9\"}},\"290\":{\"meta_data\":{\"grill_type\":\"Propane\",\"is_frozen\":\"true\",\"item_material\":\"Veggie Patty\"},\"sample_item_index\":20,\"survey_result\":{\"guess_grill_correct\":\"true\",\"thumbs_up_score\":\"0.1\"}},\"291\":{\"meta_data\":{\"grill_type\":\"Propane\",\"is_frozen\":\"false\",\"item_material\":\"Veggie Patty\"},\"sample_item_index\":21,\"survey_result\":{\"guess_grill_correct\":\"true\",\"thumbs_up_score\":\"0.0\"}},\"292\":{\"meta_data\":{\"grill_type\":\"Propane\",\"is_frozen\":\"true\",\"item_material\":\"Veggie Patty\"},\"sample_item_index\":22,\"survey_result\":{\"guess_grill_correct\":\"true\",\"thumbs_up_score\":\"0.2\"}},\"293\":{\"meta_data\":{\"grill_type\":\"Propane\",\"is_frozen\":\"false\",\"item_material\":\"Veggie Patty\"},\"sample_item_index\":23,\"survey_result\":{\"guess_grill_correct\":\"true\",\"thumbs_up_score\":\"0.2\"}},\"294\":{\"meta_data\":{\"grill_type\":\"Propane\",\"is_frozen\":\"true\",\"item_material\":\"Veggie Patty\"},\"sample_item_index\":24,\"survey_result\":{\"guess_grill_correct\":\"true\",\"thumbs_up_score\":\"1.0\"}},\"295\":{\"meta_data\":{\"grill_type\":\"Propane\",\"is_frozen\":\"false\",\"item_material\":\"Veggie Patty\"},\"sample_item_index\":25,\"survey_result\":{\"guess_grill_correct\":\"false\",\"thumbs_up_score\":\"0.3\"}},\"296\":{\"meta_data\":{\"grill_type\":\"Propane\",\"is_frozen\":\"true\",\"item_material\":\"Veggie Patty\"},\"sample_item_index\":26,\"survey_result\":{\"guess_grill_correct\":\"true\",\"thumbs_up_score\":\"0.1\"}},\"297\":{\"meta_data\":{\"grill_type\":\"Propane\",\"is_frozen\":\"false\",\"item_material\":\"Veggie Patty\"},\"sample_item_index\":27,\"survey_result\":{\"guess_grill_correct\":\"true\",\"thumbs_up_score\":\"0.4\"}},\"298\":{\"meta_data\":{\"grill_type\":\"Propane\",\"is_frozen\":\"true\",\"item_material\":\"Veggie Patty\"},\"sample_item_index\":28,\"survey_result\":{\"guess_grill_correct\":\"true\",\"thumbs_up_score\":\"0.8\"}},\"299\":{\"meta_data\":{\"grill_type\":\"Propane\",\"is_frozen\":\"false\",\"item_material\":\"Veggie Patty\"},\"sample_item_index\":29,\"survey_result\":{\"guess_grill_correct\":\"true\",\"thumbs_up_score\":\"0.9\"}},\"3\":{\"meta_data\":{\"grill_type\":\"Propane\",\"is_frozen\":\"false\",\"item_material\":\"Hotdog\"},\"sample_item_index\":3,\"survey_result\":{\"guess_grill_correct\":\"true\",\"thumbs_up_score\":\"0.6\"}},\"30\":{\"meta_data\":{\"grill_type\":\"Propane\",\"is_frozen\":\"true\",\"item_material\":\"Hotdog\"},\"sample_item_index\":30,\"survey_result\":{\"guess_grill_correct\":\"true\",\"thumbs_up_score\":\"0.8\"}},\"300\":{\"meta_data\":{\"grill_type\":\"Propane\",\"is_frozen\":\"true\",\"item_material\":\"Veggie Patty\"},\"sample_item_index\":30,\"survey_result\":{\"guess_grill_correct\":\"true\",\"thumbs_up_score\":\"0.3\"}},\"301\":{\"meta_data\":{\"grill_type\":\"Propane\",\"is_frozen\":\"false\",\"item_material\":\"Veggie Patty\"},\"sample_item_index\":1,\"survey_result\":{\"guess_grill_correct\":\"true\",\"thumbs_up_score\":\"0.3\"}},\"302\":{\"meta_data\":{\"grill_type\":\"Propane\",\"is_frozen\":\"true\",\"item_material\":\"Veggie Patty\"},\"sample_item_index\":2,\"survey_result\":{\"guess_grill_correct\":\"false\",\"thumbs_up_score\":\"0.1\"}},\"303\":{\"meta_data\":{\"grill_type\":\"Propane\",\"is_frozen\":\"false\",\"item_material\":\"Veggie Patty\"},\"sample_item_index\":3,\"survey_result\":{\"guess_grill_correct\":\"true\",\"thumbs_up_score\":\"0.4\"}},\"304\":{\"meta_data\":{\"grill_type\":\"Propane\",\"is_frozen\":\"true\",\"item_material\":\"Veggie Patty\"},\"sample_item_index\":4,\"survey_result\":{\"guess_grill_correct\":\"true\",\"thumbs_up_score\":\"0.0\"}},\"305\":{\"meta_data\":{\"grill_type\":\"Propane\",\"is_frozen\":\"false\",\"item_material\":\"Veggie Patty\"},\"sample_item_index\":5,\"survey_result\":{\"guess_grill_correct\":\"true\",\"thumbs_up_score\":\"0.5\"}},\"306\":{\"meta_data\":{\"grill_type\":\"Propane\",\"is_frozen\":\"true\",\"item_material\":\"Veggie Patty\"},\"sample_item_index\":6,\"survey_result\":{\"guess_grill_correct\":\"true\",\"thumbs_up_score\":\"0.4\"}},\"307\":{\"meta_data\":{\"grill_type\":\"Propane\",\"is_frozen\":\"false\",\"item_material\":\"Veggie Patty\"},\"sample_item_index\":7,\"survey_result\":{\"guess_grill_correct\":\"false\",\"thumbs_up_score\":\"0.2\"}},\"308\":{\"meta_data\":{\"grill_type\":\"Propane\",\"is_frozen\":\"true\",\"item_material\":\"Veggie Patty\"},\"sample_item_index\":8,\"survey_result\":{\"guess_grill_correct\":\"true\",\"thumbs_up_score\":\"0.1\"}},\"309\":{\"meta_data\":{\"grill_type\":\"Propane\",\"is_frozen\":\"false\",\"item_material\":\"Veggie Patty\"},\"sample_item_index\":9,\"survey_result\":{\"guess_grill_correct\":\"true\",\"thumbs_up_score\":\"0.7\"}},\"31\":{\"meta_data\":{\"grill_type\":\"Propane\",\"is_frozen\":\"false\",\"item_material\":\"Hotdog\"},\"sample_item_index\":1,\"survey_result\":{\"guess_grill_correct\":\"true\",\"thumbs_up_score\":\"1.0\"}},\"310\":{\"meta_data\":{\"grill_type\":\"Propane\",\"is_frozen\":\"true\",\"item_material\":\"Veggie Patty\"},\"sample_item_index\":10,\"survey_result\":{\"guess_grill_correct\":\"false\",\"thumbs_up_score\":\"0.7\"}},\"311\":{\"meta_data\":{\"grill_type\":\"Propane\",\"is_frozen\":\"false\",\"item_material\":\"Veggie Patty\"},\"sample_item_index\":11,\"survey_result\":{\"guess_grill_correct\":\"true\",\"thumbs_up_score\":\"0.7\"}},\"312\":{\"meta_data\":{\"grill_type\":\"Propane\",\"is_frozen\":\"true\",\"item_material\":\"Veggie Patty\"},\"sample_item_index\":12,\"survey_result\":{\"guess_grill_correct\":\"true\",\"thumbs_up_score\":\"0.2\"}},\"313\":{\"meta_data\":{\"grill_type\":\"Propane\",\"is_frozen\":\"false\",\"item_material\":\"Veggie Patty\"},\"sample_item_index\":13,\"survey_result\":{\"guess_grill_correct\":\"true\",\"thumbs_up_score\":\"0.6\"}},\"314\":{\"meta_data\":{\"grill_type\":\"Propane\",\"is_frozen\":\"true\",\"item_material\":\"Veggie Patty\"},\"sample_item_index\":14,\"survey_result\":{\"guess_grill_correct\":\"true\",\"thumbs_up_score\":\"0.6\"}},\"315\":{\"meta_data\":{\"grill_type\":\"Propane\",\"is_frozen\":\"false\",\"item_material\":\"Veggie Patty\"},\"sample_item_index\":15,\"survey_result\":{\"guess_grill_correct\":\"true\",\"thumbs_up_score\":\"0.1\"}},\"316\":{\"meta_data\":{\"grill_type\":\"Propane\",\"is_frozen\":\"true\",\"item_material\":\"Veggie Patty\"},\"sample_item_index\":16,\"survey_result\":{\"guess_grill_correct\":\"true\",\"thumbs_up_score\":\"0.7\"}},\"317\":{\"meta_data\":{\"grill_type\":\"Propane\",\"is_frozen\":\"false\",\"item_material\":\"Veggie Patty\"},\"sample_item_index\":17,\"survey_result\":{\"guess_grill_correct\":\"true\",\"thumbs_up_score\":\"0.2\"}},\"318\":{\"meta_data\":{\"grill_type\":\"Propane\",\"is_frozen\":\"true\",\"item_material\":\"Veggie Patty\"},\"sample_item_index\":18,\"survey_result\":{\"guess_grill_correct\":\"true\",\"thumbs_up_score\":\"0.7\"}},\"319\":{\"meta_data\":{\"grill_type\":\"Propane\",\"is_frozen\":\"false\",\"item_material\":\"Veggie Patty\"},\"sample_item_index\":19,\"survey_result\":{\"guess_grill_correct\":\"false\",\"thumbs_up_score\":\"0.3\"}},\"32\":{\"meta_data\":{\"grill_type\":\"Propane\",\"is_frozen\":\"true\",\"item_material\":\"Hotdog\"},\"sample_item_index\":2,\"survey_result\":{\"guess_grill_correct\":\"true\",\"thumbs_up_score\":\"0.2\"}},\"320\":{\"meta_data\":{\"grill_type\":\"Propane\",\"is_frozen\":\"true\",\"item_material\":\"Veggie Patty\"},\"sample_item_index\":20,\"survey_result\":{\"guess_grill_correct\":\"false\",\"thumbs_up_score\":\"0.7\"}},\"321\":{\"meta_data\":{\"grill_type\":\"Propane\",\"is_frozen\":\"false\",\"item_material\":\"Veggie Patty\"},\"sample_item_index\":21,\"survey_result\":{\"guess_grill_correct\":\"true\",\"thumbs_up_score\":\"0.7\"}},\"322\":{\"meta_data\":{\"grill_type\":\"Propane\",\"is_frozen\":\"true\",\"item_material\":\"Veggie Patty\"},\"sample_item_index\":22,\"survey_result\":{\"guess_grill_correct\":\"false\",\"thumbs_up_score\":\"0.0\"}},\"323\":{\"meta_data\":{\"grill_type\":\"Propane\",\"is_frozen\":\"false\",\"item_material\":\"Veggie Patty\"},\"sample_item_index\":23,\"survey_result\":{\"guess_grill_correct\":\"true\",\"thumbs_up_score\":\"0.1\"}},\"324\":{\"meta_data\":{\"grill_type\":\"Propane\",\"is_frozen\":\"true\",\"item_material\":\"Veggie Patty\"},\"sample_item_index\":24,\"survey_result\":{\"guess_grill_correct\":\"true\",\"thumbs_up_score\":\"0.2\"}},\"325\":{\"meta_data\":{\"grill_type\":\"Propane\",\"is_frozen\":\"false\",\"item_material\":\"Veggie Patty\"},\"sample_item_index\":25,\"survey_result\":{\"guess_grill_correct\":\"true\",\"thumbs_up_score\":\"0.5\"}},\"326\":{\"meta_data\":{\"grill_type\":\"Propane\",\"is_frozen\":\"true\",\"item_material\":\"Veggie Patty\"},\"sample_item_index\":26,\"survey_result\":{\"guess_grill_correct\":\"true\",\"thumbs_up_score\":\"0.3\"}},\"327\":{\"meta_data\":{\"grill_type\":\"Propane\",\"is_frozen\":\"false\",\"item_material\":\"Veggie Patty\"},\"sample_item_index\":27,\"survey_result\":{\"guess_grill_correct\":\"true\",\"thumbs_up_score\":\"0.5\"}},\"328\":{\"meta_data\":{\"grill_type\":\"Propane\",\"is_frozen\":\"true\",\"item_material\":\"Veggie Patty\"},\"sample_item_index\":28,\"survey_result\":{\"guess_grill_correct\":\"true\",\"thumbs_up_score\":\"0.7\"}},\"329\":{\"meta_data\":{\"grill_type\":\"Propane\",\"is_frozen\":\"false\",\"item_material\":\"Veggie Patty\"},\"sample_item_index\":29,\"survey_result\":{\"guess_grill_correct\":\"true\",\"thumbs_up_score\":\"0.6\"}},\"33\":{\"meta_data\":{\"grill_type\":\"Propane\",\"is_frozen\":\"false\",\"item_material\":\"Hotdog\"},\"sample_item_index\":3,\"survey_result\":{\"guess_grill_correct\":\"true\",\"thumbs_up_score\":\"0.7\"}},\"330\":{\"meta_data\":{\"grill_type\":\"Propane\",\"is_frozen\":\"true\",\"item_material\":\"Veggie Patty\"},\"sample_item_index\":30,\"survey_result\":{\"guess_grill_correct\":\"true\",\"thumbs_up_score\":\"0.3\"}},\"331\":{\"meta_data\":{\"grill_type\":\"Propane\",\"is_frozen\":\"false\",\"item_material\":\"Veggie Patty\"},\"sample_item_index\":1,\"survey_result\":{\"guess_grill_correct\":\"true\",\"thumbs_up_score\":\"1.1\"}},\"332\":{\"meta_data\":{\"grill_type\":\"Propane\",\"is_frozen\":\"true\",\"item_material\":\"Veggie Patty\"},\"sample_item_index\":2,\"survey_result\":{\"guess_grill_correct\":\"true\",\"thumbs_up_score\":\"0.1\"}},\"333\":{\"meta_data\":{\"grill_type\":\"Propane\",\"is_frozen\":\"false\",\"item_material\":\"Veggie Patty\"},\"sample_item_index\":3,\"survey_result\":{\"guess_grill_correct\":\"true\",\"thumbs_up_score\":\"0.2\"}},\"334\":{\"meta_data\":{\"grill_type\":\"Propane\",\"is_frozen\":\"true\",\"item_material\":\"Veggie Patty\"},\"sample_item_index\":4,\"survey_result\":{\"guess_grill_correct\":\"true\",\"thumbs_up_score\":\"1.1\"}},\"335\":{\"meta_data\":{\"grill_type\":\"Propane\",\"is_frozen\":\"false\",\"item_material\":\"Veggie Patty\"},\"sample_item_index\":5,\"survey_result\":{\"guess_grill_correct\":\"true\",\"thumbs_up_score\":\"1.2\"}},\"336\":{\"meta_data\":{\"grill_type\":\"Propane\",\"is_frozen\":\"true\",\"item_material\":\"Veggie Patty\"},\"sample_item_index\":6,\"survey_result\":{\"guess_grill_correct\":\"true\",\"thumbs_up_score\":\"0.7\"}},\"337\":{\"meta_data\":{\"grill_type\":\"Propane\",\"is_frozen\":\"false\",\"item_material\":\"Veggie Patty\"},\"sample_item_index\":7,\"survey_result\":{\"guess_grill_correct\":\"false\",\"thumbs_up_score\":\"0.5\"}},\"338\":{\"meta_data\":{\"grill_type\":\"Propane\",\"is_frozen\":\"true\",\"item_material\":\"Veggie Patty\"},\"sample_item_index\":8,\"survey_result\":{\"guess_grill_correct\":\"true\",\"thumbs_up_score\":\"0.0\"}},\"339\":{\"meta_data\":{\"grill_type\":\"Propane\",\"is_frozen\":\"false\",\"item_material\":\"Veggie Patty\"},\"sample_item_index\":9,\"survey_result\":{\"guess_grill_correct\":\"true\",\"thumbs_up_score\":\"1.1\"}},\"34\":{\"meta_data\":{\"grill_type\":\"Propane\",\"is_frozen\":\"true\",\"item_material\":\"Hotdog\"},\"sample_item_index\":4,\"survey_result\":{\"guess_grill_correct\":\"true\",\"thumbs_up_score\":\"0.5\"}},\"340\":{\"meta_data\":{\"grill_type\":\"Propane\",\"is_frozen\":\"true\",\"item_material\":\"Veggie Patty\"},\"sample_item_index\":10,\"survey_result\":{\"guess_grill_correct\":\"true\",\"thumbs_up_score\":\"0.1\"}},\"341\":{\"meta_data\":{\"grill_type\":\"Propane\",\"is_frozen\":\"false\",\"item_material\":\"Veggie Patty\"},\"sample_item_index\":11,\"survey_result\":{\"guess_grill_correct\":\"false\",\"thumbs_up_score\":\"0.7\"}},\"342\":{\"meta_data\":{\"grill_type\":\"Propane\",\"is_frozen\":\"true\",\"item_material\":\"Veggie Patty\"},\"sample_item_index\":12,\"survey_result\":{\"guess_grill_correct\":\"true\",\"thumbs_up_score\":\"0.4\"}},\"343\":{\"meta_data\":{\"grill_type\":\"Propane\",\"is_frozen\":\"false\",\"item_material\":\"Veggie Patty\"},\"sample_item_index\":13,\"survey_result\":{\"guess_grill_correct\":\"true\",\"thumbs_up_score\":\"0.1\"}},\"344\":{\"meta_data\":{\"grill_type\":\"Propane\",\"is_frozen\":\"true\",\"item_material\":\"Veggie Patty\"},\"sample_item_index\":14,\"survey_result\":{\"guess_grill_correct\":\"false\",\"thumbs_up_score\":\"0.1\"}},\"345\":{\"meta_data\":{\"grill_type\":\"Propane\",\"is_frozen\":\"false\",\"item_material\":\"Veggie Patty\"},\"sample_item_index\":15,\"survey_result\":{\"guess_grill_correct\":\"true\",\"thumbs_up_score\":\"0.3\"}},\"346\":{\"meta_data\":{\"grill_type\":\"Propane\",\"is_frozen\":\"true\",\"item_material\":\"Veggie Patty\"},\"sample_item_index\":16,\"survey_result\":{\"guess_grill_correct\":\"true\",\"thumbs_up_score\":\"1.0\"}},\"347\":{\"meta_data\":{\"grill_type\":\"Propane\",\"is_frozen\":\"false\",\"item_material\":\"Veggie Patty\"},\"sample_item_index\":17,\"survey_result\":{\"guess_grill_correct\":\"true\",\"thumbs_up_score\":\"0.4\"}},\"348\":{\"meta_data\":{\"grill_type\":\"Propane\",\"is_frozen\":\"true\",\"item_material\":\"Veggie Patty\"},\"sample_item_index\":18,\"survey_result\":{\"guess_grill_correct\":\"true\",\"thumbs_up_score\":\"0.1\"}},\"349\":{\"meta_data\":{\"grill_type\":\"Propane\",\"is_frozen\":\"false\",\"item_material\":\"Veggie Patty\"},\"sample_item_index\":19,\"survey_result\":{\"guess_grill_correct\":\"true\",\"thumbs_up_score\":\"0.2\"}},\"35\":{\"meta_data\":{\"grill_type\":\"Propane\",\"is_frozen\":\"false\",\"item_material\":\"Hotdog\"},\"sample_item_index\":5,\"survey_result\":{\"guess_grill_correct\":\"true\",\"thumbs_up_score\":\"0.8\"}},\"350\":{\"meta_data\":{\"grill_type\":\"Propane\",\"is_frozen\":\"true\",\"item_material\":\"Veggie Patty\"},\"sample_item_index\":20,\"survey_result\":{\"guess_grill_correct\":\"true\",\"thumbs_up_score\":\"0.8\"}},\"351\":{\"meta_data\":{\"grill_type\":\"Propane\",\"is_frozen\":\"false\",\"item_material\":\"Veggie Patty\"},\"sample_item_index\":21,\"survey_result\":{\"guess_grill_correct\":\"true\",\"thumbs_up_score\":\"0.6\"}},\"352\":{\"meta_data\":{\"grill_type\":\"Propane\",\"is_frozen\":\"true\",\"item_material\":\"Veggie Patty\"},\"sample_item_index\":22,\"survey_result\":{\"guess_grill_correct\":\"true\",\"thumbs_up_score\":\"1.2\"}},\"353\":{\"meta_data\":{\"grill_type\":\"Propane\",\"is_frozen\":\"false\",\"item_material\":\"Veggie Patty\"},\"sample_item_index\":23,\"survey_result\":{\"guess_grill_correct\":\"true\",\"thumbs_up_score\":\"1.1\"}},\"354\":{\"meta_data\":{\"grill_type\":\"Propane\",\"is_frozen\":\"true\",\"item_material\":\"Veggie Patty\"},\"sample_item_index\":24,\"survey_result\":{\"guess_grill_correct\":\"false\",\"thumbs_up_score\":\"1.3\"}},\"355\":{\"meta_data\":{\"grill_type\":\"Propane\",\"is_frozen\":\"false\",\"item_material\":\"Veggie Patty\"},\"sample_item_index\":25,\"survey_result\":{\"guess_grill_correct\":\"true\",\"thumbs_up_score\":\"0.4\"}},\"356\":{\"meta_data\":{\"grill_type\":\"Propane\",\"is_frozen\":\"true\",\"item_material\":\"Veggie Patty\"},\"sample_item_index\":26,\"survey_result\":{\"guess_grill_correct\":\"true\",\"thumbs_up_score\":\"0.9\"}},\"357\":{\"meta_data\":{\"grill_type\":\"Propane\",\"is_frozen\":\"false\",\"item_material\":\"Veggie Patty\"},\"sample_item_index\":27,\"survey_result\":{\"guess_grill_correct\":\"true\",\"thumbs_up_score\":\"1.0\"}},\"358\":{\"meta_data\":{\"grill_type\":\"Propane\",\"is_frozen\":\"true\",\"item_material\":\"Veggie Patty\"},\"sample_item_index\":28,\"survey_result\":{\"guess_grill_correct\":\"true\",\"thumbs_up_score\":\"0.3\"}},\"359\":{\"meta_data\":{\"grill_type\":\"Propane\",\"is_frozen\":\"false\",\"item_material\":\"Veggie Patty\"},\"sample_item_index\":29,\"survey_result\":{\"guess_grill_correct\":\"true\",\"thumbs_up_score\":\"0.2\"}},\"36\":{\"meta_data\":{\"grill_type\":\"Propane\",\"is_frozen\":\"true\",\"item_material\":\"Hotdog\"},\"sample_item_index\":6,\"survey_result\":{\"guess_grill_correct\":\"true\",\"thumbs_up_score\":\"0.4\"}},\"360\":{\"meta_data\":{\"grill_type\":\"Propane\",\"is_frozen\":\"true\",\"item_material\":\"Veggie Patty\"},\"sample_item_index\":30,\"survey_result\":{\"guess_grill_correct\":\"true\",\"thumbs_up_score\":\"1.0\"}},\"361\":{\"meta_data\":{\"grill_type\":\"Charcoal\",\"is_frozen\":\"false\",\"item_material\":\"Veggie Patty\"},\"sample_item_index\":1,\"survey_result\":{\"guess_grill_correct\":\"true\",\"thumbs_up_score\":\"0.3\"}},\"362\":{\"meta_data\":{\"grill_type\":\"Charcoal\",\"is_frozen\":\"true\",\"item_material\":\"Veggie Patty\"},\"sample_item_index\":2,\"survey_result\":{\"guess_grill_correct\":\"true\",\"thumbs_up_score\":\"0.3\"}},\"363\":{\"meta_data\":{\"grill_type\":\"Charcoal\",\"is_frozen\":\"false\",\"item_material\":\"Veggie Patty\"},\"sample_item_index\":3,\"survey_result\":{\"guess_grill_correct\":\"true\",\"thumbs_up_score\":\"0.3\"}},\"364\":{\"meta_data\":{\"grill_type\":\"Charcoal\",\"is_frozen\":\"true\",\"item_material\":\"Veggie Patty\"},\"sample_item_index\":4,\"survey_result\":{\"guess_grill_correct\":\"true\",\"thumbs_up_score\":\"0.3\"}},\"365\":{\"meta_data\":{\"grill_type\":\"Charcoal\",\"is_frozen\":\"false\",\"item_material\":\"Veggie Patty\"},\"sample_item_index\":5,\"survey_result\":{\"guess_grill_correct\":\"true\",\"thumbs_up_score\":\"0.0\"}},\"366\":{\"meta_data\":{\"grill_type\":\"Charcoal\",\"is_frozen\":\"true\",\"item_material\":\"Veggie Patty\"},\"sample_item_index\":6,\"survey_result\":{\"guess_grill_correct\":\"true\",\"thumbs_up_score\":\"0.0\"}},\"367\":{\"meta_data\":{\"grill_type\":\"Charcoal\",\"is_frozen\":\"false\",\"item_material\":\"Veggie Patty\"},\"sample_item_index\":7,\"survey_result\":{\"guess_grill_correct\":\"true\",\"thumbs_up_score\":\"0.2\"}},\"368\":{\"meta_data\":{\"grill_type\":\"Charcoal\",\"is_frozen\":\"true\",\"item_material\":\"Veggie Patty\"},\"sample_item_index\":8,\"survey_result\":{\"guess_grill_correct\":\"true\",\"thumbs_up_score\":\"0.1\"}},\"369\":{\"meta_data\":{\"grill_type\":\"Charcoal\",\"is_frozen\":\"false\",\"item_material\":\"Veggie Patty\"},\"sample_item_index\":9,\"survey_result\":{\"guess_grill_correct\":\"true\",\"thumbs_up_score\":\"0.0\"}},\"37\":{\"meta_data\":{\"grill_type\":\"Propane\",\"is_frozen\":\"false\",\"item_material\":\"Hotdog\"},\"sample_item_index\":7,\"survey_result\":{\"guess_grill_correct\":\"true\",\"thumbs_up_score\":\"0.2\"}},\"370\":{\"meta_data\":{\"grill_type\":\"Charcoal\",\"is_frozen\":\"true\",\"item_material\":\"Veggie Patty\"},\"sample_item_index\":10,\"survey_result\":{\"guess_grill_correct\":\"true\",\"thumbs_up_score\":\"0.0\"}},\"371\":{\"meta_data\":{\"grill_type\":\"Charcoal\",\"is_frozen\":\"false\",\"item_material\":\"Veggie Patty\"},\"sample_item_index\":11,\"survey_result\":{\"guess_grill_correct\":\"true\",\"thumbs_up_score\":\"0.1\"}},\"372\":{\"meta_data\":{\"grill_type\":\"Charcoal\",\"is_frozen\":\"true\",\"item_material\":\"Veggie Patty\"},\"sample_item_index\":12,\"survey_result\":{\"guess_grill_correct\":\"true\",\"thumbs_up_score\":\"0.4\"}},\"373\":{\"meta_data\":{\"grill_type\":\"Charcoal\",\"is_frozen\":\"false\",\"item_material\":\"Veggie Patty\"},\"sample_item_index\":13,\"survey_result\":{\"guess_grill_correct\":\"false\",\"thumbs_up_score\":\"0.0\"}},\"374\":{\"meta_data\":{\"grill_type\":\"Charcoal\",\"is_frozen\":\"true\",\"item_material\":\"Veggie Patty\"},\"sample_item_index\":14,\"survey_result\":{\"guess_grill_correct\":\"true\",\"thumbs_up_score\":\"0.3\"}},\"375\":{\"meta_data\":{\"grill_type\":\"Charcoal\",\"is_frozen\":\"false\",\"item_material\":\"Veggie Patty\"},\"sample_item_index\":15,\"survey_result\":{\"guess_grill_correct\":\"true\",\"thumbs_up_score\":\"0.1\"}},\"376\":{\"meta_data\":{\"grill_type\":\"Charcoal\",\"is_frozen\":\"true\",\"item_material\":\"Veggie Patty\"},\"sample_item_index\":16,\"survey_result\":{\"guess_grill_correct\":\"true\",\"thumbs_up_score\":\"0.3\"}},\"377\":{\"meta_data\":{\"grill_type\":\"Charcoal\",\"is_frozen\":\"false\",\"item_material\":\"Veggie Patty\"},\"sample_item_index\":17,\"survey_result\":{\"guess_grill_correct\":\"true\",\"thumbs_up_score\":\"0.2\"}},\"378\":{\"meta_data\":{\"grill_type\":\"Charcoal\",\"is_frozen\":\"true\",\"item_material\":\"Veggie Patty\"},\"sample_item_index\":18,\"survey_result\":{\"guess_grill_correct\":\"true\",\"thumbs_up_score\":\"0.1\"}},\"379\":{\"meta_data\":{\"grill_type\":\"Charcoal\",\"is_frozen\":\"false\",\"item_material\":\"Veggie Patty\"},\"sample_item_index\":19,\"survey_result\":{\"guess_grill_correct\":\"true\",\"thumbs_up_score\":\"0.3\"}},\"38\":{\"meta_data\":{\"grill_type\":\"Propane\",\"is_frozen\":\"true\",\"item_material\":\"Hotdog\"},\"sample_item_index\":8,\"survey_result\":{\"guess_grill_correct\":\"true\",\"thumbs_up_score\":\"0.3\"}},\"380\":{\"meta_data\":{\"grill_type\":\"Charcoal\",\"is_frozen\":\"true\",\"item_material\":\"Veggie Patty\"},\"sample_item_index\":20,\"survey_result\":{\"guess_grill_correct\":\"true\",\"thumbs_up_score\":\"0.4\"}},\"381\":{\"meta_data\":{\"grill_type\":\"Charcoal\",\"is_frozen\":\"false\",\"item_material\":\"Veggie Patty\"},\"sample_item_index\":21,\"survey_result\":{\"guess_grill_correct\":\"false\",\"thumbs_up_score\":\"0.3\"}},\"382\":{\"meta_data\":{\"grill_type\":\"Charcoal\",\"is_frozen\":\"true\",\"item_material\":\"Veggie Patty\"},\"sample_item_index\":22,\"survey_result\":{\"guess_grill_correct\":\"true\",\"thumbs_up_score\":\"0.4\"}},\"383\":{\"meta_data\":{\"grill_type\":\"Charcoal\",\"is_frozen\":\"false\",\"item_material\":\"Veggie Patty\"},\"sample_item_index\":23,\"survey_result\":{\"guess_grill_correct\":\"true\",\"thumbs_up_score\":\"0.3\"}},\"384\":{\"meta_data\":{\"grill_type\":\"Charcoal\",\"is_frozen\":\"true\",\"item_material\":\"Veggie Patty\"},\"sample_item_index\":24,\"survey_result\":{\"guess_grill_correct\":\"true\",\"thumbs_up_score\":\"0.1\"}},\"385\":{\"meta_data\":{\"grill_type\":\"Charcoal\",\"is_frozen\":\"false\",\"item_material\":\"Veggie Patty\"},\"sample_item_index\":25,\"survey_result\":{\"guess_grill_correct\":\"true\",\"thumbs_up_score\":\"0.0\"}},\"386\":{\"meta_data\":{\"grill_type\":\"Charcoal\",\"is_frozen\":\"true\",\"item_material\":\"Veggie Patty\"},\"sample_item_index\":26,\"survey_result\":{\"guess_grill_correct\":\"true\",\"thumbs_up_score\":\"0.0\"}},\"387\":{\"meta_data\":{\"grill_type\":\"Charcoal\",\"is_frozen\":\"false\",\"item_material\":\"Veggie Patty\"},\"sample_item_index\":27,\"survey_result\":{\"guess_grill_correct\":\"true\",\"thumbs_up_score\":\"0.0\"}},\"388\":{\"meta_data\":{\"grill_type\":\"Charcoal\",\"is_frozen\":\"true\",\"item_material\":\"Veggie Patty\"},\"sample_item_index\":28,\"survey_result\":{\"guess_grill_correct\":\"true\",\"thumbs_up_score\":\"0.0\"}},\"389\":{\"meta_data\":{\"grill_type\":\"Charcoal\",\"is_frozen\":\"false\",\"item_material\":\"Veggie Patty\"},\"sample_item_index\":29,\"survey_result\":{\"guess_grill_correct\":\"true\",\"thumbs_up_score\":\"0.4\"}},\"39\":{\"meta_data\":{\"grill_type\":\"Propane\",\"is_frozen\":\"false\",\"item_material\":\"Hotdog\"},\"sample_item_index\":9,\"survey_result\":{\"guess_grill_correct\":\"true\",\"thumbs_up_score\":\"0.2\"}},\"390\":{\"meta_data\":{\"grill_type\":\"Charcoal\",\"is_frozen\":\"true\",\"item_material\":\"Veggie Patty\"},\"sample_item_index\":30,\"survey_result\":{\"guess_grill_correct\":\"true\",\"thumbs_up_score\":\"0.2\"}},\"391\":{\"meta_data\":{\"grill_type\":\"Charcoal\",\"is_frozen\":\"false\",\"item_material\":\"Veggie Patty\"},\"sample_item_index\":1,\"survey_result\":{\"guess_grill_correct\":\"true\",\"thumbs_up_score\":\"0.4\"}},\"392\":{\"meta_data\":{\"grill_type\":\"Charcoal\",\"is_frozen\":\"true\",\"item_material\":\"Veggie Patty\"},\"sample_item_index\":2,\"survey_result\":{\"guess_grill_correct\":\"true\",\"thumbs_up_score\":\"0.1\"}},\"393\":{\"meta_data\":{\"grill_type\":\"Charcoal\",\"is_frozen\":\"false\",\"item_material\":\"Veggie Patty\"},\"sample_item_index\":3,\"survey_result\":{\"guess_grill_correct\":\"true\",\"thumbs_up_score\":\"0.4\"}},\"394\":{\"meta_data\":{\"grill_type\":\"Charcoal\",\"is_frozen\":\"true\",\"item_material\":\"Veggie Patty\"},\"sample_item_index\":4,\"survey_result\":{\"guess_grill_correct\":\"true\",\"thumbs_up_score\":\"0.0\"}},\"395\":{\"meta_data\":{\"grill_type\":\"Charcoal\",\"is_frozen\":\"false\",\"item_material\":\"Veggie Patty\"},\"sample_item_index\":5,\"survey_result\":{\"guess_grill_correct\":\"true\",\"thumbs_up_score\":\"0.2\"}},\"396\":{\"meta_data\":{\"grill_type\":\"Charcoal\",\"is_frozen\":\"true\",\"item_material\":\"Veggie Patty\"},\"sample_item_index\":6,\"survey_result\":{\"guess_grill_correct\":\"true\",\"thumbs_up_score\":\"0.1\"}},\"397\":{\"meta_data\":{\"grill_type\":\"Charcoal\",\"is_frozen\":\"false\",\"item_material\":\"Veggie Patty\"},\"sample_item_index\":7,\"survey_result\":{\"guess_grill_correct\":\"true\",\"thumbs_up_score\":\"0.0\"}},\"398\":{\"meta_data\":{\"grill_type\":\"Charcoal\",\"is_frozen\":\"true\",\"item_material\":\"Veggie Patty\"},\"sample_item_index\":8,\"survey_result\":{\"guess_grill_correct\":\"true\",\"thumbs_up_score\":\"0.0\"}},\"399\":{\"meta_data\":{\"grill_type\":\"Charcoal\",\"is_frozen\":\"false\",\"item_material\":\"Veggie Patty\"},\"sample_item_index\":9,\"survey_result\":{\"guess_grill_correct\":\"true\",\"thumbs_up_score\":\"0.0\"}},\"4\":{\"meta_data\":{\"grill_type\":\"Propane\",\"is_frozen\":\"true\",\"item_material\":\"Hotdog\"},\"sample_item_index\":4,\"survey_result\":{\"guess_grill_correct\":\"false\",\"thumbs_up_score\":\"0.0\"}},\"40\":{\"meta_data\":{\"grill_type\":\"Propane\",\"is_frozen\":\"true\",\"item_material\":\"Hotdog\"},\"sample_item_index\":10,\"survey_result\":{\"guess_grill_correct\":\"true\",\"thumbs_up_score\":\"0.9\"}},\"400\":{\"meta_data\":{\"grill_type\":\"Charcoal\",\"is_frozen\":\"true\",\"item_material\":\"Veggie Patty\"},\"sample_item_index\":10,\"survey_result\":{\"guess_grill_correct\":\"false\",\"thumbs_up_score\":\"0.4\"}},\"401\":{\"meta_data\":{\"grill_type\":\"Charcoal\",\"is_frozen\":\"false\",\"item_material\":\"Veggie Patty\"},\"sample_item_index\":11,\"survey_result\":{\"guess_grill_correct\":\"true\",\"thumbs_up_score\":\"0.0\"}},\"402\":{\"meta_data\":{\"grill_type\":\"Charcoal\",\"is_frozen\":\"true\",\"item_material\":\"Veggie Patty\"},\"sample_item_index\":12,\"survey_result\":{\"guess_grill_correct\":\"false\",\"thumbs_up_score\":\"0.0\"}},\"403\":{\"meta_data\":{\"grill_type\":\"Charcoal\",\"is_frozen\":\"false\",\"item_material\":\"Veggie Patty\"},\"sample_item_index\":13,\"survey_result\":{\"guess_grill_correct\":\"false\",\"thumbs_up_score\":\"0.1\"}},\"404\":{\"meta_data\":{\"grill_type\":\"Charcoal\",\"is_frozen\":\"true\",\"item_material\":\"Veggie Patty\"},\"sample_item_index\":14,\"survey_result\":{\"guess_grill_correct\":\"true\",\"thumbs_up_score\":\"0.0\"}},\"405\":{\"meta_data\":{\"grill_type\":\"Charcoal\",\"is_frozen\":\"false\",\"item_material\":\"Veggie Patty\"},\"sample_item_index\":15,\"survey_result\":{\"guess_grill_correct\":\"true\",\"thumbs_up_score\":\"0.0\"}},\"406\":{\"meta_data\":{\"grill_type\":\"Charcoal\",\"is_frozen\":\"true\",\"item_material\":\"Veggie Patty\"},\"sample_item_index\":16,\"survey_result\":{\"guess_grill_correct\":\"true\",\"thumbs_up_score\":\"0.1\"}},\"407\":{\"meta_data\":{\"grill_type\":\"Charcoal\",\"is_frozen\":\"false\",\"item_material\":\"Veggie Patty\"},\"sample_item_index\":17,\"survey_result\":{\"guess_grill_correct\":\"true\",\"thumbs_up_score\":\"0.4\"}},\"408\":{\"meta_data\":{\"grill_type\":\"Charcoal\",\"is_frozen\":\"true\",\"item_material\":\"Veggie Patty\"},\"sample_item_index\":18,\"survey_result\":{\"guess_grill_correct\":\"true\",\"thumbs_up_score\":\"0.3\"}},\"409\":{\"meta_data\":{\"grill_type\":\"Charcoal\",\"is_frozen\":\"false\",\"item_material\":\"Veggie Patty\"},\"sample_item_index\":19,\"survey_result\":{\"guess_grill_correct\":\"true\",\"thumbs_up_score\":\"0.4\"}},\"41\":{\"meta_data\":{\"grill_type\":\"Propane\",\"is_frozen\":\"false\",\"item_material\":\"Hotdog\"},\"sample_item_index\":11,\"survey_result\":{\"guess_grill_correct\":\"true\",\"thumbs_up_score\":\"0.9\"}},\"410\":{\"meta_data\":{\"grill_type\":\"Charcoal\",\"is_frozen\":\"true\",\"item_material\":\"Veggie Patty\"},\"sample_item_index\":20,\"survey_result\":{\"guess_grill_correct\":\"true\",\"thumbs_up_score\":\"0.3\"}},\"411\":{\"meta_data\":{\"grill_type\":\"Charcoal\",\"is_frozen\":\"false\",\"item_material\":\"Veggie Patty\"},\"sample_item_index\":21,\"survey_result\":{\"guess_grill_correct\":\"true\",\"thumbs_up_score\":\"0.0\"}},\"412\":{\"meta_data\":{\"grill_type\":\"Charcoal\",\"is_frozen\":\"true\",\"item_material\":\"Veggie Patty\"},\"sample_item_index\":22,\"survey_result\":{\"guess_grill_correct\":\"true\",\"thumbs_up_score\":\"0.1\"}},\"413\":{\"meta_data\":{\"grill_type\":\"Charcoal\",\"is_frozen\":\"false\",\"item_material\":\"Veggie Patty\"},\"sample_item_index\":23,\"survey_result\":{\"guess_grill_correct\":\"true\",\"thumbs_up_score\":\"0.0\"}},\"414\":{\"meta_data\":{\"grill_type\":\"Charcoal\",\"is_frozen\":\"true\",\"item_material\":\"Veggie Patty\"},\"sample_item_index\":24,\"survey_result\":{\"guess_grill_correct\":\"true\",\"thumbs_up_score\":\"0.1\"}},\"415\":{\"meta_data\":{\"grill_type\":\"Charcoal\",\"is_frozen\":\"false\",\"item_material\":\"Veggie Patty\"},\"sample_item_index\":25,\"survey_result\":{\"guess_grill_correct\":\"true\",\"thumbs_up_score\":\"0.3\"}},\"416\":{\"meta_data\":{\"grill_type\":\"Charcoal\",\"is_frozen\":\"true\",\"item_material\":\"Veggie Patty\"},\"sample_item_index\":26,\"survey_result\":{\"guess_grill_correct\":\"true\",\"thumbs_up_score\":\"0.0\"}},\"417\":{\"meta_data\":{\"grill_type\":\"Charcoal\",\"is_frozen\":\"false\",\"item_material\":\"Veggie Patty\"},\"sample_item_index\":27,\"survey_result\":{\"guess_grill_correct\":\"true\",\"thumbs_up_score\":\"0.1\"}},\"418\":{\"meta_data\":{\"grill_type\":\"Charcoal\",\"is_frozen\":\"true\",\"item_material\":\"Veggie Patty\"},\"sample_item_index\":28,\"survey_result\":{\"guess_grill_correct\":\"true\",\"thumbs_up_score\":\"0.0\"}},\"419\":{\"meta_data\":{\"grill_type\":\"Charcoal\",\"is_frozen\":\"false\",\"item_material\":\"Veggie Patty\"},\"sample_item_index\":29,\"survey_result\":{\"guess_grill_correct\":\"true\",\"thumbs_up_score\":\"0.1\"}},\"42\":{\"meta_data\":{\"grill_type\":\"Propane\",\"is_frozen\":\"true\",\"item_material\":\"Hotdog\"},\"sample_item_index\":12,\"survey_result\":{\"guess_grill_correct\":\"true\",\"thumbs_up_score\":\"0.9\"}},\"420\":{\"meta_data\":{\"grill_type\":\"Charcoal\",\"is_frozen\":\"true\",\"item_material\":\"Veggie Patty\"},\"sample_item_index\":30,\"survey_result\":{\"guess_grill_correct\":\"true\",\"thumbs_up_score\":\"0.2\"}},\"421\":{\"meta_data\":{\"grill_type\":\"Charcoal\",\"is_frozen\":\"false\",\"item_material\":\"Veggie Patty\"},\"sample_item_index\":1,\"survey_result\":{\"guess_grill_correct\":\"true\",\"thumbs_up_score\":\"0.1\"}},\"422\":{\"meta_data\":{\"grill_type\":\"Charcoal\",\"is_frozen\":\"true\",\"item_material\":\"Veggie Patty\"},\"sample_item_index\":2,\"survey_result\":{\"guess_grill_correct\":\"true\",\"thumbs_up_score\":\"0.1\"}},\"423\":{\"meta_data\":{\"grill_type\":\"Charcoal\",\"is_frozen\":\"false\",\"item_material\":\"Veggie Patty\"},\"sample_item_index\":3,\"survey_result\":{\"guess_grill_correct\":\"true\",\"thumbs_up_score\":\"0.0\"}},\"424\":{\"meta_data\":{\"grill_type\":\"Charcoal\",\"is_frozen\":\"true\",\"item_material\":\"Veggie Patty\"},\"sample_item_index\":4,\"survey_result\":{\"guess_grill_correct\":\"true\",\"thumbs_up_score\":\"0.0\"}},\"425\":{\"meta_data\":{\"grill_type\":\"Charcoal\",\"is_frozen\":\"false\",\"item_material\":\"Veggie Patty\"},\"sample_item_index\":5,\"survey_result\":{\"guess_grill_correct\":\"false\",\"thumbs_up_score\":\"0.0\"}},\"426\":{\"meta_data\":{\"grill_type\":\"Charcoal\",\"is_frozen\":\"true\",\"item_material\":\"Veggie Patty\"},\"sample_item_index\":6,\"survey_result\":{\"guess_grill_correct\":\"true\",\"thumbs_up_score\":\"0.0\"}},\"427\":{\"meta_data\":{\"grill_type\":\"Charcoal\",\"is_frozen\":\"false\",\"item_material\":\"Veggie Patty\"},\"sample_item_index\":7,\"survey_result\":{\"guess_grill_correct\":\"true\",\"thumbs_up_score\":\"0.0\"}},\"428\":{\"meta_data\":{\"grill_type\":\"Charcoal\",\"is_frozen\":\"true\",\"item_material\":\"Veggie Patty\"},\"sample_item_index\":8,\"survey_result\":{\"guess_grill_correct\":\"true\",\"thumbs_up_score\":\"0.0\"}},\"429\":{\"meta_data\":{\"grill_type\":\"Charcoal\",\"is_frozen\":\"false\",\"item_material\":\"Veggie Patty\"},\"sample_item_index\":9,\"survey_result\":{\"guess_grill_correct\":\"true\",\"thumbs_up_score\":\"0.0\"}},\"43\":{\"meta_data\":{\"grill_type\":\"Propane\",\"is_frozen\":\"false\",\"item_material\":\"Hotdog\"},\"sample_item_index\":13,\"survey_result\":{\"guess_grill_correct\":\"true\",\"thumbs_up_score\":\"0.6\"}},\"430\":{\"meta_data\":{\"grill_type\":\"Charcoal\",\"is_frozen\":\"true\",\"item_material\":\"Veggie Patty\"},\"sample_item_index\":10,\"survey_result\":{\"guess_grill_correct\":\"true\",\"thumbs_up_score\":\"0.1\"}},\"431\":{\"meta_data\":{\"grill_type\":\"Charcoal\",\"is_frozen\":\"false\",\"item_material\":\"Veggie Patty\"},\"sample_item_index\":11,\"survey_result\":{\"guess_grill_correct\":\"true\",\"thumbs_up_score\":\"0.0\"}},\"432\":{\"meta_data\":{\"grill_type\":\"Charcoal\",\"is_frozen\":\"true\",\"item_material\":\"Veggie Patty\"},\"sample_item_index\":12,\"survey_result\":{\"guess_grill_correct\":\"false\",\"thumbs_up_score\":\"0.0\"}},\"433\":{\"meta_data\":{\"grill_type\":\"Charcoal\",\"is_frozen\":\"false\",\"item_material\":\"Veggie Patty\"},\"sample_item_index\":13,\"survey_result\":{\"guess_grill_correct\":\"true\",\"thumbs_up_score\":\"0.0\"}},\"434\":{\"meta_data\":{\"grill_type\":\"Charcoal\",\"is_frozen\":\"true\",\"item_material\":\"Veggie Patty\"},\"sample_item_index\":14,\"survey_result\":{\"guess_grill_correct\":\"true\",\"thumbs_up_score\":\"0.0\"}},\"435\":{\"meta_data\":{\"grill_type\":\"Charcoal\",\"is_frozen\":\"false\",\"item_material\":\"Veggie Patty\"},\"sample_item_index\":15,\"survey_result\":{\"guess_grill_correct\":\"true\",\"thumbs_up_score\":\"0.0\"}},\"436\":{\"meta_data\":{\"grill_type\":\"Charcoal\",\"is_frozen\":\"true\",\"item_material\":\"Veggie Patty\"},\"sample_item_index\":16,\"survey_result\":{\"guess_grill_correct\":\"true\",\"thumbs_up_score\":\"0.0\"}},\"437\":{\"meta_data\":{\"grill_type\":\"Charcoal\",\"is_frozen\":\"false\",\"item_material\":\"Veggie Patty\"},\"sample_item_index\":17,\"survey_result\":{\"guess_grill_correct\":\"true\",\"thumbs_up_score\":\"0.1\"}},\"438\":{\"meta_data\":{\"grill_type\":\"Charcoal\",\"is_frozen\":\"true\",\"item_material\":\"Veggie Patty\"},\"sample_item_index\":18,\"survey_result\":{\"guess_grill_correct\":\"true\",\"thumbs_up_score\":\"0.0\"}},\"439\":{\"meta_data\":{\"grill_type\":\"Charcoal\",\"is_frozen\":\"false\",\"item_material\":\"Veggie Patty\"},\"sample_item_index\":19,\"survey_result\":{\"guess_grill_correct\":\"true\",\"thumbs_up_score\":\"0.1\"}},\"44\":{\"meta_data\":{\"grill_type\":\"Propane\",\"is_frozen\":\"true\",\"item_material\":\"Hotdog\"},\"sample_item_index\":14,\"survey_result\":{\"guess_grill_correct\":\"true\",\"thumbs_up_score\":\"0.6\"}},\"440\":{\"meta_data\":{\"grill_type\":\"Charcoal\",\"is_frozen\":\"true\",\"item_material\":\"Veggie Patty\"},\"sample_item_index\":20,\"survey_result\":{\"guess_grill_correct\":\"true\",\"thumbs_up_score\":\"0.1\"}},\"441\":{\"meta_data\":{\"grill_type\":\"Charcoal\",\"is_frozen\":\"false\",\"item_material\":\"Veggie Patty\"},\"sample_item_index\":21,\"survey_result\":{\"guess_grill_correct\":\"true\",\"thumbs_up_score\":\"0.0\"}},\"442\":{\"meta_data\":{\"grill_type\":\"Charcoal\",\"is_frozen\":\"true\",\"item_material\":\"Veggie Patty\"},\"sample_item_index\":22,\"survey_result\":{\"guess_grill_correct\":\"true\",\"thumbs_up_score\":\"0.1\"}},\"443\":{\"meta_data\":{\"grill_type\":\"Charcoal\",\"is_frozen\":\"false\",\"item_material\":\"Veggie Patty\"},\"sample_item_index\":23,\"survey_result\":{\"guess_grill_correct\":\"true\",\"thumbs_up_score\":\"0.1\"}},\"444\":{\"meta_data\":{\"grill_type\":\"Charcoal\",\"is_frozen\":\"true\",\"item_material\":\"Veggie Patty\"},\"sample_item_index\":24,\"survey_result\":{\"guess_grill_correct\":\"true\",\"thumbs_up_score\":\"0.0\"}},\"445\":{\"meta_data\":{\"grill_type\":\"Charcoal\",\"is_frozen\":\"false\",\"item_material\":\"Veggie Patty\"},\"sample_item_index\":25,\"survey_result\":{\"guess_grill_correct\":\"true\",\"thumbs_up_score\":\"0.0\"}},\"446\":{\"meta_data\":{\"grill_type\":\"Charcoal\",\"is_frozen\":\"true\",\"item_material\":\"Veggie Patty\"},\"sample_item_index\":26,\"survey_result\":{\"guess_grill_correct\":\"true\",\"thumbs_up_score\":\"0.1\"}},\"447\":{\"meta_data\":{\"grill_type\":\"Charcoal\",\"is_frozen\":\"false\",\"item_material\":\"Veggie Patty\"},\"sample_item_index\":27,\"survey_result\":{\"guess_grill_correct\":\"false\",\"thumbs_up_score\":\"0.0\"}},\"448\":{\"meta_data\":{\"grill_type\":\"Charcoal\",\"is_frozen\":\"true\",\"item_material\":\"Veggie Patty\"},\"sample_item_index\":28,\"survey_result\":{\"guess_grill_correct\":\"true\",\"thumbs_up_score\":\"0.0\"}},\"449\":{\"meta_data\":{\"grill_type\":\"Charcoal\",\"is_frozen\":\"false\",\"item_material\":\"Veggie Patty\"},\"sample_item_index\":29,\"survey_result\":{\"guess_grill_correct\":\"true\",\"thumbs_up_score\":\"0.0\"}},\"45\":{\"meta_data\":{\"grill_type\":\"Propane\",\"is_frozen\":\"false\",\"item_material\":\"Hotdog\"},\"sample_item_index\":15,\"survey_result\":{\"guess_grill_correct\":\"true\",\"thumbs_up_score\":\"0.4\"}},\"450\":{\"meta_data\":{\"grill_type\":\"Charcoal\",\"is_frozen\":\"true\",\"item_material\":\"Veggie Patty\"},\"sample_item_index\":30,\"survey_result\":{\"guess_grill_correct\":\"true\",\"thumbs_up_score\":\"0.1\"}},\"451\":{\"meta_data\":{\"grill_type\":\"Charcoal\",\"is_frozen\":\"false\",\"item_material\":\"Veggie Patty\"},\"sample_item_index\":1,\"survey_result\":{\"guess_grill_correct\":\"true\",\"thumbs_up_score\":\"0.2\"}},\"452\":{\"meta_data\":{\"grill_type\":\"Charcoal\",\"is_frozen\":\"true\",\"item_material\":\"Veggie Patty\"},\"sample_item_index\":2,\"survey_result\":{\"guess_grill_correct\":\"false\",\"thumbs_up_score\":\"0.4\"}},\"453\":{\"meta_data\":{\"grill_type\":\"Charcoal\",\"is_frozen\":\"false\",\"item_material\":\"Veggie Patty\"},\"sample_item_index\":3,\"survey_result\":{\"guess_grill_correct\":\"true\",\"thumbs_up_score\":\"0.1\"}},\"454\":{\"meta_data\":{\"grill_type\":\"Charcoal\",\"is_frozen\":\"true\",\"item_material\":\"Veggie Patty\"},\"sample_item_index\":4,\"survey_result\":{\"guess_grill_correct\":\"false\",\"thumbs_up_score\":\"0.0\"}},\"455\":{\"meta_data\":{\"grill_type\":\"Charcoal\",\"is_frozen\":\"false\",\"item_material\":\"Veggie Patty\"},\"sample_item_index\":5,\"survey_result\":{\"guess_grill_correct\":\"true\",\"thumbs_up_score\":\"0.4\"}},\"456\":{\"meta_data\":{\"grill_type\":\"Charcoal\",\"is_frozen\":\"true\",\"item_material\":\"Veggie Patty\"},\"sample_item_index\":6,\"survey_result\":{\"guess_grill_correct\":\"true\",\"thumbs_up_score\":\"0.0\"}},\"457\":{\"meta_data\":{\"grill_type\":\"Charcoal\",\"is_frozen\":\"false\",\"item_material\":\"Veggie Patty\"},\"sample_item_index\":7,\"survey_result\":{\"guess_grill_correct\":\"true\",\"thumbs_up_score\":\"0.5\"}},\"458\":{\"meta_data\":{\"grill_type\":\"Charcoal\",\"is_frozen\":\"true\",\"item_material\":\"Veggie Patty\"},\"sample_item_index\":8,\"survey_result\":{\"guess_grill_correct\":\"true\",\"thumbs_up_score\":\"0.4\"}},\"459\":{\"meta_data\":{\"grill_type\":\"Charcoal\",\"is_frozen\":\"false\",\"item_material\":\"Veggie Patty\"},\"sample_item_index\":9,\"survey_result\":{\"guess_grill_correct\":\"true\",\"thumbs_up_score\":\"0.0\"}},\"46\":{\"meta_data\":{\"grill_type\":\"Propane\",\"is_frozen\":\"true\",\"item_material\":\"Hotdog\"},\"sample_item_index\":16,\"survey_result\":{\"guess_grill_correct\":\"true\",\"thumbs_up_score\":\"0.5\"}},\"460\":{\"meta_data\":{\"grill_type\":\"Charcoal\",\"is_frozen\":\"true\",\"item_material\":\"Veggie Patty\"},\"sample_item_index\":10,\"survey_result\":{\"guess_grill_correct\":\"true\",\"thumbs_up_score\":\"0.5\"}},\"461\":{\"meta_data\":{\"grill_type\":\"Charcoal\",\"is_frozen\":\"false\",\"item_material\":\"Veggie Patty\"},\"sample_item_index\":11,\"survey_result\":{\"guess_grill_correct\":\"true\",\"thumbs_up_score\":\"0.0\"}},\"462\":{\"meta_data\":{\"grill_type\":\"Charcoal\",\"is_frozen\":\"true\",\"item_material\":\"Veggie Patty\"},\"sample_item_index\":12,\"survey_result\":{\"guess_grill_correct\":\"false\",\"thumbs_up_score\":\"0.5\"}},\"463\":{\"meta_data\":{\"grill_type\":\"Charcoal\",\"is_frozen\":\"false\",\"item_material\":\"Veggie Patty\"},\"sample_item_index\":13,\"survey_result\":{\"guess_grill_correct\":\"true\",\"thumbs_up_score\":\"0.2\"}},\"464\":{\"meta_data\":{\"grill_type\":\"Charcoal\",\"is_frozen\":\"true\",\"item_material\":\"Veggie Patty\"},\"sample_item_index\":14,\"survey_result\":{\"guess_grill_correct\":\"false\",\"thumbs_up_score\":\"0.5\"}},\"465\":{\"meta_data\":{\"grill_type\":\"Charcoal\",\"is_frozen\":\"false\",\"item_material\":\"Veggie Patty\"},\"sample_item_index\":15,\"survey_result\":{\"guess_grill_correct\":\"true\",\"thumbs_up_score\":\"0.6\"}},\"466\":{\"meta_data\":{\"grill_type\":\"Charcoal\",\"is_frozen\":\"true\",\"item_material\":\"Veggie Patty\"},\"sample_item_index\":16,\"survey_result\":{\"guess_grill_correct\":\"true\",\"thumbs_up_score\":\"0.2\"}},\"467\":{\"meta_data\":{\"grill_type\":\"Charcoal\",\"is_frozen\":\"false\",\"item_material\":\"Veggie Patty\"},\"sample_item_index\":17,\"survey_result\":{\"guess_grill_correct\":\"true\",\"thumbs_up_score\":\"0.3\"}},\"468\":{\"meta_data\":{\"grill_type\":\"Charcoal\",\"is_frozen\":\"true\",\"item_material\":\"Veggie Patty\"},\"sample_item_index\":18,\"survey_result\":{\"guess_grill_correct\":\"true\",\"thumbs_up_score\":\"0.4\"}},\"469\":{\"meta_data\":{\"grill_type\":\"Charcoal\",\"is_frozen\":\"false\",\"item_material\":\"Veggie Patty\"},\"sample_item_index\":19,\"survey_result\":{\"guess_grill_correct\":\"true\",\"thumbs_up_score\":\"0.2\"}},\"47\":{\"meta_data\":{\"grill_type\":\"Propane\",\"is_frozen\":\"false\",\"item_material\":\"Hotdog\"},\"sample_item_index\":17,\"survey_result\":{\"guess_grill_correct\":\"false\",\"thumbs_up_score\":\"0.5\"}},\"470\":{\"meta_data\":{\"grill_type\":\"Charcoal\",\"is_frozen\":\"true\",\"item_material\":\"Veggie Patty\"},\"sample_item_index\":20,\"survey_result\":{\"guess_grill_correct\":\"true\",\"thumbs_up_score\":\"0.4\"}},\"471\":{\"meta_data\":{\"grill_type\":\"Charcoal\",\"is_frozen\":\"false\",\"item_material\":\"Veggie Patty\"},\"sample_item_index\":21,\"survey_result\":{\"guess_grill_correct\":\"true\",\"thumbs_up_score\":\"0.1\"}},\"472\":{\"meta_data\":{\"grill_type\":\"Charcoal\",\"is_frozen\":\"true\",\"item_material\":\"Veggie Patty\"},\"sample_item_index\":22,\"survey_result\":{\"guess_grill_correct\":\"true\",\"thumbs_up_score\":\"0.2\"}},\"473\":{\"meta_data\":{\"grill_type\":\"Charcoal\",\"is_frozen\":\"false\",\"item_material\":\"Veggie Patty\"},\"sample_item_index\":23,\"survey_result\":{\"guess_grill_correct\":\"true\",\"thumbs_up_score\":\"0.2\"}},\"474\":{\"meta_data\":{\"grill_type\":\"Charcoal\",\"is_frozen\":\"true\",\"item_material\":\"Veggie Patty\"},\"sample_item_index\":24,\"survey_result\":{\"guess_grill_correct\":\"true\",\"thumbs_up_score\":\"0.2\"}},\"475\":{\"meta_data\":{\"grill_type\":\"Charcoal\",\"is_frozen\":\"false\",\"item_material\":\"Veggie Patty\"},\"sample_item_index\":25,\"survey_result\":{\"guess_grill_correct\":\"true\",\"thumbs_up_score\":\"0.6\"}},\"476\":{\"meta_data\":{\"grill_type\":\"Charcoal\",\"is_frozen\":\"true\",\"item_material\":\"Veggie Patty\"},\"sample_item_index\":26,\"survey_result\":{\"guess_grill_correct\":\"true\",\"thumbs_up_score\":\"0.1\"}},\"477\":{\"meta_data\":{\"grill_type\":\"Charcoal\",\"is_frozen\":\"false\",\"item_material\":\"Veggie Patty\"},\"sample_item_index\":27,\"survey_result\":{\"guess_grill_correct\":\"true\",\"thumbs_up_score\":\"0.3\"}},\"478\":{\"meta_data\":{\"grill_type\":\"Charcoal\",\"is_frozen\":\"true\",\"item_material\":\"Veggie Patty\"},\"sample_item_index\":28,\"survey_result\":{\"guess_grill_correct\":\"true\",\"thumbs_up_score\":\"0.5\"}},\"479\":{\"meta_data\":{\"grill_type\":\"Charcoal\",\"is_frozen\":\"false\",\"item_material\":\"Veggie Patty\"},\"sample_item_index\":29,\"survey_result\":{\"guess_grill_correct\":\"true\",\"thumbs_up_score\":\"0.2\"}},\"48\":{\"meta_data\":{\"grill_type\":\"Propane\",\"is_frozen\":\"true\",\"item_material\":\"Hotdog\"},\"sample_item_index\":18,\"survey_result\":{\"guess_grill_correct\":\"true\",\"thumbs_up_score\":\"0.1\"}},\"480\":{\"meta_data\":{\"grill_type\":\"Charcoal\",\"is_frozen\":\"true\",\"item_material\":\"Veggie Patty\"},\"sample_item_index\":30,\"survey_result\":{\"guess_grill_correct\":\"false\",\"thumbs_up_score\":\"0.6\"}},\"481\":{\"meta_data\":{\"grill_type\":\"Propane\",\"is_frozen\":\"false\",\"item_material\":\"Ground Beef Patty\"},\"sample_item_index\":1,\"survey_result\":{\"guess_grill_correct\":\"true\",\"thumbs_up_score\":\"5.7\"}},\"482\":{\"meta_data\":{\"grill_type\":\"Propane\",\"is_frozen\":\"true\",\"item_material\":\"Ground Beef Patty\"},\"sample_item_index\":2,\"survey_result\":{\"guess_grill_correct\":\"true\",\"thumbs_up_score\":\"5.2\"}},\"483\":{\"meta_data\":{\"grill_type\":\"Propane\",\"is_frozen\":\"false\",\"item_material\":\"Ground Beef Patty\"},\"sample_item_index\":3,\"survey_result\":{\"guess_grill_correct\":\"true\",\"thumbs_up_score\":\"5.6\"}},\"484\":{\"meta_data\":{\"grill_type\":\"Propane\",\"is_frozen\":\"true\",\"item_material\":\"Ground Beef Patty\"},\"sample_item_index\":4,\"survey_result\":{\"guess_grill_correct\":\"true\",\"thumbs_up_score\":\"5.9\"}},\"485\":{\"meta_data\":{\"grill_type\":\"Propane\",\"is_frozen\":\"false\",\"item_material\":\"Ground Beef Patty\"},\"sample_item_index\":5,\"survey_result\":{\"guess_grill_correct\":\"true\",\"thumbs_up_score\":\"5.0\"}},\"486\":{\"meta_data\":{\"grill_type\":\"Propane\",\"is_frozen\":\"true\",\"item_material\":\"Ground Beef Patty\"},\"sample_item_index\":6,\"survey_result\":{\"guess_grill_correct\":\"true\",\"thumbs_up_score\":\"5.9\"}},\"487\":{\"meta_data\":{\"grill_type\":\"Propane\",\"is_frozen\":\"false\",\"item_material\":\"Ground Beef Patty\"},\"sample_item_index\":7,\"survey_result\":{\"guess_grill_correct\":\"true\",\"thumbs_up_score\":\"5.5\"}},\"488\":{\"meta_data\":{\"grill_type\":\"Propane\",\"is_frozen\":\"true\",\"item_material\":\"Ground Beef Patty\"},\"sample_item_index\":8,\"survey_result\":{\"guess_grill_correct\":\"true\",\"thumbs_up_score\":\"5.9\"}},\"489\":{\"meta_data\":{\"grill_type\":\"Propane\",\"is_frozen\":\"false\",\"item_material\":\"Ground Beef Patty\"},\"sample_item_index\":9,\"survey_result\":{\"guess_grill_correct\":\"true\",\"thumbs_up_score\":\"5.8\"}},\"49\":{\"meta_data\":{\"grill_type\":\"Propane\",\"is_frozen\":\"false\",\"item_material\":\"Hotdog\"},\"sample_item_index\":19,\"survey_result\":{\"guess_grill_correct\":\"true\",\"thumbs_up_score\":\"0.9\"}},\"490\":{\"meta_data\":{\"grill_type\":\"Propane\",\"is_frozen\":\"true\",\"item_material\":\"Ground Beef Patty\"},\"sample_item_index\":10,\"survey_result\":{\"guess_grill_correct\":\"true\",\"thumbs_up_score\":\"5.2\"}},\"491\":{\"meta_data\":{\"grill_type\":\"Propane\",\"is_frozen\":\"false\",\"item_material\":\"Ground Beef Patty\"},\"sample_item_index\":11,\"survey_result\":{\"guess_grill_correct\":\"true\",\"thumbs_up_score\":\"5.1\"}},\"492\":{\"meta_data\":{\"grill_type\":\"Propane\",\"is_frozen\":\"true\",\"item_material\":\"Ground Beef Patty\"},\"sample_item_index\":12,\"survey_result\":{\"guess_grill_correct\":\"true\",\"thumbs_up_score\":\"5.7\"}},\"493\":{\"meta_data\":{\"grill_type\":\"Propane\",\"is_frozen\":\"false\",\"item_material\":\"Ground Beef Patty\"},\"sample_item_index\":13,\"survey_result\":{\"guess_grill_correct\":\"false\",\"thumbs_up_score\":\"5.8\"}},\"494\":{\"meta_data\":{\"grill_type\":\"Propane\",\"is_frozen\":\"true\",\"item_material\":\"Ground Beef Patty\"},\"sample_item_index\":14,\"survey_result\":{\"guess_grill_correct\":\"true\",\"thumbs_up_score\":\"5.1\"}},\"495\":{\"meta_data\":{\"grill_type\":\"Propane\",\"is_frozen\":\"false\",\"item_material\":\"Ground Beef Patty\"},\"sample_item_index\":15,\"survey_result\":{\"guess_grill_correct\":\"true\",\"thumbs_up_score\":\"5.2\"}},\"496\":{\"meta_data\":{\"grill_type\":\"Propane\",\"is_frozen\":\"true\",\"item_material\":\"Ground Beef Patty\"},\"sample_item_index\":16,\"survey_result\":{\"guess_grill_correct\":\"true\",\"thumbs_up_score\":\"5.6\"}},\"497\":{\"meta_data\":{\"grill_type\":\"Propane\",\"is_frozen\":\"false\",\"item_material\":\"Ground Beef Patty\"},\"sample_item_index\":17,\"survey_result\":{\"guess_grill_correct\":\"true\",\"thumbs_up_score\":\"5.6\"}},\"498\":{\"meta_data\":{\"grill_type\":\"Propane\",\"is_frozen\":\"true\",\"item_material\":\"Ground Beef Patty\"},\"sample_item_index\":18,\"survey_result\":{\"guess_grill_correct\":\"true\",\"thumbs_up_score\":\"5.9\"}},\"499\":{\"meta_data\":{\"grill_type\":\"Propane\",\"is_frozen\":\"false\",\"item_material\":\"Ground Beef Patty\"},\"sample_item_index\":19,\"survey_result\":{\"guess_grill_correct\":\"true\",\"thumbs_up_score\":\"6.0\"}},\"5\":{\"meta_data\":{\"grill_type\":\"Propane\",\"is_frozen\":\"false\",\"item_material\":\"Hotdog\"},\"sample_item_index\":5,\"survey_result\":{\"guess_grill_correct\":\"false\",\"thumbs_up_score\":\"0.2\"}},\"50\":{\"meta_data\":{\"grill_type\":\"Propane\",\"is_frozen\":\"true\",\"item_material\":\"Hotdog\"},\"sample_item_index\":20,\"survey_result\":{\"guess_grill_correct\":\"true\",\"thumbs_up_score\":\"0.6\"}},\"500\":{\"meta_data\":{\"grill_type\":\"Propane\",\"is_frozen\":\"true\",\"item_material\":\"Ground Beef Patty\"},\"sample_item_index\":20,\"survey_result\":{\"guess_grill_correct\":\"true\",\"thumbs_up_score\":\"5.9\"}},\"501\":{\"meta_data\":{\"grill_type\":\"Propane\",\"is_frozen\":\"false\",\"item_material\":\"Ground Beef Patty\"},\"sample_item_index\":21,\"survey_result\":{\"guess_grill_correct\":\"true\",\"thumbs_up_score\":\"6.0\"}},\"502\":{\"meta_data\":{\"grill_type\":\"Propane\",\"is_frozen\":\"true\",\"item_material\":\"Ground Beef Patty\"},\"sample_item_index\":22,\"survey_result\":{\"guess_grill_correct\":\"true\",\"thumbs_up_score\":\"5.8\"}},\"503\":{\"meta_data\":{\"grill_type\":\"Propane\",\"is_frozen\":\"false\",\"item_material\":\"Ground Beef Patty\"},\"sample_item_index\":23,\"survey_result\":{\"guess_grill_correct\":\"true\",\"thumbs_up_score\":\"6.0\"}},\"504\":{\"meta_data\":{\"grill_type\":\"Propane\",\"is_frozen\":\"true\",\"item_material\":\"Ground Beef Patty\"},\"sample_item_index\":24,\"survey_result\":{\"guess_grill_correct\":\"true\",\"thumbs_up_score\":\"6.1\"}},\"505\":{\"meta_data\":{\"grill_type\":\"Propane\",\"is_frozen\":\"false\",\"item_material\":\"Ground Beef Patty\"},\"sample_item_index\":25,\"survey_result\":{\"guess_grill_correct\":\"true\",\"thumbs_up_score\":\"5.5\"}},\"506\":{\"meta_data\":{\"grill_type\":\"Propane\",\"is_frozen\":\"true\",\"item_material\":\"Ground Beef Patty\"},\"sample_item_index\":26,\"survey_result\":{\"guess_grill_correct\":\"true\",\"thumbs_up_score\":\"5.8\"}},\"507\":{\"meta_data\":{\"grill_type\":\"Propane\",\"is_frozen\":\"false\",\"item_material\":\"Ground Beef Patty\"},\"sample_item_index\":27,\"survey_result\":{\"guess_grill_correct\":\"true\",\"thumbs_up_score\":\"5.0\"}},\"508\":{\"meta_data\":{\"grill_type\":\"Propane\",\"is_frozen\":\"true\",\"item_material\":\"Ground Beef Patty\"},\"sample_item_index\":28,\"survey_result\":{\"guess_grill_correct\":\"true\",\"thumbs_up_score\":\"5.3\"}},\"509\":{\"meta_data\":{\"grill_type\":\"Propane\",\"is_frozen\":\"false\",\"item_material\":\"Ground Beef Patty\"},\"sample_item_index\":29,\"survey_result\":{\"guess_grill_correct\":\"true\",\"thumbs_up_score\":\"5.4\"}},\"51\":{\"meta_data\":{\"grill_type\":\"Propane\",\"is_frozen\":\"false\",\"item_material\":\"Hotdog\"},\"sample_item_index\":21,\"survey_result\":{\"guess_grill_correct\":\"true\",\"thumbs_up_score\":\"0.2\"}},\"510\":{\"meta_data\":{\"grill_type\":\"Propane\",\"is_frozen\":\"true\",\"item_material\":\"Ground Beef Patty\"},\"sample_item_index\":30,\"survey_result\":{\"guess_grill_correct\":\"false\",\"thumbs_up_score\":\"5.7\"}},\"511\":{\"meta_data\":{\"grill_type\":\"Propane\",\"is_frozen\":\"false\",\"item_material\":\"Ground Beef Patty\"},\"sample_item_index\":1,\"survey_result\":{\"guess_grill_correct\":\"true\",\"thumbs_up_score\":\"6.0\"}},\"512\":{\"meta_data\":{\"grill_type\":\"Propane\",\"is_frozen\":\"true\",\"item_material\":\"Ground Beef Patty\"},\"sample_item_index\":2,\"survey_result\":{\"guess_grill_correct\":\"true\",\"thumbs_up_score\":\"6.0\"}},\"513\":{\"meta_data\":{\"grill_type\":\"Propane\",\"is_frozen\":\"false\",\"item_material\":\"Ground Beef Patty\"},\"sample_item_index\":3,\"survey_result\":{\"guess_grill_correct\":\"true\",\"thumbs_up_score\":\"5.2\"}},\"514\":{\"meta_data\":{\"grill_type\":\"Propane\",\"is_frozen\":\"true\",\"item_material\":\"Ground Beef Patty\"},\"sample_item_index\":4,\"survey_result\":{\"guess_grill_correct\":\"true\",\"thumbs_up_score\":\"5.4\"}},\"515\":{\"meta_data\":{\"grill_type\":\"Propane\",\"is_frozen\":\"false\",\"item_material\":\"Ground Beef Patty\"},\"sample_item_index\":5,\"survey_result\":{\"guess_grill_correct\":\"true\",\"thumbs_up_score\":\"5.3\"}},\"516\":{\"meta_data\":{\"grill_type\":\"Propane\",\"is_frozen\":\"true\",\"item_material\":\"Ground Beef Patty\"},\"sample_item_index\":6,\"survey_result\":{\"guess_grill_correct\":\"true\",\"thumbs_up_score\":\"5.6\"}},\"517\":{\"meta_data\":{\"grill_type\":\"Propane\",\"is_frozen\":\"false\",\"item_material\":\"Ground Beef Patty\"},\"sample_item_index\":7,\"survey_result\":{\"guess_grill_correct\":\"true\",\"thumbs_up_score\":\"6.1\"}},\"518\":{\"meta_data\":{\"grill_type\":\"Propane\",\"is_frozen\":\"true\",\"item_material\":\"Ground Beef Patty\"},\"sample_item_index\":8,\"survey_result\":{\"guess_grill_correct\":\"true\",\"thumbs_up_score\":\"5.8\"}},\"519\":{\"meta_data\":{\"grill_type\":\"Propane\",\"is_frozen\":\"false\",\"item_material\":\"Ground Beef Patty\"},\"sample_item_index\":9,\"survey_result\":{\"guess_grill_correct\":\"true\",\"thumbs_up_score\":\"5.3\"}},\"52\":{\"meta_data\":{\"grill_type\":\"Propane\",\"is_frozen\":\"true\",\"item_material\":\"Hotdog\"},\"sample_item_index\":22,\"survey_result\":{\"guess_grill_correct\":\"true\",\"thumbs_up_score\":\"0.7\"}},\"520\":{\"meta_data\":{\"grill_type\":\"Propane\",\"is_frozen\":\"true\",\"item_material\":\"Ground Beef Patty\"},\"sample_item_index\":10,\"survey_result\":{\"guess_grill_correct\":\"true\",\"thumbs_up_score\":\"5.2\"}},\"521\":{\"meta_data\":{\"grill_type\":\"Propane\",\"is_frozen\":\"false\",\"item_material\":\"Ground Beef Patty\"},\"sample_item_index\":11,\"survey_result\":{\"guess_grill_correct\":\"true\",\"thumbs_up_score\":\"6.0\"}},\"522\":{\"meta_data\":{\"grill_type\":\"Propane\",\"is_frozen\":\"true\",\"item_material\":\"Ground Beef Patty\"},\"sample_item_index\":12,\"survey_result\":{\"guess_grill_correct\":\"true\",\"thumbs_up_score\":\"6.2\"}},\"523\":{\"meta_data\":{\"grill_type\":\"Propane\",\"is_frozen\":\"false\",\"item_material\":\"Ground Beef Patty\"},\"sample_item_index\":13,\"survey_result\":{\"guess_grill_correct\":\"true\",\"thumbs_up_score\":\"5.2\"}},\"524\":{\"meta_data\":{\"grill_type\":\"Propane\",\"is_frozen\":\"true\",\"item_material\":\"Ground Beef Patty\"},\"sample_item_index\":14,\"survey_result\":{\"guess_grill_correct\":\"true\",\"thumbs_up_score\":\"5.6\"}},\"525\":{\"meta_data\":{\"grill_type\":\"Propane\",\"is_frozen\":\"false\",\"item_material\":\"Ground Beef Patty\"},\"sample_item_index\":15,\"survey_result\":{\"guess_grill_correct\":\"true\",\"thumbs_up_score\":\"6.1\"}},\"526\":{\"meta_data\":{\"grill_type\":\"Propane\",\"is_frozen\":\"true\",\"item_material\":\"Ground Beef Patty\"},\"sample_item_index\":16,\"survey_result\":{\"guess_grill_correct\":\"true\",\"thumbs_up_score\":\"5.3\"}},\"527\":{\"meta_data\":{\"grill_type\":\"Propane\",\"is_frozen\":\"false\",\"item_material\":\"Ground Beef Patty\"},\"sample_item_index\":17,\"survey_result\":{\"guess_grill_correct\":\"true\",\"thumbs_up_score\":\"5.0\"}},\"528\":{\"meta_data\":{\"grill_type\":\"Propane\",\"is_frozen\":\"true\",\"item_material\":\"Ground Beef Patty\"},\"sample_item_index\":18,\"survey_result\":{\"guess_grill_correct\":\"true\",\"thumbs_up_score\":\"6.1\"}},\"529\":{\"meta_data\":{\"grill_type\":\"Propane\",\"is_frozen\":\"false\",\"item_material\":\"Ground Beef Patty\"},\"sample_item_index\":19,\"survey_result\":{\"guess_grill_correct\":\"true\",\"thumbs_up_score\":\"6.0\"}},\"53\":{\"meta_data\":{\"grill_type\":\"Propane\",\"is_frozen\":\"false\",\"item_material\":\"Hotdog\"},\"sample_item_index\":23,\"survey_result\":{\"guess_grill_correct\":\"true\",\"thumbs_up_score\":\"0.6\"}},\"530\":{\"meta_data\":{\"grill_type\":\"Propane\",\"is_frozen\":\"true\",\"item_material\":\"Ground Beef Patty\"},\"sample_item_index\":20,\"survey_result\":{\"guess_grill_correct\":\"true\",\"thumbs_up_score\":\"5.5\"}},\"531\":{\"meta_data\":{\"grill_type\":\"Propane\",\"is_frozen\":\"false\",\"item_material\":\"Ground Beef Patty\"},\"sample_item_index\":21,\"survey_result\":{\"guess_grill_correct\":\"true\",\"thumbs_up_score\":\"5.5\"}},\"532\":{\"meta_data\":{\"grill_type\":\"Propane\",\"is_frozen\":\"true\",\"item_material\":\"Ground Beef Patty\"},\"sample_item_index\":22,\"survey_result\":{\"guess_grill_correct\":\"true\",\"thumbs_up_score\":\"5.0\"}},\"533\":{\"meta_data\":{\"grill_type\":\"Propane\",\"is_frozen\":\"false\",\"item_material\":\"Ground Beef Patty\"},\"sample_item_index\":23,\"survey_result\":{\"guess_grill_correct\":\"true\",\"thumbs_up_score\":\"6.1\"}},\"534\":{\"meta_data\":{\"grill_type\":\"Propane\",\"is_frozen\":\"true\",\"item_material\":\"Ground Beef Patty\"},\"sample_item_index\":24,\"survey_result\":{\"guess_grill_correct\":\"false\",\"thumbs_up_score\":\"5.5\"}},\"535\":{\"meta_data\":{\"grill_type\":\"Propane\",\"is_frozen\":\"false\",\"item_material\":\"Ground Beef Patty\"},\"sample_item_index\":25,\"survey_result\":{\"guess_grill_correct\":\"true\",\"thumbs_up_score\":\"5.5\"}},\"536\":{\"meta_data\":{\"grill_type\":\"Propane\",\"is_frozen\":\"true\",\"item_material\":\"Ground Beef Patty\"},\"sample_item_index\":26,\"survey_result\":{\"guess_grill_correct\":\"true\",\"thumbs_up_score\":\"5.2\"}},\"537\":{\"meta_data\":{\"grill_type\":\"Propane\",\"is_frozen\":\"false\",\"item_material\":\"Ground Beef Patty\"},\"sample_item_index\":27,\"survey_result\":{\"guess_grill_correct\":\"true\",\"thumbs_up_score\":\"6.2\"}},\"538\":{\"meta_data\":{\"grill_type\":\"Propane\",\"is_frozen\":\"true\",\"item_material\":\"Ground Beef Patty\"},\"sample_item_index\":28,\"survey_result\":{\"guess_grill_correct\":\"true\",\"thumbs_up_score\":\"6.1\"}},\"539\":{\"meta_data\":{\"grill_type\":\"Propane\",\"is_frozen\":\"false\",\"item_material\":\"Ground Beef Patty\"},\"sample_item_index\":29,\"survey_result\":{\"guess_grill_correct\":\"true\",\"thumbs_up_score\":\"5.8\"}},\"54\":{\"meta_data\":{\"grill_type\":\"Propane\",\"is_frozen\":\"true\",\"item_material\":\"Hotdog\"},\"sample_item_index\":24,\"survey_result\":{\"guess_grill_correct\":\"true\",\"thumbs_up_score\":\"1.0\"}},\"540\":{\"meta_data\":{\"grill_type\":\"Propane\",\"is_frozen\":\"true\",\"item_material\":\"Ground Beef Patty\"},\"sample_item_index\":30,\"survey_result\":{\"guess_grill_correct\":\"true\",\"thumbs_up_score\":\"5.1\"}},\"541\":{\"meta_data\":{\"grill_type\":\"Propane\",\"is_frozen\":\"false\",\"item_material\":\"Ground Beef Patty\"},\"sample_item_index\":1,\"survey_result\":{\"guess_grill_correct\":\"true\",\"thumbs_up_score\":\"6.1\"}},\"542\":{\"meta_data\":{\"grill_type\":\"Propane\",\"is_frozen\":\"true\",\"item_material\":\"Ground Beef Patty\"},\"sample_item_index\":2,\"survey_result\":{\"guess_grill_correct\":\"true\",\"thumbs_up_score\":\"5.1\"}},\"543\":{\"meta_data\":{\"grill_type\":\"Propane\",\"is_frozen\":\"false\",\"item_material\":\"Ground Beef Patty\"},\"sample_item_index\":3,\"survey_result\":{\"guess_grill_correct\":\"true\",\"thumbs_up_score\":\"6.2\"}},\"544\":{\"meta_data\":{\"grill_type\":\"Propane\",\"is_frozen\":\"true\",\"item_material\":\"Ground Beef Patty\"},\"sample_item_index\":4,\"survey_result\":{\"guess_grill_correct\":\"true\",\"thumbs_up_score\":\"5.4\"}},\"545\":{\"meta_data\":{\"grill_type\":\"Propane\",\"is_frozen\":\"false\",\"item_material\":\"Ground Beef Patty\"},\"sample_item_index\":5,\"survey_result\":{\"guess_grill_correct\":\"true\",\"thumbs_up_score\":\"5.1\"}},\"546\":{\"meta_data\":{\"grill_type\":\"Propane\",\"is_frozen\":\"true\",\"item_material\":\"Ground Beef Patty\"},\"sample_item_index\":6,\"survey_result\":{\"guess_grill_correct\":\"true\",\"thumbs_up_score\":\"6.0\"}},\"547\":{\"meta_data\":{\"grill_type\":\"Propane\",\"is_frozen\":\"false\",\"item_material\":\"Ground Beef Patty\"},\"sample_item_index\":7,\"survey_result\":{\"guess_grill_correct\":\"true\",\"thumbs_up_score\":\"5.2\"}},\"548\":{\"meta_data\":{\"grill_type\":\"Propane\",\"is_frozen\":\"true\",\"item_material\":\"Ground Beef Patty\"},\"sample_item_index\":8,\"survey_result\":{\"guess_grill_correct\":\"true\",\"thumbs_up_score\":\"5.8\"}},\"549\":{\"meta_data\":{\"grill_type\":\"Propane\",\"is_frozen\":\"false\",\"item_material\":\"Ground Beef Patty\"},\"sample_item_index\":9,\"survey_result\":{\"guess_grill_correct\":\"true\",\"thumbs_up_score\":\"6.0\"}},\"55\":{\"meta_data\":{\"grill_type\":\"Propane\",\"is_frozen\":\"false\",\"item_material\":\"Hotdog\"},\"sample_item_index\":25,\"survey_result\":{\"guess_grill_correct\":\"false\",\"thumbs_up_score\":\"0.9\"}},\"550\":{\"meta_data\":{\"grill_type\":\"Propane\",\"is_frozen\":\"true\",\"item_material\":\"Ground Beef Patty\"},\"sample_item_index\":10,\"survey_result\":{\"guess_grill_correct\":\"true\",\"thumbs_up_score\":\"5.1\"}},\"551\":{\"meta_data\":{\"grill_type\":\"Propane\",\"is_frozen\":\"false\",\"item_material\":\"Ground Beef Patty\"},\"sample_item_index\":11,\"survey_result\":{\"guess_grill_correct\":\"true\",\"thumbs_up_score\":\"6.1\"}},\"552\":{\"meta_data\":{\"grill_type\":\"Propane\",\"is_frozen\":\"true\",\"item_material\":\"Ground Beef Patty\"},\"sample_item_index\":12,\"survey_result\":{\"guess_grill_correct\":\"true\",\"thumbs_up_score\":\"5.4\"}},\"553\":{\"meta_data\":{\"grill_type\":\"Propane\",\"is_frozen\":\"false\",\"item_material\":\"Ground Beef Patty\"},\"sample_item_index\":13,\"survey_result\":{\"guess_grill_correct\":\"true\",\"thumbs_up_score\":\"5.3\"}},\"554\":{\"meta_data\":{\"grill_type\":\"Propane\",\"is_frozen\":\"true\",\"item_material\":\"Ground Beef Patty\"},\"sample_item_index\":14,\"survey_result\":{\"guess_grill_correct\":\"true\",\"thumbs_up_score\":\"5.3\"}},\"555\":{\"meta_data\":{\"grill_type\":\"Propane\",\"is_frozen\":\"false\",\"item_material\":\"Ground Beef Patty\"},\"sample_item_index\":15,\"survey_result\":{\"guess_grill_correct\":\"true\",\"thumbs_up_score\":\"5.7\"}},\"556\":{\"meta_data\":{\"grill_type\":\"Propane\",\"is_frozen\":\"true\",\"item_material\":\"Ground Beef Patty\"},\"sample_item_index\":16,\"survey_result\":{\"guess_grill_correct\":\"true\",\"thumbs_up_score\":\"6.1\"}},\"557\":{\"meta_data\":{\"grill_type\":\"Propane\",\"is_frozen\":\"false\",\"item_material\":\"Ground Beef Patty\"},\"sample_item_index\":17,\"survey_result\":{\"guess_grill_correct\":\"true\",\"thumbs_up_score\":\"5.9\"}},\"558\":{\"meta_data\":{\"grill_type\":\"Propane\",\"is_frozen\":\"true\",\"item_material\":\"Ground Beef Patty\"},\"sample_item_index\":18,\"survey_result\":{\"guess_grill_correct\":\"true\",\"thumbs_up_score\":\"6.1\"}},\"559\":{\"meta_data\":{\"grill_type\":\"Propane\",\"is_frozen\":\"false\",\"item_material\":\"Ground Beef Patty\"},\"sample_item_index\":19,\"survey_result\":{\"guess_grill_correct\":\"true\",\"thumbs_up_score\":\"5.4\"}},\"56\":{\"meta_data\":{\"grill_type\":\"Propane\",\"is_frozen\":\"true\",\"item_material\":\"Hotdog\"},\"sample_item_index\":26,\"survey_result\":{\"guess_grill_correct\":\"true\",\"thumbs_up_score\":\"0.7\"}},\"560\":{\"meta_data\":{\"grill_type\":\"Propane\",\"is_frozen\":\"true\",\"item_material\":\"Ground Beef Patty\"},\"sample_item_index\":20,\"survey_result\":{\"guess_grill_correct\":\"true\",\"thumbs_up_score\":\"6.3\"}},\"561\":{\"meta_data\":{\"grill_type\":\"Propane\",\"is_frozen\":\"false\",\"item_material\":\"Ground Beef Patty\"},\"sample_item_index\":21,\"survey_result\":{\"guess_grill_correct\":\"true\",\"thumbs_up_score\":\"6.0\"}},\"562\":{\"meta_data\":{\"grill_type\":\"Propane\",\"is_frozen\":\"true\",\"item_material\":\"Ground Beef Patty\"},\"sample_item_index\":22,\"survey_result\":{\"guess_grill_correct\":\"true\",\"thumbs_up_score\":\"5.6\"}},\"563\":{\"meta_data\":{\"grill_type\":\"Propane\",\"is_frozen\":\"false\",\"item_material\":\"Ground Beef Patty\"},\"sample_item_index\":23,\"survey_result\":{\"guess_grill_correct\":\"true\",\"thumbs_up_score\":\"5.5\"}},\"564\":{\"meta_data\":{\"grill_type\":\"Propane\",\"is_frozen\":\"true\",\"item_material\":\"Ground Beef Patty\"},\"sample_item_index\":24,\"survey_result\":{\"guess_grill_correct\":\"true\",\"thumbs_up_score\":\"6.3\"}},\"565\":{\"meta_data\":{\"grill_type\":\"Propane\",\"is_frozen\":\"false\",\"item_material\":\"Ground Beef Patty\"},\"sample_item_index\":25,\"survey_result\":{\"guess_grill_correct\":\"false\",\"thumbs_up_score\":\"5.0\"}},\"566\":{\"meta_data\":{\"grill_type\":\"Propane\",\"is_frozen\":\"true\",\"item_material\":\"Ground Beef Patty\"},\"sample_item_index\":26,\"survey_result\":{\"guess_grill_correct\":\"true\",\"thumbs_up_score\":\"6.1\"}},\"567\":{\"meta_data\":{\"grill_type\":\"Propane\",\"is_frozen\":\"false\",\"item_material\":\"Ground Beef Patty\"},\"sample_item_index\":27,\"survey_result\":{\"guess_grill_correct\":\"true\",\"thumbs_up_score\":\"5.0\"}},\"568\":{\"meta_data\":{\"grill_type\":\"Propane\",\"is_frozen\":\"true\",\"item_material\":\"Ground Beef Patty\"},\"sample_item_index\":28,\"survey_result\":{\"guess_grill_correct\":\"true\",\"thumbs_up_score\":\"5.2\"}},\"569\":{\"meta_data\":{\"grill_type\":\"Propane\",\"is_frozen\":\"false\",\"item_material\":\"Ground Beef Patty\"},\"sample_item_index\":29,\"survey_result\":{\"guess_grill_correct\":\"true\",\"thumbs_up_score\":\"6.1\"}},\"57\":{\"meta_data\":{\"grill_type\":\"Propane\",\"is_frozen\":\"false\",\"item_material\":\"Hotdog\"},\"sample_item_index\":27,\"survey_result\":{\"guess_grill_correct\":\"true\",\"thumbs_up_score\":\"0.1\"}},\"570\":{\"meta_data\":{\"grill_type\":\"Propane\",\"is_frozen\":\"true\",\"item_material\":\"Ground Beef Patty\"},\"sample_item_index\":30,\"survey_result\":{\"guess_grill_correct\":\"true\",\"thumbs_up_score\":\"5.5\"}},\"571\":{\"meta_data\":{\"grill_type\":\"Propane\",\"is_frozen\":\"false\",\"item_material\":\"Ground Beef Patty\"},\"sample_item_index\":1,\"survey_result\":{\"guess_grill_correct\":\"true\",\"thumbs_up_score\":\"5.9\"}},\"572\":{\"meta_data\":{\"grill_type\":\"Propane\",\"is_frozen\":\"true\",\"item_material\":\"Ground Beef Patty\"},\"sample_item_index\":2,\"survey_result\":{\"guess_grill_correct\":\"true\",\"thumbs_up_score\":\"5.0\"}},\"573\":{\"meta_data\":{\"grill_type\":\"Propane\",\"is_frozen\":\"false\",\"item_material\":\"Ground Beef Patty\"},\"sample_item_index\":3,\"survey_result\":{\"guess_grill_correct\":\"true\",\"thumbs_up_score\":\"5.1\"}},\"574\":{\"meta_data\":{\"grill_type\":\"Propane\",\"is_frozen\":\"true\",\"item_material\":\"Ground Beef Patty\"},\"sample_item_index\":4,\"survey_result\":{\"guess_grill_correct\":\"true\",\"thumbs_up_score\":\"5.7\"}},\"575\":{\"meta_data\":{\"grill_type\":\"Propane\",\"is_frozen\":\"false\",\"item_material\":\"Ground Beef Patty\"},\"sample_item_index\":5,\"survey_result\":{\"guess_grill_correct\":\"true\",\"thumbs_up_score\":\"5.4\"}},\"576\":{\"meta_data\":{\"grill_type\":\"Propane\",\"is_frozen\":\"true\",\"item_material\":\"Ground Beef Patty\"},\"sample_item_index\":6,\"survey_result\":{\"guess_grill_correct\":\"true\",\"thumbs_up_score\":\"5.0\"}},\"577\":{\"meta_data\":{\"grill_type\":\"Propane\",\"is_frozen\":\"false\",\"item_material\":\"Ground Beef Patty\"},\"sample_item_index\":7,\"survey_result\":{\"guess_grill_correct\":\"true\",\"thumbs_up_score\":\"5.0\"}},\"578\":{\"meta_data\":{\"grill_type\":\"Propane\",\"is_frozen\":\"true\",\"item_material\":\"Ground Beef Patty\"},\"sample_item_index\":8,\"survey_result\":{\"guess_grill_correct\":\"true\",\"thumbs_up_score\":\"6.0\"}},\"579\":{\"meta_data\":{\"grill_type\":\"Propane\",\"is_frozen\":\"false\",\"item_material\":\"Ground Beef Patty\"},\"sample_item_index\":9,\"survey_result\":{\"guess_grill_correct\":\"true\",\"thumbs_up_score\":\"5.3\"}},\"58\":{\"meta_data\":{\"grill_type\":\"Propane\",\"is_frozen\":\"true\",\"item_material\":\"Hotdog\"},\"sample_item_index\":28,\"survey_result\":{\"guess_grill_correct\":\"true\",\"thumbs_up_score\":\"0.5\"}},\"580\":{\"meta_data\":{\"grill_type\":\"Propane\",\"is_frozen\":\"true\",\"item_material\":\"Ground Beef Patty\"},\"sample_item_index\":10,\"survey_result\":{\"guess_grill_correct\":\"true\",\"thumbs_up_score\":\"5.3\"}},\"581\":{\"meta_data\":{\"grill_type\":\"Propane\",\"is_frozen\":\"false\",\"item_material\":\"Ground Beef Patty\"},\"sample_item_index\":11,\"survey_result\":{\"guess_grill_correct\":\"true\",\"thumbs_up_score\":\"5.3\"}},\"582\":{\"meta_data\":{\"grill_type\":\"Propane\",\"is_frozen\":\"true\",\"item_material\":\"Ground Beef Patty\"},\"sample_item_index\":12,\"survey_result\":{\"guess_grill_correct\":\"true\",\"thumbs_up_score\":\"5.1\"}},\"583\":{\"meta_data\":{\"grill_type\":\"Propane\",\"is_frozen\":\"false\",\"item_material\":\"Ground Beef Patty\"},\"sample_item_index\":13,\"survey_result\":{\"guess_grill_correct\":\"true\",\"thumbs_up_score\":\"5.8\"}},\"584\":{\"meta_data\":{\"grill_type\":\"Propane\",\"is_frozen\":\"true\",\"item_material\":\"Ground Beef Patty\"},\"sample_item_index\":14,\"survey_result\":{\"guess_grill_correct\":\"true\",\"thumbs_up_score\":\"5.2\"}},\"585\":{\"meta_data\":{\"grill_type\":\"Propane\",\"is_frozen\":\"false\",\"item_material\":\"Ground Beef Patty\"},\"sample_item_index\":15,\"survey_result\":{\"guess_grill_correct\":\"true\",\"thumbs_up_score\":\"5.7\"}},\"586\":{\"meta_data\":{\"grill_type\":\"Propane\",\"is_frozen\":\"true\",\"item_material\":\"Ground Beef Patty\"},\"sample_item_index\":16,\"survey_result\":{\"guess_grill_correct\":\"true\",\"thumbs_up_score\":\"5.0\"}},\"587\":{\"meta_data\":{\"grill_type\":\"Propane\",\"is_frozen\":\"false\",\"item_material\":\"Ground Beef Patty\"},\"sample_item_index\":17,\"survey_result\":{\"guess_grill_correct\":\"true\",\"thumbs_up_score\":\"5.3\"}},\"588\":{\"meta_data\":{\"grill_type\":\"Propane\",\"is_frozen\":\"true\",\"item_material\":\"Ground Beef Patty\"},\"sample_item_index\":18,\"survey_result\":{\"guess_grill_correct\":\"true\",\"thumbs_up_score\":\"5.2\"}},\"589\":{\"meta_data\":{\"grill_type\":\"Propane\",\"is_frozen\":\"false\",\"item_material\":\"Ground Beef Patty\"},\"sample_item_index\":19,\"survey_result\":{\"guess_grill_correct\":\"true\",\"thumbs_up_score\":\"5.7\"}},\"59\":{\"meta_data\":{\"grill_type\":\"Propane\",\"is_frozen\":\"false\",\"item_material\":\"Hotdog\"},\"sample_item_index\":29,\"survey_result\":{\"guess_grill_correct\":\"true\",\"thumbs_up_score\":\"1.0\"}},\"590\":{\"meta_data\":{\"grill_type\":\"Propane\",\"is_frozen\":\"true\",\"item_material\":\"Ground Beef Patty\"},\"sample_item_index\":20,\"survey_result\":{\"guess_grill_correct\":\"true\",\"thumbs_up_score\":\"6.0\"}},\"591\":{\"meta_data\":{\"grill_type\":\"Propane\",\"is_frozen\":\"false\",\"item_material\":\"Ground Beef Patty\"},\"sample_item_index\":21,\"survey_result\":{\"guess_grill_correct\":\"true\",\"thumbs_up_score\":\"5.5\"}},\"592\":{\"meta_data\":{\"grill_type\":\"Propane\",\"is_frozen\":\"true\",\"item_material\":\"Ground Beef Patty\"},\"sample_item_index\":22,\"survey_result\":{\"guess_grill_correct\":\"true\",\"thumbs_up_score\":\"5.6\"}},\"593\":{\"meta_data\":{\"grill_type\":\"Propane\",\"is_frozen\":\"false\",\"item_material\":\"Ground Beef Patty\"},\"sample_item_index\":23,\"survey_result\":{\"guess_grill_correct\":\"true\",\"thumbs_up_score\":\"5.3\"}},\"594\":{\"meta_data\":{\"grill_type\":\"Propane\",\"is_frozen\":\"true\",\"item_material\":\"Ground Beef Patty\"},\"sample_item_index\":24,\"survey_result\":{\"guess_grill_correct\":\"true\",\"thumbs_up_score\":\"5.6\"}},\"595\":{\"meta_data\":{\"grill_type\":\"Propane\",\"is_frozen\":\"false\",\"item_material\":\"Ground Beef Patty\"},\"sample_item_index\":25,\"survey_result\":{\"guess_grill_correct\":\"true\",\"thumbs_up_score\":\"5.2\"}},\"596\":{\"meta_data\":{\"grill_type\":\"Propane\",\"is_frozen\":\"true\",\"item_material\":\"Ground Beef Patty\"},\"sample_item_index\":26,\"survey_result\":{\"guess_grill_correct\":\"true\",\"thumbs_up_score\":\"6.2\"}},\"597\":{\"meta_data\":{\"grill_type\":\"Propane\",\"is_frozen\":\"false\",\"item_material\":\"Ground Beef Patty\"},\"sample_item_index\":27,\"survey_result\":{\"guess_grill_correct\":\"true\",\"thumbs_up_score\":\"5.5\"}},\"598\":{\"meta_data\":{\"grill_type\":\"Propane\",\"is_frozen\":\"true\",\"item_material\":\"Ground Beef Patty\"},\"sample_item_index\":28,\"survey_result\":{\"guess_grill_correct\":\"true\",\"thumbs_up_score\":\"6.0\"}},\"599\":{\"meta_data\":{\"grill_type\":\"Propane\",\"is_frozen\":\"false\",\"item_material\":\"Ground Beef Patty\"},\"sample_item_index\":29,\"survey_result\":{\"guess_grill_correct\":\"true\",\"thumbs_up_score\":\"5.2\"}},\"6\":{\"meta_data\":{\"grill_type\":\"Propane\",\"is_frozen\":\"true\",\"item_material\":\"Hotdog\"},\"sample_item_index\":6,\"survey_result\":{\"guess_grill_correct\":\"true\",\"thumbs_up_score\":\"0.4\"}},\"60\":{\"meta_data\":{\"grill_type\":\"Propane\",\"is_frozen\":\"true\",\"item_material\":\"Hotdog\"},\"sample_item_index\":30,\"survey_result\":{\"guess_grill_correct\":\"true\",\"thumbs_up_score\":\"0.2\"}},\"600\":{\"meta_data\":{\"grill_type\":\"Propane\",\"is_frozen\":\"true\",\"item_material\":\"Ground Beef Patty\"},\"sample_item_index\":30,\"survey_result\":{\"guess_grill_correct\":\"true\",\"thumbs_up_score\":\"5.3\"}},\"601\":{\"meta_data\":{\"grill_type\":\"Charcoal\",\"is_frozen\":\"false\",\"item_material\":\"Ground Beef Patty\"},\"sample_item_index\":1,\"survey_result\":{\"guess_grill_correct\":\"true\",\"thumbs_up_score\":\"0.1\"}},\"602\":{\"meta_data\":{\"grill_type\":\"Charcoal\",\"is_frozen\":\"true\",\"item_material\":\"Ground Beef Patty\"},\"sample_item_index\":2,\"survey_result\":{\"guess_grill_correct\":\"true\",\"thumbs_up_score\":\"0.5\"}},\"603\":{\"meta_data\":{\"grill_type\":\"Charcoal\",\"is_frozen\":\"false\",\"item_material\":\"Ground Beef Patty\"},\"sample_item_index\":3,\"survey_result\":{\"guess_grill_correct\":\"true\",\"thumbs_up_score\":\"0.5\"}},\"604\":{\"meta_data\":{\"grill_type\":\"Charcoal\",\"is_frozen\":\"true\",\"item_material\":\"Ground Beef Patty\"},\"sample_item_index\":4,\"survey_result\":{\"guess_grill_correct\":\"true\",\"thumbs_up_score\":\"0.4\"}},\"605\":{\"meta_data\":{\"grill_type\":\"Charcoal\",\"is_frozen\":\"false\",\"item_material\":\"Ground Beef Patty\"},\"sample_item_index\":5,\"survey_result\":{\"guess_grill_correct\":\"true\",\"thumbs_up_score\":\"0.2\"}},\"606\":{\"meta_data\":{\"grill_type\":\"Charcoal\",\"is_frozen\":\"true\",\"item_material\":\"Ground Beef Patty\"},\"sample_item_index\":6,\"survey_result\":{\"guess_grill_correct\":\"true\",\"thumbs_up_score\":\"0.1\"}},\"607\":{\"meta_data\":{\"grill_type\":\"Charcoal\",\"is_frozen\":\"false\",\"item_material\":\"Ground Beef Patty\"},\"sample_item_index\":7,\"survey_result\":{\"guess_grill_correct\":\"true\",\"thumbs_up_score\":\"0.3\"}},\"608\":{\"meta_data\":{\"grill_type\":\"Charcoal\",\"is_frozen\":\"true\",\"item_material\":\"Ground Beef Patty\"},\"sample_item_index\":8,\"survey_result\":{\"guess_grill_correct\":\"true\",\"thumbs_up_score\":\"0.0\"}},\"609\":{\"meta_data\":{\"grill_type\":\"Charcoal\",\"is_frozen\":\"false\",\"item_material\":\"Ground Beef Patty\"},\"sample_item_index\":9,\"survey_result\":{\"guess_grill_correct\":\"true\",\"thumbs_up_score\":\"0.0\"}},\"61\":{\"meta_data\":{\"grill_type\":\"Propane\",\"is_frozen\":\"false\",\"item_material\":\"Hotdog\"},\"sample_item_index\":1,\"survey_result\":{\"guess_grill_correct\":\"false\",\"thumbs_up_score\":\"0.3\"}},\"610\":{\"meta_data\":{\"grill_type\":\"Charcoal\",\"is_frozen\":\"true\",\"item_material\":\"Ground Beef Patty\"},\"sample_item_index\":10,\"survey_result\":{\"guess_grill_correct\":\"true\",\"thumbs_up_score\":\"0.5\"}},\"611\":{\"meta_data\":{\"grill_type\":\"Charcoal\",\"is_frozen\":\"false\",\"item_material\":\"Ground Beef Patty\"},\"sample_item_index\":11,\"survey_result\":{\"guess_grill_correct\":\"true\",\"thumbs_up_score\":\"0.3\"}},\"612\":{\"meta_data\":{\"grill_type\":\"Charcoal\",\"is_frozen\":\"true\",\"item_material\":\"Ground Beef Patty\"},\"sample_item_index\":12,\"survey_result\":{\"guess_grill_correct\":\"false\",\"thumbs_up_score\":\"0.2\"}},\"613\":{\"meta_data\":{\"grill_type\":\"Charcoal\",\"is_frozen\":\"false\",\"item_material\":\"Ground Beef Patty\"},\"sample_item_index\":13,\"survey_result\":{\"guess_grill_correct\":\"true\",\"thumbs_up_score\":\"0.3\"}},\"614\":{\"meta_data\":{\"grill_type\":\"Charcoal\",\"is_frozen\":\"true\",\"item_material\":\"Ground Beef Patty\"},\"sample_item_index\":14,\"survey_result\":{\"guess_grill_correct\":\"true\",\"thumbs_up_score\":\"0.3\"}},\"615\":{\"meta_data\":{\"grill_type\":\"Charcoal\",\"is_frozen\":\"false\",\"item_material\":\"Ground Beef Patty\"},\"sample_item_index\":15,\"survey_result\":{\"guess_grill_correct\":\"true\",\"thumbs_up_score\":\"0.3\"}},\"616\":{\"meta_data\":{\"grill_type\":\"Charcoal\",\"is_frozen\":\"true\",\"item_material\":\"Ground Beef Patty\"},\"sample_item_index\":16,\"survey_result\":{\"guess_grill_correct\":\"true\",\"thumbs_up_score\":\"0.2\"}},\"617\":{\"meta_data\":{\"grill_type\":\"Charcoal\",\"is_frozen\":\"false\",\"item_material\":\"Ground Beef Patty\"},\"sample_item_index\":17,\"survey_result\":{\"guess_grill_correct\":\"true\",\"thumbs_up_score\":\"0.2\"}},\"618\":{\"meta_data\":{\"grill_type\":\"Charcoal\",\"is_frozen\":\"true\",\"item_material\":\"Ground Beef Patty\"},\"sample_item_index\":18,\"survey_result\":{\"guess_grill_correct\":\"true\",\"thumbs_up_score\":\"0.3\"}},\"619\":{\"meta_data\":{\"grill_type\":\"Charcoal\",\"is_frozen\":\"false\",\"item_material\":\"Ground Beef Patty\"},\"sample_item_index\":19,\"survey_result\":{\"guess_grill_correct\":\"true\",\"thumbs_up_score\":\"0.5\"}},\"62\":{\"meta_data\":{\"grill_type\":\"Propane\",\"is_frozen\":\"true\",\"item_material\":\"Hotdog\"},\"sample_item_index\":2,\"survey_result\":{\"guess_grill_correct\":\"false\",\"thumbs_up_score\":\"0.7\"}},\"620\":{\"meta_data\":{\"grill_type\":\"Charcoal\",\"is_frozen\":\"true\",\"item_material\":\"Ground Beef Patty\"},\"sample_item_index\":20,\"survey_result\":{\"guess_grill_correct\":\"false\",\"thumbs_up_score\":\"0.3\"}},\"621\":{\"meta_data\":{\"grill_type\":\"Charcoal\",\"is_frozen\":\"false\",\"item_material\":\"Ground Beef Patty\"},\"sample_item_index\":21,\"survey_result\":{\"guess_grill_correct\":\"true\",\"thumbs_up_score\":\"0.3\"}},\"622\":{\"meta_data\":{\"grill_type\":\"Charcoal\",\"is_frozen\":\"true\",\"item_material\":\"Ground Beef Patty\"},\"sample_item_index\":22,\"survey_result\":{\"guess_grill_correct\":\"true\",\"thumbs_up_score\":\"0.2\"}},\"623\":{\"meta_data\":{\"grill_type\":\"Charcoal\",\"is_frozen\":\"false\",\"item_material\":\"Ground Beef Patty\"},\"sample_item_index\":23,\"survey_result\":{\"guess_grill_correct\":\"true\",\"thumbs_up_score\":\"0.4\"}},\"624\":{\"meta_data\":{\"grill_type\":\"Charcoal\",\"is_frozen\":\"true\",\"item_material\":\"Ground Beef Patty\"},\"sample_item_index\":24,\"survey_result\":{\"guess_grill_correct\":\"true\",\"thumbs_up_score\":\"0.4\"}},\"625\":{\"meta_data\":{\"grill_type\":\"Charcoal\",\"is_frozen\":\"false\",\"item_material\":\"Ground Beef Patty\"},\"sample_item_index\":25,\"survey_result\":{\"guess_grill_correct\":\"true\",\"thumbs_up_score\":\"0.2\"}},\"626\":{\"meta_data\":{\"grill_type\":\"Charcoal\",\"is_frozen\":\"true\",\"item_material\":\"Ground Beef Patty\"},\"sample_item_index\":26,\"survey_result\":{\"guess_grill_correct\":\"true\",\"thumbs_up_score\":\"0.1\"}},\"627\":{\"meta_data\":{\"grill_type\":\"Charcoal\",\"is_frozen\":\"false\",\"item_material\":\"Ground Beef Patty\"},\"sample_item_index\":27,\"survey_result\":{\"guess_grill_correct\":\"true\",\"thumbs_up_score\":\"0.5\"}},\"628\":{\"meta_data\":{\"grill_type\":\"Charcoal\",\"is_frozen\":\"true\",\"item_material\":\"Ground Beef Patty\"},\"sample_item_index\":28,\"survey_result\":{\"guess_grill_correct\":\"true\",\"thumbs_up_score\":\"0.4\"}},\"629\":{\"meta_data\":{\"grill_type\":\"Charcoal\",\"is_frozen\":\"false\",\"item_material\":\"Ground Beef Patty\"},\"sample_item_index\":29,\"survey_result\":{\"guess_grill_correct\":\"true\",\"thumbs_up_score\":\"0.4\"}},\"63\":{\"meta_data\":{\"grill_type\":\"Propane\",\"is_frozen\":\"false\",\"item_material\":\"Hotdog\"},\"sample_item_index\":3,\"survey_result\":{\"guess_grill_correct\":\"true\",\"thumbs_up_score\":\"0.4\"}},\"630\":{\"meta_data\":{\"grill_type\":\"Charcoal\",\"is_frozen\":\"true\",\"item_material\":\"Ground Beef Patty\"},\"sample_item_index\":30,\"survey_result\":{\"guess_grill_correct\":\"true\",\"thumbs_up_score\":\"0.5\"}},\"631\":{\"meta_data\":{\"grill_type\":\"Charcoal\",\"is_frozen\":\"false\",\"item_material\":\"Ground Beef Patty\"},\"sample_item_index\":1,\"survey_result\":{\"guess_grill_correct\":\"true\",\"thumbs_up_score\":\"0.4\"}},\"632\":{\"meta_data\":{\"grill_type\":\"Charcoal\",\"is_frozen\":\"true\",\"item_material\":\"Ground Beef Patty\"},\"sample_item_index\":2,\"survey_result\":{\"guess_grill_correct\":\"true\",\"thumbs_up_score\":\"0.0\"}},\"633\":{\"meta_data\":{\"grill_type\":\"Charcoal\",\"is_frozen\":\"false\",\"item_material\":\"Ground Beef Patty\"},\"sample_item_index\":3,\"survey_result\":{\"guess_grill_correct\":\"true\",\"thumbs_up_score\":\"0.1\"}},\"634\":{\"meta_data\":{\"grill_type\":\"Charcoal\",\"is_frozen\":\"true\",\"item_material\":\"Ground Beef Patty\"},\"sample_item_index\":4,\"survey_result\":{\"guess_grill_correct\":\"true\",\"thumbs_up_score\":\"0.3\"}},\"635\":{\"meta_data\":{\"grill_type\":\"Charcoal\",\"is_frozen\":\"false\",\"item_material\":\"Ground Beef Patty\"},\"sample_item_index\":5,\"survey_result\":{\"guess_grill_correct\":\"true\",\"thumbs_up_score\":\"0.4\"}},\"636\":{\"meta_data\":{\"grill_type\":\"Charcoal\",\"is_frozen\":\"true\",\"item_material\":\"Ground Beef Patty\"},\"sample_item_index\":6,\"survey_result\":{\"guess_grill_correct\":\"false\",\"thumbs_up_score\":\"0.1\"}},\"637\":{\"meta_data\":{\"grill_type\":\"Charcoal\",\"is_frozen\":\"false\",\"item_material\":\"Ground Beef Patty\"},\"sample_item_index\":7,\"survey_result\":{\"guess_grill_correct\":\"true\",\"thumbs_up_score\":\"0.2\"}},\"638\":{\"meta_data\":{\"grill_type\":\"Charcoal\",\"is_frozen\":\"true\",\"item_material\":\"Ground Beef Patty\"},\"sample_item_index\":8,\"survey_result\":{\"guess_grill_correct\":\"true\",\"thumbs_up_score\":\"0.4\"}},\"639\":{\"meta_data\":{\"grill_type\":\"Charcoal\",\"is_frozen\":\"false\",\"item_material\":\"Ground Beef Patty\"},\"sample_item_index\":9,\"survey_result\":{\"guess_grill_correct\":\"true\",\"thumbs_up_score\":\"0.4\"}},\"64\":{\"meta_data\":{\"grill_type\":\"Propane\",\"is_frozen\":\"true\",\"item_material\":\"Hotdog\"},\"sample_item_index\":4,\"survey_result\":{\"guess_grill_correct\":\"false\",\"thumbs_up_score\":\"0.1\"}},\"640\":{\"meta_data\":{\"grill_type\":\"Charcoal\",\"is_frozen\":\"true\",\"item_material\":\"Ground Beef Patty\"},\"sample_item_index\":10,\"survey_result\":{\"guess_grill_correct\":\"true\",\"thumbs_up_score\":\"0.0\"}},\"641\":{\"meta_data\":{\"grill_type\":\"Charcoal\",\"is_frozen\":\"false\",\"item_material\":\"Ground Beef Patty\"},\"sample_item_index\":11,\"survey_result\":{\"guess_grill_correct\":\"true\",\"thumbs_up_score\":\"0.2\"}},\"642\":{\"meta_data\":{\"grill_type\":\"Charcoal\",\"is_frozen\":\"true\",\"item_material\":\"Ground Beef Patty\"},\"sample_item_index\":12,\"survey_result\":{\"guess_grill_correct\":\"true\",\"thumbs_up_score\":\"0.1\"}},\"643\":{\"meta_data\":{\"grill_type\":\"Charcoal\",\"is_frozen\":\"false\",\"item_material\":\"Ground Beef Patty\"},\"sample_item_index\":13,\"survey_result\":{\"guess_grill_correct\":\"true\",\"thumbs_up_score\":\"0.2\"}},\"644\":{\"meta_data\":{\"grill_type\":\"Charcoal\",\"is_frozen\":\"true\",\"item_material\":\"Ground Beef Patty\"},\"sample_item_index\":14,\"survey_result\":{\"guess_grill_correct\":\"true\",\"thumbs_up_score\":\"0.2\"}},\"645\":{\"meta_data\":{\"grill_type\":\"Charcoal\",\"is_frozen\":\"false\",\"item_material\":\"Ground Beef Patty\"},\"sample_item_index\":15,\"survey_result\":{\"guess_grill_correct\":\"true\",\"thumbs_up_score\":\"0.4\"}},\"646\":{\"meta_data\":{\"grill_type\":\"Charcoal\",\"is_frozen\":\"true\",\"item_material\":\"Ground Beef Patty\"},\"sample_item_index\":16,\"survey_result\":{\"guess_grill_correct\":\"false\",\"thumbs_up_score\":\"0.2\"}},\"647\":{\"meta_data\":{\"grill_type\":\"Charcoal\",\"is_frozen\":\"false\",\"item_material\":\"Ground Beef Patty\"},\"sample_item_index\":17,\"survey_result\":{\"guess_grill_correct\":\"true\",\"thumbs_up_score\":\"0.3\"}},\"648\":{\"meta_data\":{\"grill_type\":\"Charcoal\",\"is_frozen\":\"true\",\"item_material\":\"Ground Beef Patty\"},\"sample_item_index\":18,\"survey_result\":{\"guess_grill_correct\":\"true\",\"thumbs_up_score\":\"0.0\"}},\"649\":{\"meta_data\":{\"grill_type\":\"Charcoal\",\"is_frozen\":\"false\",\"item_material\":\"Ground Beef Patty\"},\"sample_item_index\":19,\"survey_result\":{\"guess_grill_correct\":\"true\",\"thumbs_up_score\":\"0.4\"}},\"65\":{\"meta_data\":{\"grill_type\":\"Propane\",\"is_frozen\":\"false\",\"item_material\":\"Hotdog\"},\"sample_item_index\":5,\"survey_result\":{\"guess_grill_correct\":\"true\",\"thumbs_up_score\":\"0.1\"}},\"650\":{\"meta_data\":{\"grill_type\":\"Charcoal\",\"is_frozen\":\"true\",\"item_material\":\"Ground Beef Patty\"},\"sample_item_index\":20,\"survey_result\":{\"guess_grill_correct\":\"false\",\"thumbs_up_score\":\"0.2\"}},\"651\":{\"meta_data\":{\"grill_type\":\"Charcoal\",\"is_frozen\":\"false\",\"item_material\":\"Ground Beef Patty\"},\"sample_item_index\":21,\"survey_result\":{\"guess_grill_correct\":\"false\",\"thumbs_up_score\":\"0.2\"}},\"652\":{\"meta_data\":{\"grill_type\":\"Charcoal\",\"is_frozen\":\"true\",\"item_material\":\"Ground Beef Patty\"},\"sample_item_index\":22,\"survey_result\":{\"guess_grill_correct\":\"true\",\"thumbs_up_score\":\"0.3\"}},\"653\":{\"meta_data\":{\"grill_type\":\"Charcoal\",\"is_frozen\":\"false\",\"item_material\":\"Ground Beef Patty\"},\"sample_item_index\":23,\"survey_result\":{\"guess_grill_correct\":\"true\",\"thumbs_up_score\":\"0.3\"}},\"654\":{\"meta_data\":{\"grill_type\":\"Charcoal\",\"is_frozen\":\"true\",\"item_material\":\"Ground Beef Patty\"},\"sample_item_index\":24,\"survey_result\":{\"guess_grill_correct\":\"true\",\"thumbs_up_score\":\"0.4\"}},\"655\":{\"meta_data\":{\"grill_type\":\"Charcoal\",\"is_frozen\":\"false\",\"item_material\":\"Ground Beef Patty\"},\"sample_item_index\":25,\"survey_result\":{\"guess_grill_correct\":\"true\",\"thumbs_up_score\":\"0.4\"}},\"656\":{\"meta_data\":{\"grill_type\":\"Charcoal\",\"is_frozen\":\"true\",\"item_material\":\"Ground Beef Patty\"},\"sample_item_index\":26,\"survey_result\":{\"guess_grill_correct\":\"true\",\"thumbs_up_score\":\"0.2\"}},\"657\":{\"meta_data\":{\"grill_type\":\"Charcoal\",\"is_frozen\":\"false\",\"item_material\":\"Ground Beef Patty\"},\"sample_item_index\":27,\"survey_result\":{\"guess_grill_correct\":\"false\",\"thumbs_up_score\":\"0.2\"}},\"658\":{\"meta_data\":{\"grill_type\":\"Charcoal\",\"is_frozen\":\"true\",\"item_material\":\"Ground Beef Patty\"},\"sample_item_index\":28,\"survey_result\":{\"guess_grill_correct\":\"true\",\"thumbs_up_score\":\"0.0\"}},\"659\":{\"meta_data\":{\"grill_type\":\"Charcoal\",\"is_frozen\":\"false\",\"item_material\":\"Ground Beef Patty\"},\"sample_item_index\":29,\"survey_result\":{\"guess_grill_correct\":\"true\",\"thumbs_up_score\":\"0.1\"}},\"66\":{\"meta_data\":{\"grill_type\":\"Propane\",\"is_frozen\":\"true\",\"item_material\":\"Hotdog\"},\"sample_item_index\":6,\"survey_result\":{\"guess_grill_correct\":\"false\",\"thumbs_up_score\":\"0.1\"}},\"660\":{\"meta_data\":{\"grill_type\":\"Charcoal\",\"is_frozen\":\"true\",\"item_material\":\"Ground Beef Patty\"},\"sample_item_index\":30,\"survey_result\":{\"guess_grill_correct\":\"true\",\"thumbs_up_score\":\"0.2\"}},\"661\":{\"meta_data\":{\"grill_type\":\"Charcoal\",\"is_frozen\":\"false\",\"item_material\":\"Ground Beef Patty\"},\"sample_item_index\":1,\"survey_result\":{\"guess_grill_correct\":\"false\",\"thumbs_up_score\":\"0.0\"}},\"662\":{\"meta_data\":{\"grill_type\":\"Charcoal\",\"is_frozen\":\"true\",\"item_material\":\"Ground Beef Patty\"},\"sample_item_index\":2,\"survey_result\":{\"guess_grill_correct\":\"true\",\"thumbs_up_score\":\"0.1\"}},\"663\":{\"meta_data\":{\"grill_type\":\"Charcoal\",\"is_frozen\":\"false\",\"item_material\":\"Ground Beef Patty\"},\"sample_item_index\":3,\"survey_result\":{\"guess_grill_correct\":\"true\",\"thumbs_up_score\":\"0.1\"}},\"664\":{\"meta_data\":{\"grill_type\":\"Charcoal\",\"is_frozen\":\"true\",\"item_material\":\"Ground Beef Patty\"},\"sample_item_index\":4,\"survey_result\":{\"guess_grill_correct\":\"true\",\"thumbs_up_score\":\"0.0\"}},\"665\":{\"meta_data\":{\"grill_type\":\"Charcoal\",\"is_frozen\":\"false\",\"item_material\":\"Ground Beef Patty\"},\"sample_item_index\":5,\"survey_result\":{\"guess_grill_correct\":\"false\",\"thumbs_up_score\":\"0.1\"}},\"666\":{\"meta_data\":{\"grill_type\":\"Charcoal\",\"is_frozen\":\"true\",\"item_material\":\"Ground Beef Patty\"},\"sample_item_index\":6,\"survey_result\":{\"guess_grill_correct\":\"false\",\"thumbs_up_score\":\"0.1\"}},\"667\":{\"meta_data\":{\"grill_type\":\"Charcoal\",\"is_frozen\":\"false\",\"item_material\":\"Ground Beef Patty\"},\"sample_item_index\":7,\"survey_result\":{\"guess_grill_correct\":\"true\",\"thumbs_up_score\":\"0.1\"}},\"668\":{\"meta_data\":{\"grill_type\":\"Charcoal\",\"is_frozen\":\"true\",\"item_material\":\"Ground Beef Patty\"},\"sample_item_index\":8,\"survey_result\":{\"guess_grill_correct\":\"true\",\"thumbs_up_score\":\"0.0\"}},\"669\":{\"meta_data\":{\"grill_type\":\"Charcoal\",\"is_frozen\":\"false\",\"item_material\":\"Ground Beef Patty\"},\"sample_item_index\":9,\"survey_result\":{\"guess_grill_correct\":\"false\",\"thumbs_up_score\":\"0.1\"}},\"67\":{\"meta_data\":{\"grill_type\":\"Propane\",\"is_frozen\":\"false\",\"item_material\":\"Hotdog\"},\"sample_item_index\":7,\"survey_result\":{\"guess_grill_correct\":\"true\",\"thumbs_up_score\":\"0.6\"}},\"670\":{\"meta_data\":{\"grill_type\":\"Charcoal\",\"is_frozen\":\"true\",\"item_material\":\"Ground Beef Patty\"},\"sample_item_index\":10,\"survey_result\":{\"guess_grill_correct\":\"true\",\"thumbs_up_score\":\"0.1\"}},\"671\":{\"meta_data\":{\"grill_type\":\"Charcoal\",\"is_frozen\":\"false\",\"item_material\":\"Ground Beef Patty\"},\"sample_item_index\":11,\"survey_result\":{\"guess_grill_correct\":\"true\",\"thumbs_up_score\":\"0.0\"}},\"672\":{\"meta_data\":{\"grill_type\":\"Charcoal\",\"is_frozen\":\"true\",\"item_material\":\"Ground Beef Patty\"},\"sample_item_index\":12,\"survey_result\":{\"guess_grill_correct\":\"true\",\"thumbs_up_score\":\"0.0\"}},\"673\":{\"meta_data\":{\"grill_type\":\"Charcoal\",\"is_frozen\":\"false\",\"item_material\":\"Ground Beef Patty\"},\"sample_item_index\":13,\"survey_result\":{\"guess_grill_correct\":\"true\",\"thumbs_up_score\":\"0.1\"}},\"674\":{\"meta_data\":{\"grill_type\":\"Charcoal\",\"is_frozen\":\"true\",\"item_material\":\"Ground Beef Patty\"},\"sample_item_index\":14,\"survey_result\":{\"guess_grill_correct\":\"true\",\"thumbs_up_score\":\"0.1\"}},\"675\":{\"meta_data\":{\"grill_type\":\"Charcoal\",\"is_frozen\":\"false\",\"item_material\":\"Ground Beef Patty\"},\"sample_item_index\":15,\"survey_result\":{\"guess_grill_correct\":\"true\",\"thumbs_up_score\":\"0.0\"}},\"676\":{\"meta_data\":{\"grill_type\":\"Charcoal\",\"is_frozen\":\"true\",\"item_material\":\"Ground Beef Patty\"},\"sample_item_index\":16,\"survey_result\":{\"guess_grill_correct\":\"true\",\"thumbs_up_score\":\"0.0\"}},\"677\":{\"meta_data\":{\"grill_type\":\"Charcoal\",\"is_frozen\":\"false\",\"item_material\":\"Ground Beef Patty\"},\"sample_item_index\":17,\"survey_result\":{\"guess_grill_correct\":\"false\",\"thumbs_up_score\":\"0.0\"}},\"678\":{\"meta_data\":{\"grill_type\":\"Charcoal\",\"is_frozen\":\"true\",\"item_material\":\"Ground Beef Patty\"},\"sample_item_index\":18,\"survey_result\":{\"guess_grill_correct\":\"true\",\"thumbs_up_score\":\"0.1\"}},\"679\":{\"meta_data\":{\"grill_type\":\"Charcoal\",\"is_frozen\":\"false\",\"item_material\":\"Ground Beef Patty\"},\"sample_item_index\":19,\"survey_result\":{\"guess_grill_correct\":\"true\",\"thumbs_up_score\":\"0.1\"}},\"68\":{\"meta_data\":{\"grill_type\":\"Propane\",\"is_frozen\":\"true\",\"item_material\":\"Hotdog\"},\"sample_item_index\":8,\"survey_result\":{\"guess_grill_correct\":\"false\",\"thumbs_up_score\":\"0.8\"}},\"680\":{\"meta_data\":{\"grill_type\":\"Charcoal\",\"is_frozen\":\"true\",\"item_material\":\"Ground Beef Patty\"},\"sample_item_index\":20,\"survey_result\":{\"guess_grill_correct\":\"true\",\"thumbs_up_score\":\"0.1\"}},\"681\":{\"meta_data\":{\"grill_type\":\"Charcoal\",\"is_frozen\":\"false\",\"item_material\":\"Ground Beef Patty\"},\"sample_item_index\":21,\"survey_result\":{\"guess_grill_correct\":\"true\",\"thumbs_up_score\":\"0.0\"}},\"682\":{\"meta_data\":{\"grill_type\":\"Charcoal\",\"is_frozen\":\"true\",\"item_material\":\"Ground Beef Patty\"},\"sample_item_index\":22,\"survey_result\":{\"guess_grill_correct\":\"true\",\"thumbs_up_score\":\"0.0\"}},\"683\":{\"meta_data\":{\"grill_type\":\"Charcoal\",\"is_frozen\":\"false\",\"item_material\":\"Ground Beef Patty\"},\"sample_item_index\":23,\"survey_result\":{\"guess_grill_correct\":\"true\",\"thumbs_up_score\":\"0.0\"}},\"684\":{\"meta_data\":{\"grill_type\":\"Charcoal\",\"is_frozen\":\"true\",\"item_material\":\"Ground Beef Patty\"},\"sample_item_index\":24,\"survey_result\":{\"guess_grill_correct\":\"false\",\"thumbs_up_score\":\"0.0\"}},\"685\":{\"meta_data\":{\"grill_type\":\"Charcoal\",\"is_frozen\":\"false\",\"item_material\":\"Ground Beef Patty\"},\"sample_item_index\":25,\"survey_result\":{\"guess_grill_correct\":\"false\",\"thumbs_up_score\":\"0.0\"}},\"686\":{\"meta_data\":{\"grill_type\":\"Charcoal\",\"is_frozen\":\"true\",\"item_material\":\"Ground Beef Patty\"},\"sample_item_index\":26,\"survey_result\":{\"guess_grill_correct\":\"true\",\"thumbs_up_score\":\"0.1\"}},\"687\":{\"meta_data\":{\"grill_type\":\"Charcoal\",\"is_frozen\":\"false\",\"item_material\":\"Ground Beef Patty\"},\"sample_item_index\":27,\"survey_result\":{\"guess_grill_correct\":\"false\",\"thumbs_up_score\":\"0.1\"}},\"688\":{\"meta_data\":{\"grill_type\":\"Charcoal\",\"is_frozen\":\"true\",\"item_material\":\"Ground Beef Patty\"},\"sample_item_index\":28,\"survey_result\":{\"guess_grill_correct\":\"true\",\"thumbs_up_score\":\"0.1\"}},\"689\":{\"meta_data\":{\"grill_type\":\"Charcoal\",\"is_frozen\":\"false\",\"item_material\":\"Ground Beef Patty\"},\"sample_item_index\":29,\"survey_result\":{\"guess_grill_correct\":\"true\",\"thumbs_up_score\":\"0.0\"}},\"69\":{\"meta_data\":{\"grill_type\":\"Propane\",\"is_frozen\":\"false\",\"item_material\":\"Hotdog\"},\"sample_item_index\":9,\"survey_result\":{\"guess_grill_correct\":\"true\",\"thumbs_up_score\":\"1.1\"}},\"690\":{\"meta_data\":{\"grill_type\":\"Charcoal\",\"is_frozen\":\"true\",\"item_material\":\"Ground Beef Patty\"},\"sample_item_index\":30,\"survey_result\":{\"guess_grill_correct\":\"true\",\"thumbs_up_score\":\"0.0\"}},\"691\":{\"meta_data\":{\"grill_type\":\"Charcoal\",\"is_frozen\":\"false\",\"item_material\":\"Ground Beef Patty\"},\"sample_item_index\":1,\"survey_result\":{\"guess_grill_correct\":\"true\",\"thumbs_up_score\":\"0.2\"}},\"692\":{\"meta_data\":{\"grill_type\":\"Charcoal\",\"is_frozen\":\"true\",\"item_material\":\"Ground Beef Patty\"},\"sample_item_index\":2,\"survey_result\":{\"guess_grill_correct\":\"true\",\"thumbs_up_score\":\"0.1\"}},\"693\":{\"meta_data\":{\"grill_type\":\"Charcoal\",\"is_frozen\":\"false\",\"item_material\":\"Ground Beef Patty\"},\"sample_item_index\":3,\"survey_result\":{\"guess_grill_correct\":\"false\",\"thumbs_up_score\":\"0.2\"}},\"694\":{\"meta_data\":{\"grill_type\":\"Charcoal\",\"is_frozen\":\"true\",\"item_material\":\"Ground Beef Patty\"},\"sample_item_index\":4,\"survey_result\":{\"guess_grill_correct\":\"true\",\"thumbs_up_score\":\"0.1\"}},\"695\":{\"meta_data\":{\"grill_type\":\"Charcoal\",\"is_frozen\":\"false\",\"item_material\":\"Ground Beef Patty\"},\"sample_item_index\":5,\"survey_result\":{\"guess_grill_correct\":\"true\",\"thumbs_up_score\":\"0.0\"}},\"696\":{\"meta_data\":{\"grill_type\":\"Charcoal\",\"is_frozen\":\"true\",\"item_material\":\"Ground Beef Patty\"},\"sample_item_index\":6,\"survey_result\":{\"guess_grill_correct\":\"true\",\"thumbs_up_score\":\"0.0\"}},\"697\":{\"meta_data\":{\"grill_type\":\"Charcoal\",\"is_frozen\":\"false\",\"item_material\":\"Ground Beef Patty\"},\"sample_item_index\":7,\"survey_result\":{\"guess_grill_correct\":\"true\",\"thumbs_up_score\":\"0.3\"}},\"698\":{\"meta_data\":{\"grill_type\":\"Charcoal\",\"is_frozen\":\"true\",\"item_material\":\"Ground Beef Patty\"},\"sample_item_index\":8,\"survey_result\":{\"guess_grill_correct\":\"true\",\"thumbs_up_score\":\"0.3\"}},\"699\":{\"meta_data\":{\"grill_type\":\"Charcoal\",\"is_frozen\":\"false\",\"item_material\":\"Ground Beef Patty\"},\"sample_item_index\":9,\"survey_result\":{\"guess_grill_correct\":\"true\",\"thumbs_up_score\":\"0.0\"}},\"7\":{\"meta_data\":{\"grill_type\":\"Propane\",\"is_frozen\":\"false\",\"item_material\":\"Hotdog\"},\"sample_item_index\":7,\"survey_result\":{\"guess_grill_correct\":\"true\",\"thumbs_up_score\":\"0.3\"}},\"70\":{\"meta_data\":{\"grill_type\":\"Propane\",\"is_frozen\":\"true\",\"item_material\":\"Hotdog\"},\"sample_item_index\":10,\"survey_result\":{\"guess_grill_correct\":\"false\",\"thumbs_up_score\":\"0.8\"}},\"700\":{\"meta_data\":{\"grill_type\":\"Charcoal\",\"is_frozen\":\"true\",\"item_material\":\"Ground Beef Patty\"},\"sample_item_index\":10,\"survey_result\":{\"guess_grill_correct\":\"true\",\"thumbs_up_score\":\"0.2\"}},\"701\":{\"meta_data\":{\"grill_type\":\"Charcoal\",\"is_frozen\":\"false\",\"item_material\":\"Ground Beef Patty\"},\"sample_item_index\":11,\"survey_result\":{\"guess_grill_correct\":\"true\",\"thumbs_up_score\":\"0.3\"}},\"702\":{\"meta_data\":{\"grill_type\":\"Charcoal\",\"is_frozen\":\"true\",\"item_material\":\"Ground Beef Patty\"},\"sample_item_index\":12,\"survey_result\":{\"guess_grill_correct\":\"true\",\"thumbs_up_score\":\"0.2\"}},\"703\":{\"meta_data\":{\"grill_type\":\"Charcoal\",\"is_frozen\":\"false\",\"item_material\":\"Ground Beef Patty\"},\"sample_item_index\":13,\"survey_result\":{\"guess_grill_correct\":\"true\",\"thumbs_up_score\":\"0.0\"}},\"704\":{\"meta_data\":{\"grill_type\":\"Charcoal\",\"is_frozen\":\"true\",\"item_material\":\"Ground Beef Patty\"},\"sample_item_index\":14,\"survey_result\":{\"guess_grill_correct\":\"true\",\"thumbs_up_score\":\"0.1\"}},\"705\":{\"meta_data\":{\"grill_type\":\"Charcoal\",\"is_frozen\":\"false\",\"item_material\":\"Ground Beef Patty\"},\"sample_item_index\":15,\"survey_result\":{\"guess_grill_correct\":\"true\",\"thumbs_up_score\":\"0.0\"}},\"706\":{\"meta_data\":{\"grill_type\":\"Charcoal\",\"is_frozen\":\"true\",\"item_material\":\"Ground Beef Patty\"},\"sample_item_index\":16,\"survey_result\":{\"guess_grill_correct\":\"true\",\"thumbs_up_score\":\"0.1\"}},\"707\":{\"meta_data\":{\"grill_type\":\"Charcoal\",\"is_frozen\":\"false\",\"item_material\":\"Ground Beef Patty\"},\"sample_item_index\":17,\"survey_result\":{\"guess_grill_correct\":\"false\",\"thumbs_up_score\":\"0.2\"}},\"708\":{\"meta_data\":{\"grill_type\":\"Charcoal\",\"is_frozen\":\"true\",\"item_material\":\"Ground Beef Patty\"},\"sample_item_index\":18,\"survey_result\":{\"guess_grill_correct\":\"true\",\"thumbs_up_score\":\"0.1\"}},\"709\":{\"meta_data\":{\"grill_type\":\"Charcoal\",\"is_frozen\":\"false\",\"item_material\":\"Ground Beef Patty\"},\"sample_item_index\":19,\"survey_result\":{\"guess_grill_correct\":\"true\",\"thumbs_up_score\":\"0.3\"}},\"71\":{\"meta_data\":{\"grill_type\":\"Propane\",\"is_frozen\":\"false\",\"item_material\":\"Hotdog\"},\"sample_item_index\":11,\"survey_result\":{\"guess_grill_correct\":\"true\",\"thumbs_up_score\":\"0.5\"}},\"710\":{\"meta_data\":{\"grill_type\":\"Charcoal\",\"is_frozen\":\"true\",\"item_material\":\"Ground Beef Patty\"},\"sample_item_index\":20,\"survey_result\":{\"guess_grill_correct\":\"true\",\"thumbs_up_score\":\"0.0\"}},\"711\":{\"meta_data\":{\"grill_type\":\"Charcoal\",\"is_frozen\":\"false\",\"item_material\":\"Ground Beef Patty\"},\"sample_item_index\":21,\"survey_result\":{\"guess_grill_correct\":\"true\",\"thumbs_up_score\":\"0.1\"}},\"712\":{\"meta_data\":{\"grill_type\":\"Charcoal\",\"is_frozen\":\"true\",\"item_material\":\"Ground Beef Patty\"},\"sample_item_index\":22,\"survey_result\":{\"guess_grill_correct\":\"true\",\"thumbs_up_score\":\"0.1\"}},\"713\":{\"meta_data\":{\"grill_type\":\"Charcoal\",\"is_frozen\":\"false\",\"item_material\":\"Ground Beef Patty\"},\"sample_item_index\":23,\"survey_result\":{\"guess_grill_correct\":\"true\",\"thumbs_up_score\":\"0.0\"}},\"714\":{\"meta_data\":{\"grill_type\":\"Charcoal\",\"is_frozen\":\"true\",\"item_material\":\"Ground Beef Patty\"},\"sample_item_index\":24,\"survey_result\":{\"guess_grill_correct\":\"true\",\"thumbs_up_score\":\"0.2\"}},\"715\":{\"meta_data\":{\"grill_type\":\"Charcoal\",\"is_frozen\":\"false\",\"item_material\":\"Ground Beef Patty\"},\"sample_item_index\":25,\"survey_result\":{\"guess_grill_correct\":\"true\",\"thumbs_up_score\":\"0.3\"}},\"716\":{\"meta_data\":{\"grill_type\":\"Charcoal\",\"is_frozen\":\"true\",\"item_material\":\"Ground Beef Patty\"},\"sample_item_index\":26,\"survey_result\":{\"guess_grill_correct\":\"true\",\"thumbs_up_score\":\"0.3\"}},\"717\":{\"meta_data\":{\"grill_type\":\"Charcoal\",\"is_frozen\":\"false\",\"item_material\":\"Ground Beef Patty\"},\"sample_item_index\":27,\"survey_result\":{\"guess_grill_correct\":\"false\",\"thumbs_up_score\":\"0.1\"}},\"718\":{\"meta_data\":{\"grill_type\":\"Charcoal\",\"is_frozen\":\"true\",\"item_material\":\"Ground Beef Patty\"},\"sample_item_index\":28,\"survey_result\":{\"guess_grill_correct\":\"true\",\"thumbs_up_score\":\"0.3\"}},\"719\":{\"meta_data\":{\"grill_type\":\"Charcoal\",\"is_frozen\":\"false\",\"item_material\":\"Ground Beef Patty\"},\"sample_item_index\":29,\"survey_result\":{\"guess_grill_correct\":\"true\",\"thumbs_up_score\":\"0.2\"}},\"72\":{\"meta_data\":{\"grill_type\":\"Propane\",\"is_frozen\":\"true\",\"item_material\":\"Hotdog\"},\"sample_item_index\":12,\"survey_result\":{\"guess_grill_correct\":\"true\",\"thumbs_up_score\":\"0.7\"}},\"720\":{\"meta_data\":{\"grill_type\":\"Charcoal\",\"is_frozen\":\"true\",\"item_material\":\"Ground Beef Patty\"},\"sample_item_index\":30,\"survey_result\":{\"guess_grill_correct\":\"true\",\"thumbs_up_score\":\"0.0\"}},\"73\":{\"meta_data\":{\"grill_type\":\"Propane\",\"is_frozen\":\"false\",\"item_material\":\"Hotdog\"},\"sample_item_index\":13,\"survey_result\":{\"guess_grill_correct\":\"true\",\"thumbs_up_score\":\"0.3\"}},\"74\":{\"meta_data\":{\"grill_type\":\"Propane\",\"is_frozen\":\"true\",\"item_material\":\"Hotdog\"},\"sample_item_index\":14,\"survey_result\":{\"guess_grill_correct\":\"true\",\"thumbs_up_score\":\"0.0\"}},\"75\":{\"meta_data\":{\"grill_type\":\"Propane\",\"is_frozen\":\"false\",\"item_material\":\"Hotdog\"},\"sample_item_index\":15,\"survey_result\":{\"guess_grill_correct\":\"true\",\"thumbs_up_score\":\"0.9\"}},\"76\":{\"meta_data\":{\"grill_type\":\"Propane\",\"is_frozen\":\"true\",\"item_material\":\"Hotdog\"},\"sample_item_index\":16,\"survey_result\":{\"guess_grill_correct\":\"true\",\"thumbs_up_score\":\"0.3\"}},\"77\":{\"meta_data\":{\"grill_type\":\"Propane\",\"is_frozen\":\"false\",\"item_material\":\"Hotdog\"},\"sample_item_index\":17,\"survey_result\":{\"guess_grill_correct\":\"true\",\"thumbs_up_score\":\"0.4\"}},\"78\":{\"meta_data\":{\"grill_type\":\"Propane\",\"is_frozen\":\"true\",\"item_material\":\"Hotdog\"},\"sample_item_index\":18,\"survey_result\":{\"guess_grill_correct\":\"true\",\"thumbs_up_score\":\"0.8\"}},\"79\":{\"meta_data\":{\"grill_type\":\"Propane\",\"is_frozen\":\"false\",\"item_material\":\"Hotdog\"},\"sample_item_index\":19,\"survey_result\":{\"guess_grill_correct\":\"false\",\"thumbs_up_score\":\"0.5\"}},\"8\":{\"meta_data\":{\"grill_type\":\"Propane\",\"is_frozen\":\"true\",\"item_material\":\"Hotdog\"},\"sample_item_index\":8,\"survey_result\":{\"guess_grill_correct\":\"true\",\"thumbs_up_score\":\"0.8\"}},\"80\":{\"meta_data\":{\"grill_type\":\"Propane\",\"is_frozen\":\"true\",\"item_material\":\"Hotdog\"},\"sample_item_index\":20,\"survey_result\":{\"guess_grill_correct\":\"true\",\"thumbs_up_score\":\"0.4\"}},\"81\":{\"meta_data\":{\"grill_type\":\"Propane\",\"is_frozen\":\"false\",\"item_material\":\"Hotdog\"},\"sample_item_index\":21,\"survey_result\":{\"guess_grill_correct\":\"true\",\"thumbs_up_score\":\"0.8\"}},\"82\":{\"meta_data\":{\"grill_type\":\"Propane\",\"is_frozen\":\"true\",\"item_material\":\"Hotdog\"},\"sample_item_index\":22,\"survey_result\":{\"guess_grill_correct\":\"true\",\"thumbs_up_score\":\"1.2\"}},\"83\":{\"meta_data\":{\"grill_type\":\"Propane\",\"is_frozen\":\"false\",\"item_material\":\"Hotdog\"},\"sample_item_index\":23,\"survey_result\":{\"guess_grill_correct\":\"true\",\"thumbs_up_score\":\"1.1\"}},\"84\":{\"meta_data\":{\"grill_type\":\"Propane\",\"is_frozen\":\"true\",\"item_material\":\"Hotdog\"},\"sample_item_index\":24,\"survey_result\":{\"guess_grill_correct\":\"true\",\"thumbs_up_score\":\"1.2\"}},\"85\":{\"meta_data\":{\"grill_type\":\"Propane\",\"is_frozen\":\"false\",\"item_material\":\"Hotdog\"},\"sample_item_index\":25,\"survey_result\":{\"guess_grill_correct\":\"true\",\"thumbs_up_score\":\"0.9\"}},\"86\":{\"meta_data\":{\"grill_type\":\"Propane\",\"is_frozen\":\"true\",\"item_material\":\"Hotdog\"},\"sample_item_index\":26,\"survey_result\":{\"guess_grill_correct\":\"true\",\"thumbs_up_score\":\"0.6\"}},\"87\":{\"meta_data\":{\"grill_type\":\"Propane\",\"is_frozen\":\"false\",\"item_material\":\"Hotdog\"},\"sample_item_index\":27,\"survey_result\":{\"guess_grill_correct\":\"true\",\"thumbs_up_score\":\"0.2\"}},\"88\":{\"meta_data\":{\"grill_type\":\"Propane\",\"is_frozen\":\"true\",\"item_material\":\"Hotdog\"},\"sample_item_index\":28,\"survey_result\":{\"guess_grill_correct\":\"true\",\"thumbs_up_score\":\"0.5\"}},\"89\":{\"meta_data\":{\"grill_type\":\"Propane\",\"is_frozen\":\"false\",\"item_material\":\"Hotdog\"},\"sample_item_index\":29,\"survey_result\":{\"guess_grill_correct\":\"false\",\"thumbs_up_score\":\"0.0\"}},\"9\":{\"meta_data\":{\"grill_type\":\"Propane\",\"is_frozen\":\"false\",\"item_material\":\"Hotdog\"},\"sample_item_index\":9,\"survey_result\":{\"guess_grill_correct\":\"false\",\"thumbs_up_score\":\"0.7\"}},\"90\":{\"meta_data\":{\"grill_type\":\"Propane\",\"is_frozen\":\"true\",\"item_material\":\"Hotdog\"},\"sample_item_index\":30,\"survey_result\":{\"guess_grill_correct\":\"false\",\"thumbs_up_score\":\"0.6\"}},\"91\":{\"meta_data\":{\"grill_type\":\"Propane\",\"is_frozen\":\"false\",\"item_material\":\"Hotdog\"},\"sample_item_index\":1,\"survey_result\":{\"guess_grill_correct\":\"true\",\"thumbs_up_score\":\"0.9\"}},\"92\":{\"meta_data\":{\"grill_type\":\"Propane\",\"is_frozen\":\"true\",\"item_material\":\"Hotdog\"},\"sample_item_index\":2,\"survey_result\":{\"guess_grill_correct\":\"false\",\"thumbs_up_score\":\"0.9\"}},\"93\":{\"meta_data\":{\"grill_type\":\"Propane\",\"is_frozen\":\"false\",\"item_material\":\"Hotdog\"},\"sample_item_index\":3,\"survey_result\":{\"guess_grill_correct\":\"true\",\"thumbs_up_score\":\"0.0\"}},\"94\":{\"meta_data\":{\"grill_type\":\"Propane\",\"is_frozen\":\"true\",\"item_material\":\"Hotdog\"},\"sample_item_index\":4,\"survey_result\":{\"guess_grill_correct\":\"true\",\"thumbs_up_score\":\"0.3\"}},\"95\":{\"meta_data\":{\"grill_type\":\"Propane\",\"is_frozen\":\"false\",\"item_material\":\"Hotdog\"},\"sample_item_index\":5,\"survey_result\":{\"guess_grill_correct\":\"true\",\"thumbs_up_score\":\"0.2\"}},\"96\":{\"meta_data\":{\"grill_type\":\"Propane\",\"is_frozen\":\"true\",\"item_material\":\"Hotdog\"},\"sample_item_index\":6,\"survey_result\":{\"guess_grill_correct\":\"true\",\"thumbs_up_score\":\"0.3\"}},\"97\":{\"meta_data\":{\"grill_type\":\"Propane\",\"is_frozen\":\"false\",\"item_material\":\"Hotdog\"},\"sample_item_index\":7,\"survey_result\":{\"guess_grill_correct\":\"true\",\"thumbs_up_score\":\"0.2\"}},\"98\":{\"meta_data\":{\"grill_type\":\"Propane\",\"is_frozen\":\"true\",\"item_material\":\"Hotdog\"},\"sample_item_index\":8,\"survey_result\":{\"guess_grill_correct\":\"true\",\"thumbs_up_score\":\"0.9\"}},\"99\":{\"meta_data\":{\"grill_type\":\"Propane\",\"is_frozen\":\"false\",\"item_material\":\"Hotdog\"},\"sample_item_index\":9,\"survey_result\":{\"guess_grill_correct\":\"true\",\"thumbs_up_score\":\"0.7\"}}}'}]"
      ]
     },
     "execution_count": 4,
     "metadata": {},
     "output_type": "execute_result"
    }
   ],
   "source": [
    "data"
   ]
  },
  {
   "cell_type": "code",
   "execution_count": 5,
   "metadata": {},
   "outputs": [],
   "source": [
    "# The file is a list\n",
    "#Get the first to have a dictionary\n",
    "test_results = data[0]"
   ]
  },
  {
   "cell_type": "code",
   "execution_count": 6,
   "metadata": {},
   "outputs": [],
   "source": [
    "# The dictionary is a string, so we converted to a dictionary and then to a data frame\n",
    "result = test_results['test_result']\n",
    "result = ast.literal_eval(result) "
   ]
  },
  {
   "cell_type": "code",
   "execution_count": 7,
   "metadata": {},
   "outputs": [],
   "source": [
    "# Convert to data frame\n",
    "result = pd.DataFrame(result)"
   ]
  },
  {
   "cell_type": "code",
   "execution_count": 8,
   "metadata": {},
   "outputs": [
    {
     "data": {
      "text/html": [
       "<div>\n",
       "<style scoped>\n",
       "    .dataframe tbody tr th:only-of-type {\n",
       "        vertical-align: middle;\n",
       "    }\n",
       "\n",
       "    .dataframe tbody tr th {\n",
       "        vertical-align: top;\n",
       "    }\n",
       "\n",
       "    .dataframe thead th {\n",
       "        text-align: right;\n",
       "    }\n",
       "</style>\n",
       "<table border=\"1\" class=\"dataframe\">\n",
       "  <thead>\n",
       "    <tr style=\"text-align: right;\">\n",
       "      <th></th>\n",
       "      <th>1</th>\n",
       "      <th>10</th>\n",
       "      <th>100</th>\n",
       "      <th>101</th>\n",
       "      <th>102</th>\n",
       "      <th>103</th>\n",
       "      <th>104</th>\n",
       "      <th>105</th>\n",
       "      <th>106</th>\n",
       "      <th>107</th>\n",
       "      <th>...</th>\n",
       "      <th>90</th>\n",
       "      <th>91</th>\n",
       "      <th>92</th>\n",
       "      <th>93</th>\n",
       "      <th>94</th>\n",
       "      <th>95</th>\n",
       "      <th>96</th>\n",
       "      <th>97</th>\n",
       "      <th>98</th>\n",
       "      <th>99</th>\n",
       "    </tr>\n",
       "  </thead>\n",
       "  <tbody>\n",
       "    <tr>\n",
       "      <th>meta_data</th>\n",
       "      <td>{'grill_type': 'Propane', 'is_frozen': 'false'...</td>\n",
       "      <td>{'grill_type': 'Propane', 'is_frozen': 'true',...</td>\n",
       "      <td>{'grill_type': 'Propane', 'is_frozen': 'true',...</td>\n",
       "      <td>{'grill_type': 'Propane', 'is_frozen': 'false'...</td>\n",
       "      <td>{'grill_type': 'Propane', 'is_frozen': 'true',...</td>\n",
       "      <td>{'grill_type': 'Propane', 'is_frozen': 'false'...</td>\n",
       "      <td>{'grill_type': 'Propane', 'is_frozen': 'true',...</td>\n",
       "      <td>{'grill_type': 'Propane', 'is_frozen': 'false'...</td>\n",
       "      <td>{'grill_type': 'Propane', 'is_frozen': 'true',...</td>\n",
       "      <td>{'grill_type': 'Propane', 'is_frozen': 'false'...</td>\n",
       "      <td>...</td>\n",
       "      <td>{'grill_type': 'Propane', 'is_frozen': 'true',...</td>\n",
       "      <td>{'grill_type': 'Propane', 'is_frozen': 'false'...</td>\n",
       "      <td>{'grill_type': 'Propane', 'is_frozen': 'true',...</td>\n",
       "      <td>{'grill_type': 'Propane', 'is_frozen': 'false'...</td>\n",
       "      <td>{'grill_type': 'Propane', 'is_frozen': 'true',...</td>\n",
       "      <td>{'grill_type': 'Propane', 'is_frozen': 'false'...</td>\n",
       "      <td>{'grill_type': 'Propane', 'is_frozen': 'true',...</td>\n",
       "      <td>{'grill_type': 'Propane', 'is_frozen': 'false'...</td>\n",
       "      <td>{'grill_type': 'Propane', 'is_frozen': 'true',...</td>\n",
       "      <td>{'grill_type': 'Propane', 'is_frozen': 'false'...</td>\n",
       "    </tr>\n",
       "    <tr>\n",
       "      <th>sample_item_index</th>\n",
       "      <td>1</td>\n",
       "      <td>10</td>\n",
       "      <td>10</td>\n",
       "      <td>11</td>\n",
       "      <td>12</td>\n",
       "      <td>13</td>\n",
       "      <td>14</td>\n",
       "      <td>15</td>\n",
       "      <td>16</td>\n",
       "      <td>17</td>\n",
       "      <td>...</td>\n",
       "      <td>30</td>\n",
       "      <td>1</td>\n",
       "      <td>2</td>\n",
       "      <td>3</td>\n",
       "      <td>4</td>\n",
       "      <td>5</td>\n",
       "      <td>6</td>\n",
       "      <td>7</td>\n",
       "      <td>8</td>\n",
       "      <td>9</td>\n",
       "    </tr>\n",
       "    <tr>\n",
       "      <th>survey_result</th>\n",
       "      <td>{'guess_grill_correct': 'true', 'thumbs_up_sco...</td>\n",
       "      <td>{'guess_grill_correct': 'true', 'thumbs_up_sco...</td>\n",
       "      <td>{'guess_grill_correct': 'true', 'thumbs_up_sco...</td>\n",
       "      <td>{'guess_grill_correct': 'true', 'thumbs_up_sco...</td>\n",
       "      <td>{'guess_grill_correct': 'true', 'thumbs_up_sco...</td>\n",
       "      <td>{'guess_grill_correct': 'true', 'thumbs_up_sco...</td>\n",
       "      <td>{'guess_grill_correct': 'true', 'thumbs_up_sco...</td>\n",
       "      <td>{'guess_grill_correct': 'true', 'thumbs_up_sco...</td>\n",
       "      <td>{'guess_grill_correct': 'true', 'thumbs_up_sco...</td>\n",
       "      <td>{'guess_grill_correct': 'true', 'thumbs_up_sco...</td>\n",
       "      <td>...</td>\n",
       "      <td>{'guess_grill_correct': 'false', 'thumbs_up_sc...</td>\n",
       "      <td>{'guess_grill_correct': 'true', 'thumbs_up_sco...</td>\n",
       "      <td>{'guess_grill_correct': 'false', 'thumbs_up_sc...</td>\n",
       "      <td>{'guess_grill_correct': 'true', 'thumbs_up_sco...</td>\n",
       "      <td>{'guess_grill_correct': 'true', 'thumbs_up_sco...</td>\n",
       "      <td>{'guess_grill_correct': 'true', 'thumbs_up_sco...</td>\n",
       "      <td>{'guess_grill_correct': 'true', 'thumbs_up_sco...</td>\n",
       "      <td>{'guess_grill_correct': 'true', 'thumbs_up_sco...</td>\n",
       "      <td>{'guess_grill_correct': 'true', 'thumbs_up_sco...</td>\n",
       "      <td>{'guess_grill_correct': 'true', 'thumbs_up_sco...</td>\n",
       "    </tr>\n",
       "  </tbody>\n",
       "</table>\n",
       "<p>3 rows × 720 columns</p>\n",
       "</div>"
      ],
      "text/plain": [
       "                                                                   1  \\\n",
       "meta_data          {'grill_type': 'Propane', 'is_frozen': 'false'...   \n",
       "sample_item_index                                                  1   \n",
       "survey_result      {'guess_grill_correct': 'true', 'thumbs_up_sco...   \n",
       "\n",
       "                                                                  10  \\\n",
       "meta_data          {'grill_type': 'Propane', 'is_frozen': 'true',...   \n",
       "sample_item_index                                                 10   \n",
       "survey_result      {'guess_grill_correct': 'true', 'thumbs_up_sco...   \n",
       "\n",
       "                                                                 100  \\\n",
       "meta_data          {'grill_type': 'Propane', 'is_frozen': 'true',...   \n",
       "sample_item_index                                                 10   \n",
       "survey_result      {'guess_grill_correct': 'true', 'thumbs_up_sco...   \n",
       "\n",
       "                                                                 101  \\\n",
       "meta_data          {'grill_type': 'Propane', 'is_frozen': 'false'...   \n",
       "sample_item_index                                                 11   \n",
       "survey_result      {'guess_grill_correct': 'true', 'thumbs_up_sco...   \n",
       "\n",
       "                                                                 102  \\\n",
       "meta_data          {'grill_type': 'Propane', 'is_frozen': 'true',...   \n",
       "sample_item_index                                                 12   \n",
       "survey_result      {'guess_grill_correct': 'true', 'thumbs_up_sco...   \n",
       "\n",
       "                                                                 103  \\\n",
       "meta_data          {'grill_type': 'Propane', 'is_frozen': 'false'...   \n",
       "sample_item_index                                                 13   \n",
       "survey_result      {'guess_grill_correct': 'true', 'thumbs_up_sco...   \n",
       "\n",
       "                                                                 104  \\\n",
       "meta_data          {'grill_type': 'Propane', 'is_frozen': 'true',...   \n",
       "sample_item_index                                                 14   \n",
       "survey_result      {'guess_grill_correct': 'true', 'thumbs_up_sco...   \n",
       "\n",
       "                                                                 105  \\\n",
       "meta_data          {'grill_type': 'Propane', 'is_frozen': 'false'...   \n",
       "sample_item_index                                                 15   \n",
       "survey_result      {'guess_grill_correct': 'true', 'thumbs_up_sco...   \n",
       "\n",
       "                                                                 106  \\\n",
       "meta_data          {'grill_type': 'Propane', 'is_frozen': 'true',...   \n",
       "sample_item_index                                                 16   \n",
       "survey_result      {'guess_grill_correct': 'true', 'thumbs_up_sco...   \n",
       "\n",
       "                                                                 107  ...  \\\n",
       "meta_data          {'grill_type': 'Propane', 'is_frozen': 'false'...  ...   \n",
       "sample_item_index                                                 17  ...   \n",
       "survey_result      {'guess_grill_correct': 'true', 'thumbs_up_sco...  ...   \n",
       "\n",
       "                                                                  90  \\\n",
       "meta_data          {'grill_type': 'Propane', 'is_frozen': 'true',...   \n",
       "sample_item_index                                                 30   \n",
       "survey_result      {'guess_grill_correct': 'false', 'thumbs_up_sc...   \n",
       "\n",
       "                                                                  91  \\\n",
       "meta_data          {'grill_type': 'Propane', 'is_frozen': 'false'...   \n",
       "sample_item_index                                                  1   \n",
       "survey_result      {'guess_grill_correct': 'true', 'thumbs_up_sco...   \n",
       "\n",
       "                                                                  92  \\\n",
       "meta_data          {'grill_type': 'Propane', 'is_frozen': 'true',...   \n",
       "sample_item_index                                                  2   \n",
       "survey_result      {'guess_grill_correct': 'false', 'thumbs_up_sc...   \n",
       "\n",
       "                                                                  93  \\\n",
       "meta_data          {'grill_type': 'Propane', 'is_frozen': 'false'...   \n",
       "sample_item_index                                                  3   \n",
       "survey_result      {'guess_grill_correct': 'true', 'thumbs_up_sco...   \n",
       "\n",
       "                                                                  94  \\\n",
       "meta_data          {'grill_type': 'Propane', 'is_frozen': 'true',...   \n",
       "sample_item_index                                                  4   \n",
       "survey_result      {'guess_grill_correct': 'true', 'thumbs_up_sco...   \n",
       "\n",
       "                                                                  95  \\\n",
       "meta_data          {'grill_type': 'Propane', 'is_frozen': 'false'...   \n",
       "sample_item_index                                                  5   \n",
       "survey_result      {'guess_grill_correct': 'true', 'thumbs_up_sco...   \n",
       "\n",
       "                                                                  96  \\\n",
       "meta_data          {'grill_type': 'Propane', 'is_frozen': 'true',...   \n",
       "sample_item_index                                                  6   \n",
       "survey_result      {'guess_grill_correct': 'true', 'thumbs_up_sco...   \n",
       "\n",
       "                                                                  97  \\\n",
       "meta_data          {'grill_type': 'Propane', 'is_frozen': 'false'...   \n",
       "sample_item_index                                                  7   \n",
       "survey_result      {'guess_grill_correct': 'true', 'thumbs_up_sco...   \n",
       "\n",
       "                                                                  98  \\\n",
       "meta_data          {'grill_type': 'Propane', 'is_frozen': 'true',...   \n",
       "sample_item_index                                                  8   \n",
       "survey_result      {'guess_grill_correct': 'true', 'thumbs_up_sco...   \n",
       "\n",
       "                                                                  99  \n",
       "meta_data          {'grill_type': 'Propane', 'is_frozen': 'false'...  \n",
       "sample_item_index                                                  9  \n",
       "survey_result      {'guess_grill_correct': 'true', 'thumbs_up_sco...  \n",
       "\n",
       "[3 rows x 720 columns]"
      ]
     },
     "execution_count": 8,
     "metadata": {},
     "output_type": "execute_result"
    }
   ],
   "source": [
    "result"
   ]
  },
  {
   "cell_type": "code",
   "execution_count": 9,
   "metadata": {},
   "outputs": [],
   "source": [
    "# Separate in three different data frames\n",
    "df1 = pd.DataFrame(result.loc['meta_data'])\n",
    "df2 = pd.DataFrame(result.loc['sample_item_index'])\n",
    "df3 = pd.DataFrame(result.loc['survey_result'])"
   ]
  },
  {
   "cell_type": "code",
   "execution_count": 10,
   "metadata": {},
   "outputs": [],
   "source": [
    "# Convert all of the values to an organized data frame\n",
    "bn1 = pd.DataFrame(df1.meta_data.values.tolist())\n",
    "df1 = pd.DataFrame.from_records(bn1)"
   ]
  },
  {
   "cell_type": "code",
   "execution_count": 11,
   "metadata": {},
   "outputs": [],
   "source": [
    "# Convert all of the values to an organized data frame\n",
    "bn2 = pd.DataFrame(df2.sample_item_index.values.tolist())\n",
    "df2 = pd.DataFrame.from_records(bn2)"
   ]
  },
  {
   "cell_type": "code",
   "execution_count": 12,
   "metadata": {},
   "outputs": [],
   "source": [
    "# Convert all of the values to an organized data frame\n",
    "bn3 = pd.DataFrame(df3.survey_result.values.tolist())\n",
    "df3 = pd.DataFrame.from_records(bn3)"
   ]
  },
  {
   "cell_type": "code",
   "execution_count": 13,
   "metadata": {},
   "outputs": [],
   "source": [
    "# Finally concat the three data frames\n",
    "df_json = pd.concat([df1,df2,df3], axis = 1)\n",
    "df_json.rename(columns = {0: 'sample_item_index'}, inplace = True)"
   ]
  },
  {
   "cell_type": "markdown",
   "metadata": {},
   "source": [
    "#### Overview of each data frame"
   ]
  },
  {
   "cell_type": "code",
   "execution_count": 14,
   "metadata": {},
   "outputs": [
    {
     "data": {
      "text/html": [
       "<div>\n",
       "<style scoped>\n",
       "    .dataframe tbody tr th:only-of-type {\n",
       "        vertical-align: middle;\n",
       "    }\n",
       "\n",
       "    .dataframe tbody tr th {\n",
       "        vertical-align: top;\n",
       "    }\n",
       "\n",
       "    .dataframe thead th {\n",
       "        text-align: right;\n",
       "    }\n",
       "</style>\n",
       "<table border=\"1\" class=\"dataframe\">\n",
       "  <thead>\n",
       "    <tr style=\"text-align: right;\">\n",
       "      <th></th>\n",
       "      <th>grill_type</th>\n",
       "      <th>pre_heat_time</th>\n",
       "      <th>fuel_cost_per_meal</th>\n",
       "      <th>market_share</th>\n",
       "      <th>easiness_to_use</th>\n",
       "      <th>life_span_year</th>\n",
       "      <th>initial_investment</th>\n",
       "    </tr>\n",
       "  </thead>\n",
       "  <tbody>\n",
       "    <tr>\n",
       "      <th>0</th>\n",
       "      <td>Charcoal</td>\n",
       "      <td>1200</td>\n",
       "      <td>2.00</td>\n",
       "      <td>0.44</td>\n",
       "      <td>-1</td>\n",
       "      <td>3</td>\n",
       "      <td>91</td>\n",
       "    </tr>\n",
       "    <tr>\n",
       "      <th>1</th>\n",
       "      <td>Propane</td>\n",
       "      <td>480</td>\n",
       "      <td>1.55</td>\n",
       "      <td>0.64</td>\n",
       "      <td>2</td>\n",
       "      <td>3</td>\n",
       "      <td>139</td>\n",
       "    </tr>\n",
       "  </tbody>\n",
       "</table>\n",
       "</div>"
      ],
      "text/plain": [
       "  grill_type  pre_heat_time  fuel_cost_per_meal  market_share  \\\n",
       "0   Charcoal           1200                2.00          0.44   \n",
       "1    Propane            480                1.55          0.64   \n",
       "\n",
       "   easiness_to_use  life_span_year  initial_investment  \n",
       "0               -1               3                  91  \n",
       "1                2               3                 139  "
      ]
     },
     "execution_count": 14,
     "metadata": {},
     "output_type": "execute_result"
    }
   ],
   "source": [
    "# See the first rows\n",
    "df_sheetA.head()"
   ]
  },
  {
   "cell_type": "code",
   "execution_count": 15,
   "metadata": {},
   "outputs": [
    {
     "name": "stdout",
     "output_type": "stream",
     "text": [
      "grill_type\n",
      "0\n",
      "pre_heat_time\n",
      "0\n",
      "fuel_cost_per_meal\n",
      "0\n",
      "market_share\n",
      "0\n",
      "easiness_to_use\n",
      "0\n",
      "life_span_year\n",
      "0\n",
      "initial_investment\n",
      "0\n"
     ]
    }
   ],
   "source": [
    "# Look for the null-values\n",
    "for col in df_sheetA.columns:\n",
    "    print(col)\n",
    "    print(df_sheetA[col].isna().sum())"
   ]
  },
  {
   "cell_type": "code",
   "execution_count": 16,
   "metadata": {},
   "outputs": [
    {
     "data": {
      "text/html": [
       "<div>\n",
       "<style scoped>\n",
       "    .dataframe tbody tr th:only-of-type {\n",
       "        vertical-align: middle;\n",
       "    }\n",
       "\n",
       "    .dataframe tbody tr th {\n",
       "        vertical-align: top;\n",
       "    }\n",
       "\n",
       "    .dataframe thead th {\n",
       "        text-align: right;\n",
       "    }\n",
       "</style>\n",
       "<table border=\"1\" class=\"dataframe\">\n",
       "  <thead>\n",
       "    <tr style=\"text-align: right;\">\n",
       "      <th></th>\n",
       "      <th>item_material</th>\n",
       "      <th>device_id</th>\n",
       "      <th>grill_type</th>\n",
       "      <th>user_satisfaction</th>\n",
       "      <th>fuel_cost</th>\n",
       "    </tr>\n",
       "  </thead>\n",
       "  <tbody>\n",
       "    <tr>\n",
       "      <th>0</th>\n",
       "      <td>Ground Beef Patty</td>\n",
       "      <td>1</td>\n",
       "      <td>Charcoal</td>\n",
       "      <td>-0.9</td>\n",
       "      <td>400.500</td>\n",
       "    </tr>\n",
       "    <tr>\n",
       "      <th>1</th>\n",
       "      <td>Ground Beef Patty</td>\n",
       "      <td>3</td>\n",
       "      <td>Charcoal</td>\n",
       "      <td>-1.3</td>\n",
       "      <td>399.600</td>\n",
       "    </tr>\n",
       "    <tr>\n",
       "      <th>2</th>\n",
       "      <td>Ground Beef Patty</td>\n",
       "      <td>5</td>\n",
       "      <td>Charcoal</td>\n",
       "      <td>-2.5</td>\n",
       "      <td>389.730</td>\n",
       "    </tr>\n",
       "    <tr>\n",
       "      <th>3</th>\n",
       "      <td>Ground Beef Patty</td>\n",
       "      <td>7</td>\n",
       "      <td>Charcoal</td>\n",
       "      <td>-1.7</td>\n",
       "      <td>402.399</td>\n",
       "    </tr>\n",
       "    <tr>\n",
       "      <th>4</th>\n",
       "      <td>Hotdog</td>\n",
       "      <td>1</td>\n",
       "      <td>Charcoal</td>\n",
       "      <td>-1.3</td>\n",
       "      <td>372.445</td>\n",
       "    </tr>\n",
       "  </tbody>\n",
       "</table>\n",
       "</div>"
      ],
      "text/plain": [
       "       item_material  device_id grill_type  user_satisfaction  fuel_cost\n",
       "0  Ground Beef Patty          1   Charcoal               -0.9    400.500\n",
       "1  Ground Beef Patty          3   Charcoal               -1.3    399.600\n",
       "2  Ground Beef Patty          5   Charcoal               -2.5    389.730\n",
       "3  Ground Beef Patty          7   Charcoal               -1.7    402.399\n",
       "4             Hotdog          1   Charcoal               -1.3    372.445"
      ]
     },
     "execution_count": 16,
     "metadata": {},
     "output_type": "execute_result"
    }
   ],
   "source": [
    "# See the first 5 rows\n",
    "df_sheetB.head()"
   ]
  },
  {
   "cell_type": "code",
   "execution_count": 17,
   "metadata": {},
   "outputs": [
    {
     "name": "stdout",
     "output_type": "stream",
     "text": [
      "item_material\n",
      "0\n",
      "device_id\n",
      "0\n",
      "grill_type\n",
      "0\n",
      "user_satisfaction\n",
      "0\n",
      "fuel_cost\n",
      "0\n"
     ]
    }
   ],
   "source": [
    "# Look for the null-values\n",
    "for col in df_sheetB.columns:\n",
    "    print(col)\n",
    "    print(df_sheetB[col].isna().sum())"
   ]
  },
  {
   "cell_type": "code",
   "execution_count": 18,
   "metadata": {},
   "outputs": [
    {
     "data": {
      "image/png": "[encoded data removed]",
      "text/plain": [
       "<Figure size 432x288 with 1 Axes>"
      ]
     },
     "metadata": {
      "needs_background": "light"
     },
     "output_type": "display_data"
    }
   ],
   "source": [
    "# See the Users Satisfaction distribution\n",
    "\n",
    "# This is to reduce the bins bias\n",
    "n_bins = np.sqrt(len(df_sheetB['user_satisfaction']))\n",
    "n_bins = int(n_bins)\n",
    "\n",
    "# Make a histogram\n",
    "plt.hist(df_sheetB['user_satisfaction'], bins = n_bins)\n",
    "plt.xlabel('User Satisfaction')\n",
    "plt.ylabel('Frequency')\n",
    "plt.title(\"Distribution of the User's satisfaction\")\n",
    "plt.show()"
   ]
  },
  {
   "cell_type": "markdown",
   "metadata": {},
   "source": [
    "From the users satisfaction distribution, we can see this is not normal distributed. It is slightly skeewed to the right, which means that there are more users that are not satisfied with the grills than the users with high satisfaction."
   ]
  },
  {
   "cell_type": "code",
   "execution_count": 19,
   "metadata": {},
   "outputs": [
    {
     "data": {
      "text/html": [
       "<div>\n",
       "<style scoped>\n",
       "    .dataframe tbody tr th:only-of-type {\n",
       "        vertical-align: middle;\n",
       "    }\n",
       "\n",
       "    .dataframe tbody tr th {\n",
       "        vertical-align: top;\n",
       "    }\n",
       "\n",
       "    .dataframe thead th {\n",
       "        text-align: right;\n",
       "    }\n",
       "</style>\n",
       "<table border=\"1\" class=\"dataframe\">\n",
       "  <thead>\n",
       "    <tr style=\"text-align: right;\">\n",
       "      <th></th>\n",
       "      <th>sample_item_index</th>\n",
       "      <th>item_material</th>\n",
       "      <th>is_frozen</th>\n",
       "      <th>grill_type</th>\n",
       "      <th>thumbs_up_score</th>\n",
       "      <th>guess_grill_correct</th>\n",
       "    </tr>\n",
       "  </thead>\n",
       "  <tbody>\n",
       "    <tr>\n",
       "      <th>0</th>\n",
       "      <td>1</td>\n",
       "      <td>Veggie Patty</td>\n",
       "      <td>False</td>\n",
       "      <td>Propane</td>\n",
       "      <td>0.0</td>\n",
       "      <td>True</td>\n",
       "    </tr>\n",
       "    <tr>\n",
       "      <th>1</th>\n",
       "      <td>1</td>\n",
       "      <td>Hotdog</td>\n",
       "      <td>False</td>\n",
       "      <td>Propane</td>\n",
       "      <td>0.4</td>\n",
       "      <td>True</td>\n",
       "    </tr>\n",
       "    <tr>\n",
       "      <th>2</th>\n",
       "      <td>2</td>\n",
       "      <td>Veggie Patty</td>\n",
       "      <td>True</td>\n",
       "      <td>Propane</td>\n",
       "      <td>0.9</td>\n",
       "      <td>True</td>\n",
       "    </tr>\n",
       "    <tr>\n",
       "      <th>3</th>\n",
       "      <td>3</td>\n",
       "      <td>Veggie Patty</td>\n",
       "      <td>False</td>\n",
       "      <td>Propane</td>\n",
       "      <td>0.8</td>\n",
       "      <td>True</td>\n",
       "    </tr>\n",
       "    <tr>\n",
       "      <th>4</th>\n",
       "      <td>4</td>\n",
       "      <td>Veggie Patty</td>\n",
       "      <td>True</td>\n",
       "      <td>Propane</td>\n",
       "      <td>0.8</td>\n",
       "      <td>True</td>\n",
       "    </tr>\n",
       "  </tbody>\n",
       "</table>\n",
       "</div>"
      ],
      "text/plain": [
       "   sample_item_index item_material  is_frozen grill_type  thumbs_up_score  \\\n",
       "0                  1  Veggie Patty      False    Propane              0.0   \n",
       "1                  1        Hotdog      False    Propane              0.4   \n",
       "2                  2  Veggie Patty       True    Propane              0.9   \n",
       "3                  3  Veggie Patty      False    Propane              0.8   \n",
       "4                  4  Veggie Patty       True    Propane              0.8   \n",
       "\n",
       "   guess_grill_correct  \n",
       "0                 True  \n",
       "1                 True  \n",
       "2                 True  \n",
       "3                 True  \n",
       "4                 True  "
      ]
     },
     "execution_count": 19,
     "metadata": {},
     "output_type": "execute_result"
    }
   ],
   "source": [
    "# See first 5 rows\n",
    "df_sheetC.head()"
   ]
  },
  {
   "cell_type": "code",
   "execution_count": 20,
   "metadata": {},
   "outputs": [
    {
     "name": "stdout",
     "output_type": "stream",
     "text": [
      "sample_item_index\n",
      "0\n",
      "item_material\n",
      "0\n",
      "is_frozen\n",
      "0\n",
      "grill_type\n",
      "0\n",
      "thumbs_up_score\n",
      "0\n",
      "guess_grill_correct\n",
      "0\n"
     ]
    }
   ],
   "source": [
    "# Look for the null-values\n",
    "for col in df_sheetC.columns:\n",
    "    print(col)\n",
    "    print(df_sheetC[col].isna().sum())"
   ]
  },
  {
   "cell_type": "code",
   "execution_count": 21,
   "metadata": {},
   "outputs": [
    {
     "data": {
      "image/png": "[encoded data removed]",
      "text/plain": [
       "<Figure size 432x288 with 1 Axes>"
      ]
     },
     "metadata": {
      "needs_background": "light"
     },
     "output_type": "display_data"
    }
   ],
   "source": [
    "# See the Users Score distribution\n",
    "\n",
    "#This is to reduce the bins bias\n",
    "n_bins = np.sqrt(len(df_sheetC['thumbs_up_score']))\n",
    "n_bins = int(n_bins)\n",
    "\n",
    "# Make the histogram\n",
    "plt.hist(df_sheetC['thumbs_up_score'], bins = n_bins)\n",
    "plt.xlabel('Thumbs Up Score')\n",
    "plt.ylabel('Frequency')\n",
    "plt.title(\"Distribution of the User's score\")\n",
    "plt.show()"
   ]
  },
  {
   "cell_type": "markdown",
   "metadata": {},
   "source": [
    "The users score is not normal distributed as well. From this graphic we can see that most of the users have a low score to the food prepared with the grill. "
   ]
  },
  {
   "cell_type": "code",
   "execution_count": 22,
   "metadata": {},
   "outputs": [
    {
     "data": {
      "text/html": [
       "<div>\n",
       "<style scoped>\n",
       "    .dataframe tbody tr th:only-of-type {\n",
       "        vertical-align: middle;\n",
       "    }\n",
       "\n",
       "    .dataframe tbody tr th {\n",
       "        vertical-align: top;\n",
       "    }\n",
       "\n",
       "    .dataframe thead th {\n",
       "        text-align: right;\n",
       "    }\n",
       "</style>\n",
       "<table border=\"1\" class=\"dataframe\">\n",
       "  <thead>\n",
       "    <tr style=\"text-align: right;\">\n",
       "      <th></th>\n",
       "      <th>grill_type</th>\n",
       "      <th>is_frozen</th>\n",
       "      <th>item_material</th>\n",
       "      <th>sample_item_index</th>\n",
       "      <th>guess_grill_correct</th>\n",
       "      <th>thumbs_up_score</th>\n",
       "    </tr>\n",
       "  </thead>\n",
       "  <tbody>\n",
       "    <tr>\n",
       "      <th>0</th>\n",
       "      <td>Propane</td>\n",
       "      <td>false</td>\n",
       "      <td>Hotdog</td>\n",
       "      <td>1</td>\n",
       "      <td>true</td>\n",
       "      <td>0.4</td>\n",
       "    </tr>\n",
       "    <tr>\n",
       "      <th>1</th>\n",
       "      <td>Propane</td>\n",
       "      <td>true</td>\n",
       "      <td>Hotdog</td>\n",
       "      <td>10</td>\n",
       "      <td>true</td>\n",
       "      <td>1.0</td>\n",
       "    </tr>\n",
       "    <tr>\n",
       "      <th>2</th>\n",
       "      <td>Propane</td>\n",
       "      <td>true</td>\n",
       "      <td>Hotdog</td>\n",
       "      <td>10</td>\n",
       "      <td>true</td>\n",
       "      <td>0.0</td>\n",
       "    </tr>\n",
       "    <tr>\n",
       "      <th>3</th>\n",
       "      <td>Propane</td>\n",
       "      <td>false</td>\n",
       "      <td>Hotdog</td>\n",
       "      <td>11</td>\n",
       "      <td>true</td>\n",
       "      <td>0.0</td>\n",
       "    </tr>\n",
       "    <tr>\n",
       "      <th>4</th>\n",
       "      <td>Propane</td>\n",
       "      <td>true</td>\n",
       "      <td>Hotdog</td>\n",
       "      <td>12</td>\n",
       "      <td>true</td>\n",
       "      <td>0.4</td>\n",
       "    </tr>\n",
       "  </tbody>\n",
       "</table>\n",
       "</div>"
      ],
      "text/plain": [
       "  grill_type is_frozen item_material  sample_item_index guess_grill_correct  \\\n",
       "0    Propane     false        Hotdog                  1                true   \n",
       "1    Propane      true        Hotdog                 10                true   \n",
       "2    Propane      true        Hotdog                 10                true   \n",
       "3    Propane     false        Hotdog                 11                true   \n",
       "4    Propane      true        Hotdog                 12                true   \n",
       "\n",
       "  thumbs_up_score  \n",
       "0             0.4  \n",
       "1             1.0  \n",
       "2             0.0  \n",
       "3             0.0  \n",
       "4             0.4  "
      ]
     },
     "execution_count": 22,
     "metadata": {},
     "output_type": "execute_result"
    }
   ],
   "source": [
    "# See first 5 rows of the json data file converted into a dataframe\n",
    "df_json.head()"
   ]
  },
  {
   "cell_type": "markdown",
   "metadata": {},
   "source": [
    "### Bonus Question"
   ]
  },
  {
   "cell_type": "code",
   "execution_count": 23,
   "metadata": {},
   "outputs": [],
   "source": [
    "# Convert to csv file the file with json format\n",
    "df_json.to_csv(\"users_score.csv\")"
   ]
  },
  {
   "cell_type": "markdown",
   "metadata": {},
   "source": [
    "### Question 1"
   ]
  },
  {
   "cell_type": "markdown",
   "metadata": {},
   "source": [
    "#### Name each sheet/table so they are meaningful standalone."
   ]
  },
  {
   "cell_type": "code",
   "execution_count": 24,
   "metadata": {},
   "outputs": [],
   "source": [
    "# Name the first dataset with the title of grills_efficiency.csv\n",
    "df_sheetA.to_csv('grills_efficiency.csv')"
   ]
  },
  {
   "cell_type": "code",
   "execution_count": 25,
   "metadata": {},
   "outputs": [],
   "source": [
    "# Name the second data set with the user_satisfaction.csv name\n",
    "df_sheetB.to_csv('users_satisfaction.csv')"
   ]
  },
  {
   "cell_type": "code",
   "execution_count": 26,
   "metadata": {},
   "outputs": [],
   "source": [
    "# Name the third dataset with the users_score.csv name\n",
    "df_sheetC.to_csv('users_score.csv')"
   ]
  },
  {
   "cell_type": "markdown",
   "metadata": {},
   "source": [
    "### Question 2"
   ]
  },
  {
   "cell_type": "markdown",
   "metadata": {},
   "source": [
    "#### Which grill type is more fuel efficient based on sheet A? "
   ]
  },
  {
   "cell_type": "markdown",
   "metadata": {},
   "source": [
    "###### For this efficiency, we will take into consideration the fuel_cost_per_meal and the initial investment"
   ]
  },
  {
   "cell_type": "markdown",
   "metadata": {},
   "source": [
    "Since this is just comparison between two grills, I'm making bars to make the comparisons"
   ]
  },
  {
   "cell_type": "code",
   "execution_count": 27,
   "metadata": {},
   "outputs": [
    {
     "data": {
      "image/png": "[encoded data removed]",
      "text/plain": [
       "<Figure size 432x288 with 1 Axes>"
      ]
     },
     "metadata": {
      "needs_background": "light"
     },
     "output_type": "display_data"
    }
   ],
   "source": [
    "# Comparison between initial investment for each grill\n",
    "plt.bar(df_sheetA['grill_type'], df_sheetA['initial_investment'], width = 0.7, align = 'center', color = 'pink')\n",
    "plt.ylabel('Amount in dollars [USD]')\n",
    "plt.title('Initial Investment for each grill')\n",
    "plt.show()"
   ]
  },
  {
   "cell_type": "code",
   "execution_count": 28,
   "metadata": {},
   "outputs": [
    {
     "data": {
      "image/png": "[encoded data removed]",
      "text/plain": [
       "<Figure size 432x288 with 1 Axes>"
      ]
     },
     "metadata": {
      "needs_background": "light"
     },
     "output_type": "display_data"
    }
   ],
   "source": [
    "# Comparison between the pre-heating time for each grill\n",
    "plt.bar(df_sheetA['grill_type'], df_sheetA['pre_heat_time'], width = 0.7, align = 'center', color = 'blue')\n",
    "plt.ylabel('Time [s]')\n",
    "plt.title('Pre-heating time for each grill')\n",
    "plt.show()"
   ]
  },
  {
   "cell_type": "code",
   "execution_count": 29,
   "metadata": {},
   "outputs": [
    {
     "data": {
      "image/png": "[encoded data removed]",
      "text/plain": [
       "<Figure size 432x288 with 1 Axes>"
      ]
     },
     "metadata": {
      "needs_background": "light"
     },
     "output_type": "display_data"
    }
   ],
   "source": [
    "# Comparison between the fuel cost per meal for the grills\n",
    "plt.barh(df_sheetA['grill_type'], df_sheetA['fuel_cost_per_meal'], height = 0.7, align = 'center', color = 'lightgreen')\n",
    "plt.xlabel('Time [s]')\n",
    "plt.title('Cost per meal for each grill')\n",
    "plt.show()"
   ]
  },
  {
   "cell_type": "markdown",
   "metadata": {},
   "source": [
    "The charcoal grill requires less initial investment than the propane grill. However, the cost per meal for the propane is less. "
   ]
  },
  {
   "cell_type": "markdown",
   "metadata": {},
   "source": [
    "### Question 3 "
   ]
  },
  {
   "cell_type": "markdown",
   "metadata": {},
   "source": [
    "#### Which grill type has more market share?"
   ]
  },
  {
   "cell_type": "markdown",
   "metadata": {},
   "source": [
    "###### To answer this question, we are making a single bar chart to see which grill has more market share"
   ]
  },
  {
   "cell_type": "code",
   "execution_count": 30,
   "metadata": {},
   "outputs": [
    {
     "data": {
      "image/png": "[encoded data removed]",
      "text/plain": [
       "<Figure size 432x288 with 1 Axes>"
      ]
     },
     "metadata": {
      "needs_background": "light"
     },
     "output_type": "display_data"
    }
   ],
   "source": [
    "# Bar plot\n",
    "plt.bar(df_sheetA['grill_type'], df_sheetA['market_share'], width = 0.7, align = 'center', color = ['green', 'purple'])\n",
    "plt.ylabel('Market Share [%]')\n",
    "plt.title('Market Share per grill')\n",
    "plt.show()"
   ]
  },
  {
   "cell_type": "markdown",
   "metadata": {},
   "source": [
    "##### From the bar chart, we can see that the propane grill has more market share"
   ]
  },
  {
   "cell_type": "markdown",
   "metadata": {},
   "source": [
    "### Question 3"
   ]
  },
  {
   "cell_type": "markdown",
   "metadata": {},
   "source": [
    "#### Based on the cookoff data which grill type cost more fuel on a long run?"
   ]
  },
  {
   "cell_type": "markdown",
   "metadata": {},
   "source": [
    "##### We can use a simple equation, but we prefer to show this as two different linear regressions and check out where they intercept"
   ]
  },
  {
   "cell_type": "code",
   "execution_count": 31,
   "metadata": {},
   "outputs": [],
   "source": [
    "#Define independent variable(it would be the number of meals)\n",
    "x = [i for i in range(0,130)]\n",
    "# Define the y variable for Charcoal\n",
    "y_char = [91 + 2.00*i for i in x] \n",
    "# Define the y variable for Propane\n",
    "y_prop = [139 + 1.55*i for i in x]"
   ]
  },
  {
   "cell_type": "code",
   "execution_count": 32,
   "metadata": {},
   "outputs": [
    {
     "data": {
      "image/png": "[encoded data removed]",
      "text/plain": [
       "<Figure size 432x288 with 1 Axes>"
      ]
     },
     "metadata": {
      "needs_background": "light"
     },
     "output_type": "display_data"
    }
   ],
   "source": [
    "# Plot the lines\n",
    "plt.plot(x, y_char, '.', label = 'Cost efficiency for Charcoal Grill')\n",
    "plt.plot(x, y_prop, label = 'Cost for Propane Grill')\n",
    "plt.xlabel('Number of meals')\n",
    "plt.ylabel('Cost in dollars')\n",
    "plt.legend(loc = 'best')\n",
    "plt.show()"
   ]
  },
  {
   "cell_type": "markdown",
   "metadata": {},
   "source": [
    "##### On the long-run, the Charcoal Grill is more expensive"
   ]
  },
  {
   "cell_type": "markdown",
   "metadata": {},
   "source": [
    "#### To answer the question, from the linear regression, we can see that the break-even is close to 100 meals. If you are cooking less than 100 meals during the three years life expectancy for the grill, it would be cheaper the Charcoal Grill. Otherwise, it would be cheaper the Propane Grill\n",
    "\n",
    "\n",
    "#### It is very difficult to reach the 100 meals during the three years because people have to work, they don't have so any vacations, also the winter does not allow to use it some times, so I would say the Charcoal Grill is more fuel efficient than the propane grill"
   ]
  },
  {
   "cell_type": "markdown",
   "metadata": {},
   "source": [
    "### Question 4"
   ]
  },
  {
   "cell_type": "markdown",
   "metadata": {},
   "source": [
    "#### Considering that the average American grill owner buys a new grill every three years, which grill type would cost more based on the fuel cost and initial investment? "
   ]
  },
  {
   "cell_type": "markdown",
   "metadata": {},
   "source": [
    "By taking into consideration what the video said, the Propane Grill would cost more because Americans do not use the Grill 100 times during the three years. They just use the Grill around 16 times during the three years."
   ]
  },
  {
   "cell_type": "markdown",
   "metadata": {},
   "source": [
    "### Question 5"
   ]
  },
  {
   "cell_type": "markdown",
   "metadata": {},
   "source": [
    "#### Which grill type is easier to use based on the user satisfaction score?  ",
    "Based on data, which grill is preferred? What factors might play a role? "
   ]
  },
  {
   "cell_type": "code",
   "execution_count": 33,
   "metadata": {},
   "outputs": [],
   "source": [
    "# Firstly we are dividing the datasets to take the average\n",
    "df_user_satisfaction_char = df_sheetB.loc[df_sheetB['grill_type'] == 'Charcoal']\n",
    "df_user_satisfaction_prop = df_sheetB.loc[df_sheetB['grill_type'] == 'Propane']"
   ]
  },
  {
   "cell_type": "code",
   "execution_count": 34,
   "metadata": {},
   "outputs": [],
   "source": [
    "# Calculation of the mean\n",
    "mean_char = df_user_satisfaction_char['user_satisfaction'].mean()\n",
    "mean_prop = df_user_satisfaction_prop['user_satisfaction'].mean()"
   ]
  },
  {
   "cell_type": "code",
   "execution_count": 35,
   "metadata": {},
   "outputs": [],
   "source": [
    "#Make the graphics comparing the user's satisfaction\n",
    "x = ['Charcoal', 'Propane']\n",
    "y = [mean_char, mean_prop]"
   ]
  },
  {
   "cell_type": "code",
   "execution_count": 36,
   "metadata": {},
   "outputs": [
    {
     "data": {
      "image/png": "[encoded data removed]",
      "text/plain": [
       "<Figure size 432x288 with 1 Axes>"
      ]
     },
     "metadata": {
      "needs_background": "light"
     },
     "output_type": "display_data"
    }
   ],
   "source": [
    "# Plot the mean of each grill type\n",
    "plt.bar(x, y, color = ['red', 'green'])\n",
    "plt.xlabel('Grill Type')\n",
    "plt.ylabel('User Satisfaction')\n",
    "plt.axhline(0)\n",
    "plt.title('User Satisfaction depending on the Grill')\n",
    "plt.show()"
   ]
  },
  {
   "cell_type": "markdown",
   "metadata": {},
   "source": [
    "##### I want to see if any other variables have influence on the user satisfaction"
   ]
  },
  {
   "cell_type": "code",
   "execution_count": 37,
   "metadata": {},
   "outputs": [
    {
     "data": {
      "image/png": "[encoded data removed]",
      "text/plain": [
       "<Figure size 432x288 with 1 Axes>"
      ]
     },
     "metadata": {
      "needs_background": "light"
     },
     "output_type": "display_data"
    }
   ],
   "source": [
    "# Firstly I will plot the easiness to use of each grill\n",
    "plt.bar(df_sheetA['grill_type'], df_sheetA['easiness_to_use'], width = 0.7, align = 'center', color = ['yellow', 'lightgreen'])\n",
    "plt.ylabel('Easiness to use')\n",
    "plt.title('Easiness to use for each grill type')\n",
    "plt.show()"
   ]
  },
  {
   "cell_type": "code",
   "execution_count": 38,
   "metadata": {},
   "outputs": [
    {
     "data": {
      "text/html": [
       "<div>\n",
       "<style scoped>\n",
       "    .dataframe tbody tr th:only-of-type {\n",
       "        vertical-align: middle;\n",
       "    }\n",
       "\n",
       "    .dataframe tbody tr th {\n",
       "        vertical-align: top;\n",
       "    }\n",
       "\n",
       "    .dataframe thead th {\n",
       "        text-align: right;\n",
       "    }\n",
       "</style>\n",
       "<table border=\"1\" class=\"dataframe\">\n",
       "  <thead>\n",
       "    <tr style=\"text-align: right;\">\n",
       "      <th></th>\n",
       "      <th>grill_type</th>\n",
       "      <th>user_satisfaction</th>\n",
       "      <th>fuel_cost</th>\n",
       "    </tr>\n",
       "  </thead>\n",
       "  <tbody>\n",
       "    <tr>\n",
       "      <th>0</th>\n",
       "      <td>Charcoal</td>\n",
       "      <td>-1.483333</td>\n",
       "      <td>4570.681</td>\n",
       "    </tr>\n",
       "    <tr>\n",
       "      <th>1</th>\n",
       "      <td>Propane</td>\n",
       "      <td>1.750000</td>\n",
       "      <td>1897.300</td>\n",
       "    </tr>\n",
       "  </tbody>\n",
       "</table>\n",
       "</div>"
      ],
      "text/plain": [
       "  grill_type  user_satisfaction  fuel_cost\n",
       "0   Charcoal          -1.483333   4570.681\n",
       "1    Propane           1.750000   1897.300"
      ]
     },
     "execution_count": 38,
     "metadata": {},
     "output_type": "execute_result"
    }
   ],
   "source": [
    "# Group by grill type\n",
    "groups = df_sheetB.groupby('grill_type').agg({'user_satisfaction':'mean', 'fuel_cost': 'sum'}).reset_index()\n",
    "groups"
   ]
  },
  {
   "cell_type": "code",
   "execution_count": 39,
   "metadata": {},
   "outputs": [],
   "source": [
    "# Group by grill type and item_material \n",
    "groups2 = df_sheetB.groupby(['grill_type', 'item_material']).agg({'user_satisfaction':'mean', 'fuel_cost': 'sum'}\n",
    "                                                              ).reset_index()"
   ]
  },
  {
   "cell_type": "code",
   "execution_count": 40,
   "metadata": {},
   "outputs": [
    {
     "data": {
      "text/html": [
       "<div>\n",
       "<style scoped>\n",
       "    .dataframe tbody tr th:only-of-type {\n",
       "        vertical-align: middle;\n",
       "    }\n",
       "\n",
       "    .dataframe tbody tr th {\n",
       "        vertical-align: top;\n",
       "    }\n",
       "\n",
       "    .dataframe thead th {\n",
       "        text-align: right;\n",
       "    }\n",
       "</style>\n",
       "<table border=\"1\" class=\"dataframe\">\n",
       "  <thead>\n",
       "    <tr style=\"text-align: right;\">\n",
       "      <th></th>\n",
       "      <th>grill_type</th>\n",
       "      <th>item_material</th>\n",
       "      <th>user_satisfaction</th>\n",
       "      <th>fuel_cost</th>\n",
       "    </tr>\n",
       "  </thead>\n",
       "  <tbody>\n",
       "    <tr>\n",
       "      <th>0</th>\n",
       "      <td>Charcoal</td>\n",
       "      <td>Ground Beef Patty</td>\n",
       "      <td>-1.600</td>\n",
       "      <td>1592.229</td>\n",
       "    </tr>\n",
       "    <tr>\n",
       "      <th>1</th>\n",
       "      <td>Charcoal</td>\n",
       "      <td>Hotdog</td>\n",
       "      <td>-1.525</td>\n",
       "      <td>1476.880</td>\n",
       "    </tr>\n",
       "    <tr>\n",
       "      <th>2</th>\n",
       "      <td>Charcoal</td>\n",
       "      <td>Veggie Patty</td>\n",
       "      <td>-1.325</td>\n",
       "      <td>1501.572</td>\n",
       "    </tr>\n",
       "    <tr>\n",
       "      <th>3</th>\n",
       "      <td>Propane</td>\n",
       "      <td>Ground Beef Patty</td>\n",
       "      <td>2.150</td>\n",
       "      <td>686.775</td>\n",
       "    </tr>\n",
       "    <tr>\n",
       "      <th>4</th>\n",
       "      <td>Propane</td>\n",
       "      <td>Hotdog</td>\n",
       "      <td>1.550</td>\n",
       "      <td>605.950</td>\n",
       "    </tr>\n",
       "    <tr>\n",
       "      <th>5</th>\n",
       "      <td>Propane</td>\n",
       "      <td>Veggie Patty</td>\n",
       "      <td>1.550</td>\n",
       "      <td>604.575</td>\n",
       "    </tr>\n",
       "  </tbody>\n",
       "</table>\n",
       "</div>"
      ],
      "text/plain": [
       "  grill_type      item_material  user_satisfaction  fuel_cost\n",
       "0   Charcoal  Ground Beef Patty             -1.600   1592.229\n",
       "1   Charcoal             Hotdog             -1.525   1476.880\n",
       "2   Charcoal       Veggie Patty             -1.325   1501.572\n",
       "3    Propane  Ground Beef Patty              2.150    686.775\n",
       "4    Propane             Hotdog              1.550    605.950\n",
       "5    Propane       Veggie Patty              1.550    604.575"
      ]
     },
     "execution_count": 40,
     "metadata": {},
     "output_type": "execute_result"
    }
   ],
   "source": [
    "groups2"
   ]
  },
  {
   "cell_type": "code",
   "execution_count": 41,
   "metadata": {},
   "outputs": [
    {
     "data": {
      "image/png": "[encoded data removed]",
      "text/plain": [
       "<Figure size 432x288 with 1 Axes>"
      ]
     },
     "metadata": {
      "needs_background": "light"
     },
     "output_type": "display_data"
    }
   ],
   "source": [
    "# Plot the user satisfaction as function of the meal prepared\n",
    "sns.scatterplot(x='item_material', y='user_satisfaction', data=groups2, hue='grill_type', s = 500)\n",
    "plt.title('User Satisfaction as function of the meal prepared')\n",
    "plt.show()"
   ]
  },
  {
   "cell_type": "code",
   "execution_count": 42,
   "metadata": {},
   "outputs": [
    {
     "data": {
      "image/png": "[encoded data removed]",
      "text/plain": [
       "<Figure size 432x288 with 1 Axes>"
      ]
     },
     "metadata": {
      "needs_background": "light"
     },
     "output_type": "display_data"
    }
   ],
   "source": [
    "# Plot the user satisfaction as function of the fuel cost\n",
    "sns.scatterplot(x='fuel_cost', y='user_satisfaction', data=groups2, hue='grill_type', s = 500, alpha = 0.4)\n",
    "plt.title('User Satisfaction as function of the fuel cost')\n",
    "plt.legend(loc = 'best')\n",
    "plt.show()"
   ]
  },
  {
   "cell_type": "code",
   "execution_count": 43,
   "metadata": {},
   "outputs": [
    {
     "data": {
      "image/png": "[encoded data removed]",
      "text/plain": [
       "<Figure size 432x288 with 1 Axes>"
      ]
     },
     "metadata": {
      "needs_background": "light"
     },
     "output_type": "display_data"
    }
   ],
   "source": [
    "# Plot the meal prepared as function of the fuel cost\n",
    "sns.scatterplot(x='item_material', y='fuel_cost', data=groups2, hue='grill_type', s = 500)\n",
    "plt.title('Fuel cost as function of the item')\n",
    "plt.legend(loc = 'best')\n",
    "plt.show()"
   ]
  },
  {
   "cell_type": "markdown",
   "metadata": {},
   "source": [
    "###### From the dataset, we can see that the Propane Grill has in average more user satisfaction than the Charcoal Grill, so generally speaking, Americans prefer the Propane Grill. \n",
    "\n",
    "###### Possible reasons: How easy is to control the temperature, clean after use,  and time required to prepare the meal. In all of these reasons, Propane grill is better. No ashes after preparing the meal, we can control the temperature with a thermostat, and less time of pre-heating. Additionally, the fuel costs no matter the meal is lower for the propane grill."
   ]
  },
  {
   "cell_type": "markdown",
   "metadata": {},
   "source": [
    "### Question 6"
   ]
  },
  {
   "cell_type": "markdown",
   "metadata": {},
   "source": [
    "#### Please generate an aggregated dataset to present your conclusions. "
   ]
  },
  {
   "cell_type": "code",
   "execution_count": 44,
   "metadata": {
    "scrolled": true
   },
   "outputs": [
    {
     "data": {
      "text/html": [
       "<div>\n",
       "<style scoped>\n",
       "    .dataframe tbody tr th:only-of-type {\n",
       "        vertical-align: middle;\n",
       "    }\n",
       "\n",
       "    .dataframe tbody tr th {\n",
       "        vertical-align: top;\n",
       "    }\n",
       "\n",
       "    .dataframe thead th {\n",
       "        text-align: right;\n",
       "    }\n",
       "</style>\n",
       "<table border=\"1\" class=\"dataframe\">\n",
       "  <thead>\n",
       "    <tr style=\"text-align: right;\">\n",
       "      <th></th>\n",
       "      <th></th>\n",
       "      <th></th>\n",
       "      <th></th>\n",
       "      <th>thumbs_up_score</th>\n",
       "    </tr>\n",
       "    <tr>\n",
       "      <th>item_material</th>\n",
       "      <th>grill_type</th>\n",
       "      <th>is_frozen</th>\n",
       "      <th>guess_grill_correct</th>\n",
       "      <th></th>\n",
       "    </tr>\n",
       "  </thead>\n",
       "  <tbody>\n",
       "    <tr>\n",
       "      <th rowspan=\"8\" valign=\"top\">Ground Beef Patty</th>\n",
       "      <th rowspan=\"4\" valign=\"top\">Charcoal</th>\n",
       "      <th rowspan=\"2\" valign=\"top\">False</th>\n",
       "      <th>False</th>\n",
       "      <td>0.109091</td>\n",
       "    </tr>\n",
       "    <tr>\n",
       "      <th>True</th>\n",
       "      <td>0.212245</td>\n",
       "    </tr>\n",
       "    <tr>\n",
       "      <th rowspan=\"2\" valign=\"top\">True</th>\n",
       "      <th>False</th>\n",
       "      <td>0.157143</td>\n",
       "    </tr>\n",
       "    <tr>\n",
       "      <th>True</th>\n",
       "      <td>0.166038</td>\n",
       "    </tr>\n",
       "    <tr>\n",
       "      <th rowspan=\"4\" valign=\"top\">Propane</th>\n",
       "      <th rowspan=\"2\" valign=\"top\">False</th>\n",
       "      <th>False</th>\n",
       "      <td>5.400000</td>\n",
       "    </tr>\n",
       "    <tr>\n",
       "      <th>True</th>\n",
       "      <td>5.577586</td>\n",
       "    </tr>\n",
       "    <tr>\n",
       "      <th rowspan=\"2\" valign=\"top\">True</th>\n",
       "      <th>False</th>\n",
       "      <td>5.600000</td>\n",
       "    </tr>\n",
       "    <tr>\n",
       "      <th>True</th>\n",
       "      <td>5.601724</td>\n",
       "    </tr>\n",
       "    <tr>\n",
       "      <th rowspan=\"8\" valign=\"top\">Hotdog</th>\n",
       "      <th rowspan=\"4\" valign=\"top\">Charcoal</th>\n",
       "      <th rowspan=\"2\" valign=\"top\">False</th>\n",
       "      <th>False</th>\n",
       "      <td>5.083333</td>\n",
       "    </tr>\n",
       "    <tr>\n",
       "      <th>True</th>\n",
       "      <td>5.209259</td>\n",
       "    </tr>\n",
       "    <tr>\n",
       "      <th rowspan=\"2\" valign=\"top\">True</th>\n",
       "      <th>False</th>\n",
       "      <td>5.300000</td>\n",
       "    </tr>\n",
       "    <tr>\n",
       "      <th>True</th>\n",
       "      <td>5.189831</td>\n",
       "    </tr>\n",
       "    <tr>\n",
       "      <th rowspan=\"4\" valign=\"top\">Propane</th>\n",
       "      <th rowspan=\"2\" valign=\"top\">False</th>\n",
       "      <th>False</th>\n",
       "      <td>0.400000</td>\n",
       "    </tr>\n",
       "    <tr>\n",
       "      <th>True</th>\n",
       "      <td>0.569231</td>\n",
       "    </tr>\n",
       "    <tr>\n",
       "      <th rowspan=\"2\" valign=\"top\">True</th>\n",
       "      <th>False</th>\n",
       "      <td>0.438462</td>\n",
       "    </tr>\n",
       "    <tr>\n",
       "      <th>True</th>\n",
       "      <td>0.582979</td>\n",
       "    </tr>\n",
       "    <tr>\n",
       "      <th rowspan=\"8\" valign=\"top\">Veggie Patty</th>\n",
       "      <th rowspan=\"4\" valign=\"top\">Charcoal</th>\n",
       "      <th rowspan=\"2\" valign=\"top\">False</th>\n",
       "      <th>False</th>\n",
       "      <td>0.080000</td>\n",
       "    </tr>\n",
       "    <tr>\n",
       "      <th>True</th>\n",
       "      <td>0.160000</td>\n",
       "    </tr>\n",
       "    <tr>\n",
       "      <th rowspan=\"2\" valign=\"top\">True</th>\n",
       "      <th>False</th>\n",
       "      <td>0.300000</td>\n",
       "    </tr>\n",
       "    <tr>\n",
       "      <th>True</th>\n",
       "      <td>0.148077</td>\n",
       "    </tr>\n",
       "    <tr>\n",
       "      <th rowspan=\"4\" valign=\"top\">Propane</th>\n",
       "      <th rowspan=\"2\" valign=\"top\">False</th>\n",
       "      <th>False</th>\n",
       "      <td>0.516667</td>\n",
       "    </tr>\n",
       "    <tr>\n",
       "      <th>True</th>\n",
       "      <td>0.533333</td>\n",
       "    </tr>\n",
       "    <tr>\n",
       "      <th rowspan=\"2\" valign=\"top\">True</th>\n",
       "      <th>False</th>\n",
       "      <td>0.512500</td>\n",
       "    </tr>\n",
       "    <tr>\n",
       "      <th>True</th>\n",
       "      <td>0.550000</td>\n",
       "    </tr>\n",
       "  </tbody>\n",
       "</table>\n",
       "</div>"
      ],
      "text/plain": [
       "                                                            thumbs_up_score\n",
       "item_material     grill_type is_frozen guess_grill_correct                 \n",
       "Ground Beef Patty Charcoal   False     False                       0.109091\n",
       "                                       True                        0.212245\n",
       "                             True      False                       0.157143\n",
       "                                       True                        0.166038\n",
       "                  Propane    False     False                       5.400000\n",
       "                                       True                        5.577586\n",
       "                             True      False                       5.600000\n",
       "                                       True                        5.601724\n",
       "Hotdog            Charcoal   False     False                       5.083333\n",
       "                                       True                        5.209259\n",
       "                             True      False                       5.300000\n",
       "                                       True                        5.189831\n",
       "                  Propane    False     False                       0.400000\n",
       "                                       True                        0.569231\n",
       "                             True      False                       0.438462\n",
       "                                       True                        0.582979\n",
       "Veggie Patty      Charcoal   False     False                       0.080000\n",
       "                                       True                        0.160000\n",
       "                             True      False                       0.300000\n",
       "                                       True                        0.148077\n",
       "                  Propane    False     False                       0.516667\n",
       "                                       True                        0.533333\n",
       "                             True      False                       0.512500\n",
       "                                       True                        0.550000"
      ]
     },
     "execution_count": 44,
     "metadata": {},
     "output_type": "execute_result"
    }
   ],
   "source": [
    "# Create an aggregate data to see if the frozen has influence on the score\n",
    "group3 = df_sheetC.groupby(['item_material', 'grill_type','is_frozen', 'guess_grill_correct']).agg(\n",
    "    {'thumbs_up_score':'mean'})\n",
    "group3"
   ]
  },
  {
   "cell_type": "code",
   "execution_count": 45,
   "metadata": {},
   "outputs": [],
   "source": [
    "group3.to_csv('aggregated_table.csv')"
   ]
  },
  {
   "cell_type": "markdown",
   "metadata": {},
   "source": [
    "From this aggregate datasets we can make different conclusions:\n",
    "\n",
    "- There is not a significant difference of score between the frozen and not frozen items.\n",
    "- For Hotdogs, the Charcoal score was so much higher than the propane hotdog\n",
    "- For Groundbeef, the propane grill had a so much better score than the charcoal grill\n",
    "- For the Veggie Patty item, the Propane had a better score as well, but not as significant as the Ground Beef. \n",
    "- There is not a big difference of score if they whether guessed correctly the grill type or not."
   ]
  },
  {
   "cell_type": "markdown",
   "metadata": {},
   "source": [
    "### Question 7"
   ]
  },
  {
   "cell_type": "markdown",
   "metadata": {},
   "source": [
    "#### Are your recommendations to the manufacturer different to recommendations you’d make to the user? "
   ]
  },
  {
   "attachments": {},
   "cell_type": "markdown",
   "metadata": {},
   "source": [
    "Yes\n",
    "\n",
    "#### Manufacturer Recommendations\n",
    "\n",
    "- Charcoal\n",
    "\n",
    "Work how to make them easier to use. Maybe the option of a thermostat will increase user's satisfaction.\n",
    "\n",
    "The ground beefs require more expertise. By making the grill easier to use, by default you would be increasing the ground beef scores with this grill. \n",
    "\n",
    "              \n",
    "- Propane\n",
    "\n",
    "With a lower initial investment, this will make this grill have even more market share.\n",
    "Also, if they improve the Hotdogs preparation with their grills, they may have more market share.\n",
    "\n",
    "\n",
    "#### User's Recommendations\n",
    "\n",
    "Based on the insights I just got, I would not see a reason why to have a Charcoal grill if I am a normal person with no deep knowledge on how to use the grill. For me, the propane grill it is easier to use, I don't have to clean the ashes, it takes less time and if I want to use it a lot, I will see future savings. I would probably have better ground beefs and veggie patty which is even better\n",
    "If I am an experienced person who loves making Hot Dogs and does not mind cleaning after use, I would choose to have a Charcoal grill. Even though it would take me more time on the pre-heating, I would prepare better Hot Dogs rather than if I am using the Propane Grill. \n",
    "\n",
    "Generally speaking, and important to point out, propane grill is better than the charcoal grill.\n"
   ]
  },
  {
   "cell_type": "code",
   "execution_count": null,
   "metadata": {},
   "outputs": [],
   "source": []
  }
 ],
 "metadata": {
  "kernelspec": {
   "display_name": "Python 3",
   "language": "python",
   "name": "python3"
  },
  "language_info": {
   "codemirror_mode": {
    "name": "ipython",
    "version": 3
   },
   "file_extension": ".py",
   "mimetype": "text/x-python",
   "name": "python",
   "nbconvert_exporter": "python",
   "pygments_lexer": "ipython3",
   "version": "3.7.4"
  }
 },
 "nbformat": 4,
 "nbformat_minor": 2
}
